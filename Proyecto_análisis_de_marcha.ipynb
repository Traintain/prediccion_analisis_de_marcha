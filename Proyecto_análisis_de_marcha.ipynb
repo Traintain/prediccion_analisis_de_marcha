{
  "nbformat": 4,
  "nbformat_minor": 0,
  "metadata": {
    "colab": {
      "name": "Proyecto análisis de marcha.ipynb",
      "provenance": [],
      "collapsed_sections": [],
      "toc_visible": true,
      "authorship_tag": "ABX9TyOjWW9hyzeUmhNdIi/YZcMv",
      "include_colab_link": true
    },
    "kernelspec": {
      "name": "python3",
      "display_name": "Python 3"
    },
    "language_info": {
      "name": "python"
    }
  },
  "cells": [
    {
      "cell_type": "markdown",
      "metadata": {
        "id": "view-in-github",
        "colab_type": "text"
      },
      "source": [
        "<a href=\"https://colab.research.google.com/github/Traintain/prediccion_analisis_de_marcha/blob/main/Proyecto_an%C3%A1lisis_de_marcha.ipynb\" target=\"_parent\"><img src=\"https://colab.research.google.com/assets/colab-badge.svg\" alt=\"Open In Colab\"/></a>"
      ]
    },
    {
      "cell_type": "markdown",
      "source": [
        "# 0.Importación de librerías"
      ],
      "metadata": {
        "id": "YoF4yh0govVa"
      }
    },
    {
      "cell_type": "code",
      "source": [
        "import pandas as pd\n",
        "\n",
        "# Seaborn\n",
        "import seaborn as sns\n",
        "\n",
        "# Librerías para la visualización\n",
        "import matplotlib.pyplot as plt\n",
        "\n",
        "import tensorflow as tf\n",
        "\n",
        "import numpy as np\n",
        "\n",
        "#Scikit-learn\n",
        "from sklearn.preprocessing import OneHotEncoder, StandardScaler, MinMaxScaler\n",
        "from sklearn.model_selection import train_test_split, GridSearchCV\n",
        "from sklearn import svm\n",
        "from sklearn.neighbors import KNeighborsClassifier\n",
        "from sklearn.tree import DecisionTreeClassifier\n",
        "from sklearn.linear_model import LogisticRegression\n",
        "from sklearn.pipeline import Pipeline\n",
        "from sklearn.metrics import classification_report, confusion_matrix\n",
        "from sklearn.ensemble import RandomForestClassifier\n",
        "\n",
        "# Importar/ Exportar modelos\n",
        "from joblib import dump, load\n",
        "\n",
        "#Librería para realizar SMOTE\n",
        "from imblearn.over_sampling import SMOTENC\n",
        "from imblearn.under_sampling import RandomUnderSampler"
      ],
      "metadata": {
        "id": "Qqsvjqrf9G6i"
      },
      "execution_count": 149,
      "outputs": []
    },
    {
      "cell_type": "markdown",
      "source": [
        "# 1.Entendimiento del negocio"
      ],
      "metadata": {
        "id": "bB1OyjuCo1bD"
      }
    },
    {
      "cell_type": "markdown",
      "source": [
        "Como parte del proceso diagnóstico de enfermedades que afecten la marcha se realizan laboratorios de marcha. En estos laboratorios se cuantifica y analiza cómo camina una persona. Dependiendo de esto un médico analiza los datos y da un concepto.\n",
        "\n",
        "En este caso, nos interesa analizar las siguientes variables de los laboratorios de marcha:\n",
        "- Edad del paciente\n",
        "- Tipo: Puede ser espástica, diskinética, mixta, atáxica e hiptónica. La más común es espástica.\n",
        "- Tono gastrocnemios: se tiene una medida basada en la escala de Ashworth para medir espacticidas. Esta indica que tanto puedes doblar la pierna hasta que se frena (doblez de la pierna). Es un valor entre 0 y 4, donde 0 indica movimiento normal y 4 indica que no se puede mover.\n",
        "- Dorsiflexión plantar: cuánto dobla el tobillo para arriba en el examen físco (experto dice que es fundamental). va de -26 a 42 (mínimo 10 se considera normal). Puede haber negativos. ángulo, en grados\n",
        "- Felxion plantar de tobillo: cuanti puede hacia abajo. Lo usual en espacidad es que sea positivo. \n",
        "- Silverskiöld: si se dobla diferente con la rodilla estirada y con la roilla doblada. (están cortos sólo los gemelos o el gemelo y el soleo). Booleana + no evaluable -> 4 categirías. Negativo == 0 Leve==1, Positivo==2 NE==3\n",
        "\n",
        "Con esto se procedió a entrenar dos clasificadores: uno capaz de identificar si la persona necesita cirugía y otro que identifica el tipo de cirugía entre dos categorías:\n",
        "- Alargar el tendón de aquiles\n",
        "- Alargar los gemelos"
      ],
      "metadata": {
        "id": "ZEqnKabGo7WD"
      }
    },
    {
      "cell_type": "markdown",
      "source": [
        "# 1.Pre-procesamiento de los datos\n",
        "Se tienen dos bases de datos separadas, una con las medidas de los análisis de marcha por paciente y otra con las etiquetas de las cirugías por paciente. Se generara una base de datos por"
      ],
      "metadata": {
        "id": "PlyPCC_64Sky"
      }
    },
    {
      "cell_type": "code",
      "source": [
        "# Carga de los archivos xlsx a pandas\n",
        "analisisMarcha=pd.read_excel('Final_BD.xlsx')\n",
        "etiquetas=pd.read_excel('Final_Etiquetas.xlsx')"
      ],
      "metadata": {
        "id": "ccvwh07A4SYs"
      },
      "execution_count": 2,
      "outputs": []
    },
    {
      "cell_type": "code",
      "source": [
        "analisisMarcha.head()"
      ],
      "metadata": {
        "colab": {
          "base_uri": "https://localhost:8080/",
          "height": 322
        },
        "id": "wetPw5_h9KIs",
        "outputId": "d562f4f3-5b8f-48e5-c73b-ed46928d669b"
      },
      "execution_count": 3,
      "outputs": [
        {
          "output_type": "execute_result",
          "data": {
            "text/plain": [
              "   Unnamed: 0  Historia clinica Distribucion  Edad       Tipo  \\\n",
              "0        1652            164243    Bilateral    12  Espástica   \n",
              "1        1651            252594    Bilateral    17  Espástica   \n",
              "2        1650            541411    Bilateral     5  Espástica   \n",
              "3        1649            109399    Bilateral    22  Espástica   \n",
              "4        1648            402015    Bilateral    16  Espástica   \n",
              "\n",
              "   Tono gastrocnemios derechos  Tono gastrocnemios izquierdos  \\\n",
              "0                          1.5                            1.0   \n",
              "1                          2.0                            2.0   \n",
              "2                          4.0                            3.0   \n",
              "3                          1.5                            1.5   \n",
              "4                          1.0                            1.0   \n",
              "\n",
              "   Dorsiflexión derecha  Dorsiflexión izquierda  Flexión Plantar Tobillo Der  \\\n",
              "0                    32                      32                           46   \n",
              "1                    -6                       0                           58   \n",
              "2                    10                      30                           40   \n",
              "3                     0                       0                           40   \n",
              "4                    40                      40                            0   \n",
              "\n",
              "   Flexión Plantar Tobillo Izq  Silfverskiöld derecha   \\\n",
              "0                           40                       2   \n",
              "1                           56                       2   \n",
              "2                           38                       2   \n",
              "3                           40                       2   \n",
              "4                           18                       2   \n",
              "\n",
              "   Silfverskiöld izquierda  Cirugia derecha  Cirugia izquierda  \n",
              "0                        2              NaN                NaN  \n",
              "1                        2              NaN                NaN  \n",
              "2                        2              NaN                NaN  \n",
              "3                        2              NaN                NaN  \n",
              "4                        1              NaN                NaN  "
            ],
            "text/html": [
              "\n",
              "  <div id=\"df-65b82665-300e-41bd-b292-a9f09bcea656\">\n",
              "    <div class=\"colab-df-container\">\n",
              "      <div>\n",
              "<style scoped>\n",
              "    .dataframe tbody tr th:only-of-type {\n",
              "        vertical-align: middle;\n",
              "    }\n",
              "\n",
              "    .dataframe tbody tr th {\n",
              "        vertical-align: top;\n",
              "    }\n",
              "\n",
              "    .dataframe thead th {\n",
              "        text-align: right;\n",
              "    }\n",
              "</style>\n",
              "<table border=\"1\" class=\"dataframe\">\n",
              "  <thead>\n",
              "    <tr style=\"text-align: right;\">\n",
              "      <th></th>\n",
              "      <th>Unnamed: 0</th>\n",
              "      <th>Historia clinica</th>\n",
              "      <th>Distribucion</th>\n",
              "      <th>Edad</th>\n",
              "      <th>Tipo</th>\n",
              "      <th>Tono gastrocnemios derechos</th>\n",
              "      <th>Tono gastrocnemios izquierdos</th>\n",
              "      <th>Dorsiflexión derecha</th>\n",
              "      <th>Dorsiflexión izquierda</th>\n",
              "      <th>Flexión Plantar Tobillo Der</th>\n",
              "      <th>Flexión Plantar Tobillo Izq</th>\n",
              "      <th>Silfverskiöld derecha</th>\n",
              "      <th>Silfverskiöld izquierda</th>\n",
              "      <th>Cirugia derecha</th>\n",
              "      <th>Cirugia izquierda</th>\n",
              "    </tr>\n",
              "  </thead>\n",
              "  <tbody>\n",
              "    <tr>\n",
              "      <th>0</th>\n",
              "      <td>1652</td>\n",
              "      <td>164243</td>\n",
              "      <td>Bilateral</td>\n",
              "      <td>12</td>\n",
              "      <td>Espástica</td>\n",
              "      <td>1.5</td>\n",
              "      <td>1.0</td>\n",
              "      <td>32</td>\n",
              "      <td>32</td>\n",
              "      <td>46</td>\n",
              "      <td>40</td>\n",
              "      <td>2</td>\n",
              "      <td>2</td>\n",
              "      <td>NaN</td>\n",
              "      <td>NaN</td>\n",
              "    </tr>\n",
              "    <tr>\n",
              "      <th>1</th>\n",
              "      <td>1651</td>\n",
              "      <td>252594</td>\n",
              "      <td>Bilateral</td>\n",
              "      <td>17</td>\n",
              "      <td>Espástica</td>\n",
              "      <td>2.0</td>\n",
              "      <td>2.0</td>\n",
              "      <td>-6</td>\n",
              "      <td>0</td>\n",
              "      <td>58</td>\n",
              "      <td>56</td>\n",
              "      <td>2</td>\n",
              "      <td>2</td>\n",
              "      <td>NaN</td>\n",
              "      <td>NaN</td>\n",
              "    </tr>\n",
              "    <tr>\n",
              "      <th>2</th>\n",
              "      <td>1650</td>\n",
              "      <td>541411</td>\n",
              "      <td>Bilateral</td>\n",
              "      <td>5</td>\n",
              "      <td>Espástica</td>\n",
              "      <td>4.0</td>\n",
              "      <td>3.0</td>\n",
              "      <td>10</td>\n",
              "      <td>30</td>\n",
              "      <td>40</td>\n",
              "      <td>38</td>\n",
              "      <td>2</td>\n",
              "      <td>2</td>\n",
              "      <td>NaN</td>\n",
              "      <td>NaN</td>\n",
              "    </tr>\n",
              "    <tr>\n",
              "      <th>3</th>\n",
              "      <td>1649</td>\n",
              "      <td>109399</td>\n",
              "      <td>Bilateral</td>\n",
              "      <td>22</td>\n",
              "      <td>Espástica</td>\n",
              "      <td>1.5</td>\n",
              "      <td>1.5</td>\n",
              "      <td>0</td>\n",
              "      <td>0</td>\n",
              "      <td>40</td>\n",
              "      <td>40</td>\n",
              "      <td>2</td>\n",
              "      <td>2</td>\n",
              "      <td>NaN</td>\n",
              "      <td>NaN</td>\n",
              "    </tr>\n",
              "    <tr>\n",
              "      <th>4</th>\n",
              "      <td>1648</td>\n",
              "      <td>402015</td>\n",
              "      <td>Bilateral</td>\n",
              "      <td>16</td>\n",
              "      <td>Espástica</td>\n",
              "      <td>1.0</td>\n",
              "      <td>1.0</td>\n",
              "      <td>40</td>\n",
              "      <td>40</td>\n",
              "      <td>0</td>\n",
              "      <td>18</td>\n",
              "      <td>2</td>\n",
              "      <td>1</td>\n",
              "      <td>NaN</td>\n",
              "      <td>NaN</td>\n",
              "    </tr>\n",
              "  </tbody>\n",
              "</table>\n",
              "</div>\n",
              "      <button class=\"colab-df-convert\" onclick=\"convertToInteractive('df-65b82665-300e-41bd-b292-a9f09bcea656')\"\n",
              "              title=\"Convert this dataframe to an interactive table.\"\n",
              "              style=\"display:none;\">\n",
              "        \n",
              "  <svg xmlns=\"http://www.w3.org/2000/svg\" height=\"24px\"viewBox=\"0 0 24 24\"\n",
              "       width=\"24px\">\n",
              "    <path d=\"M0 0h24v24H0V0z\" fill=\"none\"/>\n",
              "    <path d=\"M18.56 5.44l.94 2.06.94-2.06 2.06-.94-2.06-.94-.94-2.06-.94 2.06-2.06.94zm-11 1L8.5 8.5l.94-2.06 2.06-.94-2.06-.94L8.5 2.5l-.94 2.06-2.06.94zm10 10l.94 2.06.94-2.06 2.06-.94-2.06-.94-.94-2.06-.94 2.06-2.06.94z\"/><path d=\"M17.41 7.96l-1.37-1.37c-.4-.4-.92-.59-1.43-.59-.52 0-1.04.2-1.43.59L10.3 9.45l-7.72 7.72c-.78.78-.78 2.05 0 2.83L4 21.41c.39.39.9.59 1.41.59.51 0 1.02-.2 1.41-.59l7.78-7.78 2.81-2.81c.8-.78.8-2.07 0-2.86zM5.41 20L4 18.59l7.72-7.72 1.47 1.35L5.41 20z\"/>\n",
              "  </svg>\n",
              "      </button>\n",
              "      \n",
              "  <style>\n",
              "    .colab-df-container {\n",
              "      display:flex;\n",
              "      flex-wrap:wrap;\n",
              "      gap: 12px;\n",
              "    }\n",
              "\n",
              "    .colab-df-convert {\n",
              "      background-color: #E8F0FE;\n",
              "      border: none;\n",
              "      border-radius: 50%;\n",
              "      cursor: pointer;\n",
              "      display: none;\n",
              "      fill: #1967D2;\n",
              "      height: 32px;\n",
              "      padding: 0 0 0 0;\n",
              "      width: 32px;\n",
              "    }\n",
              "\n",
              "    .colab-df-convert:hover {\n",
              "      background-color: #E2EBFA;\n",
              "      box-shadow: 0px 1px 2px rgba(60, 64, 67, 0.3), 0px 1px 3px 1px rgba(60, 64, 67, 0.15);\n",
              "      fill: #174EA6;\n",
              "    }\n",
              "\n",
              "    [theme=dark] .colab-df-convert {\n",
              "      background-color: #3B4455;\n",
              "      fill: #D2E3FC;\n",
              "    }\n",
              "\n",
              "    [theme=dark] .colab-df-convert:hover {\n",
              "      background-color: #434B5C;\n",
              "      box-shadow: 0px 1px 3px 1px rgba(0, 0, 0, 0.15);\n",
              "      filter: drop-shadow(0px 1px 2px rgba(0, 0, 0, 0.3));\n",
              "      fill: #FFFFFF;\n",
              "    }\n",
              "  </style>\n",
              "\n",
              "      <script>\n",
              "        const buttonEl =\n",
              "          document.querySelector('#df-65b82665-300e-41bd-b292-a9f09bcea656 button.colab-df-convert');\n",
              "        buttonEl.style.display =\n",
              "          google.colab.kernel.accessAllowed ? 'block' : 'none';\n",
              "\n",
              "        async function convertToInteractive(key) {\n",
              "          const element = document.querySelector('#df-65b82665-300e-41bd-b292-a9f09bcea656');\n",
              "          const dataTable =\n",
              "            await google.colab.kernel.invokeFunction('convertToInteractive',\n",
              "                                                     [key], {});\n",
              "          if (!dataTable) return;\n",
              "\n",
              "          const docLinkHtml = 'Like what you see? Visit the ' +\n",
              "            '<a target=\"_blank\" href=https://colab.research.google.com/notebooks/data_table.ipynb>data table notebook</a>'\n",
              "            + ' to learn more about interactive tables.';\n",
              "          element.innerHTML = '';\n",
              "          dataTable['output_type'] = 'display_data';\n",
              "          await google.colab.output.renderOutput(dataTable, element);\n",
              "          const docLink = document.createElement('div');\n",
              "          docLink.innerHTML = docLinkHtml;\n",
              "          element.appendChild(docLink);\n",
              "        }\n",
              "      </script>\n",
              "    </div>\n",
              "  </div>\n",
              "  "
            ]
          },
          "metadata": {},
          "execution_count": 3
        }
      ]
    },
    {
      "cell_type": "code",
      "source": [
        "analisisMarcha"
      ],
      "metadata": {
        "colab": {
          "base_uri": "https://localhost:8080/",
          "height": 540
        },
        "id": "KjProlWW8eDI",
        "outputId": "8fb59cea-f8b2-4522-d67f-ead28430d035"
      },
      "execution_count": 4,
      "outputs": [
        {
          "output_type": "execute_result",
          "data": {
            "text/plain": [
              "      Unnamed: 0  Historia clinica Distribucion  Edad       Tipo  \\\n",
              "0           1652            164243    Bilateral    12  Espástica   \n",
              "1           1651            252594    Bilateral    17  Espástica   \n",
              "2           1650            541411    Bilateral     5  Espástica   \n",
              "3           1649            109399    Bilateral    22  Espástica   \n",
              "4           1648            402015    Bilateral    16  Espástica   \n",
              "...          ...               ...          ...   ...        ...   \n",
              "1642           5            368878   Unilateral    12  Espástica   \n",
              "1643           4            147665    Bilateral    12  Espástica   \n",
              "1644           3            224486   Unilateral     7      Mixta   \n",
              "1645           2            230463   Unilateral     8  Espástica   \n",
              "1646           1            203855    Bilateral     8  Espástica   \n",
              "\n",
              "      Tono gastrocnemios derechos  Tono gastrocnemios izquierdos  \\\n",
              "0                             1.5                            1.0   \n",
              "1                             2.0                            2.0   \n",
              "2                             4.0                            3.0   \n",
              "3                             1.5                            1.5   \n",
              "4                             1.0                            1.0   \n",
              "...                           ...                            ...   \n",
              "1642                          2.0                            2.0   \n",
              "1643                          4.0                            2.0   \n",
              "1644                          1.5                            1.0   \n",
              "1645                          0.0                            3.0   \n",
              "1646                          2.0                            2.0   \n",
              "\n",
              "      Dorsiflexión derecha  Dorsiflexión izquierda  \\\n",
              "0                       32                      32   \n",
              "1                       -6                       0   \n",
              "2                       10                      30   \n",
              "3                        0                       0   \n",
              "4                       40                      40   \n",
              "...                    ...                     ...   \n",
              "1642                    16                      22   \n",
              "1643                   -30                      22   \n",
              "1644                    26                      18   \n",
              "1645                    40                      42   \n",
              "1646                     4                      12   \n",
              "\n",
              "      Flexión Plantar Tobillo Der  Flexión Plantar Tobillo Izq  \\\n",
              "0                              46                           40   \n",
              "1                              58                           56   \n",
              "2                              40                           38   \n",
              "3                              40                           40   \n",
              "4                               0                           18   \n",
              "...                           ...                          ...   \n",
              "1642                           30                           32   \n",
              "1643                           40                           38   \n",
              "1644                           50                           64   \n",
              "1645                           28                           30   \n",
              "1646                           46                           40   \n",
              "\n",
              "      Silfverskiöld derecha   Silfverskiöld izquierda  Cirugia derecha  \\\n",
              "0                          2                        2              NaN   \n",
              "1                          2                        2              NaN   \n",
              "2                          2                        2              NaN   \n",
              "3                          2                        2              NaN   \n",
              "4                          2                        1              NaN   \n",
              "...                      ...                      ...              ...   \n",
              "1642                       2                        2              NaN   \n",
              "1643                       2                        2              NaN   \n",
              "1644                       2                        2              NaN   \n",
              "1645                       2                        2              NaN   \n",
              "1646                       2                        2              NaN   \n",
              "\n",
              "      Cirugia izquierda  \n",
              "0                   NaN  \n",
              "1                   NaN  \n",
              "2                   NaN  \n",
              "3                   NaN  \n",
              "4                   NaN  \n",
              "...                 ...  \n",
              "1642                NaN  \n",
              "1643                NaN  \n",
              "1644                NaN  \n",
              "1645                NaN  \n",
              "1646                NaN  \n",
              "\n",
              "[1647 rows x 15 columns]"
            ],
            "text/html": [
              "\n",
              "  <div id=\"df-693cf69e-c265-4c8b-acdc-97fedef79e1c\">\n",
              "    <div class=\"colab-df-container\">\n",
              "      <div>\n",
              "<style scoped>\n",
              "    .dataframe tbody tr th:only-of-type {\n",
              "        vertical-align: middle;\n",
              "    }\n",
              "\n",
              "    .dataframe tbody tr th {\n",
              "        vertical-align: top;\n",
              "    }\n",
              "\n",
              "    .dataframe thead th {\n",
              "        text-align: right;\n",
              "    }\n",
              "</style>\n",
              "<table border=\"1\" class=\"dataframe\">\n",
              "  <thead>\n",
              "    <tr style=\"text-align: right;\">\n",
              "      <th></th>\n",
              "      <th>Unnamed: 0</th>\n",
              "      <th>Historia clinica</th>\n",
              "      <th>Distribucion</th>\n",
              "      <th>Edad</th>\n",
              "      <th>Tipo</th>\n",
              "      <th>Tono gastrocnemios derechos</th>\n",
              "      <th>Tono gastrocnemios izquierdos</th>\n",
              "      <th>Dorsiflexión derecha</th>\n",
              "      <th>Dorsiflexión izquierda</th>\n",
              "      <th>Flexión Plantar Tobillo Der</th>\n",
              "      <th>Flexión Plantar Tobillo Izq</th>\n",
              "      <th>Silfverskiöld derecha</th>\n",
              "      <th>Silfverskiöld izquierda</th>\n",
              "      <th>Cirugia derecha</th>\n",
              "      <th>Cirugia izquierda</th>\n",
              "    </tr>\n",
              "  </thead>\n",
              "  <tbody>\n",
              "    <tr>\n",
              "      <th>0</th>\n",
              "      <td>1652</td>\n",
              "      <td>164243</td>\n",
              "      <td>Bilateral</td>\n",
              "      <td>12</td>\n",
              "      <td>Espástica</td>\n",
              "      <td>1.5</td>\n",
              "      <td>1.0</td>\n",
              "      <td>32</td>\n",
              "      <td>32</td>\n",
              "      <td>46</td>\n",
              "      <td>40</td>\n",
              "      <td>2</td>\n",
              "      <td>2</td>\n",
              "      <td>NaN</td>\n",
              "      <td>NaN</td>\n",
              "    </tr>\n",
              "    <tr>\n",
              "      <th>1</th>\n",
              "      <td>1651</td>\n",
              "      <td>252594</td>\n",
              "      <td>Bilateral</td>\n",
              "      <td>17</td>\n",
              "      <td>Espástica</td>\n",
              "      <td>2.0</td>\n",
              "      <td>2.0</td>\n",
              "      <td>-6</td>\n",
              "      <td>0</td>\n",
              "      <td>58</td>\n",
              "      <td>56</td>\n",
              "      <td>2</td>\n",
              "      <td>2</td>\n",
              "      <td>NaN</td>\n",
              "      <td>NaN</td>\n",
              "    </tr>\n",
              "    <tr>\n",
              "      <th>2</th>\n",
              "      <td>1650</td>\n",
              "      <td>541411</td>\n",
              "      <td>Bilateral</td>\n",
              "      <td>5</td>\n",
              "      <td>Espástica</td>\n",
              "      <td>4.0</td>\n",
              "      <td>3.0</td>\n",
              "      <td>10</td>\n",
              "      <td>30</td>\n",
              "      <td>40</td>\n",
              "      <td>38</td>\n",
              "      <td>2</td>\n",
              "      <td>2</td>\n",
              "      <td>NaN</td>\n",
              "      <td>NaN</td>\n",
              "    </tr>\n",
              "    <tr>\n",
              "      <th>3</th>\n",
              "      <td>1649</td>\n",
              "      <td>109399</td>\n",
              "      <td>Bilateral</td>\n",
              "      <td>22</td>\n",
              "      <td>Espástica</td>\n",
              "      <td>1.5</td>\n",
              "      <td>1.5</td>\n",
              "      <td>0</td>\n",
              "      <td>0</td>\n",
              "      <td>40</td>\n",
              "      <td>40</td>\n",
              "      <td>2</td>\n",
              "      <td>2</td>\n",
              "      <td>NaN</td>\n",
              "      <td>NaN</td>\n",
              "    </tr>\n",
              "    <tr>\n",
              "      <th>4</th>\n",
              "      <td>1648</td>\n",
              "      <td>402015</td>\n",
              "      <td>Bilateral</td>\n",
              "      <td>16</td>\n",
              "      <td>Espástica</td>\n",
              "      <td>1.0</td>\n",
              "      <td>1.0</td>\n",
              "      <td>40</td>\n",
              "      <td>40</td>\n",
              "      <td>0</td>\n",
              "      <td>18</td>\n",
              "      <td>2</td>\n",
              "      <td>1</td>\n",
              "      <td>NaN</td>\n",
              "      <td>NaN</td>\n",
              "    </tr>\n",
              "    <tr>\n",
              "      <th>...</th>\n",
              "      <td>...</td>\n",
              "      <td>...</td>\n",
              "      <td>...</td>\n",
              "      <td>...</td>\n",
              "      <td>...</td>\n",
              "      <td>...</td>\n",
              "      <td>...</td>\n",
              "      <td>...</td>\n",
              "      <td>...</td>\n",
              "      <td>...</td>\n",
              "      <td>...</td>\n",
              "      <td>...</td>\n",
              "      <td>...</td>\n",
              "      <td>...</td>\n",
              "      <td>...</td>\n",
              "    </tr>\n",
              "    <tr>\n",
              "      <th>1642</th>\n",
              "      <td>5</td>\n",
              "      <td>368878</td>\n",
              "      <td>Unilateral</td>\n",
              "      <td>12</td>\n",
              "      <td>Espástica</td>\n",
              "      <td>2.0</td>\n",
              "      <td>2.0</td>\n",
              "      <td>16</td>\n",
              "      <td>22</td>\n",
              "      <td>30</td>\n",
              "      <td>32</td>\n",
              "      <td>2</td>\n",
              "      <td>2</td>\n",
              "      <td>NaN</td>\n",
              "      <td>NaN</td>\n",
              "    </tr>\n",
              "    <tr>\n",
              "      <th>1643</th>\n",
              "      <td>4</td>\n",
              "      <td>147665</td>\n",
              "      <td>Bilateral</td>\n",
              "      <td>12</td>\n",
              "      <td>Espástica</td>\n",
              "      <td>4.0</td>\n",
              "      <td>2.0</td>\n",
              "      <td>-30</td>\n",
              "      <td>22</td>\n",
              "      <td>40</td>\n",
              "      <td>38</td>\n",
              "      <td>2</td>\n",
              "      <td>2</td>\n",
              "      <td>NaN</td>\n",
              "      <td>NaN</td>\n",
              "    </tr>\n",
              "    <tr>\n",
              "      <th>1644</th>\n",
              "      <td>3</td>\n",
              "      <td>224486</td>\n",
              "      <td>Unilateral</td>\n",
              "      <td>7</td>\n",
              "      <td>Mixta</td>\n",
              "      <td>1.5</td>\n",
              "      <td>1.0</td>\n",
              "      <td>26</td>\n",
              "      <td>18</td>\n",
              "      <td>50</td>\n",
              "      <td>64</td>\n",
              "      <td>2</td>\n",
              "      <td>2</td>\n",
              "      <td>NaN</td>\n",
              "      <td>NaN</td>\n",
              "    </tr>\n",
              "    <tr>\n",
              "      <th>1645</th>\n",
              "      <td>2</td>\n",
              "      <td>230463</td>\n",
              "      <td>Unilateral</td>\n",
              "      <td>8</td>\n",
              "      <td>Espástica</td>\n",
              "      <td>0.0</td>\n",
              "      <td>3.0</td>\n",
              "      <td>40</td>\n",
              "      <td>42</td>\n",
              "      <td>28</td>\n",
              "      <td>30</td>\n",
              "      <td>2</td>\n",
              "      <td>2</td>\n",
              "      <td>NaN</td>\n",
              "      <td>NaN</td>\n",
              "    </tr>\n",
              "    <tr>\n",
              "      <th>1646</th>\n",
              "      <td>1</td>\n",
              "      <td>203855</td>\n",
              "      <td>Bilateral</td>\n",
              "      <td>8</td>\n",
              "      <td>Espástica</td>\n",
              "      <td>2.0</td>\n",
              "      <td>2.0</td>\n",
              "      <td>4</td>\n",
              "      <td>12</td>\n",
              "      <td>46</td>\n",
              "      <td>40</td>\n",
              "      <td>2</td>\n",
              "      <td>2</td>\n",
              "      <td>NaN</td>\n",
              "      <td>NaN</td>\n",
              "    </tr>\n",
              "  </tbody>\n",
              "</table>\n",
              "<p>1647 rows × 15 columns</p>\n",
              "</div>\n",
              "      <button class=\"colab-df-convert\" onclick=\"convertToInteractive('df-693cf69e-c265-4c8b-acdc-97fedef79e1c')\"\n",
              "              title=\"Convert this dataframe to an interactive table.\"\n",
              "              style=\"display:none;\">\n",
              "        \n",
              "  <svg xmlns=\"http://www.w3.org/2000/svg\" height=\"24px\"viewBox=\"0 0 24 24\"\n",
              "       width=\"24px\">\n",
              "    <path d=\"M0 0h24v24H0V0z\" fill=\"none\"/>\n",
              "    <path d=\"M18.56 5.44l.94 2.06.94-2.06 2.06-.94-2.06-.94-.94-2.06-.94 2.06-2.06.94zm-11 1L8.5 8.5l.94-2.06 2.06-.94-2.06-.94L8.5 2.5l-.94 2.06-2.06.94zm10 10l.94 2.06.94-2.06 2.06-.94-2.06-.94-.94-2.06-.94 2.06-2.06.94z\"/><path d=\"M17.41 7.96l-1.37-1.37c-.4-.4-.92-.59-1.43-.59-.52 0-1.04.2-1.43.59L10.3 9.45l-7.72 7.72c-.78.78-.78 2.05 0 2.83L4 21.41c.39.39.9.59 1.41.59.51 0 1.02-.2 1.41-.59l7.78-7.78 2.81-2.81c.8-.78.8-2.07 0-2.86zM5.41 20L4 18.59l7.72-7.72 1.47 1.35L5.41 20z\"/>\n",
              "  </svg>\n",
              "      </button>\n",
              "      \n",
              "  <style>\n",
              "    .colab-df-container {\n",
              "      display:flex;\n",
              "      flex-wrap:wrap;\n",
              "      gap: 12px;\n",
              "    }\n",
              "\n",
              "    .colab-df-convert {\n",
              "      background-color: #E8F0FE;\n",
              "      border: none;\n",
              "      border-radius: 50%;\n",
              "      cursor: pointer;\n",
              "      display: none;\n",
              "      fill: #1967D2;\n",
              "      height: 32px;\n",
              "      padding: 0 0 0 0;\n",
              "      width: 32px;\n",
              "    }\n",
              "\n",
              "    .colab-df-convert:hover {\n",
              "      background-color: #E2EBFA;\n",
              "      box-shadow: 0px 1px 2px rgba(60, 64, 67, 0.3), 0px 1px 3px 1px rgba(60, 64, 67, 0.15);\n",
              "      fill: #174EA6;\n",
              "    }\n",
              "\n",
              "    [theme=dark] .colab-df-convert {\n",
              "      background-color: #3B4455;\n",
              "      fill: #D2E3FC;\n",
              "    }\n",
              "\n",
              "    [theme=dark] .colab-df-convert:hover {\n",
              "      background-color: #434B5C;\n",
              "      box-shadow: 0px 1px 3px 1px rgba(0, 0, 0, 0.15);\n",
              "      filter: drop-shadow(0px 1px 2px rgba(0, 0, 0, 0.3));\n",
              "      fill: #FFFFFF;\n",
              "    }\n",
              "  </style>\n",
              "\n",
              "      <script>\n",
              "        const buttonEl =\n",
              "          document.querySelector('#df-693cf69e-c265-4c8b-acdc-97fedef79e1c button.colab-df-convert');\n",
              "        buttonEl.style.display =\n",
              "          google.colab.kernel.accessAllowed ? 'block' : 'none';\n",
              "\n",
              "        async function convertToInteractive(key) {\n",
              "          const element = document.querySelector('#df-693cf69e-c265-4c8b-acdc-97fedef79e1c');\n",
              "          const dataTable =\n",
              "            await google.colab.kernel.invokeFunction('convertToInteractive',\n",
              "                                                     [key], {});\n",
              "          if (!dataTable) return;\n",
              "\n",
              "          const docLinkHtml = 'Like what you see? Visit the ' +\n",
              "            '<a target=\"_blank\" href=https://colab.research.google.com/notebooks/data_table.ipynb>data table notebook</a>'\n",
              "            + ' to learn more about interactive tables.';\n",
              "          element.innerHTML = '';\n",
              "          dataTable['output_type'] = 'display_data';\n",
              "          await google.colab.output.renderOutput(dataTable, element);\n",
              "          const docLink = document.createElement('div');\n",
              "          docLink.innerHTML = docLinkHtml;\n",
              "          element.appendChild(docLink);\n",
              "        }\n",
              "      </script>\n",
              "    </div>\n",
              "  </div>\n",
              "  "
            ]
          },
          "metadata": {},
          "execution_count": 4
        }
      ]
    },
    {
      "cell_type": "code",
      "source": [
        "etiquetas.head()"
      ],
      "metadata": {
        "colab": {
          "base_uri": "https://localhost:8080/",
          "height": 317
        },
        "id": "GB7vcaG997w6",
        "outputId": "0569e36d-bbb0-4b62-cba4-318bdb63d8cb"
      },
      "execution_count": 5,
      "outputs": [
        {
          "output_type": "execute_result",
          "data": {
            "text/plain": [
              "   Historia Clinica  Numero de historias  2016  D_2016  I_2016  2017  D_2017  \\\n",
              "0            340565                    4     1     0.0     0.0     1     0.0   \n",
              "1            201019                    4     1     0.0     0.0     1     0.0   \n",
              "2            181653                    4     1     2.0     2.0     0     NaN   \n",
              "3            336396                    4     1     0.0     0.0     1     2.0   \n",
              "4            197146                    3     0     NaN     NaN     1     0.0   \n",
              "\n",
              "   I_2017  2018  D_2018  ...  I_2019  2020  D_2020  I_2020  2021  D_2021  \\\n",
              "0     1.0     1     0.0  ...     0.0     0     NaN     NaN     0     NaN   \n",
              "1     0.0     0     NaN  ...     0.0     0     NaN     NaN     1     0.0   \n",
              "2     NaN     1     0.0  ...     0.0     0     NaN     NaN     1     2.0   \n",
              "3     2.0     1     0.0  ...     NaN     1     0.0     0.0     0     NaN   \n",
              "4     0.0     0     NaN  ...     NaN     1     0.0     0.0     1     0.0   \n",
              "\n",
              "   I_2021  2022  D_2022  I_2022  \n",
              "0     NaN     0     NaN     NaN  \n",
              "1     0.0     0     NaN     NaN  \n",
              "2     2.0     0     NaN     NaN  \n",
              "3     NaN     0     NaN     NaN  \n",
              "4     0.0     0     NaN     NaN  \n",
              "\n",
              "[5 rows x 23 columns]"
            ],
            "text/html": [
              "\n",
              "  <div id=\"df-4a3d446f-1e4f-40ac-9efe-9d1a4a265e20\">\n",
              "    <div class=\"colab-df-container\">\n",
              "      <div>\n",
              "<style scoped>\n",
              "    .dataframe tbody tr th:only-of-type {\n",
              "        vertical-align: middle;\n",
              "    }\n",
              "\n",
              "    .dataframe tbody tr th {\n",
              "        vertical-align: top;\n",
              "    }\n",
              "\n",
              "    .dataframe thead th {\n",
              "        text-align: right;\n",
              "    }\n",
              "</style>\n",
              "<table border=\"1\" class=\"dataframe\">\n",
              "  <thead>\n",
              "    <tr style=\"text-align: right;\">\n",
              "      <th></th>\n",
              "      <th>Historia Clinica</th>\n",
              "      <th>Numero de historias</th>\n",
              "      <th>2016</th>\n",
              "      <th>D_2016</th>\n",
              "      <th>I_2016</th>\n",
              "      <th>2017</th>\n",
              "      <th>D_2017</th>\n",
              "      <th>I_2017</th>\n",
              "      <th>2018</th>\n",
              "      <th>D_2018</th>\n",
              "      <th>...</th>\n",
              "      <th>I_2019</th>\n",
              "      <th>2020</th>\n",
              "      <th>D_2020</th>\n",
              "      <th>I_2020</th>\n",
              "      <th>2021</th>\n",
              "      <th>D_2021</th>\n",
              "      <th>I_2021</th>\n",
              "      <th>2022</th>\n",
              "      <th>D_2022</th>\n",
              "      <th>I_2022</th>\n",
              "    </tr>\n",
              "  </thead>\n",
              "  <tbody>\n",
              "    <tr>\n",
              "      <th>0</th>\n",
              "      <td>340565</td>\n",
              "      <td>4</td>\n",
              "      <td>1</td>\n",
              "      <td>0.0</td>\n",
              "      <td>0.0</td>\n",
              "      <td>1</td>\n",
              "      <td>0.0</td>\n",
              "      <td>1.0</td>\n",
              "      <td>1</td>\n",
              "      <td>0.0</td>\n",
              "      <td>...</td>\n",
              "      <td>0.0</td>\n",
              "      <td>0</td>\n",
              "      <td>NaN</td>\n",
              "      <td>NaN</td>\n",
              "      <td>0</td>\n",
              "      <td>NaN</td>\n",
              "      <td>NaN</td>\n",
              "      <td>0</td>\n",
              "      <td>NaN</td>\n",
              "      <td>NaN</td>\n",
              "    </tr>\n",
              "    <tr>\n",
              "      <th>1</th>\n",
              "      <td>201019</td>\n",
              "      <td>4</td>\n",
              "      <td>1</td>\n",
              "      <td>0.0</td>\n",
              "      <td>0.0</td>\n",
              "      <td>1</td>\n",
              "      <td>0.0</td>\n",
              "      <td>0.0</td>\n",
              "      <td>0</td>\n",
              "      <td>NaN</td>\n",
              "      <td>...</td>\n",
              "      <td>0.0</td>\n",
              "      <td>0</td>\n",
              "      <td>NaN</td>\n",
              "      <td>NaN</td>\n",
              "      <td>1</td>\n",
              "      <td>0.0</td>\n",
              "      <td>0.0</td>\n",
              "      <td>0</td>\n",
              "      <td>NaN</td>\n",
              "      <td>NaN</td>\n",
              "    </tr>\n",
              "    <tr>\n",
              "      <th>2</th>\n",
              "      <td>181653</td>\n",
              "      <td>4</td>\n",
              "      <td>1</td>\n",
              "      <td>2.0</td>\n",
              "      <td>2.0</td>\n",
              "      <td>0</td>\n",
              "      <td>NaN</td>\n",
              "      <td>NaN</td>\n",
              "      <td>1</td>\n",
              "      <td>0.0</td>\n",
              "      <td>...</td>\n",
              "      <td>0.0</td>\n",
              "      <td>0</td>\n",
              "      <td>NaN</td>\n",
              "      <td>NaN</td>\n",
              "      <td>1</td>\n",
              "      <td>2.0</td>\n",
              "      <td>2.0</td>\n",
              "      <td>0</td>\n",
              "      <td>NaN</td>\n",
              "      <td>NaN</td>\n",
              "    </tr>\n",
              "    <tr>\n",
              "      <th>3</th>\n",
              "      <td>336396</td>\n",
              "      <td>4</td>\n",
              "      <td>1</td>\n",
              "      <td>0.0</td>\n",
              "      <td>0.0</td>\n",
              "      <td>1</td>\n",
              "      <td>2.0</td>\n",
              "      <td>2.0</td>\n",
              "      <td>1</td>\n",
              "      <td>0.0</td>\n",
              "      <td>...</td>\n",
              "      <td>NaN</td>\n",
              "      <td>1</td>\n",
              "      <td>0.0</td>\n",
              "      <td>0.0</td>\n",
              "      <td>0</td>\n",
              "      <td>NaN</td>\n",
              "      <td>NaN</td>\n",
              "      <td>0</td>\n",
              "      <td>NaN</td>\n",
              "      <td>NaN</td>\n",
              "    </tr>\n",
              "    <tr>\n",
              "      <th>4</th>\n",
              "      <td>197146</td>\n",
              "      <td>3</td>\n",
              "      <td>0</td>\n",
              "      <td>NaN</td>\n",
              "      <td>NaN</td>\n",
              "      <td>1</td>\n",
              "      <td>0.0</td>\n",
              "      <td>0.0</td>\n",
              "      <td>0</td>\n",
              "      <td>NaN</td>\n",
              "      <td>...</td>\n",
              "      <td>NaN</td>\n",
              "      <td>1</td>\n",
              "      <td>0.0</td>\n",
              "      <td>0.0</td>\n",
              "      <td>1</td>\n",
              "      <td>0.0</td>\n",
              "      <td>0.0</td>\n",
              "      <td>0</td>\n",
              "      <td>NaN</td>\n",
              "      <td>NaN</td>\n",
              "    </tr>\n",
              "  </tbody>\n",
              "</table>\n",
              "<p>5 rows × 23 columns</p>\n",
              "</div>\n",
              "      <button class=\"colab-df-convert\" onclick=\"convertToInteractive('df-4a3d446f-1e4f-40ac-9efe-9d1a4a265e20')\"\n",
              "              title=\"Convert this dataframe to an interactive table.\"\n",
              "              style=\"display:none;\">\n",
              "        \n",
              "  <svg xmlns=\"http://www.w3.org/2000/svg\" height=\"24px\"viewBox=\"0 0 24 24\"\n",
              "       width=\"24px\">\n",
              "    <path d=\"M0 0h24v24H0V0z\" fill=\"none\"/>\n",
              "    <path d=\"M18.56 5.44l.94 2.06.94-2.06 2.06-.94-2.06-.94-.94-2.06-.94 2.06-2.06.94zm-11 1L8.5 8.5l.94-2.06 2.06-.94-2.06-.94L8.5 2.5l-.94 2.06-2.06.94zm10 10l.94 2.06.94-2.06 2.06-.94-2.06-.94-.94-2.06-.94 2.06-2.06.94z\"/><path d=\"M17.41 7.96l-1.37-1.37c-.4-.4-.92-.59-1.43-.59-.52 0-1.04.2-1.43.59L10.3 9.45l-7.72 7.72c-.78.78-.78 2.05 0 2.83L4 21.41c.39.39.9.59 1.41.59.51 0 1.02-.2 1.41-.59l7.78-7.78 2.81-2.81c.8-.78.8-2.07 0-2.86zM5.41 20L4 18.59l7.72-7.72 1.47 1.35L5.41 20z\"/>\n",
              "  </svg>\n",
              "      </button>\n",
              "      \n",
              "  <style>\n",
              "    .colab-df-container {\n",
              "      display:flex;\n",
              "      flex-wrap:wrap;\n",
              "      gap: 12px;\n",
              "    }\n",
              "\n",
              "    .colab-df-convert {\n",
              "      background-color: #E8F0FE;\n",
              "      border: none;\n",
              "      border-radius: 50%;\n",
              "      cursor: pointer;\n",
              "      display: none;\n",
              "      fill: #1967D2;\n",
              "      height: 32px;\n",
              "      padding: 0 0 0 0;\n",
              "      width: 32px;\n",
              "    }\n",
              "\n",
              "    .colab-df-convert:hover {\n",
              "      background-color: #E2EBFA;\n",
              "      box-shadow: 0px 1px 2px rgba(60, 64, 67, 0.3), 0px 1px 3px 1px rgba(60, 64, 67, 0.15);\n",
              "      fill: #174EA6;\n",
              "    }\n",
              "\n",
              "    [theme=dark] .colab-df-convert {\n",
              "      background-color: #3B4455;\n",
              "      fill: #D2E3FC;\n",
              "    }\n",
              "\n",
              "    [theme=dark] .colab-df-convert:hover {\n",
              "      background-color: #434B5C;\n",
              "      box-shadow: 0px 1px 3px 1px rgba(0, 0, 0, 0.15);\n",
              "      filter: drop-shadow(0px 1px 2px rgba(0, 0, 0, 0.3));\n",
              "      fill: #FFFFFF;\n",
              "    }\n",
              "  </style>\n",
              "\n",
              "      <script>\n",
              "        const buttonEl =\n",
              "          document.querySelector('#df-4a3d446f-1e4f-40ac-9efe-9d1a4a265e20 button.colab-df-convert');\n",
              "        buttonEl.style.display =\n",
              "          google.colab.kernel.accessAllowed ? 'block' : 'none';\n",
              "\n",
              "        async function convertToInteractive(key) {\n",
              "          const element = document.querySelector('#df-4a3d446f-1e4f-40ac-9efe-9d1a4a265e20');\n",
              "          const dataTable =\n",
              "            await google.colab.kernel.invokeFunction('convertToInteractive',\n",
              "                                                     [key], {});\n",
              "          if (!dataTable) return;\n",
              "\n",
              "          const docLinkHtml = 'Like what you see? Visit the ' +\n",
              "            '<a target=\"_blank\" href=https://colab.research.google.com/notebooks/data_table.ipynb>data table notebook</a>'\n",
              "            + ' to learn more about interactive tables.';\n",
              "          element.innerHTML = '';\n",
              "          dataTable['output_type'] = 'display_data';\n",
              "          await google.colab.output.renderOutput(dataTable, element);\n",
              "          const docLink = document.createElement('div');\n",
              "          docLink.innerHTML = docLinkHtml;\n",
              "          element.appendChild(docLink);\n",
              "        }\n",
              "      </script>\n",
              "    </div>\n",
              "  </div>\n",
              "  "
            ]
          },
          "metadata": {},
          "execution_count": 5
        }
      ]
    },
    {
      "cell_type": "code",
      "source": [
        "def arregloEtiquetas(pacienteId):\n",
        "  etiquetasDerecha=[]\n",
        "  etiquetasIzquierda=[]\n",
        "  for i in range(2016,2023):\n",
        "    if etiquetas.loc[etiquetas['Historia Clinica'] ==pacienteId ][i].iloc[0]==1:\n",
        "      etiquetasDerecha.append(etiquetas.loc[etiquetas['Historia Clinica'] ==pacienteId ]['D_'+str(i)].iloc[0])\n",
        "      etiquetasIzquierda.append(etiquetas.loc[etiquetas['Historia Clinica'] ==pacienteId ]['I_'+str(i)].iloc[0])\n",
        "  return etiquetasDerecha, etiquetasIzquierda"
      ],
      "metadata": {
        "id": "rDFzn6WuLIgq"
      },
      "execution_count": 6,
      "outputs": []
    },
    {
      "cell_type": "code",
      "source": [
        "for historia in etiquetas['Historia Clinica'].unique():\n",
        "  indices=analisisMarcha.index[analisisMarcha['Historia clinica'] ==historia ]\n",
        "  # Para cada análisis de marcha que está registrado\n",
        "  der,izq=arregloEtiquetas(historia)\n",
        "  for i in range(0, len(indices)):\n",
        "    analisisMarcha.at[indices[i],\"Cirugia derecha\"]=der[len(indices)-i-1]\n",
        "    analisisMarcha.at[indices[i],\"Cirugia izquierda\"]=izq[len(indices)-i-1]\n"
      ],
      "metadata": {
        "id": "s-yQ3aPuB7vn"
      },
      "execution_count": 7,
      "outputs": []
    },
    {
      "cell_type": "code",
      "source": [
        "analisisMarcha.head()"
      ],
      "metadata": {
        "colab": {
          "base_uri": "https://localhost:8080/",
          "height": 322
        },
        "id": "2lQZPYWvfg9-",
        "outputId": "851bcbda-d76a-45c2-9e8a-39779f62c900"
      },
      "execution_count": 8,
      "outputs": [
        {
          "output_type": "execute_result",
          "data": {
            "text/plain": [
              "   Unnamed: 0  Historia clinica Distribucion  Edad       Tipo  \\\n",
              "0        1652            164243    Bilateral    12  Espástica   \n",
              "1        1651            252594    Bilateral    17  Espástica   \n",
              "2        1650            541411    Bilateral     5  Espástica   \n",
              "3        1649            109399    Bilateral    22  Espástica   \n",
              "4        1648            402015    Bilateral    16  Espástica   \n",
              "\n",
              "   Tono gastrocnemios derechos  Tono gastrocnemios izquierdos  \\\n",
              "0                          1.5                            1.0   \n",
              "1                          2.0                            2.0   \n",
              "2                          4.0                            3.0   \n",
              "3                          1.5                            1.5   \n",
              "4                          1.0                            1.0   \n",
              "\n",
              "   Dorsiflexión derecha  Dorsiflexión izquierda  Flexión Plantar Tobillo Der  \\\n",
              "0                    32                      32                           46   \n",
              "1                    -6                       0                           58   \n",
              "2                    10                      30                           40   \n",
              "3                     0                       0                           40   \n",
              "4                    40                      40                            0   \n",
              "\n",
              "   Flexión Plantar Tobillo Izq  Silfverskiöld derecha   \\\n",
              "0                           40                       2   \n",
              "1                           56                       2   \n",
              "2                           38                       2   \n",
              "3                           40                       2   \n",
              "4                           18                       2   \n",
              "\n",
              "   Silfverskiöld izquierda  Cirugia derecha  Cirugia izquierda  \n",
              "0                        2              0.0                0.0  \n",
              "1                        2              0.0                0.0  \n",
              "2                        2              2.0                0.0  \n",
              "3                        2              0.0                0.0  \n",
              "4                        1              0.0                0.0  "
            ],
            "text/html": [
              "\n",
              "  <div id=\"df-6cbac388-1902-4971-8531-41a185abe078\">\n",
              "    <div class=\"colab-df-container\">\n",
              "      <div>\n",
              "<style scoped>\n",
              "    .dataframe tbody tr th:only-of-type {\n",
              "        vertical-align: middle;\n",
              "    }\n",
              "\n",
              "    .dataframe tbody tr th {\n",
              "        vertical-align: top;\n",
              "    }\n",
              "\n",
              "    .dataframe thead th {\n",
              "        text-align: right;\n",
              "    }\n",
              "</style>\n",
              "<table border=\"1\" class=\"dataframe\">\n",
              "  <thead>\n",
              "    <tr style=\"text-align: right;\">\n",
              "      <th></th>\n",
              "      <th>Unnamed: 0</th>\n",
              "      <th>Historia clinica</th>\n",
              "      <th>Distribucion</th>\n",
              "      <th>Edad</th>\n",
              "      <th>Tipo</th>\n",
              "      <th>Tono gastrocnemios derechos</th>\n",
              "      <th>Tono gastrocnemios izquierdos</th>\n",
              "      <th>Dorsiflexión derecha</th>\n",
              "      <th>Dorsiflexión izquierda</th>\n",
              "      <th>Flexión Plantar Tobillo Der</th>\n",
              "      <th>Flexión Plantar Tobillo Izq</th>\n",
              "      <th>Silfverskiöld derecha</th>\n",
              "      <th>Silfverskiöld izquierda</th>\n",
              "      <th>Cirugia derecha</th>\n",
              "      <th>Cirugia izquierda</th>\n",
              "    </tr>\n",
              "  </thead>\n",
              "  <tbody>\n",
              "    <tr>\n",
              "      <th>0</th>\n",
              "      <td>1652</td>\n",
              "      <td>164243</td>\n",
              "      <td>Bilateral</td>\n",
              "      <td>12</td>\n",
              "      <td>Espástica</td>\n",
              "      <td>1.5</td>\n",
              "      <td>1.0</td>\n",
              "      <td>32</td>\n",
              "      <td>32</td>\n",
              "      <td>46</td>\n",
              "      <td>40</td>\n",
              "      <td>2</td>\n",
              "      <td>2</td>\n",
              "      <td>0.0</td>\n",
              "      <td>0.0</td>\n",
              "    </tr>\n",
              "    <tr>\n",
              "      <th>1</th>\n",
              "      <td>1651</td>\n",
              "      <td>252594</td>\n",
              "      <td>Bilateral</td>\n",
              "      <td>17</td>\n",
              "      <td>Espástica</td>\n",
              "      <td>2.0</td>\n",
              "      <td>2.0</td>\n",
              "      <td>-6</td>\n",
              "      <td>0</td>\n",
              "      <td>58</td>\n",
              "      <td>56</td>\n",
              "      <td>2</td>\n",
              "      <td>2</td>\n",
              "      <td>0.0</td>\n",
              "      <td>0.0</td>\n",
              "    </tr>\n",
              "    <tr>\n",
              "      <th>2</th>\n",
              "      <td>1650</td>\n",
              "      <td>541411</td>\n",
              "      <td>Bilateral</td>\n",
              "      <td>5</td>\n",
              "      <td>Espástica</td>\n",
              "      <td>4.0</td>\n",
              "      <td>3.0</td>\n",
              "      <td>10</td>\n",
              "      <td>30</td>\n",
              "      <td>40</td>\n",
              "      <td>38</td>\n",
              "      <td>2</td>\n",
              "      <td>2</td>\n",
              "      <td>2.0</td>\n",
              "      <td>0.0</td>\n",
              "    </tr>\n",
              "    <tr>\n",
              "      <th>3</th>\n",
              "      <td>1649</td>\n",
              "      <td>109399</td>\n",
              "      <td>Bilateral</td>\n",
              "      <td>22</td>\n",
              "      <td>Espástica</td>\n",
              "      <td>1.5</td>\n",
              "      <td>1.5</td>\n",
              "      <td>0</td>\n",
              "      <td>0</td>\n",
              "      <td>40</td>\n",
              "      <td>40</td>\n",
              "      <td>2</td>\n",
              "      <td>2</td>\n",
              "      <td>0.0</td>\n",
              "      <td>0.0</td>\n",
              "    </tr>\n",
              "    <tr>\n",
              "      <th>4</th>\n",
              "      <td>1648</td>\n",
              "      <td>402015</td>\n",
              "      <td>Bilateral</td>\n",
              "      <td>16</td>\n",
              "      <td>Espástica</td>\n",
              "      <td>1.0</td>\n",
              "      <td>1.0</td>\n",
              "      <td>40</td>\n",
              "      <td>40</td>\n",
              "      <td>0</td>\n",
              "      <td>18</td>\n",
              "      <td>2</td>\n",
              "      <td>1</td>\n",
              "      <td>0.0</td>\n",
              "      <td>0.0</td>\n",
              "    </tr>\n",
              "  </tbody>\n",
              "</table>\n",
              "</div>\n",
              "      <button class=\"colab-df-convert\" onclick=\"convertToInteractive('df-6cbac388-1902-4971-8531-41a185abe078')\"\n",
              "              title=\"Convert this dataframe to an interactive table.\"\n",
              "              style=\"display:none;\">\n",
              "        \n",
              "  <svg xmlns=\"http://www.w3.org/2000/svg\" height=\"24px\"viewBox=\"0 0 24 24\"\n",
              "       width=\"24px\">\n",
              "    <path d=\"M0 0h24v24H0V0z\" fill=\"none\"/>\n",
              "    <path d=\"M18.56 5.44l.94 2.06.94-2.06 2.06-.94-2.06-.94-.94-2.06-.94 2.06-2.06.94zm-11 1L8.5 8.5l.94-2.06 2.06-.94-2.06-.94L8.5 2.5l-.94 2.06-2.06.94zm10 10l.94 2.06.94-2.06 2.06-.94-2.06-.94-.94-2.06-.94 2.06-2.06.94z\"/><path d=\"M17.41 7.96l-1.37-1.37c-.4-.4-.92-.59-1.43-.59-.52 0-1.04.2-1.43.59L10.3 9.45l-7.72 7.72c-.78.78-.78 2.05 0 2.83L4 21.41c.39.39.9.59 1.41.59.51 0 1.02-.2 1.41-.59l7.78-7.78 2.81-2.81c.8-.78.8-2.07 0-2.86zM5.41 20L4 18.59l7.72-7.72 1.47 1.35L5.41 20z\"/>\n",
              "  </svg>\n",
              "      </button>\n",
              "      \n",
              "  <style>\n",
              "    .colab-df-container {\n",
              "      display:flex;\n",
              "      flex-wrap:wrap;\n",
              "      gap: 12px;\n",
              "    }\n",
              "\n",
              "    .colab-df-convert {\n",
              "      background-color: #E8F0FE;\n",
              "      border: none;\n",
              "      border-radius: 50%;\n",
              "      cursor: pointer;\n",
              "      display: none;\n",
              "      fill: #1967D2;\n",
              "      height: 32px;\n",
              "      padding: 0 0 0 0;\n",
              "      width: 32px;\n",
              "    }\n",
              "\n",
              "    .colab-df-convert:hover {\n",
              "      background-color: #E2EBFA;\n",
              "      box-shadow: 0px 1px 2px rgba(60, 64, 67, 0.3), 0px 1px 3px 1px rgba(60, 64, 67, 0.15);\n",
              "      fill: #174EA6;\n",
              "    }\n",
              "\n",
              "    [theme=dark] .colab-df-convert {\n",
              "      background-color: #3B4455;\n",
              "      fill: #D2E3FC;\n",
              "    }\n",
              "\n",
              "    [theme=dark] .colab-df-convert:hover {\n",
              "      background-color: #434B5C;\n",
              "      box-shadow: 0px 1px 3px 1px rgba(0, 0, 0, 0.15);\n",
              "      filter: drop-shadow(0px 1px 2px rgba(0, 0, 0, 0.3));\n",
              "      fill: #FFFFFF;\n",
              "    }\n",
              "  </style>\n",
              "\n",
              "      <script>\n",
              "        const buttonEl =\n",
              "          document.querySelector('#df-6cbac388-1902-4971-8531-41a185abe078 button.colab-df-convert');\n",
              "        buttonEl.style.display =\n",
              "          google.colab.kernel.accessAllowed ? 'block' : 'none';\n",
              "\n",
              "        async function convertToInteractive(key) {\n",
              "          const element = document.querySelector('#df-6cbac388-1902-4971-8531-41a185abe078');\n",
              "          const dataTable =\n",
              "            await google.colab.kernel.invokeFunction('convertToInteractive',\n",
              "                                                     [key], {});\n",
              "          if (!dataTable) return;\n",
              "\n",
              "          const docLinkHtml = 'Like what you see? Visit the ' +\n",
              "            '<a target=\"_blank\" href=https://colab.research.google.com/notebooks/data_table.ipynb>data table notebook</a>'\n",
              "            + ' to learn more about interactive tables.';\n",
              "          element.innerHTML = '';\n",
              "          dataTable['output_type'] = 'display_data';\n",
              "          await google.colab.output.renderOutput(dataTable, element);\n",
              "          const docLink = document.createElement('div');\n",
              "          docLink.innerHTML = docLinkHtml;\n",
              "          element.appendChild(docLink);\n",
              "        }\n",
              "      </script>\n",
              "    </div>\n",
              "  </div>\n",
              "  "
            ]
          },
          "metadata": {},
          "execution_count": 8
        }
      ]
    },
    {
      "cell_type": "markdown",
      "source": [
        "Ahora que los datos del análisis de marcha tienen las etiquetas del tratamiento de cada lado, vamos a separar los datos por cada pierna"
      ],
      "metadata": {
        "id": "z2co1z26mA4T"
      }
    },
    {
      "cell_type": "code",
      "source": [
        "analisisMarcha.columns"
      ],
      "metadata": {
        "colab": {
          "base_uri": "https://localhost:8080/"
        },
        "id": "B1RpCc-No0I6",
        "outputId": "986398c9-a4bf-48af-ca1a-60e39988c3ef"
      },
      "execution_count": 11,
      "outputs": [
        {
          "output_type": "execute_result",
          "data": {
            "text/plain": [
              "Index(['Unnamed: 0', 'Historia clinica', 'Distribucion', 'Edad', 'Tipo',\n",
              "       'Tono gastrocnemios derechos', 'Tono gastrocnemios izquierdos',\n",
              "       'Dorsiflexión derecha', 'Dorsiflexión izquierda',\n",
              "       'Flexión Plantar Tobillo Der', 'Flexión Plantar Tobillo Izq',\n",
              "       'Silfverskiöld derecha ', 'Silfverskiöld izquierda', 'Cirugia derecha',\n",
              "       'Cirugia izquierda'],\n",
              "      dtype='object')"
            ]
          },
          "metadata": {},
          "execution_count": 11
        }
      ]
    },
    {
      "cell_type": "code",
      "source": [
        "temp1=analisisMarcha.copy()\n",
        "temp2=analisisMarcha.copy()\n",
        "temp1=temp1[[\"Edad\",\"Tipo\",\"Tono gastrocnemios derechos\", \"Dorsiflexión derecha\", \"Flexión Plantar Tobillo Der\",\"Silfverskiöld derecha \", \"Cirugia derecha\"]]\n",
        "temp2=temp2[[\"Edad\",\"Tipo\",\"Tono gastrocnemios izquierdos\", \"Dorsiflexión izquierda\", \"Flexión Plantar Tobillo Izq\",\"Silfverskiöld izquierda\", \"Cirugia izquierda\"]]\n",
        "temp1.rename(columns={\"Tono gastrocnemios derechos\":\"Tono gastrocnemios\",\"Dorsiflexión derecha\":\"Dorsiflexion\", \"Flexión Plantar Tobillo Der\":\"Felxion Plantar Tobillo\", \"Silfverskiöld derecha \":\"Silfverskiold\", \"Cirugia derecha\":\"Cirugia\"}, inplace=True)\n",
        "temp2.rename(columns={\"Tono gastrocnemios izquierdos\":\"Tono gastrocnemios\",\"Dorsiflexión izquierda\":\"Dorsiflexion\", \"Flexión Plantar Tobillo Izq\":\"Felxion Plantar Tobillo\", \"Silfverskiöld izquierda\":\"Silfverskiold\", \"Cirugia izquierda\":\"Cirugia\"}, inplace=True)\n",
        "data_raw=pd.concat([temp1,temp2])"
      ],
      "metadata": {
        "id": "CrOrWT_lmpdE"
      },
      "execution_count": 13,
      "outputs": []
    },
    {
      "cell_type": "markdown",
      "source": [
        "# 2.Perfilamiento de los datos"
      ],
      "metadata": {
        "id": "btN6kcbnsCyj"
      }
    },
    {
      "cell_type": "code",
      "execution_count": 14,
      "metadata": {
        "colab": {
          "base_uri": "https://localhost:8080/"
        },
        "id": "2c456275-c0f3-4161-9edc-4b563d5ddb1f",
        "outputId": "e1483e62-1858-4ed8-bd0e-0187a7d27816"
      },
      "outputs": [
        {
          "output_type": "execute_result",
          "data": {
            "text/plain": [
              "(3294, 7)"
            ]
          },
          "metadata": {},
          "execution_count": 14
        }
      ],
      "source": [
        "# Revisamos cuántos registros tenemos\n",
        "data_raw.shape"
      ]
    },
    {
      "cell_type": "code",
      "execution_count": 15,
      "metadata": {
        "colab": {
          "base_uri": "https://localhost:8080/",
          "height": 206
        },
        "id": "893d186d-bc49-4d3b-9125-5cd4d089549c",
        "outputId": "2502d32a-3fdf-4b89-f597-f1b9ee9c5b34"
      },
      "outputs": [
        {
          "output_type": "execute_result",
          "data": {
            "text/plain": [
              "   Edad       Tipo  Tono gastrocnemios  Dorsiflexion  Felxion Plantar Tobillo  \\\n",
              "0    12  Espástica                 1.5            32                       46   \n",
              "1    17  Espástica                 2.0            -6                       58   \n",
              "2     5  Espástica                 4.0            10                       40   \n",
              "3    22  Espástica                 1.5             0                       40   \n",
              "4    16  Espástica                 1.0            40                        0   \n",
              "\n",
              "   Silfverskiold  Cirugia  \n",
              "0              2      0.0  \n",
              "1              2      0.0  \n",
              "2              2      2.0  \n",
              "3              2      0.0  \n",
              "4              2      0.0  "
            ],
            "text/html": [
              "\n",
              "  <div id=\"df-03ca93c8-8d4b-43c0-ba34-938807a2abd8\">\n",
              "    <div class=\"colab-df-container\">\n",
              "      <div>\n",
              "<style scoped>\n",
              "    .dataframe tbody tr th:only-of-type {\n",
              "        vertical-align: middle;\n",
              "    }\n",
              "\n",
              "    .dataframe tbody tr th {\n",
              "        vertical-align: top;\n",
              "    }\n",
              "\n",
              "    .dataframe thead th {\n",
              "        text-align: right;\n",
              "    }\n",
              "</style>\n",
              "<table border=\"1\" class=\"dataframe\">\n",
              "  <thead>\n",
              "    <tr style=\"text-align: right;\">\n",
              "      <th></th>\n",
              "      <th>Edad</th>\n",
              "      <th>Tipo</th>\n",
              "      <th>Tono gastrocnemios</th>\n",
              "      <th>Dorsiflexion</th>\n",
              "      <th>Felxion Plantar Tobillo</th>\n",
              "      <th>Silfverskiold</th>\n",
              "      <th>Cirugia</th>\n",
              "    </tr>\n",
              "  </thead>\n",
              "  <tbody>\n",
              "    <tr>\n",
              "      <th>0</th>\n",
              "      <td>12</td>\n",
              "      <td>Espástica</td>\n",
              "      <td>1.5</td>\n",
              "      <td>32</td>\n",
              "      <td>46</td>\n",
              "      <td>2</td>\n",
              "      <td>0.0</td>\n",
              "    </tr>\n",
              "    <tr>\n",
              "      <th>1</th>\n",
              "      <td>17</td>\n",
              "      <td>Espástica</td>\n",
              "      <td>2.0</td>\n",
              "      <td>-6</td>\n",
              "      <td>58</td>\n",
              "      <td>2</td>\n",
              "      <td>0.0</td>\n",
              "    </tr>\n",
              "    <tr>\n",
              "      <th>2</th>\n",
              "      <td>5</td>\n",
              "      <td>Espástica</td>\n",
              "      <td>4.0</td>\n",
              "      <td>10</td>\n",
              "      <td>40</td>\n",
              "      <td>2</td>\n",
              "      <td>2.0</td>\n",
              "    </tr>\n",
              "    <tr>\n",
              "      <th>3</th>\n",
              "      <td>22</td>\n",
              "      <td>Espástica</td>\n",
              "      <td>1.5</td>\n",
              "      <td>0</td>\n",
              "      <td>40</td>\n",
              "      <td>2</td>\n",
              "      <td>0.0</td>\n",
              "    </tr>\n",
              "    <tr>\n",
              "      <th>4</th>\n",
              "      <td>16</td>\n",
              "      <td>Espástica</td>\n",
              "      <td>1.0</td>\n",
              "      <td>40</td>\n",
              "      <td>0</td>\n",
              "      <td>2</td>\n",
              "      <td>0.0</td>\n",
              "    </tr>\n",
              "  </tbody>\n",
              "</table>\n",
              "</div>\n",
              "      <button class=\"colab-df-convert\" onclick=\"convertToInteractive('df-03ca93c8-8d4b-43c0-ba34-938807a2abd8')\"\n",
              "              title=\"Convert this dataframe to an interactive table.\"\n",
              "              style=\"display:none;\">\n",
              "        \n",
              "  <svg xmlns=\"http://www.w3.org/2000/svg\" height=\"24px\"viewBox=\"0 0 24 24\"\n",
              "       width=\"24px\">\n",
              "    <path d=\"M0 0h24v24H0V0z\" fill=\"none\"/>\n",
              "    <path d=\"M18.56 5.44l.94 2.06.94-2.06 2.06-.94-2.06-.94-.94-2.06-.94 2.06-2.06.94zm-11 1L8.5 8.5l.94-2.06 2.06-.94-2.06-.94L8.5 2.5l-.94 2.06-2.06.94zm10 10l.94 2.06.94-2.06 2.06-.94-2.06-.94-.94-2.06-.94 2.06-2.06.94z\"/><path d=\"M17.41 7.96l-1.37-1.37c-.4-.4-.92-.59-1.43-.59-.52 0-1.04.2-1.43.59L10.3 9.45l-7.72 7.72c-.78.78-.78 2.05 0 2.83L4 21.41c.39.39.9.59 1.41.59.51 0 1.02-.2 1.41-.59l7.78-7.78 2.81-2.81c.8-.78.8-2.07 0-2.86zM5.41 20L4 18.59l7.72-7.72 1.47 1.35L5.41 20z\"/>\n",
              "  </svg>\n",
              "      </button>\n",
              "      \n",
              "  <style>\n",
              "    .colab-df-container {\n",
              "      display:flex;\n",
              "      flex-wrap:wrap;\n",
              "      gap: 12px;\n",
              "    }\n",
              "\n",
              "    .colab-df-convert {\n",
              "      background-color: #E8F0FE;\n",
              "      border: none;\n",
              "      border-radius: 50%;\n",
              "      cursor: pointer;\n",
              "      display: none;\n",
              "      fill: #1967D2;\n",
              "      height: 32px;\n",
              "      padding: 0 0 0 0;\n",
              "      width: 32px;\n",
              "    }\n",
              "\n",
              "    .colab-df-convert:hover {\n",
              "      background-color: #E2EBFA;\n",
              "      box-shadow: 0px 1px 2px rgba(60, 64, 67, 0.3), 0px 1px 3px 1px rgba(60, 64, 67, 0.15);\n",
              "      fill: #174EA6;\n",
              "    }\n",
              "\n",
              "    [theme=dark] .colab-df-convert {\n",
              "      background-color: #3B4455;\n",
              "      fill: #D2E3FC;\n",
              "    }\n",
              "\n",
              "    [theme=dark] .colab-df-convert:hover {\n",
              "      background-color: #434B5C;\n",
              "      box-shadow: 0px 1px 3px 1px rgba(0, 0, 0, 0.15);\n",
              "      filter: drop-shadow(0px 1px 2px rgba(0, 0, 0, 0.3));\n",
              "      fill: #FFFFFF;\n",
              "    }\n",
              "  </style>\n",
              "\n",
              "      <script>\n",
              "        const buttonEl =\n",
              "          document.querySelector('#df-03ca93c8-8d4b-43c0-ba34-938807a2abd8 button.colab-df-convert');\n",
              "        buttonEl.style.display =\n",
              "          google.colab.kernel.accessAllowed ? 'block' : 'none';\n",
              "\n",
              "        async function convertToInteractive(key) {\n",
              "          const element = document.querySelector('#df-03ca93c8-8d4b-43c0-ba34-938807a2abd8');\n",
              "          const dataTable =\n",
              "            await google.colab.kernel.invokeFunction('convertToInteractive',\n",
              "                                                     [key], {});\n",
              "          if (!dataTable) return;\n",
              "\n",
              "          const docLinkHtml = 'Like what you see? Visit the ' +\n",
              "            '<a target=\"_blank\" href=https://colab.research.google.com/notebooks/data_table.ipynb>data table notebook</a>'\n",
              "            + ' to learn more about interactive tables.';\n",
              "          element.innerHTML = '';\n",
              "          dataTable['output_type'] = 'display_data';\n",
              "          await google.colab.output.renderOutput(dataTable, element);\n",
              "          const docLink = document.createElement('div');\n",
              "          docLink.innerHTML = docLinkHtml;\n",
              "          element.appendChild(docLink);\n",
              "        }\n",
              "      </script>\n",
              "    </div>\n",
              "  </div>\n",
              "  "
            ]
          },
          "metadata": {},
          "execution_count": 15
        }
      ],
      "source": [
        "# Luego vemos a grandes rasgos cada columna, para ver el tipo de dato que tiene\n",
        "data_raw.head()"
      ]
    },
    {
      "cell_type": "markdown",
      "metadata": {
        "id": "OUcsE2Rkk0I0"
      },
      "source": [
        "## Calidad de los datos"
      ]
    },
    {
      "cell_type": "markdown",
      "metadata": {
        "id": "aYNnxJJlk7F0"
      },
      "source": [
        "### Validez\n",
        "\n",
        "Cada columna tiene el tipo de dato que le corresponde según el diccionario. Revisaremos cada columna en caso de que haya alguno no válido"
      ]
    },
    {
      "cell_type": "code",
      "source": [
        "# Miramos el tipo de dato de cada columna, para verificar que sea correcto\n",
        "data_raw.dtypes"
      ],
      "metadata": {
        "colab": {
          "base_uri": "https://localhost:8080/"
        },
        "id": "o3xXCpZdtxwJ",
        "outputId": "3384b29e-f7db-46f7-ec9e-4168dd1e0798"
      },
      "execution_count": 16,
      "outputs": [
        {
          "output_type": "execute_result",
          "data": {
            "text/plain": [
              "Edad                         int64\n",
              "Tipo                        object\n",
              "Tono gastrocnemios         float64\n",
              "Dorsiflexion                 int64\n",
              "Felxion Plantar Tobillo      int64\n",
              "Silfverskiold                int64\n",
              "Cirugia                    float64\n",
              "dtype: object"
            ]
          },
          "metadata": {},
          "execution_count": 16
        }
      ]
    },
    {
      "cell_type": "code",
      "execution_count": 17,
      "metadata": {
        "colab": {
          "base_uri": "https://localhost:8080/"
        },
        "id": "RQTMfqWrRHgL",
        "outputId": "822c56ac-ce88-4357-f18f-0982827032a7"
      },
      "outputs": [
        {
          "output_type": "stream",
          "name": "stdout",
          "text": [
            "Edad\n",
            "[12 17  5 22 16 15 13  9 10 19 14 25  7  4 21  6  3  8 11 18 33 41 38 31\n",
            " 27 23 29 20 37 34 35 36 43 28 26 45 32 42 44 24 46 39 58 30 40 55]\n",
            "Tipo\n",
            "['Espástica' 'Diskinética' 'Hipotónica' 'Atáxica' 'Mixta']\n",
            "Tono gastrocnemios\n",
            "[1.5 2.  4.  1.  3.  0.  nan]\n",
            "Dorsiflexion\n",
            "[ 32  -6  10   0  40 -34  -8  12  18   2  20  22 -52  24  -4  60 -14  14\n",
            " -20  46  28  42   4 -12  26   6  34  30  16  50 -18   8  -2  38 -48 -16\n",
            "  54  58 -24 -28 -10  36 -22  64 -26  25  76  44 -36  48  52 -30  62  72\n",
            "  66  33  29 -42 -32 -50 -54  68  56  70  27 -40 -46]\n",
            "Felxion Plantar Tobillo\n",
            "[ 46  58  40   0  66  32  56  20  50  54  28  22  24  52  62  26  14  30\n",
            "  60  72  42  70  38  36   8  12  64  34  44  48  90  18   4  16  10 -20\n",
            "   6  76  68  74  35  45  -8  80   2  82  43  55]\n",
            "Silfverskiold\n",
            "[2 3 0 1]\n",
            "Cirugia\n",
            "[0. 2. 1.]\n"
          ]
        }
      ],
      "source": [
        "columnas = data_raw.columns\n",
        "for name in columnas:\n",
        "  print(name)\n",
        "  print(data_raw[name].unique())"
      ]
    },
    {
      "cell_type": "markdown",
      "metadata": {
        "id": "wtTF0G7oRF4j"
      },
      "source": [
        "### Completitud"
      ]
    },
    {
      "cell_type": "code",
      "execution_count": 18,
      "metadata": {
        "colab": {
          "base_uri": "https://localhost:8080/"
        },
        "id": "xbEs1Py7aFAh",
        "outputId": "665c0fa9-dfbb-4f8b-c35e-845b879bc2a1"
      },
      "outputs": [
        {
          "output_type": "execute_result",
          "data": {
            "text/plain": [
              "Edad                       0\n",
              "Tipo                       0\n",
              "Tono gastrocnemios         9\n",
              "Dorsiflexion               0\n",
              "Felxion Plantar Tobillo    0\n",
              "Silfverskiold              0\n",
              "Cirugia                    0\n",
              "dtype: int64"
            ]
          },
          "metadata": {},
          "execution_count": 18
        }
      ],
      "source": [
        "data_raw.isna().sum()"
      ]
    },
    {
      "cell_type": "code",
      "source": [
        "# Se retirarán las filas que tienen datos nulos\n",
        "data_raw.dropna(inplace=True)"
      ],
      "metadata": {
        "id": "SXnDRLUcwHZx"
      },
      "execution_count": 19,
      "outputs": []
    },
    {
      "cell_type": "markdown",
      "metadata": {
        "id": "L6KFUg2YlR07"
      },
      "source": [
        "### Presencia de duplicados\n",
        "Se mirará si hay filas que sean idénticas"
      ]
    },
    {
      "cell_type": "code",
      "execution_count": 20,
      "metadata": {
        "colab": {
          "base_uri": "https://localhost:8080/"
        },
        "id": "radBpAy7lQRs",
        "outputId": "3f300962-d959-43f2-f986-890974a8852d"
      },
      "outputs": [
        {
          "output_type": "execute_result",
          "data": {
            "text/plain": [
              "False    3196\n",
              "True       89\n",
              "dtype: int64"
            ]
          },
          "metadata": {},
          "execution_count": 20
        }
      ],
      "source": [
        "data_raw.duplicated().value_counts()"
      ]
    },
    {
      "cell_type": "code",
      "source": [
        "#Comprobaremos si estos duplicados también estaban en la base de datos inicial, sin juntar\n",
        "analisisMarcha.drop(columns=\"Unnamed: 0\").duplicated().value_counts()"
      ],
      "metadata": {
        "colab": {
          "base_uri": "https://localhost:8080/"
        },
        "id": "k9YWbJde1_30",
        "outputId": "de95a7e8-6791-48ce-ccaa-4b0e8c7eb2b8"
      },
      "execution_count": 21,
      "outputs": [
        {
          "output_type": "execute_result",
          "data": {
            "text/plain": [
              "False    1647\n",
              "dtype: int64"
            ]
          },
          "metadata": {},
          "execution_count": 21
        }
      ]
    },
    {
      "cell_type": "markdown",
      "source": [
        "Dado que no hay duplicados teniendo en cuenta el id de la historia, no se eliminará ninguna fila duplicada"
      ],
      "metadata": {
        "id": "jnHV2OG32Krj"
      }
    },
    {
      "cell_type": "markdown",
      "metadata": {
        "id": "UaVHK72cR2aN"
      },
      "source": [
        "## Perfilamiento de los datos"
      ]
    },
    {
      "cell_type": "markdown",
      "metadata": {
        "id": "VvkDBlljPkFE"
      },
      "source": [
        "Veamos el número de pacientes en cada categoría "
      ]
    },
    {
      "cell_type": "code",
      "execution_count": 22,
      "metadata": {
        "colab": {
          "base_uri": "https://localhost:8080/"
        },
        "id": "L_V6pIPYPoXF",
        "outputId": "9e3649ce-d3f9-4c8a-f021-a7112a7377ba"
      },
      "outputs": [
        {
          "output_type": "execute_result",
          "data": {
            "text/plain": [
              "0.0    2501\n",
              "2.0     605\n",
              "1.0     179\n",
              "Name: Cirugia, dtype: int64"
            ]
          },
          "metadata": {},
          "execution_count": 22
        }
      ],
      "source": [
        "# Revisamos el número de datos etiquetados como no cirugía (0), alargamiento del\n",
        "# tendón de aquiles (1) y alargamiento de la fascia de los gemelos (2)\n",
        "data_raw['Cirugia'].value_counts()"
      ]
    },
    {
      "cell_type": "markdown",
      "source": [
        "El conjunto está desbalanceado. 21% de los pacientes requieren cirugía, y de estos 16% requieren alargamiento del tendón de aquiles, mientras que el resto requiere alargamiento de la fascia de los gemelos."
      ],
      "metadata": {
        "id": "wW7piyLq0say"
      }
    },
    {
      "cell_type": "markdown",
      "metadata": {
        "id": "vQlUPxqBUYAc"
      },
      "source": [
        "Revisemos también cuántos datos hay de cada tipo de parálisis"
      ]
    },
    {
      "cell_type": "code",
      "execution_count": 23,
      "metadata": {
        "colab": {
          "base_uri": "https://localhost:8080/"
        },
        "id": "qGBJXcw1RPXU",
        "outputId": "6d54185b-7fb6-4c99-95ab-caef8b076553"
      },
      "outputs": [
        {
          "output_type": "execute_result",
          "data": {
            "text/plain": [
              "Espástica      3063\n",
              "Diskinética     132\n",
              "Mixta            66\n",
              "Hipotónica       14\n",
              "Atáxica          10\n",
              "Name: Tipo, dtype: int64"
            ]
          },
          "metadata": {},
          "execution_count": 23
        }
      ],
      "source": [
        "data_raw['Tipo'].value_counts()"
      ]
    },
    {
      "cell_type": "code",
      "source": [
        "data_raw['Tono gastrocnemios'].value_counts()"
      ],
      "metadata": {
        "colab": {
          "base_uri": "https://localhost:8080/"
        },
        "id": "jRnA33s5TB2b",
        "outputId": "8a2e4069-2356-492f-ab8c-0a9fb168ac4d"
      },
      "execution_count": 33,
      "outputs": [
        {
          "output_type": "execute_result",
          "data": {
            "text/plain": [
              "2.0    966\n",
              "1.5    768\n",
              "1.0    659\n",
              "3.0    408\n",
              "0.0    387\n",
              "4.0     97\n",
              "Name: Tono gastrocnemios, dtype: int64"
            ]
          },
          "metadata": {},
          "execution_count": 33
        }
      ]
    },
    {
      "cell_type": "code",
      "source": [
        "data_raw['Silfverskiold'].value_counts()"
      ],
      "metadata": {
        "colab": {
          "base_uri": "https://localhost:8080/"
        },
        "id": "nx-CabimTel2",
        "outputId": "c649db02-4482-47ee-8819-70875d1b3010"
      },
      "execution_count": 34,
      "outputs": [
        {
          "output_type": "execute_result",
          "data": {
            "text/plain": [
              "2    2498\n",
              "0     599\n",
              "3     115\n",
              "1      73\n",
              "Name: Silfverskiold, dtype: int64"
            ]
          },
          "metadata": {},
          "execution_count": 34
        }
      ]
    },
    {
      "cell_type": "code",
      "source": [
        "data_raw.to_excel(\"data.xlsx\")"
      ],
      "metadata": {
        "id": "CNuDmEoQuCWk"
      },
      "execution_count": 24,
      "outputs": []
    },
    {
      "cell_type": "markdown",
      "source": [
        "Graficaremos los datos para ver su distribución. Además, veremos si hay correlación entre variables"
      ],
      "metadata": {
        "id": "DrvStC2ai78z"
      }
    },
    {
      "cell_type": "code",
      "source": [
        "from IPython.core.pylabtools import figsize\n",
        "columnas=list(data_raw.columns)\n",
        "fig, axs = plt.subplots(ncols=2,nrows=4, figsize=(25,25))\n",
        "for i in range(0,7):\n",
        "  sns.histplot(data=data_raw[columnas[i]], ax=axs[i//2][i%2])"
      ],
      "metadata": {
        "colab": {
          "base_uri": "https://localhost:8080/",
          "height": 922
        },
        "id": "nju6LIkLkB_9",
        "outputId": "9c4a0796-4d40-406a-f979-ee833ac7bdb6"
      },
      "execution_count": 25,
      "outputs": [
        {
          "output_type": "display_data",
          "data": {
            "text/plain": [
              "<Figure size 1800x1800 with 8 Axes>"
            ],
            "image/png": "[encoded data removed]"
          },
          "metadata": {
            "needs_background": "light"
          }
        }
      ]
    },
    {
      "cell_type": "markdown",
      "source": [
        "# 3.Preparación de los datos"
      ],
      "metadata": {
        "id": "Xb4U_A2li76S"
      }
    },
    {
      "cell_type": "code",
      "source": [
        "# Se crea una copia de los datos para hacer modificaciones\n",
        "data_pre=data_raw.copy()\n",
        "data_pre.reset_index(inplace=True)\n",
        "data_pre.drop(columns=[\"index\"],inplace=True)"
      ],
      "metadata": {
        "id": "umZ4NwdFlGTX"
      },
      "execution_count": 26,
      "outputs": []
    },
    {
      "cell_type": "markdown",
      "source": [
        "Dado que se quiere predecir si es cirugía/no cirugía, y por aparte el tipo de cirugía, se crearán una columna para este booleano."
      ],
      "metadata": {
        "id": "KzJjGgtklR3x"
      }
    },
    {
      "cell_type": "code",
      "source": [
        "data_pre[\"necesitaCirugia\"]=data_pre['Cirugia']!=0\n",
        "data_pre['necesitaCirugia'] = data_pre['necesitaCirugia'].replace({False:0, True:1})"
      ],
      "metadata": {
        "id": "y5xNwkQClRXw"
      },
      "execution_count": 27,
      "outputs": []
    },
    {
      "cell_type": "markdown",
      "source": [
        "Además, se realizó un proceso de OneHot Encoding para convertir la variable categórica \"Tipo de parálisis\" en una variable numérica"
      ],
      "metadata": {
        "id": "KKnqFymyvkE5"
      }
    },
    {
      "cell_type": "code",
      "source": [
        "oneHot = OneHotEncoder()\n",
        "temp=pd.DataFrame(oneHot.fit_transform(data_pre[['Tipo']]).toarray())\n",
        "temp.rename(columns={0:'Ataxica',1:'Diskinetica', 2:'Espastica', 3:'Hipotonica', 4:'Mixta'},inplace=True)\n",
        "data_pre=pd.concat([data_pre, temp], axis=1)\n",
        "data_pre.drop(columns=\"Tipo\", inplace=True)"
      ],
      "metadata": {
        "id": "rCbw13Uvnc2L"
      },
      "execution_count": 28,
      "outputs": []
    },
    {
      "cell_type": "code",
      "source": [
        "data_pre.head()"
      ],
      "metadata": {
        "colab": {
          "base_uri": "https://localhost:8080/",
          "height": 305
        },
        "id": "7ZtaX8mCrpBr",
        "outputId": "e5cb0bb1-5b7d-440c-a863-70ba99fa329d"
      },
      "execution_count": 29,
      "outputs": [
        {
          "output_type": "execute_result",
          "data": {
            "text/plain": [
              "   Edad  Tono gastrocnemios  Dorsiflexion  Felxion Plantar Tobillo  \\\n",
              "0    12                 1.5            32                       46   \n",
              "1    17                 2.0            -6                       58   \n",
              "2     5                 4.0            10                       40   \n",
              "3    22                 1.5             0                       40   \n",
              "4    16                 1.0            40                        0   \n",
              "\n",
              "   Silfverskiold  Cirugia  necesitaCirugia  Ataxica  Diskinetica  Espastica  \\\n",
              "0              2      0.0                0      0.0          0.0        1.0   \n",
              "1              2      0.0                0      0.0          0.0        1.0   \n",
              "2              2      2.0                1      0.0          0.0        1.0   \n",
              "3              2      0.0                0      0.0          0.0        1.0   \n",
              "4              2      0.0                0      0.0          0.0        1.0   \n",
              "\n",
              "   Hipotonica  Mixta  \n",
              "0         0.0    0.0  \n",
              "1         0.0    0.0  \n",
              "2         0.0    0.0  \n",
              "3         0.0    0.0  \n",
              "4         0.0    0.0  "
            ],
            "text/html": [
              "\n",
              "  <div id=\"df-90b48698-00d1-4413-aae9-fa56da3a3bc1\">\n",
              "    <div class=\"colab-df-container\">\n",
              "      <div>\n",
              "<style scoped>\n",
              "    .dataframe tbody tr th:only-of-type {\n",
              "        vertical-align: middle;\n",
              "    }\n",
              "\n",
              "    .dataframe tbody tr th {\n",
              "        vertical-align: top;\n",
              "    }\n",
              "\n",
              "    .dataframe thead th {\n",
              "        text-align: right;\n",
              "    }\n",
              "</style>\n",
              "<table border=\"1\" class=\"dataframe\">\n",
              "  <thead>\n",
              "    <tr style=\"text-align: right;\">\n",
              "      <th></th>\n",
              "      <th>Edad</th>\n",
              "      <th>Tono gastrocnemios</th>\n",
              "      <th>Dorsiflexion</th>\n",
              "      <th>Felxion Plantar Tobillo</th>\n",
              "      <th>Silfverskiold</th>\n",
              "      <th>Cirugia</th>\n",
              "      <th>necesitaCirugia</th>\n",
              "      <th>Ataxica</th>\n",
              "      <th>Diskinetica</th>\n",
              "      <th>Espastica</th>\n",
              "      <th>Hipotonica</th>\n",
              "      <th>Mixta</th>\n",
              "    </tr>\n",
              "  </thead>\n",
              "  <tbody>\n",
              "    <tr>\n",
              "      <th>0</th>\n",
              "      <td>12</td>\n",
              "      <td>1.5</td>\n",
              "      <td>32</td>\n",
              "      <td>46</td>\n",
              "      <td>2</td>\n",
              "      <td>0.0</td>\n",
              "      <td>0</td>\n",
              "      <td>0.0</td>\n",
              "      <td>0.0</td>\n",
              "      <td>1.0</td>\n",
              "      <td>0.0</td>\n",
              "      <td>0.0</td>\n",
              "    </tr>\n",
              "    <tr>\n",
              "      <th>1</th>\n",
              "      <td>17</td>\n",
              "      <td>2.0</td>\n",
              "      <td>-6</td>\n",
              "      <td>58</td>\n",
              "      <td>2</td>\n",
              "      <td>0.0</td>\n",
              "      <td>0</td>\n",
              "      <td>0.0</td>\n",
              "      <td>0.0</td>\n",
              "      <td>1.0</td>\n",
              "      <td>0.0</td>\n",
              "      <td>0.0</td>\n",
              "    </tr>\n",
              "    <tr>\n",
              "      <th>2</th>\n",
              "      <td>5</td>\n",
              "      <td>4.0</td>\n",
              "      <td>10</td>\n",
              "      <td>40</td>\n",
              "      <td>2</td>\n",
              "      <td>2.0</td>\n",
              "      <td>1</td>\n",
              "      <td>0.0</td>\n",
              "      <td>0.0</td>\n",
              "      <td>1.0</td>\n",
              "      <td>0.0</td>\n",
              "      <td>0.0</td>\n",
              "    </tr>\n",
              "    <tr>\n",
              "      <th>3</th>\n",
              "      <td>22</td>\n",
              "      <td>1.5</td>\n",
              "      <td>0</td>\n",
              "      <td>40</td>\n",
              "      <td>2</td>\n",
              "      <td>0.0</td>\n",
              "      <td>0</td>\n",
              "      <td>0.0</td>\n",
              "      <td>0.0</td>\n",
              "      <td>1.0</td>\n",
              "      <td>0.0</td>\n",
              "      <td>0.0</td>\n",
              "    </tr>\n",
              "    <tr>\n",
              "      <th>4</th>\n",
              "      <td>16</td>\n",
              "      <td>1.0</td>\n",
              "      <td>40</td>\n",
              "      <td>0</td>\n",
              "      <td>2</td>\n",
              "      <td>0.0</td>\n",
              "      <td>0</td>\n",
              "      <td>0.0</td>\n",
              "      <td>0.0</td>\n",
              "      <td>1.0</td>\n",
              "      <td>0.0</td>\n",
              "      <td>0.0</td>\n",
              "    </tr>\n",
              "  </tbody>\n",
              "</table>\n",
              "</div>\n",
              "      <button class=\"colab-df-convert\" onclick=\"convertToInteractive('df-90b48698-00d1-4413-aae9-fa56da3a3bc1')\"\n",
              "              title=\"Convert this dataframe to an interactive table.\"\n",
              "              style=\"display:none;\">\n",
              "        \n",
              "  <svg xmlns=\"http://www.w3.org/2000/svg\" height=\"24px\"viewBox=\"0 0 24 24\"\n",
              "       width=\"24px\">\n",
              "    <path d=\"M0 0h24v24H0V0z\" fill=\"none\"/>\n",
              "    <path d=\"M18.56 5.44l.94 2.06.94-2.06 2.06-.94-2.06-.94-.94-2.06-.94 2.06-2.06.94zm-11 1L8.5 8.5l.94-2.06 2.06-.94-2.06-.94L8.5 2.5l-.94 2.06-2.06.94zm10 10l.94 2.06.94-2.06 2.06-.94-2.06-.94-.94-2.06-.94 2.06-2.06.94z\"/><path d=\"M17.41 7.96l-1.37-1.37c-.4-.4-.92-.59-1.43-.59-.52 0-1.04.2-1.43.59L10.3 9.45l-7.72 7.72c-.78.78-.78 2.05 0 2.83L4 21.41c.39.39.9.59 1.41.59.51 0 1.02-.2 1.41-.59l7.78-7.78 2.81-2.81c.8-.78.8-2.07 0-2.86zM5.41 20L4 18.59l7.72-7.72 1.47 1.35L5.41 20z\"/>\n",
              "  </svg>\n",
              "      </button>\n",
              "      \n",
              "  <style>\n",
              "    .colab-df-container {\n",
              "      display:flex;\n",
              "      flex-wrap:wrap;\n",
              "      gap: 12px;\n",
              "    }\n",
              "\n",
              "    .colab-df-convert {\n",
              "      background-color: #E8F0FE;\n",
              "      border: none;\n",
              "      border-radius: 50%;\n",
              "      cursor: pointer;\n",
              "      display: none;\n",
              "      fill: #1967D2;\n",
              "      height: 32px;\n",
              "      padding: 0 0 0 0;\n",
              "      width: 32px;\n",
              "    }\n",
              "\n",
              "    .colab-df-convert:hover {\n",
              "      background-color: #E2EBFA;\n",
              "      box-shadow: 0px 1px 2px rgba(60, 64, 67, 0.3), 0px 1px 3px 1px rgba(60, 64, 67, 0.15);\n",
              "      fill: #174EA6;\n",
              "    }\n",
              "\n",
              "    [theme=dark] .colab-df-convert {\n",
              "      background-color: #3B4455;\n",
              "      fill: #D2E3FC;\n",
              "    }\n",
              "\n",
              "    [theme=dark] .colab-df-convert:hover {\n",
              "      background-color: #434B5C;\n",
              "      box-shadow: 0px 1px 3px 1px rgba(0, 0, 0, 0.15);\n",
              "      filter: drop-shadow(0px 1px 2px rgba(0, 0, 0, 0.3));\n",
              "      fill: #FFFFFF;\n",
              "    }\n",
              "  </style>\n",
              "\n",
              "      <script>\n",
              "        const buttonEl =\n",
              "          document.querySelector('#df-90b48698-00d1-4413-aae9-fa56da3a3bc1 button.colab-df-convert');\n",
              "        buttonEl.style.display =\n",
              "          google.colab.kernel.accessAllowed ? 'block' : 'none';\n",
              "\n",
              "        async function convertToInteractive(key) {\n",
              "          const element = document.querySelector('#df-90b48698-00d1-4413-aae9-fa56da3a3bc1');\n",
              "          const dataTable =\n",
              "            await google.colab.kernel.invokeFunction('convertToInteractive',\n",
              "                                                     [key], {});\n",
              "          if (!dataTable) return;\n",
              "\n",
              "          const docLinkHtml = 'Like what you see? Visit the ' +\n",
              "            '<a target=\"_blank\" href=https://colab.research.google.com/notebooks/data_table.ipynb>data table notebook</a>'\n",
              "            + ' to learn more about interactive tables.';\n",
              "          element.innerHTML = '';\n",
              "          dataTable['output_type'] = 'display_data';\n",
              "          await google.colab.output.renderOutput(dataTable, element);\n",
              "          const docLink = document.createElement('div');\n",
              "          docLink.innerHTML = docLinkHtml;\n",
              "          element.appendChild(docLink);\n",
              "        }\n",
              "      </script>\n",
              "    </div>\n",
              "  </div>\n",
              "  "
            ]
          },
          "metadata": {},
          "execution_count": 29
        }
      ]
    },
    {
      "cell_type": "markdown",
      "source": [
        "## 3.1 Escalar los datos"
      ],
      "metadata": {
        "id": "2Dl1z4uf8JOA"
      }
    },
    {
      "cell_type": "markdown",
      "source": [
        "### 3.1.1 Normalización"
      ],
      "metadata": {
        "id": "pGQhaQla8z3-"
      }
    },
    {
      "cell_type": "markdown",
      "source": [
        "Vamos a estandarizar los valores, de forma que queden en un rango similar"
      ],
      "metadata": {
        "id": "3MhDx0EKxYxg"
      }
    },
    {
      "cell_type": "code",
      "source": [
        "columns = ['Edad', 'Tono gastrocnemios', 'Dorsiflexion', 'Felxion Plantar Tobillo',\n",
        "       'Silfverskiold']\n",
        "data_norm=data_pre.drop(columns=['Cirugia', 'necesitaCirugia', 'Ataxica', 'Diskinetica',\n",
        "       'Espastica', 'Hipotonica', 'Mixta'])\n",
        "scaler = StandardScaler()\n",
        "data_norm = scaler.fit_transform(data_norm)\n",
        "data_norm = pd.DataFrame(data_norm,columns=columns)\n",
        "data_norm[['Ataxica', 'Diskinetica','Espastica', 'Hipotonica', 'Mixta']]=data_pre[['Ataxica', 'Diskinetica',\n",
        "       'Espastica', 'Hipotonica', 'Mixta']]\n",
        "data_norm.head()"
      ],
      "metadata": {
        "colab": {
          "base_uri": "https://localhost:8080/",
          "height": 285
        },
        "id": "N6-Vsg8Gx3WJ",
        "outputId": "54b1b32d-7528-42d4-bf81-30430e95acb8"
      },
      "execution_count": 174,
      "outputs": [
        {
          "output_type": "execute_result",
          "data": {
            "text/plain": [
              "       Edad  Tono gastrocnemios  Dorsiflexion  Felxion Plantar Tobillo  \\\n",
              "0 -0.027872           -0.142347      0.667573                 0.600496   \n",
              "1  0.736406            0.404565     -1.627285                 1.533071   \n",
              "2 -1.097862            2.592215     -0.661029                 0.134208   \n",
              "3  1.500684           -0.142347     -1.264939                 0.134208   \n",
              "4  0.583550           -0.689259      1.150701                -2.974375   \n",
              "\n",
              "   Silfverskiold  Ataxica  Diskinetica  Espastica  Hipotonica  Mixta  \n",
              "0       0.432256      0.0          0.0        1.0         0.0    0.0  \n",
              "1       0.432256      0.0          0.0        1.0         0.0    0.0  \n",
              "2       0.432256      0.0          0.0        1.0         0.0    0.0  \n",
              "3       0.432256      0.0          0.0        1.0         0.0    0.0  \n",
              "4       0.432256      0.0          0.0        1.0         0.0    0.0  "
            ],
            "text/html": [
              "\n",
              "  <div id=\"df-7a33b6ab-7ac3-4818-9de1-48399421c65b\">\n",
              "    <div class=\"colab-df-container\">\n",
              "      <div>\n",
              "<style scoped>\n",
              "    .dataframe tbody tr th:only-of-type {\n",
              "        vertical-align: middle;\n",
              "    }\n",
              "\n",
              "    .dataframe tbody tr th {\n",
              "        vertical-align: top;\n",
              "    }\n",
              "\n",
              "    .dataframe thead th {\n",
              "        text-align: right;\n",
              "    }\n",
              "</style>\n",
              "<table border=\"1\" class=\"dataframe\">\n",
              "  <thead>\n",
              "    <tr style=\"text-align: right;\">\n",
              "      <th></th>\n",
              "      <th>Edad</th>\n",
              "      <th>Tono gastrocnemios</th>\n",
              "      <th>Dorsiflexion</th>\n",
              "      <th>Felxion Plantar Tobillo</th>\n",
              "      <th>Silfverskiold</th>\n",
              "      <th>Ataxica</th>\n",
              "      <th>Diskinetica</th>\n",
              "      <th>Espastica</th>\n",
              "      <th>Hipotonica</th>\n",
              "      <th>Mixta</th>\n",
              "    </tr>\n",
              "  </thead>\n",
              "  <tbody>\n",
              "    <tr>\n",
              "      <th>0</th>\n",
              "      <td>-0.027872</td>\n",
              "      <td>-0.142347</td>\n",
              "      <td>0.667573</td>\n",
              "      <td>0.600496</td>\n",
              "      <td>0.432256</td>\n",
              "      <td>0.0</td>\n",
              "      <td>0.0</td>\n",
              "      <td>1.0</td>\n",
              "      <td>0.0</td>\n",
              "      <td>0.0</td>\n",
              "    </tr>\n",
              "    <tr>\n",
              "      <th>1</th>\n",
              "      <td>0.736406</td>\n",
              "      <td>0.404565</td>\n",
              "      <td>-1.627285</td>\n",
              "      <td>1.533071</td>\n",
              "      <td>0.432256</td>\n",
              "      <td>0.0</td>\n",
              "      <td>0.0</td>\n",
              "      <td>1.0</td>\n",
              "      <td>0.0</td>\n",
              "      <td>0.0</td>\n",
              "    </tr>\n",
              "    <tr>\n",
              "      <th>2</th>\n",
              "      <td>-1.097862</td>\n",
              "      <td>2.592215</td>\n",
              "      <td>-0.661029</td>\n",
              "      <td>0.134208</td>\n",
              "      <td>0.432256</td>\n",
              "      <td>0.0</td>\n",
              "      <td>0.0</td>\n",
              "      <td>1.0</td>\n",
              "      <td>0.0</td>\n",
              "      <td>0.0</td>\n",
              "    </tr>\n",
              "    <tr>\n",
              "      <th>3</th>\n",
              "      <td>1.500684</td>\n",
              "      <td>-0.142347</td>\n",
              "      <td>-1.264939</td>\n",
              "      <td>0.134208</td>\n",
              "      <td>0.432256</td>\n",
              "      <td>0.0</td>\n",
              "      <td>0.0</td>\n",
              "      <td>1.0</td>\n",
              "      <td>0.0</td>\n",
              "      <td>0.0</td>\n",
              "    </tr>\n",
              "    <tr>\n",
              "      <th>4</th>\n",
              "      <td>0.583550</td>\n",
              "      <td>-0.689259</td>\n",
              "      <td>1.150701</td>\n",
              "      <td>-2.974375</td>\n",
              "      <td>0.432256</td>\n",
              "      <td>0.0</td>\n",
              "      <td>0.0</td>\n",
              "      <td>1.0</td>\n",
              "      <td>0.0</td>\n",
              "      <td>0.0</td>\n",
              "    </tr>\n",
              "  </tbody>\n",
              "</table>\n",
              "</div>\n",
              "      <button class=\"colab-df-convert\" onclick=\"convertToInteractive('df-7a33b6ab-7ac3-4818-9de1-48399421c65b')\"\n",
              "              title=\"Convert this dataframe to an interactive table.\"\n",
              "              style=\"display:none;\">\n",
              "        \n",
              "  <svg xmlns=\"http://www.w3.org/2000/svg\" height=\"24px\"viewBox=\"0 0 24 24\"\n",
              "       width=\"24px\">\n",
              "    <path d=\"M0 0h24v24H0V0z\" fill=\"none\"/>\n",
              "    <path d=\"M18.56 5.44l.94 2.06.94-2.06 2.06-.94-2.06-.94-.94-2.06-.94 2.06-2.06.94zm-11 1L8.5 8.5l.94-2.06 2.06-.94-2.06-.94L8.5 2.5l-.94 2.06-2.06.94zm10 10l.94 2.06.94-2.06 2.06-.94-2.06-.94-.94-2.06-.94 2.06-2.06.94z\"/><path d=\"M17.41 7.96l-1.37-1.37c-.4-.4-.92-.59-1.43-.59-.52 0-1.04.2-1.43.59L10.3 9.45l-7.72 7.72c-.78.78-.78 2.05 0 2.83L4 21.41c.39.39.9.59 1.41.59.51 0 1.02-.2 1.41-.59l7.78-7.78 2.81-2.81c.8-.78.8-2.07 0-2.86zM5.41 20L4 18.59l7.72-7.72 1.47 1.35L5.41 20z\"/>\n",
              "  </svg>\n",
              "      </button>\n",
              "      \n",
              "  <style>\n",
              "    .colab-df-container {\n",
              "      display:flex;\n",
              "      flex-wrap:wrap;\n",
              "      gap: 12px;\n",
              "    }\n",
              "\n",
              "    .colab-df-convert {\n",
              "      background-color: #E8F0FE;\n",
              "      border: none;\n",
              "      border-radius: 50%;\n",
              "      cursor: pointer;\n",
              "      display: none;\n",
              "      fill: #1967D2;\n",
              "      height: 32px;\n",
              "      padding: 0 0 0 0;\n",
              "      width: 32px;\n",
              "    }\n",
              "\n",
              "    .colab-df-convert:hover {\n",
              "      background-color: #E2EBFA;\n",
              "      box-shadow: 0px 1px 2px rgba(60, 64, 67, 0.3), 0px 1px 3px 1px rgba(60, 64, 67, 0.15);\n",
              "      fill: #174EA6;\n",
              "    }\n",
              "\n",
              "    [theme=dark] .colab-df-convert {\n",
              "      background-color: #3B4455;\n",
              "      fill: #D2E3FC;\n",
              "    }\n",
              "\n",
              "    [theme=dark] .colab-df-convert:hover {\n",
              "      background-color: #434B5C;\n",
              "      box-shadow: 0px 1px 3px 1px rgba(0, 0, 0, 0.15);\n",
              "      filter: drop-shadow(0px 1px 2px rgba(0, 0, 0, 0.3));\n",
              "      fill: #FFFFFF;\n",
              "    }\n",
              "  </style>\n",
              "\n",
              "      <script>\n",
              "        const buttonEl =\n",
              "          document.querySelector('#df-7a33b6ab-7ac3-4818-9de1-48399421c65b button.colab-df-convert');\n",
              "        buttonEl.style.display =\n",
              "          google.colab.kernel.accessAllowed ? 'block' : 'none';\n",
              "\n",
              "        async function convertToInteractive(key) {\n",
              "          const element = document.querySelector('#df-7a33b6ab-7ac3-4818-9de1-48399421c65b');\n",
              "          const dataTable =\n",
              "            await google.colab.kernel.invokeFunction('convertToInteractive',\n",
              "                                                     [key], {});\n",
              "          if (!dataTable) return;\n",
              "\n",
              "          const docLinkHtml = 'Like what you see? Visit the ' +\n",
              "            '<a target=\"_blank\" href=https://colab.research.google.com/notebooks/data_table.ipynb>data table notebook</a>'\n",
              "            + ' to learn more about interactive tables.';\n",
              "          element.innerHTML = '';\n",
              "          dataTable['output_type'] = 'display_data';\n",
              "          await google.colab.output.renderOutput(dataTable, element);\n",
              "          const docLink = document.createElement('div');\n",
              "          docLink.innerHTML = docLinkHtml;\n",
              "          element.appendChild(docLink);\n",
              "        }\n",
              "      </script>\n",
              "    </div>\n",
              "  </div>\n",
              "  "
            ]
          },
          "metadata": {},
          "execution_count": 174
        }
      ]
    },
    {
      "cell_type": "code",
      "source": [
        "X=data_norm.copy()\n",
        "y_bool=data_pre['necesitaCirugia']\n",
        "y_categ=data_pre['Cirugia']"
      ],
      "metadata": {
        "id": "w60tC6090EIM"
      },
      "execution_count": 176,
      "outputs": []
    },
    {
      "cell_type": "code",
      "source": [
        "X"
      ],
      "metadata": {
        "colab": {
          "base_uri": "https://localhost:8080/",
          "height": 502
        },
        "id": "SrL5CE5PINPf",
        "outputId": "05171c33-1710-41b0-b29e-01571c9da445"
      },
      "execution_count": 32,
      "outputs": [
        {
          "output_type": "execute_result",
          "data": {
            "text/plain": [
              "          Edad  Tono gastrocnemios  Dorsiflexion  Felxion Plantar Tobillo  \\\n",
              "0    -0.027872           -0.142347      0.667573                 0.600496   \n",
              "1     0.736406            0.404565     -1.627285                 1.533071   \n",
              "2    -1.097862            2.592215     -0.661029                 0.134208   \n",
              "3     1.500684           -0.142347     -1.264939                 0.134208   \n",
              "4     0.583550           -0.689259      1.150701                -2.974375   \n",
              "...        ...                 ...           ...                      ...   \n",
              "3280 -0.027872            0.404565      0.063663                -0.487508   \n",
              "3281 -0.027872            0.404565      0.063663                -0.021221   \n",
              "3282 -0.792151           -0.689259     -0.177901                 1.999359   \n",
              "3283 -0.639295            1.498390      1.271483                -0.642937   \n",
              "3284 -0.639295            0.404565     -0.540247                 0.134208   \n",
              "\n",
              "      Silfverskiold  Ataxica  Diskinetica  Espastica  Hipotonica  Mixta  \n",
              "0          0.432256      0.0          0.0        1.0         0.0    0.0  \n",
              "1          0.432256      0.0          0.0        1.0         0.0    0.0  \n",
              "2          0.432256      0.0          0.0        1.0         0.0    0.0  \n",
              "3          0.432256      0.0          0.0        1.0         0.0    0.0  \n",
              "4          0.432256      0.0          0.0        1.0         0.0    0.0  \n",
              "...             ...      ...          ...        ...         ...    ...  \n",
              "3280       0.432256      0.0          0.0        1.0         0.0    0.0  \n",
              "3281       0.432256      0.0          0.0        1.0         0.0    0.0  \n",
              "3282       0.432256      0.0          0.0        0.0         0.0    1.0  \n",
              "3283       0.432256      0.0          0.0        1.0         0.0    0.0  \n",
              "3284       0.432256      0.0          0.0        1.0         0.0    0.0  \n",
              "\n",
              "[3285 rows x 10 columns]"
            ],
            "text/html": [
              "\n",
              "  <div id=\"df-510d6ace-b536-413f-98b3-a25dd6fa0bc0\">\n",
              "    <div class=\"colab-df-container\">\n",
              "      <div>\n",
              "<style scoped>\n",
              "    .dataframe tbody tr th:only-of-type {\n",
              "        vertical-align: middle;\n",
              "    }\n",
              "\n",
              "    .dataframe tbody tr th {\n",
              "        vertical-align: top;\n",
              "    }\n",
              "\n",
              "    .dataframe thead th {\n",
              "        text-align: right;\n",
              "    }\n",
              "</style>\n",
              "<table border=\"1\" class=\"dataframe\">\n",
              "  <thead>\n",
              "    <tr style=\"text-align: right;\">\n",
              "      <th></th>\n",
              "      <th>Edad</th>\n",
              "      <th>Tono gastrocnemios</th>\n",
              "      <th>Dorsiflexion</th>\n",
              "      <th>Felxion Plantar Tobillo</th>\n",
              "      <th>Silfverskiold</th>\n",
              "      <th>Ataxica</th>\n",
              "      <th>Diskinetica</th>\n",
              "      <th>Espastica</th>\n",
              "      <th>Hipotonica</th>\n",
              "      <th>Mixta</th>\n",
              "    </tr>\n",
              "  </thead>\n",
              "  <tbody>\n",
              "    <tr>\n",
              "      <th>0</th>\n",
              "      <td>-0.027872</td>\n",
              "      <td>-0.142347</td>\n",
              "      <td>0.667573</td>\n",
              "      <td>0.600496</td>\n",
              "      <td>0.432256</td>\n",
              "      <td>0.0</td>\n",
              "      <td>0.0</td>\n",
              "      <td>1.0</td>\n",
              "      <td>0.0</td>\n",
              "      <td>0.0</td>\n",
              "    </tr>\n",
              "    <tr>\n",
              "      <th>1</th>\n",
              "      <td>0.736406</td>\n",
              "      <td>0.404565</td>\n",
              "      <td>-1.627285</td>\n",
              "      <td>1.533071</td>\n",
              "      <td>0.432256</td>\n",
              "      <td>0.0</td>\n",
              "      <td>0.0</td>\n",
              "      <td>1.0</td>\n",
              "      <td>0.0</td>\n",
              "      <td>0.0</td>\n",
              "    </tr>\n",
              "    <tr>\n",
              "      <th>2</th>\n",
              "      <td>-1.097862</td>\n",
              "      <td>2.592215</td>\n",
              "      <td>-0.661029</td>\n",
              "      <td>0.134208</td>\n",
              "      <td>0.432256</td>\n",
              "      <td>0.0</td>\n",
              "      <td>0.0</td>\n",
              "      <td>1.0</td>\n",
              "      <td>0.0</td>\n",
              "      <td>0.0</td>\n",
              "    </tr>\n",
              "    <tr>\n",
              "      <th>3</th>\n",
              "      <td>1.500684</td>\n",
              "      <td>-0.142347</td>\n",
              "      <td>-1.264939</td>\n",
              "      <td>0.134208</td>\n",
              "      <td>0.432256</td>\n",
              "      <td>0.0</td>\n",
              "      <td>0.0</td>\n",
              "      <td>1.0</td>\n",
              "      <td>0.0</td>\n",
              "      <td>0.0</td>\n",
              "    </tr>\n",
              "    <tr>\n",
              "      <th>4</th>\n",
              "      <td>0.583550</td>\n",
              "      <td>-0.689259</td>\n",
              "      <td>1.150701</td>\n",
              "      <td>-2.974375</td>\n",
              "      <td>0.432256</td>\n",
              "      <td>0.0</td>\n",
              "      <td>0.0</td>\n",
              "      <td>1.0</td>\n",
              "      <td>0.0</td>\n",
              "      <td>0.0</td>\n",
              "    </tr>\n",
              "    <tr>\n",
              "      <th>...</th>\n",
              "      <td>...</td>\n",
              "      <td>...</td>\n",
              "      <td>...</td>\n",
              "      <td>...</td>\n",
              "      <td>...</td>\n",
              "      <td>...</td>\n",
              "      <td>...</td>\n",
              "      <td>...</td>\n",
              "      <td>...</td>\n",
              "      <td>...</td>\n",
              "    </tr>\n",
              "    <tr>\n",
              "      <th>3280</th>\n",
              "      <td>-0.027872</td>\n",
              "      <td>0.404565</td>\n",
              "      <td>0.063663</td>\n",
              "      <td>-0.487508</td>\n",
              "      <td>0.432256</td>\n",
              "      <td>0.0</td>\n",
              "      <td>0.0</td>\n",
              "      <td>1.0</td>\n",
              "      <td>0.0</td>\n",
              "      <td>0.0</td>\n",
              "    </tr>\n",
              "    <tr>\n",
              "      <th>3281</th>\n",
              "      <td>-0.027872</td>\n",
              "      <td>0.404565</td>\n",
              "      <td>0.063663</td>\n",
              "      <td>-0.021221</td>\n",
              "      <td>0.432256</td>\n",
              "      <td>0.0</td>\n",
              "      <td>0.0</td>\n",
              "      <td>1.0</td>\n",
              "      <td>0.0</td>\n",
              "      <td>0.0</td>\n",
              "    </tr>\n",
              "    <tr>\n",
              "      <th>3282</th>\n",
              "      <td>-0.792151</td>\n",
              "      <td>-0.689259</td>\n",
              "      <td>-0.177901</td>\n",
              "      <td>1.999359</td>\n",
              "      <td>0.432256</td>\n",
              "      <td>0.0</td>\n",
              "      <td>0.0</td>\n",
              "      <td>0.0</td>\n",
              "      <td>0.0</td>\n",
              "      <td>1.0</td>\n",
              "    </tr>\n",
              "    <tr>\n",
              "      <th>3283</th>\n",
              "      <td>-0.639295</td>\n",
              "      <td>1.498390</td>\n",
              "      <td>1.271483</td>\n",
              "      <td>-0.642937</td>\n",
              "      <td>0.432256</td>\n",
              "      <td>0.0</td>\n",
              "      <td>0.0</td>\n",
              "      <td>1.0</td>\n",
              "      <td>0.0</td>\n",
              "      <td>0.0</td>\n",
              "    </tr>\n",
              "    <tr>\n",
              "      <th>3284</th>\n",
              "      <td>-0.639295</td>\n",
              "      <td>0.404565</td>\n",
              "      <td>-0.540247</td>\n",
              "      <td>0.134208</td>\n",
              "      <td>0.432256</td>\n",
              "      <td>0.0</td>\n",
              "      <td>0.0</td>\n",
              "      <td>1.0</td>\n",
              "      <td>0.0</td>\n",
              "      <td>0.0</td>\n",
              "    </tr>\n",
              "  </tbody>\n",
              "</table>\n",
              "<p>3285 rows × 10 columns</p>\n",
              "</div>\n",
              "      <button class=\"colab-df-convert\" onclick=\"convertToInteractive('df-510d6ace-b536-413f-98b3-a25dd6fa0bc0')\"\n",
              "              title=\"Convert this dataframe to an interactive table.\"\n",
              "              style=\"display:none;\">\n",
              "        \n",
              "  <svg xmlns=\"http://www.w3.org/2000/svg\" height=\"24px\"viewBox=\"0 0 24 24\"\n",
              "       width=\"24px\">\n",
              "    <path d=\"M0 0h24v24H0V0z\" fill=\"none\"/>\n",
              "    <path d=\"M18.56 5.44l.94 2.06.94-2.06 2.06-.94-2.06-.94-.94-2.06-.94 2.06-2.06.94zm-11 1L8.5 8.5l.94-2.06 2.06-.94-2.06-.94L8.5 2.5l-.94 2.06-2.06.94zm10 10l.94 2.06.94-2.06 2.06-.94-2.06-.94-.94-2.06-.94 2.06-2.06.94z\"/><path d=\"M17.41 7.96l-1.37-1.37c-.4-.4-.92-.59-1.43-.59-.52 0-1.04.2-1.43.59L10.3 9.45l-7.72 7.72c-.78.78-.78 2.05 0 2.83L4 21.41c.39.39.9.59 1.41.59.51 0 1.02-.2 1.41-.59l7.78-7.78 2.81-2.81c.8-.78.8-2.07 0-2.86zM5.41 20L4 18.59l7.72-7.72 1.47 1.35L5.41 20z\"/>\n",
              "  </svg>\n",
              "      </button>\n",
              "      \n",
              "  <style>\n",
              "    .colab-df-container {\n",
              "      display:flex;\n",
              "      flex-wrap:wrap;\n",
              "      gap: 12px;\n",
              "    }\n",
              "\n",
              "    .colab-df-convert {\n",
              "      background-color: #E8F0FE;\n",
              "      border: none;\n",
              "      border-radius: 50%;\n",
              "      cursor: pointer;\n",
              "      display: none;\n",
              "      fill: #1967D2;\n",
              "      height: 32px;\n",
              "      padding: 0 0 0 0;\n",
              "      width: 32px;\n",
              "    }\n",
              "\n",
              "    .colab-df-convert:hover {\n",
              "      background-color: #E2EBFA;\n",
              "      box-shadow: 0px 1px 2px rgba(60, 64, 67, 0.3), 0px 1px 3px 1px rgba(60, 64, 67, 0.15);\n",
              "      fill: #174EA6;\n",
              "    }\n",
              "\n",
              "    [theme=dark] .colab-df-convert {\n",
              "      background-color: #3B4455;\n",
              "      fill: #D2E3FC;\n",
              "    }\n",
              "\n",
              "    [theme=dark] .colab-df-convert:hover {\n",
              "      background-color: #434B5C;\n",
              "      box-shadow: 0px 1px 3px 1px rgba(0, 0, 0, 0.15);\n",
              "      filter: drop-shadow(0px 1px 2px rgba(0, 0, 0, 0.3));\n",
              "      fill: #FFFFFF;\n",
              "    }\n",
              "  </style>\n",
              "\n",
              "      <script>\n",
              "        const buttonEl =\n",
              "          document.querySelector('#df-510d6ace-b536-413f-98b3-a25dd6fa0bc0 button.colab-df-convert');\n",
              "        buttonEl.style.display =\n",
              "          google.colab.kernel.accessAllowed ? 'block' : 'none';\n",
              "\n",
              "        async function convertToInteractive(key) {\n",
              "          const element = document.querySelector('#df-510d6ace-b536-413f-98b3-a25dd6fa0bc0');\n",
              "          const dataTable =\n",
              "            await google.colab.kernel.invokeFunction('convertToInteractive',\n",
              "                                                     [key], {});\n",
              "          if (!dataTable) return;\n",
              "\n",
              "          const docLinkHtml = 'Like what you see? Visit the ' +\n",
              "            '<a target=\"_blank\" href=https://colab.research.google.com/notebooks/data_table.ipynb>data table notebook</a>'\n",
              "            + ' to learn more about interactive tables.';\n",
              "          element.innerHTML = '';\n",
              "          dataTable['output_type'] = 'display_data';\n",
              "          await google.colab.output.renderOutput(dataTable, element);\n",
              "          const docLink = document.createElement('div');\n",
              "          docLink.innerHTML = docLinkHtml;\n",
              "          element.appendChild(docLink);\n",
              "        }\n",
              "      </script>\n",
              "    </div>\n",
              "  </div>\n",
              "  "
            ]
          },
          "metadata": {},
          "execution_count": 32
        }
      ]
    },
    {
      "cell_type": "markdown",
      "source": [
        "### 3.1.2 Escalado MinMax"
      ],
      "metadata": {
        "id": "xDBmTGGr87cl"
      }
    },
    {
      "cell_type": "code",
      "source": [
        "columns = ['Edad', 'Tono gastrocnemios', 'Dorsiflexion', 'Felxion Plantar Tobillo',\n",
        "       'Silfverskiold']\n",
        "data_minmax=data_pre.drop(columns=['Cirugia', 'necesitaCirugia', 'Ataxica', 'Diskinetica',\n",
        "       'Espastica', 'Hipotonica', 'Mixta'])\n",
        "scaler = MinMaxScaler()\n",
        "data_minmax = scaler.fit_transform(data_minmax)\n",
        "data_minmax = pd.DataFrame(data_minmax,columns=columns)\n",
        "data_minmax[['Ataxica', 'Diskinetica','Espastica', 'Hipotonica', 'Mixta']]=data_pre[['Ataxica', 'Diskinetica',\n",
        "       'Espastica', 'Hipotonica', 'Mixta']]\n",
        "data_minmax.head()"
      ],
      "metadata": {
        "colab": {
          "base_uri": "https://localhost:8080/",
          "height": 285
        },
        "outputId": "cd89dfb5-d316-4d3b-c04d-d0f9a1b34712",
        "id": "F8mZOJGk9QO4"
      },
      "execution_count": 150,
      "outputs": [
        {
          "output_type": "execute_result",
          "data": {
            "text/plain": [
              "       Edad  Tono gastrocnemios  Dorsiflexion  Felxion Plantar Tobillo  \\\n",
              "0  0.163636               0.375      0.661538                 0.600000   \n",
              "1  0.254545               0.500      0.369231                 0.709091   \n",
              "2  0.036364               1.000      0.492308                 0.545455   \n",
              "3  0.345455               0.375      0.415385                 0.545455   \n",
              "4  0.236364               0.250      0.723077                 0.181818   \n",
              "\n",
              "   Silfverskiold  Ataxica  Diskinetica  Espastica  Hipotonica  Mixta  \n",
              "0       0.666667      0.0          0.0        1.0         0.0    0.0  \n",
              "1       0.666667      0.0          0.0        1.0         0.0    0.0  \n",
              "2       0.666667      0.0          0.0        1.0         0.0    0.0  \n",
              "3       0.666667      0.0          0.0        1.0         0.0    0.0  \n",
              "4       0.666667      0.0          0.0        1.0         0.0    0.0  "
            ],
            "text/html": [
              "\n",
              "  <div id=\"df-6407ec4b-2024-4ee3-b799-eb651e52088a\">\n",
              "    <div class=\"colab-df-container\">\n",
              "      <div>\n",
              "<style scoped>\n",
              "    .dataframe tbody tr th:only-of-type {\n",
              "        vertical-align: middle;\n",
              "    }\n",
              "\n",
              "    .dataframe tbody tr th {\n",
              "        vertical-align: top;\n",
              "    }\n",
              "\n",
              "    .dataframe thead th {\n",
              "        text-align: right;\n",
              "    }\n",
              "</style>\n",
              "<table border=\"1\" class=\"dataframe\">\n",
              "  <thead>\n",
              "    <tr style=\"text-align: right;\">\n",
              "      <th></th>\n",
              "      <th>Edad</th>\n",
              "      <th>Tono gastrocnemios</th>\n",
              "      <th>Dorsiflexion</th>\n",
              "      <th>Felxion Plantar Tobillo</th>\n",
              "      <th>Silfverskiold</th>\n",
              "      <th>Ataxica</th>\n",
              "      <th>Diskinetica</th>\n",
              "      <th>Espastica</th>\n",
              "      <th>Hipotonica</th>\n",
              "      <th>Mixta</th>\n",
              "    </tr>\n",
              "  </thead>\n",
              "  <tbody>\n",
              "    <tr>\n",
              "      <th>0</th>\n",
              "      <td>0.163636</td>\n",
              "      <td>0.375</td>\n",
              "      <td>0.661538</td>\n",
              "      <td>0.600000</td>\n",
              "      <td>0.666667</td>\n",
              "      <td>0.0</td>\n",
              "      <td>0.0</td>\n",
              "      <td>1.0</td>\n",
              "      <td>0.0</td>\n",
              "      <td>0.0</td>\n",
              "    </tr>\n",
              "    <tr>\n",
              "      <th>1</th>\n",
              "      <td>0.254545</td>\n",
              "      <td>0.500</td>\n",
              "      <td>0.369231</td>\n",
              "      <td>0.709091</td>\n",
              "      <td>0.666667</td>\n",
              "      <td>0.0</td>\n",
              "      <td>0.0</td>\n",
              "      <td>1.0</td>\n",
              "      <td>0.0</td>\n",
              "      <td>0.0</td>\n",
              "    </tr>\n",
              "    <tr>\n",
              "      <th>2</th>\n",
              "      <td>0.036364</td>\n",
              "      <td>1.000</td>\n",
              "      <td>0.492308</td>\n",
              "      <td>0.545455</td>\n",
              "      <td>0.666667</td>\n",
              "      <td>0.0</td>\n",
              "      <td>0.0</td>\n",
              "      <td>1.0</td>\n",
              "      <td>0.0</td>\n",
              "      <td>0.0</td>\n",
              "    </tr>\n",
              "    <tr>\n",
              "      <th>3</th>\n",
              "      <td>0.345455</td>\n",
              "      <td>0.375</td>\n",
              "      <td>0.415385</td>\n",
              "      <td>0.545455</td>\n",
              "      <td>0.666667</td>\n",
              "      <td>0.0</td>\n",
              "      <td>0.0</td>\n",
              "      <td>1.0</td>\n",
              "      <td>0.0</td>\n",
              "      <td>0.0</td>\n",
              "    </tr>\n",
              "    <tr>\n",
              "      <th>4</th>\n",
              "      <td>0.236364</td>\n",
              "      <td>0.250</td>\n",
              "      <td>0.723077</td>\n",
              "      <td>0.181818</td>\n",
              "      <td>0.666667</td>\n",
              "      <td>0.0</td>\n",
              "      <td>0.0</td>\n",
              "      <td>1.0</td>\n",
              "      <td>0.0</td>\n",
              "      <td>0.0</td>\n",
              "    </tr>\n",
              "  </tbody>\n",
              "</table>\n",
              "</div>\n",
              "      <button class=\"colab-df-convert\" onclick=\"convertToInteractive('df-6407ec4b-2024-4ee3-b799-eb651e52088a')\"\n",
              "              title=\"Convert this dataframe to an interactive table.\"\n",
              "              style=\"display:none;\">\n",
              "        \n",
              "  <svg xmlns=\"http://www.w3.org/2000/svg\" height=\"24px\"viewBox=\"0 0 24 24\"\n",
              "       width=\"24px\">\n",
              "    <path d=\"M0 0h24v24H0V0z\" fill=\"none\"/>\n",
              "    <path d=\"M18.56 5.44l.94 2.06.94-2.06 2.06-.94-2.06-.94-.94-2.06-.94 2.06-2.06.94zm-11 1L8.5 8.5l.94-2.06 2.06-.94-2.06-.94L8.5 2.5l-.94 2.06-2.06.94zm10 10l.94 2.06.94-2.06 2.06-.94-2.06-.94-.94-2.06-.94 2.06-2.06.94z\"/><path d=\"M17.41 7.96l-1.37-1.37c-.4-.4-.92-.59-1.43-.59-.52 0-1.04.2-1.43.59L10.3 9.45l-7.72 7.72c-.78.78-.78 2.05 0 2.83L4 21.41c.39.39.9.59 1.41.59.51 0 1.02-.2 1.41-.59l7.78-7.78 2.81-2.81c.8-.78.8-2.07 0-2.86zM5.41 20L4 18.59l7.72-7.72 1.47 1.35L5.41 20z\"/>\n",
              "  </svg>\n",
              "      </button>\n",
              "      \n",
              "  <style>\n",
              "    .colab-df-container {\n",
              "      display:flex;\n",
              "      flex-wrap:wrap;\n",
              "      gap: 12px;\n",
              "    }\n",
              "\n",
              "    .colab-df-convert {\n",
              "      background-color: #E8F0FE;\n",
              "      border: none;\n",
              "      border-radius: 50%;\n",
              "      cursor: pointer;\n",
              "      display: none;\n",
              "      fill: #1967D2;\n",
              "      height: 32px;\n",
              "      padding: 0 0 0 0;\n",
              "      width: 32px;\n",
              "    }\n",
              "\n",
              "    .colab-df-convert:hover {\n",
              "      background-color: #E2EBFA;\n",
              "      box-shadow: 0px 1px 2px rgba(60, 64, 67, 0.3), 0px 1px 3px 1px rgba(60, 64, 67, 0.15);\n",
              "      fill: #174EA6;\n",
              "    }\n",
              "\n",
              "    [theme=dark] .colab-df-convert {\n",
              "      background-color: #3B4455;\n",
              "      fill: #D2E3FC;\n",
              "    }\n",
              "\n",
              "    [theme=dark] .colab-df-convert:hover {\n",
              "      background-color: #434B5C;\n",
              "      box-shadow: 0px 1px 3px 1px rgba(0, 0, 0, 0.15);\n",
              "      filter: drop-shadow(0px 1px 2px rgba(0, 0, 0, 0.3));\n",
              "      fill: #FFFFFF;\n",
              "    }\n",
              "  </style>\n",
              "\n",
              "      <script>\n",
              "        const buttonEl =\n",
              "          document.querySelector('#df-6407ec4b-2024-4ee3-b799-eb651e52088a button.colab-df-convert');\n",
              "        buttonEl.style.display =\n",
              "          google.colab.kernel.accessAllowed ? 'block' : 'none';\n",
              "\n",
              "        async function convertToInteractive(key) {\n",
              "          const element = document.querySelector('#df-6407ec4b-2024-4ee3-b799-eb651e52088a');\n",
              "          const dataTable =\n",
              "            await google.colab.kernel.invokeFunction('convertToInteractive',\n",
              "                                                     [key], {});\n",
              "          if (!dataTable) return;\n",
              "\n",
              "          const docLinkHtml = 'Like what you see? Visit the ' +\n",
              "            '<a target=\"_blank\" href=https://colab.research.google.com/notebooks/data_table.ipynb>data table notebook</a>'\n",
              "            + ' to learn more about interactive tables.';\n",
              "          element.innerHTML = '';\n",
              "          dataTable['output_type'] = 'display_data';\n",
              "          await google.colab.output.renderOutput(dataTable, element);\n",
              "          const docLink = document.createElement('div');\n",
              "          docLink.innerHTML = docLinkHtml;\n",
              "          element.appendChild(docLink);\n",
              "        }\n",
              "      </script>\n",
              "    </div>\n",
              "  </div>\n",
              "  "
            ]
          },
          "metadata": {},
          "execution_count": 150
        }
      ]
    },
    {
      "cell_type": "code",
      "source": [
        "X_minmax=data_minmax.copy()\n",
        "y_bool=data_pre['necesitaCirugia']\n",
        "y_categ=data_pre['Cirugia']"
      ],
      "metadata": {
        "id": "kpVEZ1Qu9QO5"
      },
      "execution_count": 173,
      "outputs": []
    },
    {
      "cell_type": "markdown",
      "source": [
        "# 4.Modelamiento"
      ],
      "metadata": {
        "id": "WYOFdgbG0bLy"
      }
    },
    {
      "cell_type": "markdown",
      "source": [
        "Primero, entrenaremos modelos para determinar si un paciente requiere o no cirugía.\n",
        "Posteriormente, entrenaremos modelos para determinar la categoría de la cirugía, en caso de que se necesite.\n",
        "Finalmente se probarán clasificadores multiclase."
      ],
      "metadata": {
        "id": "DMsOFKpu0djn"
      }
    },
    {
      "cell_type": "code",
      "execution_count": 35,
      "metadata": {
        "id": "O9_i4RF6ZHmM",
        "cellView": "form"
      },
      "outputs": [],
      "source": [
        "#@title Función para pintar matriz de confusión\n",
        "# {display-mode: \"form\"}\n",
        "\n",
        "def plot_confusion_matrix(y_true, y_pred, classes,\n",
        "                          normalize=False,\n",
        "                          title=None,\n",
        "                          cmap=plt.cm.Blues,size=(10,10)):\n",
        "    \"\"\"\n",
        "    This function prints and plots the confusion matrix.\n",
        "    Normalization can be applied by setting `normalize=True`.\n",
        "    \"\"\"\n",
        "    if not title:\n",
        "        if normalize:\n",
        "            title = 'Normalized confusion matrix'\n",
        "        else:\n",
        "            title = 'Confusion matrix, without normalization'\n",
        "\n",
        "    # Compute confusion matrix\n",
        "    cm = confusion_matrix(y_true, y_pred)\n",
        "    \n",
        "    if normalize:\n",
        "        cm = cm.astype('float') / cm.sum(axis=1)[:, np.newaxis]\n",
        "        print(\"Normalized confusion matrix\")\n",
        "    else:\n",
        "        print('Confusion matrix, without normalization')\n",
        "\n",
        "\n",
        "\n",
        "    fig, ax = plt.subplots(figsize=size)\n",
        "    im = ax.imshow(cm, interpolation='nearest', cmap=cmap)\n",
        "    ax.figure.colorbar(im, ax=ax)\n",
        "    # We want to show all ticks...\n",
        "    ax.set(xticks=np.arange(cm.shape[1]),\n",
        "           yticks=np.arange(cm.shape[0]),\n",
        "           # ... and label them with the respective list entries\n",
        "           xticklabels=classes, yticklabels=classes,\n",
        "           title=title,\n",
        "           ylabel='True label',\n",
        "           xlabel='Predicted label')\n",
        "\n",
        "    # Rotate the tick labels and set their alignment.\n",
        "    plt.setp(ax.get_xticklabels(), rotation=45, ha=\"right\",\n",
        "             rotation_mode=\"anchor\")\n",
        "\n",
        "    # Loop over data dimensions and create text annotations.\n",
        "    fmt = '.2f' if normalize else 'd'\n",
        "    thresh = cm.max() / 2.\n",
        "    for i in range(cm.shape[0]):\n",
        "        for j in range(cm.shape[1]):\n",
        "            ax.text(j, i, format(cm[i, j], fmt),\n",
        "                    ha=\"center\", va=\"center\",\n",
        "                    color=\"white\" if cm[i, j] > thresh else \"black\")\n",
        "    fig.tight_layout()\n",
        "    return ax"
      ]
    },
    {
      "cell_type": "markdown",
      "source": [
        "## 4.1 Clasificador binario para predecir si necesita cirugía o no"
      ],
      "metadata": {
        "id": "ZB-VXHxr2Krg"
      }
    },
    {
      "cell_type": "markdown",
      "source": [
        "## Muestra desbalanceada"
      ],
      "metadata": {
        "id": "821be7txCBwu"
      }
    },
    {
      "cell_type": "code",
      "source": [
        "X_train, X_test, Y_train, Y_test = train_test_split(X, y_bool, test_size=0.2, random_state=0, stratify=y_bool)"
      ],
      "metadata": {
        "id": "tsYulsEx85at"
      },
      "execution_count": 177,
      "outputs": []
    },
    {
      "cell_type": "code",
      "source": [
        "X_train.columns"
      ],
      "metadata": {
        "colab": {
          "base_uri": "https://localhost:8080/"
        },
        "id": "OjcefjEdzK9a",
        "outputId": "c019d8e9-b71d-4de4-b6c7-95464f999053"
      },
      "execution_count": 178,
      "outputs": [
        {
          "output_type": "execute_result",
          "data": {
            "text/plain": [
              "Index(['Edad', 'Tono gastrocnemios', 'Dorsiflexion', 'Felxion Plantar Tobillo',\n",
              "       'Silfverskiold', 'Ataxica', 'Diskinetica', 'Espastica', 'Hipotonica',\n",
              "       'Mixta'],\n",
              "      dtype='object')"
            ]
          },
          "metadata": {},
          "execution_count": 178
        }
      ]
    },
    {
      "cell_type": "code",
      "source": [
        "X_train.head()"
      ],
      "metadata": {
        "colab": {
          "base_uri": "https://localhost:8080/",
          "height": 285
        },
        "id": "exUnITHk8q6Z",
        "outputId": "024898bf-a620-49f7-c716-88b43b7f327d"
      },
      "execution_count": 179,
      "outputs": [
        {
          "output_type": "execute_result",
          "data": {
            "text/plain": [
              "          Edad  Tono gastrocnemios  Dorsiflexion  Felxion Plantar Tobillo  \\\n",
              "2337 -0.639295            0.404565      0.667573                -0.642937   \n",
              "2419 -0.333584            0.404565     -0.298683                 0.445067   \n",
              "2665 -0.486439            0.404565      1.029919                 0.134208   \n",
              "3261  0.277839           -0.689259      0.426009                -0.642937   \n",
              "781   3.029241           -0.142347     -0.057119                 0.134208   \n",
              "\n",
              "      Silfverskiold  Ataxica  Diskinetica  Espastica  Hipotonica  Mixta  \n",
              "2337       0.432256      0.0          0.0        1.0         0.0    0.0  \n",
              "2419       1.660596      0.0          0.0        1.0         0.0    0.0  \n",
              "2665       0.432256      0.0          0.0        1.0         0.0    0.0  \n",
              "3261       0.432256      0.0          0.0        1.0         0.0    0.0  \n",
              "781        0.432256      0.0          1.0        0.0         0.0    0.0  "
            ],
            "text/html": [
              "\n",
              "  <div id=\"df-8c9409a5-0883-4b57-8dff-05cee054918d\">\n",
              "    <div class=\"colab-df-container\">\n",
              "      <div>\n",
              "<style scoped>\n",
              "    .dataframe tbody tr th:only-of-type {\n",
              "        vertical-align: middle;\n",
              "    }\n",
              "\n",
              "    .dataframe tbody tr th {\n",
              "        vertical-align: top;\n",
              "    }\n",
              "\n",
              "    .dataframe thead th {\n",
              "        text-align: right;\n",
              "    }\n",
              "</style>\n",
              "<table border=\"1\" class=\"dataframe\">\n",
              "  <thead>\n",
              "    <tr style=\"text-align: right;\">\n",
              "      <th></th>\n",
              "      <th>Edad</th>\n",
              "      <th>Tono gastrocnemios</th>\n",
              "      <th>Dorsiflexion</th>\n",
              "      <th>Felxion Plantar Tobillo</th>\n",
              "      <th>Silfverskiold</th>\n",
              "      <th>Ataxica</th>\n",
              "      <th>Diskinetica</th>\n",
              "      <th>Espastica</th>\n",
              "      <th>Hipotonica</th>\n",
              "      <th>Mixta</th>\n",
              "    </tr>\n",
              "  </thead>\n",
              "  <tbody>\n",
              "    <tr>\n",
              "      <th>2337</th>\n",
              "      <td>-0.639295</td>\n",
              "      <td>0.404565</td>\n",
              "      <td>0.667573</td>\n",
              "      <td>-0.642937</td>\n",
              "      <td>0.432256</td>\n",
              "      <td>0.0</td>\n",
              "      <td>0.0</td>\n",
              "      <td>1.0</td>\n",
              "      <td>0.0</td>\n",
              "      <td>0.0</td>\n",
              "    </tr>\n",
              "    <tr>\n",
              "      <th>2419</th>\n",
              "      <td>-0.333584</td>\n",
              "      <td>0.404565</td>\n",
              "      <td>-0.298683</td>\n",
              "      <td>0.445067</td>\n",
              "      <td>1.660596</td>\n",
              "      <td>0.0</td>\n",
              "      <td>0.0</td>\n",
              "      <td>1.0</td>\n",
              "      <td>0.0</td>\n",
              "      <td>0.0</td>\n",
              "    </tr>\n",
              "    <tr>\n",
              "      <th>2665</th>\n",
              "      <td>-0.486439</td>\n",
              "      <td>0.404565</td>\n",
              "      <td>1.029919</td>\n",
              "      <td>0.134208</td>\n",
              "      <td>0.432256</td>\n",
              "      <td>0.0</td>\n",
              "      <td>0.0</td>\n",
              "      <td>1.0</td>\n",
              "      <td>0.0</td>\n",
              "      <td>0.0</td>\n",
              "    </tr>\n",
              "    <tr>\n",
              "      <th>3261</th>\n",
              "      <td>0.277839</td>\n",
              "      <td>-0.689259</td>\n",
              "      <td>0.426009</td>\n",
              "      <td>-0.642937</td>\n",
              "      <td>0.432256</td>\n",
              "      <td>0.0</td>\n",
              "      <td>0.0</td>\n",
              "      <td>1.0</td>\n",
              "      <td>0.0</td>\n",
              "      <td>0.0</td>\n",
              "    </tr>\n",
              "    <tr>\n",
              "      <th>781</th>\n",
              "      <td>3.029241</td>\n",
              "      <td>-0.142347</td>\n",
              "      <td>-0.057119</td>\n",
              "      <td>0.134208</td>\n",
              "      <td>0.432256</td>\n",
              "      <td>0.0</td>\n",
              "      <td>1.0</td>\n",
              "      <td>0.0</td>\n",
              "      <td>0.0</td>\n",
              "      <td>0.0</td>\n",
              "    </tr>\n",
              "  </tbody>\n",
              "</table>\n",
              "</div>\n",
              "      <button class=\"colab-df-convert\" onclick=\"convertToInteractive('df-8c9409a5-0883-4b57-8dff-05cee054918d')\"\n",
              "              title=\"Convert this dataframe to an interactive table.\"\n",
              "              style=\"display:none;\">\n",
              "        \n",
              "  <svg xmlns=\"http://www.w3.org/2000/svg\" height=\"24px\"viewBox=\"0 0 24 24\"\n",
              "       width=\"24px\">\n",
              "    <path d=\"M0 0h24v24H0V0z\" fill=\"none\"/>\n",
              "    <path d=\"M18.56 5.44l.94 2.06.94-2.06 2.06-.94-2.06-.94-.94-2.06-.94 2.06-2.06.94zm-11 1L8.5 8.5l.94-2.06 2.06-.94-2.06-.94L8.5 2.5l-.94 2.06-2.06.94zm10 10l.94 2.06.94-2.06 2.06-.94-2.06-.94-.94-2.06-.94 2.06-2.06.94z\"/><path d=\"M17.41 7.96l-1.37-1.37c-.4-.4-.92-.59-1.43-.59-.52 0-1.04.2-1.43.59L10.3 9.45l-7.72 7.72c-.78.78-.78 2.05 0 2.83L4 21.41c.39.39.9.59 1.41.59.51 0 1.02-.2 1.41-.59l7.78-7.78 2.81-2.81c.8-.78.8-2.07 0-2.86zM5.41 20L4 18.59l7.72-7.72 1.47 1.35L5.41 20z\"/>\n",
              "  </svg>\n",
              "      </button>\n",
              "      \n",
              "  <style>\n",
              "    .colab-df-container {\n",
              "      display:flex;\n",
              "      flex-wrap:wrap;\n",
              "      gap: 12px;\n",
              "    }\n",
              "\n",
              "    .colab-df-convert {\n",
              "      background-color: #E8F0FE;\n",
              "      border: none;\n",
              "      border-radius: 50%;\n",
              "      cursor: pointer;\n",
              "      display: none;\n",
              "      fill: #1967D2;\n",
              "      height: 32px;\n",
              "      padding: 0 0 0 0;\n",
              "      width: 32px;\n",
              "    }\n",
              "\n",
              "    .colab-df-convert:hover {\n",
              "      background-color: #E2EBFA;\n",
              "      box-shadow: 0px 1px 2px rgba(60, 64, 67, 0.3), 0px 1px 3px 1px rgba(60, 64, 67, 0.15);\n",
              "      fill: #174EA6;\n",
              "    }\n",
              "\n",
              "    [theme=dark] .colab-df-convert {\n",
              "      background-color: #3B4455;\n",
              "      fill: #D2E3FC;\n",
              "    }\n",
              "\n",
              "    [theme=dark] .colab-df-convert:hover {\n",
              "      background-color: #434B5C;\n",
              "      box-shadow: 0px 1px 3px 1px rgba(0, 0, 0, 0.15);\n",
              "      filter: drop-shadow(0px 1px 2px rgba(0, 0, 0, 0.3));\n",
              "      fill: #FFFFFF;\n",
              "    }\n",
              "  </style>\n",
              "\n",
              "      <script>\n",
              "        const buttonEl =\n",
              "          document.querySelector('#df-8c9409a5-0883-4b57-8dff-05cee054918d button.colab-df-convert');\n",
              "        buttonEl.style.display =\n",
              "          google.colab.kernel.accessAllowed ? 'block' : 'none';\n",
              "\n",
              "        async function convertToInteractive(key) {\n",
              "          const element = document.querySelector('#df-8c9409a5-0883-4b57-8dff-05cee054918d');\n",
              "          const dataTable =\n",
              "            await google.colab.kernel.invokeFunction('convertToInteractive',\n",
              "                                                     [key], {});\n",
              "          if (!dataTable) return;\n",
              "\n",
              "          const docLinkHtml = 'Like what you see? Visit the ' +\n",
              "            '<a target=\"_blank\" href=https://colab.research.google.com/notebooks/data_table.ipynb>data table notebook</a>'\n",
              "            + ' to learn more about interactive tables.';\n",
              "          element.innerHTML = '';\n",
              "          dataTable['output_type'] = 'display_data';\n",
              "          await google.colab.output.renderOutput(dataTable, element);\n",
              "          const docLink = document.createElement('div');\n",
              "          docLink.innerHTML = docLinkHtml;\n",
              "          element.appendChild(docLink);\n",
              "        }\n",
              "      </script>\n",
              "    </div>\n",
              "  </div>\n",
              "  "
            ]
          },
          "metadata": {},
          "execution_count": 179
        }
      ]
    },
    {
      "cell_type": "code",
      "source": [
        "Y_train.head()"
      ],
      "metadata": {
        "colab": {
          "base_uri": "https://localhost:8080/"
        },
        "id": "u34AHrSd8tZg",
        "outputId": "0ace95df-69c1-46a4-a905-0044184e4524"
      },
      "execution_count": 180,
      "outputs": [
        {
          "output_type": "execute_result",
          "data": {
            "text/plain": [
              "2337    1\n",
              "2419    1\n",
              "2665    1\n",
              "3261    0\n",
              "781     0\n",
              "Name: necesitaCirugia, dtype: int64"
            ]
          },
          "metadata": {},
          "execution_count": 180
        }
      ]
    },
    {
      "cell_type": "markdown",
      "source": [
        "### 4.1.1 Máquina de soporte vectorial"
      ],
      "metadata": {
        "id": "sHJJ1-b92vGO"
      }
    },
    {
      "cell_type": "code",
      "execution_count": 181,
      "metadata": {
        "id": "i41QeZ9I84xB"
      },
      "outputs": [],
      "source": [
        "# Dado que el preprocesamiento ya se realizó para los datos de X_train, se correrá el pipeline sin la parte del preproceso\n",
        "estimators = [\n",
        "        ('classifier', svm.SVC(C=0.1, kernel='linear', gamma='auto', class_weight='balanced'))          \n",
        "    ]\n",
        "\n",
        "parameters = {'classifier__C':[0.01, 0.1, 1, 10],\n",
        "              'classifier__gamma':['scale', 'auto'],\n",
        "              'classifier__kernel':['linear','rbf'],\n",
        "              'classifier__class_weight':[None, 'balanced']\n",
        "            }\n",
        "\n",
        "pipe_svm = Pipeline(estimators)"
      ]
    },
    {
      "cell_type": "code",
      "execution_count": 182,
      "metadata": {
        "id": "PyMCv-6s-qxT",
        "colab": {
          "base_uri": "https://localhost:8080/"
        },
        "outputId": "823d60c1-6171-4b99-b871-dca84a2e0665"
      },
      "outputs": [
        {
          "output_type": "stream",
          "name": "stdout",
          "text": [
            "Fitting 5 folds for each of 32 candidates, totalling 160 fits\n"
          ]
        },
        {
          "output_type": "stream",
          "name": "stderr",
          "text": [
            "/usr/local/lib/python3.7/dist-packages/sklearn/metrics/_classification.py:1318: UndefinedMetricWarning: Precision is ill-defined and being set to 0.0 in labels with no predicted samples. Use `zero_division` parameter to control this behavior.\n",
            "  _warn_prf(average, modifier, msg_start, len(result))\n",
            "/usr/local/lib/python3.7/dist-packages/sklearn/metrics/_classification.py:1318: UndefinedMetricWarning: Precision is ill-defined and being set to 0.0 in labels with no predicted samples. Use `zero_division` parameter to control this behavior.\n",
            "  _warn_prf(average, modifier, msg_start, len(result))\n",
            "/usr/local/lib/python3.7/dist-packages/sklearn/metrics/_classification.py:1318: UndefinedMetricWarning: Precision is ill-defined and being set to 0.0 in labels with no predicted samples. Use `zero_division` parameter to control this behavior.\n",
            "  _warn_prf(average, modifier, msg_start, len(result))\n",
            "/usr/local/lib/python3.7/dist-packages/sklearn/metrics/_classification.py:1318: UndefinedMetricWarning: Precision is ill-defined and being set to 0.0 in labels with no predicted samples. Use `zero_division` parameter to control this behavior.\n",
            "  _warn_prf(average, modifier, msg_start, len(result))\n",
            "/usr/local/lib/python3.7/dist-packages/sklearn/metrics/_classification.py:1318: UndefinedMetricWarning: Precision is ill-defined and being set to 0.0 in labels with no predicted samples. Use `zero_division` parameter to control this behavior.\n",
            "  _warn_prf(average, modifier, msg_start, len(result))\n",
            "/usr/local/lib/python3.7/dist-packages/sklearn/metrics/_classification.py:1318: UndefinedMetricWarning: Precision is ill-defined and being set to 0.0 in labels with no predicted samples. Use `zero_division` parameter to control this behavior.\n",
            "  _warn_prf(average, modifier, msg_start, len(result))\n",
            "/usr/local/lib/python3.7/dist-packages/sklearn/metrics/_classification.py:1318: UndefinedMetricWarning: Precision is ill-defined and being set to 0.0 in labels with no predicted samples. Use `zero_division` parameter to control this behavior.\n",
            "  _warn_prf(average, modifier, msg_start, len(result))\n",
            "/usr/local/lib/python3.7/dist-packages/sklearn/metrics/_classification.py:1318: UndefinedMetricWarning: Precision is ill-defined and being set to 0.0 in labels with no predicted samples. Use `zero_division` parameter to control this behavior.\n",
            "  _warn_prf(average, modifier, msg_start, len(result))\n",
            "/usr/local/lib/python3.7/dist-packages/sklearn/metrics/_classification.py:1318: UndefinedMetricWarning: Precision is ill-defined and being set to 0.0 in labels with no predicted samples. Use `zero_division` parameter to control this behavior.\n",
            "  _warn_prf(average, modifier, msg_start, len(result))\n",
            "/usr/local/lib/python3.7/dist-packages/sklearn/metrics/_classification.py:1318: UndefinedMetricWarning: Precision is ill-defined and being set to 0.0 in labels with no predicted samples. Use `zero_division` parameter to control this behavior.\n",
            "  _warn_prf(average, modifier, msg_start, len(result))\n",
            "/usr/local/lib/python3.7/dist-packages/sklearn/metrics/_classification.py:1318: UndefinedMetricWarning: Precision is ill-defined and being set to 0.0 in labels with no predicted samples. Use `zero_division` parameter to control this behavior.\n",
            "  _warn_prf(average, modifier, msg_start, len(result))\n",
            "/usr/local/lib/python3.7/dist-packages/sklearn/metrics/_classification.py:1318: UndefinedMetricWarning: Precision is ill-defined and being set to 0.0 in labels with no predicted samples. Use `zero_division` parameter to control this behavior.\n",
            "  _warn_prf(average, modifier, msg_start, len(result))\n",
            "/usr/local/lib/python3.7/dist-packages/sklearn/metrics/_classification.py:1318: UndefinedMetricWarning: Precision is ill-defined and being set to 0.0 in labels with no predicted samples. Use `zero_division` parameter to control this behavior.\n",
            "  _warn_prf(average, modifier, msg_start, len(result))\n",
            "/usr/local/lib/python3.7/dist-packages/sklearn/metrics/_classification.py:1318: UndefinedMetricWarning: Precision is ill-defined and being set to 0.0 in labels with no predicted samples. Use `zero_division` parameter to control this behavior.\n",
            "  _warn_prf(average, modifier, msg_start, len(result))\n"
          ]
        },
        {
          "output_type": "stream",
          "name": "stdout",
          "text": [
            "CPU times: user 28 s, sys: 26.4 ms, total: 28.1 s\n",
            "Wall time: 28 s\n"
          ]
        }
      ],
      "source": [
        "%%time\n",
        "grid_search_svm = GridSearchCV(pipe_svm, parameters, scoring='precision_weighted', cv=5, verbose = 1)\n",
        "with tf.device('/device:GPU:0'):\n",
        "  grid_search_svm.fit(X_train,Y_train)"
      ]
    },
    {
      "cell_type": "markdown",
      "source": [
        "|Scaler|Weighted precision | 1 precision | best param |\n",
        "|---|---|---|---|\n",
        "|Standard scaler| 0,80 | 0,72 | C:1, cw: none, gamma: scale, kernel: rbf |\n",
        "|MinMax scaler| 0,78 | 0,45 | C:0.1, cw: balanced, gamma: scale, kernel: linear  |"
      ],
      "metadata": {
        "id": "cKKZyhgV993h"
      }
    },
    {
      "cell_type": "code",
      "execution_count": 183,
      "metadata": {
        "id": "slJJxb0pUxQn",
        "colab": {
          "base_uri": "https://localhost:8080/"
        },
        "outputId": "d7982fd3-bbe1-4406-9d5a-bde97276a960"
      },
      "outputs": [
        {
          "output_type": "execute_result",
          "data": {
            "text/plain": [
              "{'classifier__C': 1,\n",
              " 'classifier__class_weight': None,\n",
              " 'classifier__gamma': 'scale',\n",
              " 'classifier__kernel': 'rbf'}"
            ]
          },
          "metadata": {},
          "execution_count": 183
        }
      ],
      "source": [
        "grid_search_svm.best_params_"
      ]
    },
    {
      "cell_type": "code",
      "execution_count": 184,
      "metadata": {
        "id": "rnQRCpSKUxQo",
        "colab": {
          "base_uri": "https://localhost:8080/"
        },
        "outputId": "631ebeb1-7424-4064-8406-be4dea633cb1"
      },
      "outputs": [
        {
          "output_type": "stream",
          "name": "stdout",
          "text": [
            "Train Report\n",
            "               precision    recall  f1-score   support\n",
            "\n",
            "           0       0.82      0.96      0.88      2001\n",
            "           1       0.72      0.32      0.44       627\n",
            "\n",
            "    accuracy                           0.81      2628\n",
            "   macro avg       0.77      0.64      0.66      2628\n",
            "weighted avg       0.80      0.81      0.78      2628\n",
            "\n"
          ]
        }
      ],
      "source": [
        "# Obtener el mejor modelo.\n",
        "mejor_svm = grid_search_svm.best_estimator_\n",
        "\n",
        "y_pred_train_svm = mejor_svm.predict(X_train)\n",
        "\n",
        "report_svm = classification_report(Y_train, y_pred_train_svm)\n",
        "\n",
        "print(\"Train Report\\n\", report_svm)"
      ]
    },
    {
      "cell_type": "code",
      "execution_count": 185,
      "metadata": {
        "id": "Uxc8NBHoUxQo",
        "colab": {
          "base_uri": "https://localhost:8080/",
          "height": 719
        },
        "outputId": "cfe9b341-5a81-4eaf-ecf0-ffe8e7582c60"
      },
      "outputs": [
        {
          "output_type": "stream",
          "name": "stdout",
          "text": [
            "Confusion matrix, without normalization\n"
          ]
        },
        {
          "output_type": "execute_result",
          "data": {
            "text/plain": [
              "<matplotlib.axes._subplots.AxesSubplot at 0x7f0375c630d0>"
            ]
          },
          "metadata": {},
          "execution_count": 185
        },
        {
          "output_type": "display_data",
          "data": {
            "text/plain": [
              "<Figure size 720x720 with 2 Axes>"
            ],
            "image/png": "[encoded data removed]"
          },
          "metadata": {
            "needs_background": "light"
          }
        }
      ],
      "source": [
        "%matplotlib inline\n",
        "plot_confusion_matrix(y_true=Y_train, y_pred=y_pred_train_svm, classes=[\"0 - No necesita cirugía\",\"1 - Necesita cirugía\"],\n",
        "                      title='Matriz de Confusión - train')"
      ]
    },
    {
      "cell_type": "code",
      "execution_count": 186,
      "metadata": {
        "id": "bss_TKtfVa0z"
      },
      "outputs": [],
      "source": [
        "# Ahora se usará un pipeline con el mejor modelo para analizar los datos de test\n",
        "estimators = [\n",
        "        ('classifier', svm.SVC( C=0.1,gamma=\"scale\", kernel=\"linear\", class_weight='balanced' ))]\n",
        "\n",
        "pipe_svm_test = Pipeline(estimators)"
      ]
    },
    {
      "cell_type": "code",
      "execution_count": 187,
      "metadata": {
        "id": "2djr0sBiVa0z",
        "colab": {
          "base_uri": "https://localhost:8080/"
        },
        "outputId": "97a9426a-566b-4438-f752-6e54d2a00066"
      },
      "outputs": [
        {
          "output_type": "stream",
          "name": "stdout",
          "text": [
            "CPU times: user 178 ms, sys: 1.01 ms, total: 179 ms\n",
            "Wall time: 179 ms\n"
          ]
        },
        {
          "output_type": "execute_result",
          "data": {
            "text/plain": [
              "Pipeline(steps=[('classifier',\n",
              "                 SVC(C=0.1, class_weight='balanced', kernel='linear'))])"
            ]
          },
          "metadata": {},
          "execution_count": 187
        }
      ],
      "source": [
        "%%time\n",
        "pipe_svm_test.fit(X_train, Y_train)"
      ]
    },
    {
      "cell_type": "code",
      "execution_count": 188,
      "metadata": {
        "id": "VOE-F-moVa0z",
        "colab": {
          "base_uri": "https://localhost:8080/"
        },
        "outputId": "adf140a6-fd3c-4814-fb3d-410dc3072345"
      },
      "outputs": [
        {
          "output_type": "stream",
          "name": "stdout",
          "text": [
            "SVM Test Report\n",
            "               precision    recall  f1-score   support\n",
            "\n",
            "           0       0.90      0.76      0.83       500\n",
            "           1       0.49      0.73      0.59       157\n",
            "\n",
            "    accuracy                           0.75       657\n",
            "   macro avg       0.70      0.75      0.71       657\n",
            "weighted avg       0.80      0.75      0.77       657\n",
            "\n"
          ]
        }
      ],
      "source": [
        "y_pred_test_svm=pipe_svm_test.predict(X_test)\n",
        "\n",
        "report_tree = classification_report(Y_test, y_pred_test_svm)\n",
        "\n",
        "print(\"SVM Test Report\\n\", report_tree)"
      ]
    },
    {
      "cell_type": "code",
      "execution_count": 189,
      "metadata": {
        "id": "adG4_RN0Va00",
        "colab": {
          "base_uri": "https://localhost:8080/",
          "height": 719
        },
        "outputId": "10aa3532-c63d-4bc7-bc48-d0dfb70e1bcc"
      },
      "outputs": [
        {
          "output_type": "stream",
          "name": "stdout",
          "text": [
            "Confusion matrix, without normalization\n"
          ]
        },
        {
          "output_type": "execute_result",
          "data": {
            "text/plain": [
              "<matplotlib.axes._subplots.AxesSubplot at 0x7f0375cc0250>"
            ]
          },
          "metadata": {},
          "execution_count": 189
        },
        {
          "output_type": "display_data",
          "data": {
            "text/plain": [
              "<Figure size 720x720 with 2 Axes>"
            ],
            "image/png": "[encoded data removed]"
          },
          "metadata": {
            "needs_background": "light"
          }
        }
      ],
      "source": [
        "%matplotlib inline\n",
        "plot_confusion_matrix(y_true=Y_test, y_pred=y_pred_test_svm, classes=[\"0 - No necesita cirugía\",\"1 - Necesita cirugía\"],\n",
        "                      title='Matriz de Confusión - test')"
      ]
    },
    {
      "cell_type": "markdown",
      "source": [
        "### 4.1.2 KNN"
      ],
      "metadata": {
        "id": "e34Tltv72z4a"
      }
    },
    {
      "cell_type": "code",
      "execution_count": 49,
      "metadata": {
        "id": "08xBXdd1i4lZ"
      },
      "outputs": [],
      "source": [
        "# Dado que el preprocesamiento ya se realizó para los datos de X_train, estos no requeieren del preprocesamiento\n",
        "estimators = [\n",
        "        ('classifier', KNeighborsClassifier())          \n",
        "    ]\n",
        "\n",
        "parameters = {\n",
        "              'classifier__weights':['distance', 'uniform'],\n",
        "              'classifier__n_neighbors':[6,7,8,9,10,11,12,14,16,20,25],\n",
        "              'classifier__p':[1,2],\n",
        "            }\n",
        "\n",
        "pipe_knn = Pipeline(estimators)"
      ]
    },
    {
      "cell_type": "code",
      "execution_count": 50,
      "metadata": {
        "colab": {
          "base_uri": "https://localhost:8080/"
        },
        "id": "BHJqroaIm4W_",
        "outputId": "09c4ed6c-54bc-4836-e781-1c5988aec6a1"
      },
      "outputs": [
        {
          "output_type": "stream",
          "name": "stdout",
          "text": [
            "CPU times: user 4.3 s, sys: 25.3 ms, total: 4.33 s\n",
            "Wall time: 4.33 s\n"
          ]
        }
      ],
      "source": [
        "%%time\n",
        "grid_search_knn = GridSearchCV(pipe_knn, parameters, scoring='precision_weighted', cv=4, error_score=0.0)\n",
        "with tf.device('/device:GPU:0'):\n",
        "  grid_search_knn.fit(X_train,Y_train)"
      ]
    },
    {
      "cell_type": "code",
      "execution_count": 51,
      "metadata": {
        "colab": {
          "base_uri": "https://localhost:8080/"
        },
        "id": "UAOloAP5vudY",
        "outputId": "a2563575-9eba-44ac-aad6-a6dbd70838c5"
      },
      "outputs": [
        {
          "output_type": "execute_result",
          "data": {
            "text/plain": [
              "{'classifier__n_neighbors': 14,\n",
              " 'classifier__p': 2,\n",
              " 'classifier__weights': 'uniform'}"
            ]
          },
          "metadata": {},
          "execution_count": 51
        }
      ],
      "source": [
        "grid_search_knn.best_params_"
      ]
    },
    {
      "cell_type": "code",
      "execution_count": 52,
      "metadata": {
        "colab": {
          "base_uri": "https://localhost:8080/"
        },
        "id": "jNjvQeqRqTP_",
        "outputId": "c1314153-3153-47cf-e3cc-fb0f9a504330"
      },
      "outputs": [
        {
          "output_type": "stream",
          "name": "stdout",
          "text": [
            "Train Report\n",
            "               precision    recall  f1-score   support\n",
            "\n",
            "           0       0.83      0.95      0.89      2001\n",
            "           1       0.73      0.40      0.51       627\n",
            "\n",
            "    accuracy                           0.82      2628\n",
            "   macro avg       0.78      0.68      0.70      2628\n",
            "weighted avg       0.81      0.82      0.80      2628\n",
            "\n"
          ]
        }
      ],
      "source": [
        "# Obtener el mejor modelo.\n",
        "mejor_knn = grid_search_knn.best_estimator_\n",
        "\n",
        "y_pred_train_knn = mejor_knn.predict(X_train)\n",
        "\n",
        "report_tree = classification_report(Y_train, y_pred_train_knn)\n",
        "\n",
        "print(\"Train Report\\n\", report_tree)"
      ]
    },
    {
      "cell_type": "code",
      "execution_count": 53,
      "metadata": {
        "colab": {
          "base_uri": "https://localhost:8080/",
          "height": 719
        },
        "id": "0EA2IYQU3zxi",
        "outputId": "fbcac745-2cf9-4c49-b5e8-5087808917fd"
      },
      "outputs": [
        {
          "output_type": "stream",
          "name": "stdout",
          "text": [
            "Confusion matrix, without normalization\n"
          ]
        },
        {
          "output_type": "execute_result",
          "data": {
            "text/plain": [
              "<matplotlib.axes._subplots.AxesSubplot at 0x7f037d061290>"
            ]
          },
          "metadata": {},
          "execution_count": 53
        },
        {
          "output_type": "display_data",
          "data": {
            "text/plain": [
              "<Figure size 720x720 with 2 Axes>"
            ],
            "image/png": "[encoded data removed]"
          },
          "metadata": {
            "needs_background": "light"
          }
        }
      ],
      "source": [
        "%matplotlib inline\n",
        "plot_confusion_matrix(y_true=Y_train, y_pred=y_pred_train_knn, classes=[\"0 - No necesita cirugía\",\"1 - Necesita cirugía\"],\n",
        "                      title='Matriz de Confusión - train')"
      ]
    },
    {
      "cell_type": "code",
      "execution_count": 54,
      "metadata": {
        "id": "7PKkPpq5xqw4"
      },
      "outputs": [],
      "source": [
        "# Ahora se usará un pipeline con el mejor modelo para analizar los datos de test\n",
        "estimators = [\n",
        "        ('classifier', KNeighborsClassifier(p=2,n_neighbors=14,weights='uniform'))]\n",
        "\n",
        "pipe_knn_test = Pipeline(estimators)"
      ]
    },
    {
      "cell_type": "code",
      "execution_count": 55,
      "metadata": {
        "colab": {
          "base_uri": "https://localhost:8080/"
        },
        "id": "OnXZbpiSxqw5",
        "outputId": "0b3eac30-f102-4585-be6f-6bfb7ca6ac23"
      },
      "outputs": [
        {
          "output_type": "stream",
          "name": "stdout",
          "text": [
            "CPU times: user 5.36 ms, sys: 30 µs, total: 5.39 ms\n",
            "Wall time: 5.87 ms\n"
          ]
        },
        {
          "output_type": "execute_result",
          "data": {
            "text/plain": [
              "Pipeline(steps=[('classifier', KNeighborsClassifier(n_neighbors=14))])"
            ]
          },
          "metadata": {},
          "execution_count": 55
        }
      ],
      "source": [
        "%%time\n",
        "pipe_knn_test.fit(X_train, Y_train)"
      ]
    },
    {
      "cell_type": "code",
      "execution_count": 56,
      "metadata": {
        "colab": {
          "base_uri": "https://localhost:8080/"
        },
        "id": "-Vwv_zCT3KZa",
        "outputId": "f4cfee18-618d-4a94-a4c8-65744beea15f"
      },
      "outputs": [
        {
          "output_type": "stream",
          "name": "stdout",
          "text": [
            "KNN Test Report\n",
            "               precision    recall  f1-score   support\n",
            "\n",
            "           0       0.83      0.94      0.88       500\n",
            "           1       0.67      0.38      0.49       157\n",
            "\n",
            "    accuracy                           0.81       657\n",
            "   macro avg       0.75      0.66      0.68       657\n",
            "weighted avg       0.79      0.81      0.79       657\n",
            "\n"
          ]
        }
      ],
      "source": [
        "# y_pred_test_knn = mejor_knn.predict(X_test)\n",
        "y_pred_test_knn=pipe_knn_test.predict(X_test)\n",
        "\n",
        "report_tree = classification_report(Y_test, y_pred_test_knn)\n",
        "\n",
        "print(\"KNN Test Report\\n\", report_tree)"
      ]
    },
    {
      "cell_type": "code",
      "execution_count": 57,
      "metadata": {
        "colab": {
          "base_uri": "https://localhost:8080/",
          "height": 719
        },
        "id": "fKuF8_n238g5",
        "outputId": "ffed1cb8-7d34-40ea-bef3-1dcd001bae4a"
      },
      "outputs": [
        {
          "output_type": "stream",
          "name": "stdout",
          "text": [
            "Confusion matrix, without normalization\n"
          ]
        },
        {
          "output_type": "execute_result",
          "data": {
            "text/plain": [
              "<matplotlib.axes._subplots.AxesSubplot at 0x7f037d6ef110>"
            ]
          },
          "metadata": {},
          "execution_count": 57
        },
        {
          "output_type": "display_data",
          "data": {
            "text/plain": [
              "<Figure size 720x720 with 2 Axes>"
            ],
            "image/png": "[encoded data removed]"
          },
          "metadata": {
            "needs_background": "light"
          }
        }
      ],
      "source": [
        "%matplotlib inline\n",
        "plot_confusion_matrix(y_true=Y_test, y_pred=y_pred_test_knn, classes=[\"0 - No necesita cirugía\",\"1 - Necesita cirugía\"],\n",
        "                      title='Matriz de Confusión - test')"
      ]
    },
    {
      "cell_type": "markdown",
      "source": [
        "### 4.1.3 Árbol de decisión"
      ],
      "metadata": {
        "id": "EWFjFm5v3N9O"
      }
    },
    {
      "cell_type": "code",
      "execution_count": 58,
      "metadata": {
        "id": "UaPmfTwRjHol"
      },
      "outputs": [],
      "source": [
        "# Dado que el preprocesamiento ya se realizó para los datos de X_train, se correrá el pipeline sin la parte del preproceso\n",
        "estimators = [\n",
        "        ('classifier', DecisionTreeClassifier(random_state=0))          \n",
        "    ]\n",
        "\n",
        "parameters = {\n",
        "              'classifier__criterion':['gini','entropy'],\n",
        "              'classifier__max_depth':[2,4,8,16,24,28,32],\n",
        "              'classifier__min_samples_split':[2,3],\n",
        "              'classifier__class_weight':[None, 'balanced']\n",
        "            }\n",
        "\n",
        "pipe_tree = Pipeline(estimators)\n"
      ]
    },
    {
      "cell_type": "code",
      "execution_count": 59,
      "metadata": {
        "colab": {
          "base_uri": "https://localhost:8080/"
        },
        "id": "hQxeVWgyrG9u",
        "outputId": "70f70223-cb16-4aa4-ab6f-027ac0b81ffd"
      },
      "outputs": [
        {
          "output_type": "stream",
          "name": "stdout",
          "text": [
            "CPU times: user 1.88 s, sys: 9.26 ms, total: 1.89 s\n",
            "Wall time: 1.89 s\n"
          ]
        }
      ],
      "source": [
        "%%time\n",
        "grid_search_tree = GridSearchCV(pipe_tree, parameters, scoring='precision_weighted', cv=4, error_score=0.0)\n",
        "grid_search_tree.fit(X_train,Y_train)"
      ]
    },
    {
      "cell_type": "code",
      "execution_count": 60,
      "metadata": {
        "colab": {
          "base_uri": "https://localhost:8080/"
        },
        "id": "jH7mJxpPsPyO",
        "outputId": "560831e2-e948-45f1-899a-f5f0b22e90ce"
      },
      "outputs": [
        {
          "output_type": "execute_result",
          "data": {
            "text/plain": [
              "{'classifier__class_weight': None,\n",
              " 'classifier__criterion': 'gini',\n",
              " 'classifier__max_depth': 4,\n",
              " 'classifier__min_samples_split': 2}"
            ]
          },
          "metadata": {},
          "execution_count": 60
        }
      ],
      "source": [
        "grid_search_tree.best_params_"
      ]
    },
    {
      "cell_type": "code",
      "execution_count": 61,
      "metadata": {
        "colab": {
          "base_uri": "https://localhost:8080/"
        },
        "id": "t88X3IALq5-B",
        "outputId": "29ec02cf-b895-4ac9-9f17-1227c50fffba"
      },
      "outputs": [
        {
          "output_type": "stream",
          "name": "stdout",
          "text": [
            "Train Report\n",
            "               precision    recall  f1-score   support\n",
            "\n",
            "           0       0.82      0.96      0.88      2001\n",
            "           1       0.71      0.35      0.46       627\n",
            "\n",
            "    accuracy                           0.81      2628\n",
            "   macro avg       0.77      0.65      0.67      2628\n",
            "weighted avg       0.80      0.81      0.78      2628\n",
            "\n"
          ]
        }
      ],
      "source": [
        "y_pred_train_tree = grid_search_tree.best_estimator_.predict(X_train)\n",
        "report_tree = classification_report(Y_train, y_pred_train_tree)\n",
        "\n",
        "print(\"Train Report\\n\", report_tree)"
      ]
    },
    {
      "cell_type": "code",
      "execution_count": 62,
      "metadata": {
        "colab": {
          "base_uri": "https://localhost:8080/",
          "height": 719
        },
        "id": "htjU9_ZKjuG1",
        "outputId": "bb3f0310-fdf5-43ae-ce35-bcd740f7f9ca"
      },
      "outputs": [
        {
          "output_type": "stream",
          "name": "stdout",
          "text": [
            "Confusion matrix, without normalization\n"
          ]
        },
        {
          "output_type": "execute_result",
          "data": {
            "text/plain": [
              "<matplotlib.axes._subplots.AxesSubplot at 0x7f037d4bd8d0>"
            ]
          },
          "metadata": {},
          "execution_count": 62
        },
        {
          "output_type": "display_data",
          "data": {
            "text/plain": [
              "<Figure size 720x720 with 2 Axes>"
            ],
            "image/png": "[encoded data removed]"
          },
          "metadata": {
            "needs_background": "light"
          }
        }
      ],
      "source": [
        "%matplotlib inline\n",
        "plot_confusion_matrix(y_true=Y_train, y_pred=y_pred_train_tree, classes=[\"0 - No necesita cirugía\",\"1 - Necesita cirugía\"],\n",
        "                      title='Matriz de Confusión - train')"
      ]
    },
    {
      "cell_type": "code",
      "execution_count": 63,
      "metadata": {
        "id": "Y_WgtWfIs4ns"
      },
      "outputs": [],
      "source": [
        "# Ahora se usará un pipeline con el mejor modelo para analizar los datos de test\n",
        "estimators = [\n",
        "        \n",
        "        ('classifier', DecisionTreeClassifier(criterion='gini',max_depth=4, min_samples_split=2,random_state=0))]\n",
        "\n",
        "pipe_tree_test = Pipeline(estimators)"
      ]
    },
    {
      "cell_type": "code",
      "execution_count": 64,
      "metadata": {
        "colab": {
          "base_uri": "https://localhost:8080/"
        },
        "id": "N9F46NzsAA5l",
        "outputId": "20dce986-3add-4585-b245-c8e54fda7e26"
      },
      "outputs": [
        {
          "output_type": "execute_result",
          "data": {
            "text/plain": [
              "Pipeline(steps=[('classifier',\n",
              "                 DecisionTreeClassifier(max_depth=4, random_state=0))])"
            ]
          },
          "metadata": {},
          "execution_count": 64
        }
      ],
      "source": [
        "pipe_tree_test.fit(X_train, Y_train)"
      ]
    },
    {
      "cell_type": "code",
      "execution_count": 65,
      "metadata": {
        "id": "4JC61g8VAPCd"
      },
      "outputs": [],
      "source": [
        "y_test_tree=pipe_tree_test.predict(X_test)"
      ]
    },
    {
      "cell_type": "code",
      "execution_count": 66,
      "metadata": {
        "colab": {
          "base_uri": "https://localhost:8080/"
        },
        "id": "K_IWfis3AW81",
        "outputId": "b241972f-f685-4aee-ff33-f0cb36d6dc01"
      },
      "outputs": [
        {
          "output_type": "stream",
          "name": "stdout",
          "text": [
            "Tree test Report\n",
            "               precision    recall  f1-score   support\n",
            "\n",
            "           0       0.84      0.95      0.89       500\n",
            "           1       0.71      0.41      0.52       157\n",
            "\n",
            "    accuracy                           0.82       657\n",
            "   macro avg       0.77      0.68      0.71       657\n",
            "weighted avg       0.81      0.82      0.80       657\n",
            "\n"
          ]
        }
      ],
      "source": [
        "report_tree_test = classification_report(Y_test, y_test_tree)\n",
        "\n",
        "print(\"Tree test Report\\n\", report_tree_test)"
      ]
    },
    {
      "cell_type": "code",
      "execution_count": 67,
      "metadata": {
        "colab": {
          "base_uri": "https://localhost:8080/",
          "height": 719
        },
        "id": "USTFhDGbCqfT",
        "outputId": "cf83b98e-7ccb-40ae-cc1a-dae2ffff8b20"
      },
      "outputs": [
        {
          "output_type": "stream",
          "name": "stdout",
          "text": [
            "Confusion matrix, without normalization\n"
          ]
        },
        {
          "output_type": "execute_result",
          "data": {
            "text/plain": [
              "<matplotlib.axes._subplots.AxesSubplot at 0x7f037d0a2e50>"
            ]
          },
          "metadata": {},
          "execution_count": 67
        },
        {
          "output_type": "display_data",
          "data": {
            "text/plain": [
              "<Figure size 720x720 with 2 Axes>"
            ],
            "image/png": "[encoded data removed]"
          },
          "metadata": {
            "needs_background": "light"
          }
        }
      ],
      "source": [
        "%matplotlib inline\n",
        "plot_confusion_matrix(y_true=Y_test, y_pred=y_test_tree, classes=[\"0 - No necesita cirugía\",\"1 - Necesita cirugía\"],\n",
        "                      title='Matriz de Confusión - test')"
      ]
    },
    {
      "cell_type": "markdown",
      "source": [
        "### 4.1.4 Logistic regression"
      ],
      "metadata": {
        "id": "a3uz3xuSMtEd"
      }
    },
    {
      "cell_type": "code",
      "execution_count": 125,
      "metadata": {
        "id": "skBKDu_fNN7N"
      },
      "outputs": [],
      "source": [
        "# Dado que el preprocesamiento ya se realizó para los datos de X_train, se correrá el pipeline sin la parte del preproceso\n",
        "estimators = [\n",
        "        ('classifier', LogisticRegression())          \n",
        "    ]\n",
        "\n",
        "parameters = {'classifier__penalty':['l1', 'l2', 'elasticnet'],\n",
        "              'classifier__C':[0.1, 1, 10],\n",
        "              'classifier__class_weight':[None, 'balanced'],\n",
        "              'classifier__solver': ['liblinear', 'saga']\n",
        "              \n",
        "            }\n",
        "\n",
        "pipe_logistic = Pipeline(estimators)"
      ]
    },
    {
      "cell_type": "code",
      "execution_count": 88,
      "metadata": {
        "colab": {
          "base_uri": "https://localhost:8080/"
        },
        "outputId": "13637c46-adc7-4eaf-c4cd-3b4fa3357c65",
        "id": "Qs_-v2VPNN7N"
      },
      "outputs": [
        {
          "output_type": "stream",
          "name": "stdout",
          "text": [
            "Fitting 5 folds for each of 48 candidates, totalling 240 fits\n",
            "[CV] END classifier__C=0.1, classifier__class_weight=None, classifier__penalty=l1, classifier__solver=liblinear; total time=   0.0s\n",
            "[CV] END classifier__C=0.1, classifier__class_weight=None, classifier__penalty=l1, classifier__solver=liblinear; total time=   0.0s\n",
            "[CV] END classifier__C=0.1, classifier__class_weight=None, classifier__penalty=l1, classifier__solver=liblinear; total time=   0.0s\n",
            "[CV] END classifier__C=0.1, classifier__class_weight=None, classifier__penalty=l1, classifier__solver=liblinear; total time=   0.0s\n",
            "[CV] END classifier__C=0.1, classifier__class_weight=None, classifier__penalty=l1, classifier__solver=liblinear; total time=   0.0s\n",
            "[CV] END classifier__C=0.1, classifier__class_weight=None, classifier__penalty=l1, classifier__solver=saga; total time=   0.0s\n",
            "[CV] END classifier__C=0.1, classifier__class_weight=None, classifier__penalty=l1, classifier__solver=saga; total time=   0.0s\n",
            "[CV] END classifier__C=0.1, classifier__class_weight=None, classifier__penalty=l1, classifier__solver=saga; total time=   0.0s\n",
            "[CV] END classifier__C=0.1, classifier__class_weight=None, classifier__penalty=l1, classifier__solver=saga; total time=   0.0s\n",
            "[CV] END classifier__C=0.1, classifier__class_weight=None, classifier__penalty=l1, classifier__solver=saga; total time=   0.0s\n",
            "[CV] END classifier__C=0.1, classifier__class_weight=None, classifier__penalty=l2, classifier__solver=liblinear; total time=   0.0s\n",
            "[CV] END classifier__C=0.1, classifier__class_weight=None, classifier__penalty=l2, classifier__solver=liblinear; total time=   0.0s\n",
            "[CV] END classifier__C=0.1, classifier__class_weight=None, classifier__penalty=l2, classifier__solver=liblinear; total time=   0.0s\n",
            "[CV] END classifier__C=0.1, classifier__class_weight=None, classifier__penalty=l2, classifier__solver=liblinear; total time=   0.0s\n",
            "[CV] END classifier__C=0.1, classifier__class_weight=None, classifier__penalty=l2, classifier__solver=liblinear; total time=   0.0s\n",
            "[CV] END classifier__C=0.1, classifier__class_weight=None, classifier__penalty=l2, classifier__solver=saga; total time=   0.0s\n",
            "[CV] END classifier__C=0.1, classifier__class_weight=None, classifier__penalty=l2, classifier__solver=saga; total time=   0.0s\n",
            "[CV] END classifier__C=0.1, classifier__class_weight=None, classifier__penalty=l2, classifier__solver=saga; total time=   0.0s\n",
            "[CV] END classifier__C=0.1, classifier__class_weight=None, classifier__penalty=l2, classifier__solver=saga; total time=   0.0s\n",
            "[CV] END classifier__C=0.1, classifier__class_weight=None, classifier__penalty=l2, classifier__solver=saga; total time=   0.0s\n",
            "[CV] END classifier__C=0.1, classifier__class_weight=None, classifier__penalty=elasticnet, classifier__solver=liblinear; total time=   0.0s\n",
            "[CV] END classifier__C=0.1, classifier__class_weight=None, classifier__penalty=elasticnet, classifier__solver=liblinear; total time=   0.0s\n",
            "[CV] END classifier__C=0.1, classifier__class_weight=None, classifier__penalty=elasticnet, classifier__solver=liblinear; total time=   0.0s\n",
            "[CV] END classifier__C=0.1, classifier__class_weight=None, classifier__penalty=elasticnet, classifier__solver=liblinear; total time=   0.0s\n",
            "[CV] END classifier__C=0.1, classifier__class_weight=None, classifier__penalty=elasticnet, classifier__solver=liblinear; total time=   0.0s\n",
            "[CV] END classifier__C=0.1, classifier__class_weight=None, classifier__penalty=elasticnet, classifier__solver=saga; total time=   0.0s\n",
            "[CV] END classifier__C=0.1, classifier__class_weight=None, classifier__penalty=elasticnet, classifier__solver=saga; total time=   0.0s\n",
            "[CV] END classifier__C=0.1, classifier__class_weight=None, classifier__penalty=elasticnet, classifier__solver=saga; total time=   0.0s\n",
            "[CV] END classifier__C=0.1, classifier__class_weight=None, classifier__penalty=elasticnet, classifier__solver=saga; total time=   0.0s\n",
            "[CV] END classifier__C=0.1, classifier__class_weight=None, classifier__penalty=elasticnet, classifier__solver=saga; total time=   0.0s\n",
            "[CV] END classifier__C=0.1, classifier__class_weight=None, classifier__penalty=none, classifier__solver=liblinear; total time=   0.0s\n",
            "[CV] END classifier__C=0.1, classifier__class_weight=None, classifier__penalty=none, classifier__solver=liblinear; total time=   0.0s\n",
            "[CV] END classifier__C=0.1, classifier__class_weight=None, classifier__penalty=none, classifier__solver=liblinear; total time=   0.0s\n",
            "[CV] END classifier__C=0.1, classifier__class_weight=None, classifier__penalty=none, classifier__solver=liblinear; total time=   0.0s\n",
            "[CV] END classifier__C=0.1, classifier__class_weight=None, classifier__penalty=none, classifier__solver=liblinear; total time=   0.0s\n",
            "[CV] END classifier__C=0.1, classifier__class_weight=None, classifier__penalty=none, classifier__solver=saga; total time=   0.1s\n",
            "[CV] END classifier__C=0.1, classifier__class_weight=None, classifier__penalty=none, classifier__solver=saga; total time=   0.1s\n",
            "[CV] END classifier__C=0.1, classifier__class_weight=None, classifier__penalty=none, classifier__solver=saga; total time=   0.1s\n"
          ]
        },
        {
          "output_type": "stream",
          "name": "stderr",
          "text": [
            "/usr/local/lib/python3.7/dist-packages/sklearn/linear_model/_logistic.py:1484: UserWarning: Setting penalty='none' will ignore the C and l1_ratio parameters\n",
            "  \"Setting penalty='none' will ignore the C and l1_ratio parameters\"\n",
            "/usr/local/lib/python3.7/dist-packages/sklearn/linear_model/_sag.py:354: ConvergenceWarning: The max_iter was reached which means the coef_ did not converge\n",
            "  ConvergenceWarning,\n",
            "/usr/local/lib/python3.7/dist-packages/sklearn/linear_model/_logistic.py:1484: UserWarning: Setting penalty='none' will ignore the C and l1_ratio parameters\n",
            "  \"Setting penalty='none' will ignore the C and l1_ratio parameters\"\n",
            "/usr/local/lib/python3.7/dist-packages/sklearn/linear_model/_sag.py:354: ConvergenceWarning: The max_iter was reached which means the coef_ did not converge\n",
            "  ConvergenceWarning,\n",
            "/usr/local/lib/python3.7/dist-packages/sklearn/linear_model/_logistic.py:1484: UserWarning: Setting penalty='none' will ignore the C and l1_ratio parameters\n",
            "  \"Setting penalty='none' will ignore the C and l1_ratio parameters\"\n",
            "/usr/local/lib/python3.7/dist-packages/sklearn/linear_model/_sag.py:354: ConvergenceWarning: The max_iter was reached which means the coef_ did not converge\n",
            "  ConvergenceWarning,\n",
            "/usr/local/lib/python3.7/dist-packages/sklearn/linear_model/_logistic.py:1484: UserWarning: Setting penalty='none' will ignore the C and l1_ratio parameters\n",
            "  \"Setting penalty='none' will ignore the C and l1_ratio parameters\"\n",
            "/usr/local/lib/python3.7/dist-packages/sklearn/linear_model/_sag.py:354: ConvergenceWarning: The max_iter was reached which means the coef_ did not converge\n",
            "  ConvergenceWarning,\n",
            "/usr/local/lib/python3.7/dist-packages/sklearn/linear_model/_logistic.py:1484: UserWarning: Setting penalty='none' will ignore the C and l1_ratio parameters\n",
            "  \"Setting penalty='none' will ignore the C and l1_ratio parameters\"\n",
            "/usr/local/lib/python3.7/dist-packages/sklearn/linear_model/_sag.py:354: ConvergenceWarning: The max_iter was reached which means the coef_ did not converge\n",
            "  ConvergenceWarning,\n"
          ]
        },
        {
          "output_type": "stream",
          "name": "stdout",
          "text": [
            "[CV] END classifier__C=0.1, classifier__class_weight=None, classifier__penalty=none, classifier__solver=saga; total time=   0.1s\n",
            "[CV] END classifier__C=0.1, classifier__class_weight=None, classifier__penalty=none, classifier__solver=saga; total time=   0.2s\n",
            "[CV] END classifier__C=0.1, classifier__class_weight=balanced, classifier__penalty=l1, classifier__solver=liblinear; total time=   0.0s\n",
            "[CV] END classifier__C=0.1, classifier__class_weight=balanced, classifier__penalty=l1, classifier__solver=liblinear; total time=   0.0s\n",
            "[CV] END classifier__C=0.1, classifier__class_weight=balanced, classifier__penalty=l1, classifier__solver=liblinear; total time=   0.0s\n",
            "[CV] END classifier__C=0.1, classifier__class_weight=balanced, classifier__penalty=l1, classifier__solver=liblinear; total time=   0.0s\n",
            "[CV] END classifier__C=0.1, classifier__class_weight=balanced, classifier__penalty=l1, classifier__solver=liblinear; total time=   0.0s\n",
            "[CV] END classifier__C=0.1, classifier__class_weight=balanced, classifier__penalty=l1, classifier__solver=saga; total time=   0.0s\n",
            "[CV] END classifier__C=0.1, classifier__class_weight=balanced, classifier__penalty=l1, classifier__solver=saga; total time=   0.0s\n",
            "[CV] END classifier__C=0.1, classifier__class_weight=balanced, classifier__penalty=l1, classifier__solver=saga; total time=   0.0s\n",
            "[CV] END classifier__C=0.1, classifier__class_weight=balanced, classifier__penalty=l1, classifier__solver=saga; total time=   0.0s\n",
            "[CV] END classifier__C=0.1, classifier__class_weight=balanced, classifier__penalty=l1, classifier__solver=saga; total time=   0.0s\n",
            "[CV] END classifier__C=0.1, classifier__class_weight=balanced, classifier__penalty=l2, classifier__solver=liblinear; total time=   0.0s\n",
            "[CV] END classifier__C=0.1, classifier__class_weight=balanced, classifier__penalty=l2, classifier__solver=liblinear; total time=   0.0s\n",
            "[CV] END classifier__C=0.1, classifier__class_weight=balanced, classifier__penalty=l2, classifier__solver=liblinear; total time=   0.0s\n",
            "[CV] END classifier__C=0.1, classifier__class_weight=balanced, classifier__penalty=l2, classifier__solver=liblinear; total time=   0.0s\n",
            "[CV] END classifier__C=0.1, classifier__class_weight=balanced, classifier__penalty=l2, classifier__solver=liblinear; total time=   0.0s\n",
            "[CV] END classifier__C=0.1, classifier__class_weight=balanced, classifier__penalty=l2, classifier__solver=saga; total time=   0.0s\n",
            "[CV] END classifier__C=0.1, classifier__class_weight=balanced, classifier__penalty=l2, classifier__solver=saga; total time=   0.0s\n",
            "[CV] END classifier__C=0.1, classifier__class_weight=balanced, classifier__penalty=l2, classifier__solver=saga; total time=   0.0s\n",
            "[CV] END classifier__C=0.1, classifier__class_weight=balanced, classifier__penalty=l2, classifier__solver=saga; total time=   0.0s\n",
            "[CV] END classifier__C=0.1, classifier__class_weight=balanced, classifier__penalty=l2, classifier__solver=saga; total time=   0.0s\n",
            "[CV] END classifier__C=0.1, classifier__class_weight=balanced, classifier__penalty=elasticnet, classifier__solver=liblinear; total time=   0.0s\n",
            "[CV] END classifier__C=0.1, classifier__class_weight=balanced, classifier__penalty=elasticnet, classifier__solver=liblinear; total time=   0.0s\n",
            "[CV] END classifier__C=0.1, classifier__class_weight=balanced, classifier__penalty=elasticnet, classifier__solver=liblinear; total time=   0.0s\n",
            "[CV] END classifier__C=0.1, classifier__class_weight=balanced, classifier__penalty=elasticnet, classifier__solver=liblinear; total time=   0.0s\n",
            "[CV] END classifier__C=0.1, classifier__class_weight=balanced, classifier__penalty=elasticnet, classifier__solver=liblinear; total time=   0.0s\n",
            "[CV] END classifier__C=0.1, classifier__class_weight=balanced, classifier__penalty=elasticnet, classifier__solver=saga; total time=   0.0s\n",
            "[CV] END classifier__C=0.1, classifier__class_weight=balanced, classifier__penalty=elasticnet, classifier__solver=saga; total time=   0.0s\n",
            "[CV] END classifier__C=0.1, classifier__class_weight=balanced, classifier__penalty=elasticnet, classifier__solver=saga; total time=   0.0s\n",
            "[CV] END classifier__C=0.1, classifier__class_weight=balanced, classifier__penalty=elasticnet, classifier__solver=saga; total time=   0.0s\n",
            "[CV] END classifier__C=0.1, classifier__class_weight=balanced, classifier__penalty=elasticnet, classifier__solver=saga; total time=   0.0s\n",
            "[CV] END classifier__C=0.1, classifier__class_weight=balanced, classifier__penalty=none, classifier__solver=liblinear; total time=   0.0s\n",
            "[CV] END classifier__C=0.1, classifier__class_weight=balanced, classifier__penalty=none, classifier__solver=liblinear; total time=   0.0s\n",
            "[CV] END classifier__C=0.1, classifier__class_weight=balanced, classifier__penalty=none, classifier__solver=liblinear; total time=   0.0s\n",
            "[CV] END classifier__C=0.1, classifier__class_weight=balanced, classifier__penalty=none, classifier__solver=liblinear; total time=   0.0s\n",
            "[CV] END classifier__C=0.1, classifier__class_weight=balanced, classifier__penalty=none, classifier__solver=liblinear; total time=   0.0s\n",
            "[CV] END classifier__C=0.1, classifier__class_weight=balanced, classifier__penalty=none, classifier__solver=saga; total time=   0.1s\n"
          ]
        },
        {
          "output_type": "stream",
          "name": "stderr",
          "text": [
            "/usr/local/lib/python3.7/dist-packages/sklearn/linear_model/_logistic.py:1484: UserWarning: Setting penalty='none' will ignore the C and l1_ratio parameters\n",
            "  \"Setting penalty='none' will ignore the C and l1_ratio parameters\"\n",
            "/usr/local/lib/python3.7/dist-packages/sklearn/linear_model/_sag.py:354: ConvergenceWarning: The max_iter was reached which means the coef_ did not converge\n",
            "  ConvergenceWarning,\n",
            "/usr/local/lib/python3.7/dist-packages/sklearn/linear_model/_logistic.py:1484: UserWarning: Setting penalty='none' will ignore the C and l1_ratio parameters\n",
            "  \"Setting penalty='none' will ignore the C and l1_ratio parameters\"\n",
            "/usr/local/lib/python3.7/dist-packages/sklearn/linear_model/_sag.py:354: ConvergenceWarning: The max_iter was reached which means the coef_ did not converge\n",
            "  ConvergenceWarning,\n",
            "/usr/local/lib/python3.7/dist-packages/sklearn/linear_model/_logistic.py:1484: UserWarning: Setting penalty='none' will ignore the C and l1_ratio parameters\n",
            "  \"Setting penalty='none' will ignore the C and l1_ratio parameters\"\n",
            "/usr/local/lib/python3.7/dist-packages/sklearn/linear_model/_sag.py:354: ConvergenceWarning: The max_iter was reached which means the coef_ did not converge\n",
            "  ConvergenceWarning,\n"
          ]
        },
        {
          "output_type": "stream",
          "name": "stdout",
          "text": [
            "[CV] END classifier__C=0.1, classifier__class_weight=balanced, classifier__penalty=none, classifier__solver=saga; total time=   0.1s\n",
            "[CV] END classifier__C=0.1, classifier__class_weight=balanced, classifier__penalty=none, classifier__solver=saga; total time=   0.1s\n",
            "[CV] END classifier__C=0.1, classifier__class_weight=balanced, classifier__penalty=none, classifier__solver=saga; total time=   0.1s\n"
          ]
        },
        {
          "output_type": "stream",
          "name": "stderr",
          "text": [
            "/usr/local/lib/python3.7/dist-packages/sklearn/linear_model/_logistic.py:1484: UserWarning: Setting penalty='none' will ignore the C and l1_ratio parameters\n",
            "  \"Setting penalty='none' will ignore the C and l1_ratio parameters\"\n",
            "/usr/local/lib/python3.7/dist-packages/sklearn/linear_model/_sag.py:354: ConvergenceWarning: The max_iter was reached which means the coef_ did not converge\n",
            "  ConvergenceWarning,\n",
            "/usr/local/lib/python3.7/dist-packages/sklearn/linear_model/_logistic.py:1484: UserWarning: Setting penalty='none' will ignore the C and l1_ratio parameters\n",
            "  \"Setting penalty='none' will ignore the C and l1_ratio parameters\"\n",
            "/usr/local/lib/python3.7/dist-packages/sklearn/linear_model/_sag.py:354: ConvergenceWarning: The max_iter was reached which means the coef_ did not converge\n",
            "  ConvergenceWarning,\n"
          ]
        },
        {
          "output_type": "stream",
          "name": "stdout",
          "text": [
            "[CV] END classifier__C=0.1, classifier__class_weight=balanced, classifier__penalty=none, classifier__solver=saga; total time=   0.1s\n",
            "[CV] END classifier__C=1, classifier__class_weight=None, classifier__penalty=l1, classifier__solver=liblinear; total time=   0.0s\n",
            "[CV] END classifier__C=1, classifier__class_weight=None, classifier__penalty=l1, classifier__solver=liblinear; total time=   0.0s\n",
            "[CV] END classifier__C=1, classifier__class_weight=None, classifier__penalty=l1, classifier__solver=liblinear; total time=   0.0s\n",
            "[CV] END classifier__C=1, classifier__class_weight=None, classifier__penalty=l1, classifier__solver=liblinear; total time=   0.0s\n",
            "[CV] END classifier__C=1, classifier__class_weight=None, classifier__penalty=l1, classifier__solver=liblinear; total time=   0.0s\n",
            "[CV] END classifier__C=1, classifier__class_weight=None, classifier__penalty=l1, classifier__solver=saga; total time=   0.1s\n"
          ]
        },
        {
          "output_type": "stream",
          "name": "stderr",
          "text": [
            "/usr/local/lib/python3.7/dist-packages/sklearn/linear_model/_sag.py:354: ConvergenceWarning: The max_iter was reached which means the coef_ did not converge\n",
            "  ConvergenceWarning,\n",
            "/usr/local/lib/python3.7/dist-packages/sklearn/linear_model/_sag.py:354: ConvergenceWarning: The max_iter was reached which means the coef_ did not converge\n",
            "  ConvergenceWarning,\n",
            "/usr/local/lib/python3.7/dist-packages/sklearn/linear_model/_sag.py:354: ConvergenceWarning: The max_iter was reached which means the coef_ did not converge\n",
            "  ConvergenceWarning,\n"
          ]
        },
        {
          "output_type": "stream",
          "name": "stdout",
          "text": [
            "[CV] END classifier__C=1, classifier__class_weight=None, classifier__penalty=l1, classifier__solver=saga; total time=   0.1s\n",
            "[CV] END classifier__C=1, classifier__class_weight=None, classifier__penalty=l1, classifier__solver=saga; total time=   0.1s\n",
            "[CV] END classifier__C=1, classifier__class_weight=None, classifier__penalty=l1, classifier__solver=saga; total time=   0.0s\n",
            "[CV] END classifier__C=1, classifier__class_weight=None, classifier__penalty=l1, classifier__solver=saga; total time=   0.1s\n"
          ]
        },
        {
          "output_type": "stream",
          "name": "stderr",
          "text": [
            "/usr/local/lib/python3.7/dist-packages/sklearn/linear_model/_sag.py:354: ConvergenceWarning: The max_iter was reached which means the coef_ did not converge\n",
            "  ConvergenceWarning,\n",
            "/usr/local/lib/python3.7/dist-packages/sklearn/linear_model/_sag.py:354: ConvergenceWarning: The max_iter was reached which means the coef_ did not converge\n",
            "  ConvergenceWarning,\n",
            "/usr/local/lib/python3.7/dist-packages/sklearn/linear_model/_sag.py:354: ConvergenceWarning: The max_iter was reached which means the coef_ did not converge\n",
            "  ConvergenceWarning,\n"
          ]
        },
        {
          "output_type": "stream",
          "name": "stdout",
          "text": [
            "[CV] END classifier__C=1, classifier__class_weight=None, classifier__penalty=l2, classifier__solver=liblinear; total time=   0.0s\n",
            "[CV] END classifier__C=1, classifier__class_weight=None, classifier__penalty=l2, classifier__solver=liblinear; total time=   0.0s\n",
            "[CV] END classifier__C=1, classifier__class_weight=None, classifier__penalty=l2, classifier__solver=liblinear; total time=   0.0s\n",
            "[CV] END classifier__C=1, classifier__class_weight=None, classifier__penalty=l2, classifier__solver=liblinear; total time=   0.0s\n",
            "[CV] END classifier__C=1, classifier__class_weight=None, classifier__penalty=l2, classifier__solver=liblinear; total time=   0.0s\n",
            "[CV] END classifier__C=1, classifier__class_weight=None, classifier__penalty=l2, classifier__solver=saga; total time=   0.1s\n",
            "[CV] END classifier__C=1, classifier__class_weight=None, classifier__penalty=l2, classifier__solver=saga; total time=   0.1s\n"
          ]
        },
        {
          "output_type": "stream",
          "name": "stderr",
          "text": [
            "/usr/local/lib/python3.7/dist-packages/sklearn/linear_model/_sag.py:354: ConvergenceWarning: The max_iter was reached which means the coef_ did not converge\n",
            "  ConvergenceWarning,\n",
            "/usr/local/lib/python3.7/dist-packages/sklearn/linear_model/_sag.py:354: ConvergenceWarning: The max_iter was reached which means the coef_ did not converge\n",
            "  ConvergenceWarning,\n",
            "/usr/local/lib/python3.7/dist-packages/sklearn/linear_model/_sag.py:354: ConvergenceWarning: The max_iter was reached which means the coef_ did not converge\n",
            "  ConvergenceWarning,\n"
          ]
        },
        {
          "output_type": "stream",
          "name": "stdout",
          "text": [
            "[CV] END classifier__C=1, classifier__class_weight=None, classifier__penalty=l2, classifier__solver=saga; total time=   0.1s\n",
            "[CV] END classifier__C=1, classifier__class_weight=None, classifier__penalty=l2, classifier__solver=saga; total time=   0.1s\n",
            "[CV] END classifier__C=1, classifier__class_weight=None, classifier__penalty=l2, classifier__solver=saga; total time=   0.1s\n",
            "[CV] END classifier__C=1, classifier__class_weight=None, classifier__penalty=elasticnet, classifier__solver=liblinear; total time=   0.0s\n",
            "[CV] END classifier__C=1, classifier__class_weight=None, classifier__penalty=elasticnet, classifier__solver=liblinear; total time=   0.0s\n",
            "[CV] END classifier__C=1, classifier__class_weight=None, classifier__penalty=elasticnet, classifier__solver=liblinear; total time=   0.0s\n",
            "[CV] END classifier__C=1, classifier__class_weight=None, classifier__penalty=elasticnet, classifier__solver=liblinear; total time=   0.0s\n",
            "[CV] END classifier__C=1, classifier__class_weight=None, classifier__penalty=elasticnet, classifier__solver=liblinear; total time=   0.0s\n",
            "[CV] END classifier__C=1, classifier__class_weight=None, classifier__penalty=elasticnet, classifier__solver=saga; total time=   0.0s\n",
            "[CV] END classifier__C=1, classifier__class_weight=None, classifier__penalty=elasticnet, classifier__solver=saga; total time=   0.0s\n",
            "[CV] END classifier__C=1, classifier__class_weight=None, classifier__penalty=elasticnet, classifier__solver=saga; total time=   0.0s\n",
            "[CV] END classifier__C=1, classifier__class_weight=None, classifier__penalty=elasticnet, classifier__solver=saga; total time=   0.0s\n",
            "[CV] END classifier__C=1, classifier__class_weight=None, classifier__penalty=elasticnet, classifier__solver=saga; total time=   0.0s\n",
            "[CV] END classifier__C=1, classifier__class_weight=None, classifier__penalty=none, classifier__solver=liblinear; total time=   0.0s\n",
            "[CV] END classifier__C=1, classifier__class_weight=None, classifier__penalty=none, classifier__solver=liblinear; total time=   0.0s\n",
            "[CV] END classifier__C=1, classifier__class_weight=None, classifier__penalty=none, classifier__solver=liblinear; total time=   0.0s\n",
            "[CV] END classifier__C=1, classifier__class_weight=None, classifier__penalty=none, classifier__solver=liblinear; total time=   0.0s\n",
            "[CV] END classifier__C=1, classifier__class_weight=None, classifier__penalty=none, classifier__solver=liblinear; total time=   0.0s\n"
          ]
        },
        {
          "output_type": "stream",
          "name": "stderr",
          "text": [
            "/usr/local/lib/python3.7/dist-packages/sklearn/linear_model/_sag.py:354: ConvergenceWarning: The max_iter was reached which means the coef_ did not converge\n",
            "  ConvergenceWarning,\n",
            "/usr/local/lib/python3.7/dist-packages/sklearn/linear_model/_sag.py:354: ConvergenceWarning: The max_iter was reached which means the coef_ did not converge\n",
            "  ConvergenceWarning,\n",
            "/usr/local/lib/python3.7/dist-packages/sklearn/linear_model/_sag.py:354: ConvergenceWarning: The max_iter was reached which means the coef_ did not converge\n",
            "  ConvergenceWarning,\n",
            "/usr/local/lib/python3.7/dist-packages/sklearn/linear_model/_sag.py:354: ConvergenceWarning: The max_iter was reached which means the coef_ did not converge\n",
            "  ConvergenceWarning,\n"
          ]
        },
        {
          "output_type": "stream",
          "name": "stdout",
          "text": [
            "[CV] END classifier__C=1, classifier__class_weight=None, classifier__penalty=none, classifier__solver=saga; total time=   0.1s\n",
            "[CV] END classifier__C=1, classifier__class_weight=None, classifier__penalty=none, classifier__solver=saga; total time=   0.1s\n",
            "[CV] END classifier__C=1, classifier__class_weight=None, classifier__penalty=none, classifier__solver=saga; total time=   0.1s\n",
            "[CV] END classifier__C=1, classifier__class_weight=None, classifier__penalty=none, classifier__solver=saga; total time=   0.1s\n",
            "[CV] END classifier__C=1, classifier__class_weight=None, classifier__penalty=none, classifier__solver=saga; total time=   0.1s\n",
            "[CV] END classifier__C=1, classifier__class_weight=balanced, classifier__penalty=l1, classifier__solver=liblinear; total time=   0.0s\n",
            "[CV] END classifier__C=1, classifier__class_weight=balanced, classifier__penalty=l1, classifier__solver=liblinear; total time=   0.0s\n",
            "[CV] END classifier__C=1, classifier__class_weight=balanced, classifier__penalty=l1, classifier__solver=liblinear; total time=   0.0s\n",
            "[CV] END classifier__C=1, classifier__class_weight=balanced, classifier__penalty=l1, classifier__solver=liblinear; total time=   0.0s\n",
            "[CV] END classifier__C=1, classifier__class_weight=balanced, classifier__penalty=l1, classifier__solver=liblinear; total time=   0.0s\n"
          ]
        },
        {
          "output_type": "stream",
          "name": "stderr",
          "text": [
            "/usr/local/lib/python3.7/dist-packages/sklearn/linear_model/_sag.py:354: ConvergenceWarning: The max_iter was reached which means the coef_ did not converge\n",
            "  ConvergenceWarning,\n"
          ]
        },
        {
          "output_type": "stream",
          "name": "stdout",
          "text": [
            "[CV] END classifier__C=1, classifier__class_weight=balanced, classifier__penalty=l1, classifier__solver=saga; total time=   0.1s\n",
            "[CV] END classifier__C=1, classifier__class_weight=balanced, classifier__penalty=l1, classifier__solver=saga; total time=   0.1s\n",
            "[CV] END classifier__C=1, classifier__class_weight=balanced, classifier__penalty=l1, classifier__solver=saga; total time=   0.1s\n",
            "[CV] END classifier__C=1, classifier__class_weight=balanced, classifier__penalty=l1, classifier__solver=saga; total time=   0.0s\n"
          ]
        },
        {
          "output_type": "stream",
          "name": "stderr",
          "text": [
            "/usr/local/lib/python3.7/dist-packages/sklearn/linear_model/_sag.py:354: ConvergenceWarning: The max_iter was reached which means the coef_ did not converge\n",
            "  ConvergenceWarning,\n",
            "/usr/local/lib/python3.7/dist-packages/sklearn/linear_model/_sag.py:354: ConvergenceWarning: The max_iter was reached which means the coef_ did not converge\n",
            "  ConvergenceWarning,\n",
            "/usr/local/lib/python3.7/dist-packages/sklearn/linear_model/_sag.py:354: ConvergenceWarning: The max_iter was reached which means the coef_ did not converge\n",
            "  ConvergenceWarning,\n",
            "/usr/local/lib/python3.7/dist-packages/sklearn/linear_model/_sag.py:354: ConvergenceWarning: The max_iter was reached which means the coef_ did not converge\n",
            "  ConvergenceWarning,\n"
          ]
        },
        {
          "output_type": "stream",
          "name": "stdout",
          "text": [
            "[CV] END classifier__C=1, classifier__class_weight=balanced, classifier__penalty=l1, classifier__solver=saga; total time=   0.1s\n",
            "[CV] END classifier__C=1, classifier__class_weight=balanced, classifier__penalty=l2, classifier__solver=liblinear; total time=   0.0s\n",
            "[CV] END classifier__C=1, classifier__class_weight=balanced, classifier__penalty=l2, classifier__solver=liblinear; total time=   0.0s\n",
            "[CV] END classifier__C=1, classifier__class_weight=balanced, classifier__penalty=l2, classifier__solver=liblinear; total time=   0.0s\n",
            "[CV] END classifier__C=1, classifier__class_weight=balanced, classifier__penalty=l2, classifier__solver=liblinear; total time=   0.0s\n",
            "[CV] END classifier__C=1, classifier__class_weight=balanced, classifier__penalty=l2, classifier__solver=liblinear; total time=   0.0s\n",
            "[CV] END classifier__C=1, classifier__class_weight=balanced, classifier__penalty=l2, classifier__solver=saga; total time=   0.0s\n",
            "[CV] END classifier__C=1, classifier__class_weight=balanced, classifier__penalty=l2, classifier__solver=saga; total time=   0.1s\n",
            "[CV] END classifier__C=1, classifier__class_weight=balanced, classifier__penalty=l2, classifier__solver=saga; total time=   0.1s\n",
            "[CV] END classifier__C=1, classifier__class_weight=balanced, classifier__penalty=l2, classifier__solver=saga; total time=   0.1s\n",
            "[CV] END classifier__C=1, classifier__class_weight=balanced, classifier__penalty=l2, classifier__solver=saga; total time=   0.0s\n",
            "[CV] END classifier__C=1, classifier__class_weight=balanced, classifier__penalty=elasticnet, classifier__solver=liblinear; total time=   0.0s\n",
            "[CV] END classifier__C=1, classifier__class_weight=balanced, classifier__penalty=elasticnet, classifier__solver=liblinear; total time=   0.0s\n",
            "[CV] END classifier__C=1, classifier__class_weight=balanced, classifier__penalty=elasticnet, classifier__solver=liblinear; total time=   0.0s\n",
            "[CV] END classifier__C=1, classifier__class_weight=balanced, classifier__penalty=elasticnet, classifier__solver=liblinear; total time=   0.0s\n",
            "[CV] END classifier__C=1, classifier__class_weight=balanced, classifier__penalty=elasticnet, classifier__solver=liblinear; total time=   0.0s\n",
            "[CV] END classifier__C=1, classifier__class_weight=balanced, classifier__penalty=elasticnet, classifier__solver=saga; total time=   0.0s\n",
            "[CV] END classifier__C=1, classifier__class_weight=balanced, classifier__penalty=elasticnet, classifier__solver=saga; total time=   0.0s\n",
            "[CV] END classifier__C=1, classifier__class_weight=balanced, classifier__penalty=elasticnet, classifier__solver=saga; total time=   0.0s\n",
            "[CV] END classifier__C=1, classifier__class_weight=balanced, classifier__penalty=elasticnet, classifier__solver=saga; total time=   0.0s\n",
            "[CV] END classifier__C=1, classifier__class_weight=balanced, classifier__penalty=elasticnet, classifier__solver=saga; total time=   0.0s\n",
            "[CV] END classifier__C=1, classifier__class_weight=balanced, classifier__penalty=none, classifier__solver=liblinear; total time=   0.0s\n",
            "[CV] END classifier__C=1, classifier__class_weight=balanced, classifier__penalty=none, classifier__solver=liblinear; total time=   0.0s\n",
            "[CV] END classifier__C=1, classifier__class_weight=balanced, classifier__penalty=none, classifier__solver=liblinear; total time=   0.0s\n",
            "[CV] END classifier__C=1, classifier__class_weight=balanced, classifier__penalty=none, classifier__solver=liblinear; total time=   0.0s\n",
            "[CV] END classifier__C=1, classifier__class_weight=balanced, classifier__penalty=none, classifier__solver=liblinear; total time=   0.0s\n"
          ]
        },
        {
          "output_type": "stream",
          "name": "stderr",
          "text": [
            "/usr/local/lib/python3.7/dist-packages/sklearn/linear_model/_sag.py:354: ConvergenceWarning: The max_iter was reached which means the coef_ did not converge\n",
            "  ConvergenceWarning,\n",
            "/usr/local/lib/python3.7/dist-packages/sklearn/linear_model/_sag.py:354: ConvergenceWarning: The max_iter was reached which means the coef_ did not converge\n",
            "  ConvergenceWarning,\n"
          ]
        },
        {
          "output_type": "stream",
          "name": "stdout",
          "text": [
            "[CV] END classifier__C=1, classifier__class_weight=balanced, classifier__penalty=none, classifier__solver=saga; total time=   0.1s\n",
            "[CV] END classifier__C=1, classifier__class_weight=balanced, classifier__penalty=none, classifier__solver=saga; total time=   0.1s\n",
            "[CV] END classifier__C=1, classifier__class_weight=balanced, classifier__penalty=none, classifier__solver=saga; total time=   0.1s\n"
          ]
        },
        {
          "output_type": "stream",
          "name": "stderr",
          "text": [
            "/usr/local/lib/python3.7/dist-packages/sklearn/linear_model/_sag.py:354: ConvergenceWarning: The max_iter was reached which means the coef_ did not converge\n",
            "  ConvergenceWarning,\n",
            "/usr/local/lib/python3.7/dist-packages/sklearn/linear_model/_sag.py:354: ConvergenceWarning: The max_iter was reached which means the coef_ did not converge\n",
            "  ConvergenceWarning,\n",
            "/usr/local/lib/python3.7/dist-packages/sklearn/linear_model/_sag.py:354: ConvergenceWarning: The max_iter was reached which means the coef_ did not converge\n",
            "  ConvergenceWarning,\n"
          ]
        },
        {
          "output_type": "stream",
          "name": "stdout",
          "text": [
            "[CV] END classifier__C=1, classifier__class_weight=balanced, classifier__penalty=none, classifier__solver=saga; total time=   0.1s\n",
            "[CV] END classifier__C=1, classifier__class_weight=balanced, classifier__penalty=none, classifier__solver=saga; total time=   0.1s\n",
            "[CV] END classifier__C=10, classifier__class_weight=None, classifier__penalty=l1, classifier__solver=liblinear; total time=   0.0s\n",
            "[CV] END classifier__C=10, classifier__class_weight=None, classifier__penalty=l1, classifier__solver=liblinear; total time=   0.0s\n",
            "[CV] END classifier__C=10, classifier__class_weight=None, classifier__penalty=l1, classifier__solver=liblinear; total time=   0.1s\n",
            "[CV] END classifier__C=10, classifier__class_weight=None, classifier__penalty=l1, classifier__solver=liblinear; total time=   0.0s\n",
            "[CV] END classifier__C=10, classifier__class_weight=None, classifier__penalty=l1, classifier__solver=liblinear; total time=   0.0s\n",
            "[CV] END classifier__C=10, classifier__class_weight=None, classifier__penalty=l1, classifier__solver=saga; total time=   0.0s\n",
            "[CV] END classifier__C=10, classifier__class_weight=None, classifier__penalty=l1, classifier__solver=saga; total time=   0.0s\n",
            "[CV] END classifier__C=10, classifier__class_weight=None, classifier__penalty=l1, classifier__solver=saga; total time=   0.0s\n"
          ]
        },
        {
          "output_type": "stream",
          "name": "stderr",
          "text": [
            "/usr/local/lib/python3.7/dist-packages/sklearn/linear_model/_sag.py:354: ConvergenceWarning: The max_iter was reached which means the coef_ did not converge\n",
            "  ConvergenceWarning,\n",
            "/usr/local/lib/python3.7/dist-packages/sklearn/linear_model/_sag.py:354: ConvergenceWarning: The max_iter was reached which means the coef_ did not converge\n",
            "  ConvergenceWarning,\n",
            "/usr/local/lib/python3.7/dist-packages/sklearn/linear_model/_sag.py:354: ConvergenceWarning: The max_iter was reached which means the coef_ did not converge\n",
            "  ConvergenceWarning,\n",
            "/usr/local/lib/python3.7/dist-packages/sklearn/linear_model/_sag.py:354: ConvergenceWarning: The max_iter was reached which means the coef_ did not converge\n",
            "  ConvergenceWarning,\n",
            "/usr/local/lib/python3.7/dist-packages/sklearn/linear_model/_sag.py:354: ConvergenceWarning: The max_iter was reached which means the coef_ did not converge\n",
            "  ConvergenceWarning,\n"
          ]
        },
        {
          "output_type": "stream",
          "name": "stdout",
          "text": [
            "[CV] END classifier__C=10, classifier__class_weight=None, classifier__penalty=l1, classifier__solver=saga; total time=   0.0s\n",
            "[CV] END classifier__C=10, classifier__class_weight=None, classifier__penalty=l1, classifier__solver=saga; total time=   0.0s\n",
            "[CV] END classifier__C=10, classifier__class_weight=None, classifier__penalty=l2, classifier__solver=liblinear; total time=   0.0s\n",
            "[CV] END classifier__C=10, classifier__class_weight=None, classifier__penalty=l2, classifier__solver=liblinear; total time=   0.0s\n",
            "[CV] END classifier__C=10, classifier__class_weight=None, classifier__penalty=l2, classifier__solver=liblinear; total time=   0.0s\n",
            "[CV] END classifier__C=10, classifier__class_weight=None, classifier__penalty=l2, classifier__solver=liblinear; total time=   0.0s\n",
            "[CV] END classifier__C=10, classifier__class_weight=None, classifier__penalty=l2, classifier__solver=liblinear; total time=   0.0s\n",
            "[CV] END classifier__C=10, classifier__class_weight=None, classifier__penalty=l2, classifier__solver=saga; total time=   0.0s\n",
            "[CV] END classifier__C=10, classifier__class_weight=None, classifier__penalty=l2, classifier__solver=saga; total time=   0.0s\n"
          ]
        },
        {
          "output_type": "stream",
          "name": "stderr",
          "text": [
            "/usr/local/lib/python3.7/dist-packages/sklearn/linear_model/_sag.py:354: ConvergenceWarning: The max_iter was reached which means the coef_ did not converge\n",
            "  ConvergenceWarning,\n",
            "/usr/local/lib/python3.7/dist-packages/sklearn/linear_model/_sag.py:354: ConvergenceWarning: The max_iter was reached which means the coef_ did not converge\n",
            "  ConvergenceWarning,\n",
            "/usr/local/lib/python3.7/dist-packages/sklearn/linear_model/_sag.py:354: ConvergenceWarning: The max_iter was reached which means the coef_ did not converge\n",
            "  ConvergenceWarning,\n",
            "/usr/local/lib/python3.7/dist-packages/sklearn/linear_model/_sag.py:354: ConvergenceWarning: The max_iter was reached which means the coef_ did not converge\n",
            "  ConvergenceWarning,\n",
            "/usr/local/lib/python3.7/dist-packages/sklearn/linear_model/_sag.py:354: ConvergenceWarning: The max_iter was reached which means the coef_ did not converge\n",
            "  ConvergenceWarning,\n",
            "/usr/local/lib/python3.7/dist-packages/sklearn/linear_model/_logistic.py:1484: UserWarning: Setting penalty='none' will ignore the C and l1_ratio parameters\n",
            "  \"Setting penalty='none' will ignore the C and l1_ratio parameters\"\n"
          ]
        },
        {
          "output_type": "stream",
          "name": "stdout",
          "text": [
            "[CV] END classifier__C=10, classifier__class_weight=None, classifier__penalty=l2, classifier__solver=saga; total time=   0.0s\n",
            "[CV] END classifier__C=10, classifier__class_weight=None, classifier__penalty=l2, classifier__solver=saga; total time=   0.0s\n",
            "[CV] END classifier__C=10, classifier__class_weight=None, classifier__penalty=l2, classifier__solver=saga; total time=   0.0s\n",
            "[CV] END classifier__C=10, classifier__class_weight=None, classifier__penalty=elasticnet, classifier__solver=liblinear; total time=   0.0s\n",
            "[CV] END classifier__C=10, classifier__class_weight=None, classifier__penalty=elasticnet, classifier__solver=liblinear; total time=   0.0s\n",
            "[CV] END classifier__C=10, classifier__class_weight=None, classifier__penalty=elasticnet, classifier__solver=liblinear; total time=   0.0s\n",
            "[CV] END classifier__C=10, classifier__class_weight=None, classifier__penalty=elasticnet, classifier__solver=liblinear; total time=   0.0s\n",
            "[CV] END classifier__C=10, classifier__class_weight=None, classifier__penalty=elasticnet, classifier__solver=liblinear; total time=   0.0s\n",
            "[CV] END classifier__C=10, classifier__class_weight=None, classifier__penalty=elasticnet, classifier__solver=saga; total time=   0.0s\n",
            "[CV] END classifier__C=10, classifier__class_weight=None, classifier__penalty=elasticnet, classifier__solver=saga; total time=   0.0s\n",
            "[CV] END classifier__C=10, classifier__class_weight=None, classifier__penalty=elasticnet, classifier__solver=saga; total time=   0.0s\n",
            "[CV] END classifier__C=10, classifier__class_weight=None, classifier__penalty=elasticnet, classifier__solver=saga; total time=   0.0s\n",
            "[CV] END classifier__C=10, classifier__class_weight=None, classifier__penalty=elasticnet, classifier__solver=saga; total time=   0.0s\n",
            "[CV] END classifier__C=10, classifier__class_weight=None, classifier__penalty=none, classifier__solver=liblinear; total time=   0.0s\n",
            "[CV] END classifier__C=10, classifier__class_weight=None, classifier__penalty=none, classifier__solver=liblinear; total time=   0.0s\n",
            "[CV] END classifier__C=10, classifier__class_weight=None, classifier__penalty=none, classifier__solver=liblinear; total time=   0.0s\n",
            "[CV] END classifier__C=10, classifier__class_weight=None, classifier__penalty=none, classifier__solver=liblinear; total time=   0.0s\n",
            "[CV] END classifier__C=10, classifier__class_weight=None, classifier__penalty=none, classifier__solver=liblinear; total time=   0.0s\n",
            "[CV] END classifier__C=10, classifier__class_weight=None, classifier__penalty=none, classifier__solver=saga; total time=   0.0s\n",
            "[CV] END classifier__C=10, classifier__class_weight=None, classifier__penalty=none, classifier__solver=saga; total time=   0.0s\n"
          ]
        },
        {
          "output_type": "stream",
          "name": "stderr",
          "text": [
            "/usr/local/lib/python3.7/dist-packages/sklearn/linear_model/_sag.py:354: ConvergenceWarning: The max_iter was reached which means the coef_ did not converge\n",
            "  ConvergenceWarning,\n",
            "/usr/local/lib/python3.7/dist-packages/sklearn/linear_model/_logistic.py:1484: UserWarning: Setting penalty='none' will ignore the C and l1_ratio parameters\n",
            "  \"Setting penalty='none' will ignore the C and l1_ratio parameters\"\n",
            "/usr/local/lib/python3.7/dist-packages/sklearn/linear_model/_sag.py:354: ConvergenceWarning: The max_iter was reached which means the coef_ did not converge\n",
            "  ConvergenceWarning,\n",
            "/usr/local/lib/python3.7/dist-packages/sklearn/linear_model/_logistic.py:1484: UserWarning: Setting penalty='none' will ignore the C and l1_ratio parameters\n",
            "  \"Setting penalty='none' will ignore the C and l1_ratio parameters\"\n",
            "/usr/local/lib/python3.7/dist-packages/sklearn/linear_model/_sag.py:354: ConvergenceWarning: The max_iter was reached which means the coef_ did not converge\n",
            "  ConvergenceWarning,\n",
            "/usr/local/lib/python3.7/dist-packages/sklearn/linear_model/_logistic.py:1484: UserWarning: Setting penalty='none' will ignore the C and l1_ratio parameters\n",
            "  \"Setting penalty='none' will ignore the C and l1_ratio parameters\"\n",
            "/usr/local/lib/python3.7/dist-packages/sklearn/linear_model/_sag.py:354: ConvergenceWarning: The max_iter was reached which means the coef_ did not converge\n",
            "  ConvergenceWarning,\n",
            "/usr/local/lib/python3.7/dist-packages/sklearn/linear_model/_logistic.py:1484: UserWarning: Setting penalty='none' will ignore the C and l1_ratio parameters\n",
            "  \"Setting penalty='none' will ignore the C and l1_ratio parameters\"\n",
            "/usr/local/lib/python3.7/dist-packages/sklearn/linear_model/_sag.py:354: ConvergenceWarning: The max_iter was reached which means the coef_ did not converge\n",
            "  ConvergenceWarning,\n"
          ]
        },
        {
          "output_type": "stream",
          "name": "stdout",
          "text": [
            "[CV] END classifier__C=10, classifier__class_weight=None, classifier__penalty=none, classifier__solver=saga; total time=   0.0s\n",
            "[CV] END classifier__C=10, classifier__class_weight=None, classifier__penalty=none, classifier__solver=saga; total time=   0.0s\n",
            "[CV] END classifier__C=10, classifier__class_weight=None, classifier__penalty=none, classifier__solver=saga; total time=   0.0s\n",
            "[CV] END classifier__C=10, classifier__class_weight=balanced, classifier__penalty=l1, classifier__solver=liblinear; total time=   0.0s\n",
            "[CV] END classifier__C=10, classifier__class_weight=balanced, classifier__penalty=l1, classifier__solver=liblinear; total time=   0.0s\n",
            "[CV] END classifier__C=10, classifier__class_weight=balanced, classifier__penalty=l1, classifier__solver=liblinear; total time=   0.0s\n",
            "[CV] END classifier__C=10, classifier__class_weight=balanced, classifier__penalty=l1, classifier__solver=liblinear; total time=   0.0s\n",
            "[CV] END classifier__C=10, classifier__class_weight=balanced, classifier__penalty=l1, classifier__solver=liblinear; total time=   0.0s\n",
            "[CV] END classifier__C=10, classifier__class_weight=balanced, classifier__penalty=l1, classifier__solver=saga; total time=   0.0s\n"
          ]
        },
        {
          "output_type": "stream",
          "name": "stderr",
          "text": [
            "/usr/local/lib/python3.7/dist-packages/sklearn/linear_model/_sag.py:354: ConvergenceWarning: The max_iter was reached which means the coef_ did not converge\n",
            "  ConvergenceWarning,\n",
            "/usr/local/lib/python3.7/dist-packages/sklearn/linear_model/_sag.py:354: ConvergenceWarning: The max_iter was reached which means the coef_ did not converge\n",
            "  ConvergenceWarning,\n",
            "/usr/local/lib/python3.7/dist-packages/sklearn/linear_model/_sag.py:354: ConvergenceWarning: The max_iter was reached which means the coef_ did not converge\n",
            "  ConvergenceWarning,\n",
            "/usr/local/lib/python3.7/dist-packages/sklearn/linear_model/_sag.py:354: ConvergenceWarning: The max_iter was reached which means the coef_ did not converge\n",
            "  ConvergenceWarning,\n",
            "/usr/local/lib/python3.7/dist-packages/sklearn/linear_model/_sag.py:354: ConvergenceWarning: The max_iter was reached which means the coef_ did not converge\n",
            "  ConvergenceWarning,\n"
          ]
        },
        {
          "output_type": "stream",
          "name": "stdout",
          "text": [
            "[CV] END classifier__C=10, classifier__class_weight=balanced, classifier__penalty=l1, classifier__solver=saga; total time=   0.0s\n",
            "[CV] END classifier__C=10, classifier__class_weight=balanced, classifier__penalty=l1, classifier__solver=saga; total time=   0.0s\n",
            "[CV] END classifier__C=10, classifier__class_weight=balanced, classifier__penalty=l1, classifier__solver=saga; total time=   0.0s\n",
            "[CV] END classifier__C=10, classifier__class_weight=balanced, classifier__penalty=l1, classifier__solver=saga; total time=   0.0s\n",
            "[CV] END classifier__C=10, classifier__class_weight=balanced, classifier__penalty=l2, classifier__solver=liblinear; total time=   0.0s\n",
            "[CV] END classifier__C=10, classifier__class_weight=balanced, classifier__penalty=l2, classifier__solver=liblinear; total time=   0.0s\n",
            "[CV] END classifier__C=10, classifier__class_weight=balanced, classifier__penalty=l2, classifier__solver=liblinear; total time=   0.0s\n",
            "[CV] END classifier__C=10, classifier__class_weight=balanced, classifier__penalty=l2, classifier__solver=liblinear; total time=   0.0s\n",
            "[CV] END classifier__C=10, classifier__class_weight=balanced, classifier__penalty=l2, classifier__solver=liblinear; total time=   0.0s\n"
          ]
        },
        {
          "output_type": "stream",
          "name": "stderr",
          "text": [
            "/usr/local/lib/python3.7/dist-packages/sklearn/linear_model/_sag.py:354: ConvergenceWarning: The max_iter was reached which means the coef_ did not converge\n",
            "  ConvergenceWarning,\n",
            "/usr/local/lib/python3.7/dist-packages/sklearn/linear_model/_sag.py:354: ConvergenceWarning: The max_iter was reached which means the coef_ did not converge\n",
            "  ConvergenceWarning,\n",
            "/usr/local/lib/python3.7/dist-packages/sklearn/linear_model/_sag.py:354: ConvergenceWarning: The max_iter was reached which means the coef_ did not converge\n",
            "  ConvergenceWarning,\n",
            "/usr/local/lib/python3.7/dist-packages/sklearn/linear_model/_sag.py:354: ConvergenceWarning: The max_iter was reached which means the coef_ did not converge\n",
            "  ConvergenceWarning,\n",
            "/usr/local/lib/python3.7/dist-packages/sklearn/linear_model/_sag.py:354: ConvergenceWarning: The max_iter was reached which means the coef_ did not converge\n",
            "  ConvergenceWarning,\n",
            "/usr/local/lib/python3.7/dist-packages/sklearn/linear_model/_logistic.py:1484: UserWarning: Setting penalty='none' will ignore the C and l1_ratio parameters\n",
            "  \"Setting penalty='none' will ignore the C and l1_ratio parameters\"\n"
          ]
        },
        {
          "output_type": "stream",
          "name": "stdout",
          "text": [
            "[CV] END classifier__C=10, classifier__class_weight=balanced, classifier__penalty=l2, classifier__solver=saga; total time=   0.0s\n",
            "[CV] END classifier__C=10, classifier__class_weight=balanced, classifier__penalty=l2, classifier__solver=saga; total time=   0.0s\n",
            "[CV] END classifier__C=10, classifier__class_weight=balanced, classifier__penalty=l2, classifier__solver=saga; total time=   0.0s\n",
            "[CV] END classifier__C=10, classifier__class_weight=balanced, classifier__penalty=l2, classifier__solver=saga; total time=   0.0s\n",
            "[CV] END classifier__C=10, classifier__class_weight=balanced, classifier__penalty=l2, classifier__solver=saga; total time=   0.0s\n",
            "[CV] END classifier__C=10, classifier__class_weight=balanced, classifier__penalty=elasticnet, classifier__solver=liblinear; total time=   0.0s\n",
            "[CV] END classifier__C=10, classifier__class_weight=balanced, classifier__penalty=elasticnet, classifier__solver=liblinear; total time=   0.0s\n",
            "[CV] END classifier__C=10, classifier__class_weight=balanced, classifier__penalty=elasticnet, classifier__solver=liblinear; total time=   0.0s\n",
            "[CV] END classifier__C=10, classifier__class_weight=balanced, classifier__penalty=elasticnet, classifier__solver=liblinear; total time=   0.0s\n",
            "[CV] END classifier__C=10, classifier__class_weight=balanced, classifier__penalty=elasticnet, classifier__solver=liblinear; total time=   0.0s\n",
            "[CV] END classifier__C=10, classifier__class_weight=balanced, classifier__penalty=elasticnet, classifier__solver=saga; total time=   0.0s\n",
            "[CV] END classifier__C=10, classifier__class_weight=balanced, classifier__penalty=elasticnet, classifier__solver=saga; total time=   0.0s\n",
            "[CV] END classifier__C=10, classifier__class_weight=balanced, classifier__penalty=elasticnet, classifier__solver=saga; total time=   0.0s\n",
            "[CV] END classifier__C=10, classifier__class_weight=balanced, classifier__penalty=elasticnet, classifier__solver=saga; total time=   0.0s\n",
            "[CV] END classifier__C=10, classifier__class_weight=balanced, classifier__penalty=elasticnet, classifier__solver=saga; total time=   0.0s\n",
            "[CV] END classifier__C=10, classifier__class_weight=balanced, classifier__penalty=none, classifier__solver=liblinear; total time=   0.0s\n",
            "[CV] END classifier__C=10, classifier__class_weight=balanced, classifier__penalty=none, classifier__solver=liblinear; total time=   0.0s\n",
            "[CV] END classifier__C=10, classifier__class_weight=balanced, classifier__penalty=none, classifier__solver=liblinear; total time=   0.0s\n",
            "[CV] END classifier__C=10, classifier__class_weight=balanced, classifier__penalty=none, classifier__solver=liblinear; total time=   0.0s\n",
            "[CV] END classifier__C=10, classifier__class_weight=balanced, classifier__penalty=none, classifier__solver=liblinear; total time=   0.0s\n",
            "[CV] END classifier__C=10, classifier__class_weight=balanced, classifier__penalty=none, classifier__solver=saga; total time=   0.0s\n",
            "[CV] END classifier__C=10, classifier__class_weight=balanced, classifier__penalty=none, classifier__solver=saga; total time=   0.0s\n",
            "[CV] END classifier__C=10, classifier__class_weight=balanced, classifier__penalty=none, classifier__solver=saga; total time=   0.0s\n",
            "[CV] END classifier__C=10, classifier__class_weight=balanced, classifier__penalty=none, classifier__solver=saga; total time=   0.0s\n",
            "[CV] END classifier__C=10, classifier__class_weight=balanced, classifier__penalty=none, classifier__solver=saga; total time=   0.0s\n",
            "CPU times: user 5.44 s, sys: 59.4 ms, total: 5.5 s\n",
            "Wall time: 6.03 s\n"
          ]
        },
        {
          "output_type": "stream",
          "name": "stderr",
          "text": [
            "/usr/local/lib/python3.7/dist-packages/sklearn/linear_model/_sag.py:354: ConvergenceWarning: The max_iter was reached which means the coef_ did not converge\n",
            "  ConvergenceWarning,\n",
            "/usr/local/lib/python3.7/dist-packages/sklearn/linear_model/_logistic.py:1484: UserWarning: Setting penalty='none' will ignore the C and l1_ratio parameters\n",
            "  \"Setting penalty='none' will ignore the C and l1_ratio parameters\"\n",
            "/usr/local/lib/python3.7/dist-packages/sklearn/linear_model/_sag.py:354: ConvergenceWarning: The max_iter was reached which means the coef_ did not converge\n",
            "  ConvergenceWarning,\n",
            "/usr/local/lib/python3.7/dist-packages/sklearn/linear_model/_logistic.py:1484: UserWarning: Setting penalty='none' will ignore the C and l1_ratio parameters\n",
            "  \"Setting penalty='none' will ignore the C and l1_ratio parameters\"\n",
            "/usr/local/lib/python3.7/dist-packages/sklearn/linear_model/_sag.py:354: ConvergenceWarning: The max_iter was reached which means the coef_ did not converge\n",
            "  ConvergenceWarning,\n",
            "/usr/local/lib/python3.7/dist-packages/sklearn/linear_model/_logistic.py:1484: UserWarning: Setting penalty='none' will ignore the C and l1_ratio parameters\n",
            "  \"Setting penalty='none' will ignore the C and l1_ratio parameters\"\n",
            "/usr/local/lib/python3.7/dist-packages/sklearn/linear_model/_sag.py:354: ConvergenceWarning: The max_iter was reached which means the coef_ did not converge\n",
            "  ConvergenceWarning,\n",
            "/usr/local/lib/python3.7/dist-packages/sklearn/linear_model/_logistic.py:1484: UserWarning: Setting penalty='none' will ignore the C and l1_ratio parameters\n",
            "  \"Setting penalty='none' will ignore the C and l1_ratio parameters\"\n",
            "/usr/local/lib/python3.7/dist-packages/sklearn/linear_model/_sag.py:354: ConvergenceWarning: The max_iter was reached which means the coef_ did not converge\n",
            "  ConvergenceWarning,\n",
            "/usr/local/lib/python3.7/dist-packages/sklearn/model_selection/_validation.py:372: FitFailedWarning: \n",
            "90 fits failed out of a total of 240.\n",
            "The score on these train-test partitions for these parameters will be set to nan.\n",
            "If these failures are not expected, you can try to debug them by setting error_score='raise'.\n",
            "\n",
            "Below are more details about the failures:\n",
            "--------------------------------------------------------------------------------\n",
            "30 fits failed with the following error:\n",
            "Traceback (most recent call last):\n",
            "  File \"/usr/local/lib/python3.7/dist-packages/sklearn/model_selection/_validation.py\", line 680, in _fit_and_score\n",
            "    estimator.fit(X_train, y_train, **fit_params)\n",
            "  File \"/usr/local/lib/python3.7/dist-packages/sklearn/pipeline.py\", line 394, in fit\n",
            "    self._final_estimator.fit(Xt, y, **fit_params_last_step)\n",
            "  File \"/usr/local/lib/python3.7/dist-packages/sklearn/linear_model/_logistic.py\", line 1461, in fit\n",
            "    solver = _check_solver(self.solver, self.penalty, self.dual)\n",
            "  File \"/usr/local/lib/python3.7/dist-packages/sklearn/linear_model/_logistic.py\", line 459, in _check_solver\n",
            "    solver\n",
            "ValueError: Only 'saga' solver supports elasticnet penalty, got solver=liblinear.\n",
            "\n",
            "--------------------------------------------------------------------------------\n",
            "30 fits failed with the following error:\n",
            "Traceback (most recent call last):\n",
            "  File \"/usr/local/lib/python3.7/dist-packages/sklearn/model_selection/_validation.py\", line 680, in _fit_and_score\n",
            "    estimator.fit(X_train, y_train, **fit_params)\n",
            "  File \"/usr/local/lib/python3.7/dist-packages/sklearn/pipeline.py\", line 394, in fit\n",
            "    self._final_estimator.fit(Xt, y, **fit_params_last_step)\n",
            "  File \"/usr/local/lib/python3.7/dist-packages/sklearn/linear_model/_logistic.py\", line 1473, in fit\n",
            "    % self.l1_ratio\n",
            "ValueError: l1_ratio must be between 0 and 1; got (l1_ratio=None)\n",
            "\n",
            "--------------------------------------------------------------------------------\n",
            "30 fits failed with the following error:\n",
            "Traceback (most recent call last):\n",
            "  File \"/usr/local/lib/python3.7/dist-packages/sklearn/model_selection/_validation.py\", line 680, in _fit_and_score\n",
            "    estimator.fit(X_train, y_train, **fit_params)\n",
            "  File \"/usr/local/lib/python3.7/dist-packages/sklearn/pipeline.py\", line 394, in fit\n",
            "    self._final_estimator.fit(Xt, y, **fit_params_last_step)\n",
            "  File \"/usr/local/lib/python3.7/dist-packages/sklearn/linear_model/_logistic.py\", line 1461, in fit\n",
            "    solver = _check_solver(self.solver, self.penalty, self.dual)\n",
            "  File \"/usr/local/lib/python3.7/dist-packages/sklearn/linear_model/_logistic.py\", line 464, in _check_solver\n",
            "    raise ValueError(\"penalty='none' is not supported for the liblinear solver\")\n",
            "ValueError: penalty='none' is not supported for the liblinear solver\n",
            "\n",
            "  warnings.warn(some_fits_failed_message, FitFailedWarning)\n",
            "/usr/local/lib/python3.7/dist-packages/sklearn/model_selection/_search.py:972: UserWarning: One or more of the test scores are non-finite: [0.77949231 0.7794759  0.77974157 0.77909092        nan        nan\n",
            "        nan 0.77862496 0.77675013 0.77618122 0.77472612 0.77537648\n",
            "        nan        nan        nan 0.77653076 0.77883656 0.77883656\n",
            " 0.77940544 0.77940544        nan        nan        nan 0.77862496\n",
            " 0.77736259 0.7764448  0.77651911 0.77651911        nan        nan\n",
            "        nan 0.77653076 0.77931515 0.77931515 0.78002602 0.78002602\n",
            "        nan        nan        nan 0.77862496 0.77722101 0.77668233\n",
            " 0.77653076 0.77653076        nan        nan        nan 0.77653076]\n",
            "  category=UserWarning,\n"
          ]
        }
      ],
      "source": [
        "%%time\n",
        "grid_search_logistic = GridSearchCV(pipe_logistic, parameters, scoring='precision_weighted', cv=5, verbose = 2)\n",
        "with tf.device('/device:GPU:0'):\n",
        "  grid_search_logistic.fit(X_train,Y_train)"
      ]
    },
    {
      "cell_type": "code",
      "execution_count": 89,
      "metadata": {
        "colab": {
          "base_uri": "https://localhost:8080/"
        },
        "outputId": "9c536748-3468-44f2-e5e4-1b862a51b2bf",
        "id": "Hucq80w5NN7O"
      },
      "outputs": [
        {
          "output_type": "execute_result",
          "data": {
            "text/plain": [
              "{'classifier__C': 10,\n",
              " 'classifier__class_weight': None,\n",
              " 'classifier__penalty': 'l2',\n",
              " 'classifier__solver': 'liblinear'}"
            ]
          },
          "metadata": {},
          "execution_count": 89
        }
      ],
      "source": [
        "grid_search_logistic.best_params_"
      ]
    },
    {
      "cell_type": "code",
      "execution_count": 71,
      "metadata": {
        "colab": {
          "base_uri": "https://localhost:8080/"
        },
        "outputId": "ea0c37cb-3161-42fe-c52b-b9e9426ad578",
        "id": "dllfMKUgNN7O"
      },
      "outputs": [
        {
          "output_type": "stream",
          "name": "stdout",
          "text": [
            "Train Report\n",
            "               precision    recall  f1-score   support\n",
            "\n",
            "           0       0.82      0.96      0.88      2001\n",
            "           1       0.69      0.31      0.43       627\n",
            "\n",
            "    accuracy                           0.80      2628\n",
            "   macro avg       0.75      0.63      0.66      2628\n",
            "weighted avg       0.79      0.80      0.77      2628\n",
            "\n"
          ]
        }
      ],
      "source": [
        "# Obtener el mejor modelo.\n",
        "mejor_logistic = grid_search_logistic.best_estimator_\n",
        "\n",
        "y_pred_train_logistic = mejor_logistic.predict(X_train)\n",
        "\n",
        "report_logistic = classification_report(Y_train, y_pred_train_logistic)\n",
        "\n",
        "print(\"Train Report\\n\", report_logistic)"
      ]
    },
    {
      "cell_type": "code",
      "execution_count": 72,
      "metadata": {
        "colab": {
          "base_uri": "https://localhost:8080/",
          "height": 719
        },
        "outputId": "b035612f-cac7-4aea-e562-69ba912d7d40",
        "id": "Ra52o2LHNN7O"
      },
      "outputs": [
        {
          "output_type": "stream",
          "name": "stdout",
          "text": [
            "Confusion matrix, without normalization\n"
          ]
        },
        {
          "output_type": "execute_result",
          "data": {
            "text/plain": [
              "<matplotlib.axes._subplots.AxesSubplot at 0x7f03769ae890>"
            ]
          },
          "metadata": {},
          "execution_count": 72
        },
        {
          "output_type": "display_data",
          "data": {
            "text/plain": [
              "<Figure size 720x720 with 2 Axes>"
            ],
            "image/png": "[encoded data removed]"
          },
          "metadata": {
            "needs_background": "light"
          }
        }
      ],
      "source": [
        "%matplotlib inline\n",
        "plot_confusion_matrix(y_true=Y_train, y_pred=y_pred_train_logistic, classes=[\"0 - No necesita cirugía\",\"1 - Necesita cirugía\"],\n",
        "                      title='Matriz de Confusión - train')"
      ]
    },
    {
      "cell_type": "code",
      "execution_count": 73,
      "metadata": {
        "id": "CJAUzkBkNN7O"
      },
      "outputs": [],
      "source": [
        "# Ahora se usará un pipeline con el mejor modelo para analizar los datos de test\n",
        "estimators = [\n",
        "        ('classifier', LogisticRegression( C=10,penalty=\"l2\", class_weight=None ))]\n",
        "\n",
        "pipe_logistic_test = Pipeline(estimators)"
      ]
    },
    {
      "cell_type": "code",
      "execution_count": 74,
      "metadata": {
        "colab": {
          "base_uri": "https://localhost:8080/"
        },
        "outputId": "b2743516-96cf-4400-e411-6cdbfe6e10c9",
        "id": "uwTN6kQCNN7P"
      },
      "outputs": [
        {
          "output_type": "stream",
          "name": "stdout",
          "text": [
            "CPU times: user 51 ms, sys: 41 ms, total: 92 ms\n",
            "Wall time: 57.4 ms\n"
          ]
        },
        {
          "output_type": "execute_result",
          "data": {
            "text/plain": [
              "Pipeline(steps=[('classifier', LogisticRegression(C=10))])"
            ]
          },
          "metadata": {},
          "execution_count": 74
        }
      ],
      "source": [
        "%%time\n",
        "pipe_logistic_test.fit(X_train, Y_train)"
      ]
    },
    {
      "cell_type": "code",
      "execution_count": 75,
      "metadata": {
        "colab": {
          "base_uri": "https://localhost:8080/"
        },
        "outputId": "8089534b-9cda-4715-c785-27e2c5007910",
        "id": "jktutSEaNN7P"
      },
      "outputs": [
        {
          "output_type": "stream",
          "name": "stdout",
          "text": [
            "Logistic regression Test Report\n",
            "               precision    recall  f1-score   support\n",
            "\n",
            "           0       0.83      0.94      0.88       500\n",
            "           1       0.67      0.37      0.48       157\n",
            "\n",
            "    accuracy                           0.81       657\n",
            "   macro avg       0.75      0.66      0.68       657\n",
            "weighted avg       0.79      0.81      0.78       657\n",
            "\n"
          ]
        }
      ],
      "source": [
        "y_pred_test_logistic=pipe_logistic_test.predict(X_test)\n",
        "\n",
        "report_tree = classification_report(Y_test, y_pred_test_logistic)\n",
        "\n",
        "print(\"Logistic regression Test Report\\n\", report_tree)"
      ]
    },
    {
      "cell_type": "code",
      "execution_count": 76,
      "metadata": {
        "colab": {
          "base_uri": "https://localhost:8080/",
          "height": 719
        },
        "outputId": "81ebc5ea-447c-437e-e896-810c9c728136",
        "id": "rUlWacRWNN7P"
      },
      "outputs": [
        {
          "output_type": "stream",
          "name": "stdout",
          "text": [
            "Confusion matrix, without normalization\n"
          ]
        },
        {
          "output_type": "execute_result",
          "data": {
            "text/plain": [
              "<matplotlib.axes._subplots.AxesSubplot at 0x7f03768d0350>"
            ]
          },
          "metadata": {},
          "execution_count": 76
        },
        {
          "output_type": "display_data",
          "data": {
            "text/plain": [
              "<Figure size 720x720 with 2 Axes>"
            ],
            "image/png": "[encoded data removed]"
          },
          "metadata": {
            "needs_background": "light"
          }
        }
      ],
      "source": [
        "%matplotlib inline\n",
        "plot_confusion_matrix(y_true=Y_test, y_pred=y_pred_test_logistic, classes=[\"0 - No necesita cirugía\",\"1 - Necesita cirugía\"],\n",
        "                      title='Matriz de Confusión - test')"
      ]
    },
    {
      "cell_type": "markdown",
      "source": [
        "### 4.1.5 Random Forest"
      ],
      "metadata": {
        "id": "c66YJJuq34hl"
      }
    },
    {
      "cell_type": "code",
      "execution_count": 139,
      "metadata": {
        "id": "-zg8HXVy34hl"
      },
      "outputs": [],
      "source": [
        "estimators = [\n",
        "        ('classifier', RandomForestClassifier(max_depth=2, random_state=0))          \n",
        "    ]\n",
        "\n",
        "parameters = {\n",
        "              'classifier__n_estimators':[100,200],\n",
        "              'classifier__criterion':['gini','entropy'],\n",
        "              'classifier__max_depth':[2,4,8,16,24,28,32],\n",
        "              'classifier__min_samples_split':[2,3],\n",
        "              'classifier__class_weight':[None, 'balanced']\n",
        "            }\n",
        "\n",
        "pipe_RF = Pipeline(estimators)"
      ]
    },
    {
      "cell_type": "code",
      "execution_count": 140,
      "metadata": {
        "colab": {
          "base_uri": "https://localhost:8080/"
        },
        "outputId": "81bb1e1c-bfc3-4ae1-b1b8-28a1a1989171",
        "id": "LvaLnbl-34hl"
      },
      "outputs": [
        {
          "output_type": "stream",
          "name": "stdout",
          "text": [
            "Fitting 5 folds for each of 112 candidates, totalling 560 fits\n",
            "CPU times: user 3min 12s, sys: 868 ms, total: 3min 13s\n",
            "Wall time: 3min 14s\n"
          ]
        }
      ],
      "source": [
        "%%time\n",
        "grid_search_RF = GridSearchCV(pipe_RF, parameters, scoring='precision_weighted', cv=5, verbose = 1)\n",
        "with tf.device('/device:GPU:0'):\n",
        "  grid_search_RF.fit(X_train,Y_train)"
      ]
    },
    {
      "cell_type": "code",
      "execution_count": 141,
      "metadata": {
        "colab": {
          "base_uri": "https://localhost:8080/"
        },
        "outputId": "c43cf400-3416-4851-f276-914cdfdbd02a",
        "id": "7wzroDjP34hm"
      },
      "outputs": [
        {
          "output_type": "execute_result",
          "data": {
            "text/plain": [
              "{'classifier__class_weight': None,\n",
              " 'classifier__criterion': 'entropy',\n",
              " 'classifier__max_depth': 8,\n",
              " 'classifier__min_samples_split': 2,\n",
              " 'classifier__n_estimators': 200}"
            ]
          },
          "metadata": {},
          "execution_count": 141
        }
      ],
      "source": [
        "grid_search_RF.best_params_"
      ]
    },
    {
      "cell_type": "code",
      "execution_count": 142,
      "metadata": {
        "colab": {
          "base_uri": "https://localhost:8080/"
        },
        "outputId": "56b2ffd8-69c8-4ce7-e2d2-e827c2771eb6",
        "id": "cjkC7gD_34hm"
      },
      "outputs": [
        {
          "output_type": "stream",
          "name": "stdout",
          "text": [
            "Train Report\n",
            "               precision    recall  f1-score   support\n",
            "\n",
            "           0       0.85      0.97      0.90      2001\n",
            "           1       0.81      0.45      0.58       627\n",
            "\n",
            "    accuracy                           0.84      2628\n",
            "   macro avg       0.83      0.71      0.74      2628\n",
            "weighted avg       0.84      0.84      0.83      2628\n",
            "\n"
          ]
        }
      ],
      "source": [
        "# Obtener el mejor modelo.\n",
        "mejor_RF = grid_search_RF.best_estimator_\n",
        "\n",
        "y_pred_train_RF = mejor_RF.predict(X_train)\n",
        "\n",
        "report_RF = classification_report(Y_train, y_pred_train_RF)\n",
        "\n",
        "print(\"Train Report\\n\", report_RF)"
      ]
    },
    {
      "cell_type": "code",
      "execution_count": 143,
      "metadata": {
        "colab": {
          "base_uri": "https://localhost:8080/",
          "height": 717
        },
        "outputId": "e9f5598f-81f8-40b2-c491-082009ff6e8b",
        "id": "73bwLPGQ34hm"
      },
      "outputs": [
        {
          "output_type": "stream",
          "name": "stdout",
          "text": [
            "Confusion matrix, without normalization\n"
          ]
        },
        {
          "output_type": "execute_result",
          "data": {
            "text/plain": [
              "<matplotlib.axes._subplots.AxesSubplot at 0x7f037cacb190>"
            ]
          },
          "metadata": {},
          "execution_count": 143
        },
        {
          "output_type": "display_data",
          "data": {
            "text/plain": [
              "<Figure size 720x720 with 2 Axes>"
            ],
            "image/png": "[encoded data removed]"
          },
          "metadata": {
            "needs_background": "light"
          }
        }
      ],
      "source": [
        "%matplotlib inline\n",
        "plot_confusion_matrix(y_true=Y_train, y_pred=y_pred_train_RF, classes=[\"1 - Liberación posterior\",\"2 - Alargamiento de los gemelos\"],\n",
        "                      title='Matriz de Confusión - train')"
      ]
    },
    {
      "cell_type": "code",
      "execution_count": 144,
      "metadata": {
        "colab": {
          "base_uri": "https://localhost:8080/"
        },
        "outputId": "f4629f00-4577-4127-9acc-cf1f58cefaa3",
        "id": "gxy6CdKL5Rr1"
      },
      "outputs": [
        {
          "output_type": "stream",
          "name": "stdout",
          "text": [
            "CPU times: user 432 ms, sys: 1.99 ms, total: 434 ms\n",
            "Wall time: 433 ms\n"
          ]
        },
        {
          "output_type": "execute_result",
          "data": {
            "text/plain": [
              "Pipeline(steps=[('classifier',\n",
              "                 RandomForestClassifier(criterion='entropy', max_depth=8,\n",
              "                                        n_estimators=200, random_state=0))])"
            ]
          },
          "metadata": {},
          "execution_count": 144
        }
      ],
      "source": [
        "%%time\n",
        "mejor_RF.fit(X_train, Y_train)"
      ]
    },
    {
      "cell_type": "code",
      "execution_count": 145,
      "metadata": {
        "colab": {
          "base_uri": "https://localhost:8080/"
        },
        "outputId": "9d870109-2102-47cb-b2df-76ee07a4e5c4",
        "id": "ujn-keUk5Rr2"
      },
      "outputs": [
        {
          "output_type": "stream",
          "name": "stdout",
          "text": [
            "Random Forest Test Report\n",
            "               precision    recall  f1-score   support\n",
            "\n",
            "           0       0.84      0.95      0.89       500\n",
            "           1       0.74      0.43      0.54       157\n",
            "\n",
            "    accuracy                           0.83       657\n",
            "   macro avg       0.79      0.69      0.72       657\n",
            "weighted avg       0.82      0.83      0.81       657\n",
            "\n"
          ]
        }
      ],
      "source": [
        "y_pred_test_logistic=mejor_RF.predict(X_test)\n",
        "\n",
        "report_tree = classification_report(Y_test, y_pred_test_logistic)\n",
        "\n",
        "print(\"Random Forest Test Report\\n\", report_tree)"
      ]
    },
    {
      "cell_type": "code",
      "execution_count": 146,
      "metadata": {
        "colab": {
          "base_uri": "https://localhost:8080/",
          "height": 719
        },
        "outputId": "286c1ea7-3ee2-4a83-a1b5-0e0a918b4665",
        "id": "YvWvHnpE5Rr2"
      },
      "outputs": [
        {
          "output_type": "stream",
          "name": "stdout",
          "text": [
            "Confusion matrix, without normalization\n"
          ]
        },
        {
          "output_type": "execute_result",
          "data": {
            "text/plain": [
              "<matplotlib.axes._subplots.AxesSubplot at 0x7f0375f7f990>"
            ]
          },
          "metadata": {},
          "execution_count": 146
        },
        {
          "output_type": "display_data",
          "data": {
            "text/plain": [
              "<Figure size 720x720 with 2 Axes>"
            ],
            "image/png": "[encoded data removed]"
          },
          "metadata": {
            "needs_background": "light"
          }
        }
      ],
      "source": [
        "%matplotlib inline\n",
        "plot_confusion_matrix(y_true=Y_test, y_pred=y_pred_test_logistic, classes=[\"0 - No necesita cirugía\",\"1 - Necesita cirugía\"],\n",
        "                      title='Matriz de Confusión Random Forest - test')"
      ]
    },
    {
      "cell_type": "markdown",
      "source": [
        "## 4.2 Clasificador binario para predecir el tipo de cirugía que necesita"
      ],
      "metadata": {
        "id": "vEFoH8K7R_Y3"
      }
    },
    {
      "cell_type": "code",
      "source": [
        "X_type=X.copy()\n",
        "X_type['necesitaCirugia']=y_categ\n",
        "X_class=X_type[ X_type['necesitaCirugia'] != 0 ]\n",
        "X_class"
      ],
      "metadata": {
        "id": "YjL9GJB5SfHU",
        "colab": {
          "base_uri": "https://localhost:8080/",
          "height": 522
        },
        "outputId": "c40977fe-b11b-4bb9-a060-a7b209c2d16b"
      },
      "execution_count": 90,
      "outputs": [
        {
          "output_type": "execute_result",
          "data": {
            "text/plain": [
              "          Edad  Tono gastrocnemios  Dorsiflexion  Felxion Plantar Tobillo  \\\n",
              "2    -1.097862            2.592215     -0.661029                 0.134208   \n",
              "5     0.430695            1.498390     -1.264939                 0.134208   \n",
              "6     0.124983           -1.783084     -3.318233                 2.154788   \n",
              "8    -0.027872            1.498390     -1.748067                 1.377642   \n",
              "9    -0.333584            0.404565     -1.264939                 2.154788   \n",
              "...        ...                 ...           ...                      ...   \n",
              "3241 -0.792151           -0.142347     -1.989631                 1.688500   \n",
              "3246 -0.639295            0.404565     -1.506503                 1.688500   \n",
              "3254 -0.027872           -0.142347     -1.989631                 2.310217   \n",
              "3258  2.112107            0.404565     -1.627285                 1.066784   \n",
              "3276 -0.333584            1.498390     -2.351977                 1.688500   \n",
              "\n",
              "      Silfverskiold  Ataxica  Diskinetica  Espastica  Hipotonica  Mixta  \\\n",
              "2          0.432256      0.0          0.0        1.0         0.0    0.0   \n",
              "5          0.432256      0.0          0.0        1.0         0.0    0.0   \n",
              "6          1.660596      0.0          0.0        1.0         0.0    0.0   \n",
              "8          0.432256      0.0          0.0        1.0         0.0    0.0   \n",
              "9          0.432256      0.0          0.0        1.0         0.0    0.0   \n",
              "...             ...      ...          ...        ...         ...    ...   \n",
              "3241       0.432256      0.0          0.0        1.0         0.0    0.0   \n",
              "3246       0.432256      0.0          0.0        1.0         0.0    0.0   \n",
              "3254       0.432256      0.0          0.0        1.0         0.0    0.0   \n",
              "3258       0.432256      0.0          0.0        1.0         0.0    0.0   \n",
              "3276       0.432256      0.0          0.0        1.0         0.0    0.0   \n",
              "\n",
              "      necesitaCirugia  \n",
              "2                 2.0  \n",
              "5                 2.0  \n",
              "6                 1.0  \n",
              "8                 1.0  \n",
              "9                 1.0  \n",
              "...               ...  \n",
              "3241              1.0  \n",
              "3246              1.0  \n",
              "3254              1.0  \n",
              "3258              1.0  \n",
              "3276              1.0  \n",
              "\n",
              "[784 rows x 11 columns]"
            ],
            "text/html": [
              "\n",
              "  <div id=\"df-ec0a5dd3-b70f-4df4-8952-9fe2df1309f7\">\n",
              "    <div class=\"colab-df-container\">\n",
              "      <div>\n",
              "<style scoped>\n",
              "    .dataframe tbody tr th:only-of-type {\n",
              "        vertical-align: middle;\n",
              "    }\n",
              "\n",
              "    .dataframe tbody tr th {\n",
              "        vertical-align: top;\n",
              "    }\n",
              "\n",
              "    .dataframe thead th {\n",
              "        text-align: right;\n",
              "    }\n",
              "</style>\n",
              "<table border=\"1\" class=\"dataframe\">\n",
              "  <thead>\n",
              "    <tr style=\"text-align: right;\">\n",
              "      <th></th>\n",
              "      <th>Edad</th>\n",
              "      <th>Tono gastrocnemios</th>\n",
              "      <th>Dorsiflexion</th>\n",
              "      <th>Felxion Plantar Tobillo</th>\n",
              "      <th>Silfverskiold</th>\n",
              "      <th>Ataxica</th>\n",
              "      <th>Diskinetica</th>\n",
              "      <th>Espastica</th>\n",
              "      <th>Hipotonica</th>\n",
              "      <th>Mixta</th>\n",
              "      <th>necesitaCirugia</th>\n",
              "    </tr>\n",
              "  </thead>\n",
              "  <tbody>\n",
              "    <tr>\n",
              "      <th>2</th>\n",
              "      <td>-1.097862</td>\n",
              "      <td>2.592215</td>\n",
              "      <td>-0.661029</td>\n",
              "      <td>0.134208</td>\n",
              "      <td>0.432256</td>\n",
              "      <td>0.0</td>\n",
              "      <td>0.0</td>\n",
              "      <td>1.0</td>\n",
              "      <td>0.0</td>\n",
              "      <td>0.0</td>\n",
              "      <td>2.0</td>\n",
              "    </tr>\n",
              "    <tr>\n",
              "      <th>5</th>\n",
              "      <td>0.430695</td>\n",
              "      <td>1.498390</td>\n",
              "      <td>-1.264939</td>\n",
              "      <td>0.134208</td>\n",
              "      <td>0.432256</td>\n",
              "      <td>0.0</td>\n",
              "      <td>0.0</td>\n",
              "      <td>1.0</td>\n",
              "      <td>0.0</td>\n",
              "      <td>0.0</td>\n",
              "      <td>2.0</td>\n",
              "    </tr>\n",
              "    <tr>\n",
              "      <th>6</th>\n",
              "      <td>0.124983</td>\n",
              "      <td>-1.783084</td>\n",
              "      <td>-3.318233</td>\n",
              "      <td>2.154788</td>\n",
              "      <td>1.660596</td>\n",
              "      <td>0.0</td>\n",
              "      <td>0.0</td>\n",
              "      <td>1.0</td>\n",
              "      <td>0.0</td>\n",
              "      <td>0.0</td>\n",
              "      <td>1.0</td>\n",
              "    </tr>\n",
              "    <tr>\n",
              "      <th>8</th>\n",
              "      <td>-0.027872</td>\n",
              "      <td>1.498390</td>\n",
              "      <td>-1.748067</td>\n",
              "      <td>1.377642</td>\n",
              "      <td>0.432256</td>\n",
              "      <td>0.0</td>\n",
              "      <td>0.0</td>\n",
              "      <td>1.0</td>\n",
              "      <td>0.0</td>\n",
              "      <td>0.0</td>\n",
              "      <td>1.0</td>\n",
              "    </tr>\n",
              "    <tr>\n",
              "      <th>9</th>\n",
              "      <td>-0.333584</td>\n",
              "      <td>0.404565</td>\n",
              "      <td>-1.264939</td>\n",
              "      <td>2.154788</td>\n",
              "      <td>0.432256</td>\n",
              "      <td>0.0</td>\n",
              "      <td>0.0</td>\n",
              "      <td>1.0</td>\n",
              "      <td>0.0</td>\n",
              "      <td>0.0</td>\n",
              "      <td>1.0</td>\n",
              "    </tr>\n",
              "    <tr>\n",
              "      <th>...</th>\n",
              "      <td>...</td>\n",
              "      <td>...</td>\n",
              "      <td>...</td>\n",
              "      <td>...</td>\n",
              "      <td>...</td>\n",
              "      <td>...</td>\n",
              "      <td>...</td>\n",
              "      <td>...</td>\n",
              "      <td>...</td>\n",
              "      <td>...</td>\n",
              "      <td>...</td>\n",
              "    </tr>\n",
              "    <tr>\n",
              "      <th>3241</th>\n",
              "      <td>-0.792151</td>\n",
              "      <td>-0.142347</td>\n",
              "      <td>-1.989631</td>\n",
              "      <td>1.688500</td>\n",
              "      <td>0.432256</td>\n",
              "      <td>0.0</td>\n",
              "      <td>0.0</td>\n",
              "      <td>1.0</td>\n",
              "      <td>0.0</td>\n",
              "      <td>0.0</td>\n",
              "      <td>1.0</td>\n",
              "    </tr>\n",
              "    <tr>\n",
              "      <th>3246</th>\n",
              "      <td>-0.639295</td>\n",
              "      <td>0.404565</td>\n",
              "      <td>-1.506503</td>\n",
              "      <td>1.688500</td>\n",
              "      <td>0.432256</td>\n",
              "      <td>0.0</td>\n",
              "      <td>0.0</td>\n",
              "      <td>1.0</td>\n",
              "      <td>0.0</td>\n",
              "      <td>0.0</td>\n",
              "      <td>1.0</td>\n",
              "    </tr>\n",
              "    <tr>\n",
              "      <th>3254</th>\n",
              "      <td>-0.027872</td>\n",
              "      <td>-0.142347</td>\n",
              "      <td>-1.989631</td>\n",
              "      <td>2.310217</td>\n",
              "      <td>0.432256</td>\n",
              "      <td>0.0</td>\n",
              "      <td>0.0</td>\n",
              "      <td>1.0</td>\n",
              "      <td>0.0</td>\n",
              "      <td>0.0</td>\n",
              "      <td>1.0</td>\n",
              "    </tr>\n",
              "    <tr>\n",
              "      <th>3258</th>\n",
              "      <td>2.112107</td>\n",
              "      <td>0.404565</td>\n",
              "      <td>-1.627285</td>\n",
              "      <td>1.066784</td>\n",
              "      <td>0.432256</td>\n",
              "      <td>0.0</td>\n",
              "      <td>0.0</td>\n",
              "      <td>1.0</td>\n",
              "      <td>0.0</td>\n",
              "      <td>0.0</td>\n",
              "      <td>1.0</td>\n",
              "    </tr>\n",
              "    <tr>\n",
              "      <th>3276</th>\n",
              "      <td>-0.333584</td>\n",
              "      <td>1.498390</td>\n",
              "      <td>-2.351977</td>\n",
              "      <td>1.688500</td>\n",
              "      <td>0.432256</td>\n",
              "      <td>0.0</td>\n",
              "      <td>0.0</td>\n",
              "      <td>1.0</td>\n",
              "      <td>0.0</td>\n",
              "      <td>0.0</td>\n",
              "      <td>1.0</td>\n",
              "    </tr>\n",
              "  </tbody>\n",
              "</table>\n",
              "<p>784 rows × 11 columns</p>\n",
              "</div>\n",
              "      <button class=\"colab-df-convert\" onclick=\"convertToInteractive('df-ec0a5dd3-b70f-4df4-8952-9fe2df1309f7')\"\n",
              "              title=\"Convert this dataframe to an interactive table.\"\n",
              "              style=\"display:none;\">\n",
              "        \n",
              "  <svg xmlns=\"http://www.w3.org/2000/svg\" height=\"24px\"viewBox=\"0 0 24 24\"\n",
              "       width=\"24px\">\n",
              "    <path d=\"M0 0h24v24H0V0z\" fill=\"none\"/>\n",
              "    <path d=\"M18.56 5.44l.94 2.06.94-2.06 2.06-.94-2.06-.94-.94-2.06-.94 2.06-2.06.94zm-11 1L8.5 8.5l.94-2.06 2.06-.94-2.06-.94L8.5 2.5l-.94 2.06-2.06.94zm10 10l.94 2.06.94-2.06 2.06-.94-2.06-.94-.94-2.06-.94 2.06-2.06.94z\"/><path d=\"M17.41 7.96l-1.37-1.37c-.4-.4-.92-.59-1.43-.59-.52 0-1.04.2-1.43.59L10.3 9.45l-7.72 7.72c-.78.78-.78 2.05 0 2.83L4 21.41c.39.39.9.59 1.41.59.51 0 1.02-.2 1.41-.59l7.78-7.78 2.81-2.81c.8-.78.8-2.07 0-2.86zM5.41 20L4 18.59l7.72-7.72 1.47 1.35L5.41 20z\"/>\n",
              "  </svg>\n",
              "      </button>\n",
              "      \n",
              "  <style>\n",
              "    .colab-df-container {\n",
              "      display:flex;\n",
              "      flex-wrap:wrap;\n",
              "      gap: 12px;\n",
              "    }\n",
              "\n",
              "    .colab-df-convert {\n",
              "      background-color: #E8F0FE;\n",
              "      border: none;\n",
              "      border-radius: 50%;\n",
              "      cursor: pointer;\n",
              "      display: none;\n",
              "      fill: #1967D2;\n",
              "      height: 32px;\n",
              "      padding: 0 0 0 0;\n",
              "      width: 32px;\n",
              "    }\n",
              "\n",
              "    .colab-df-convert:hover {\n",
              "      background-color: #E2EBFA;\n",
              "      box-shadow: 0px 1px 2px rgba(60, 64, 67, 0.3), 0px 1px 3px 1px rgba(60, 64, 67, 0.15);\n",
              "      fill: #174EA6;\n",
              "    }\n",
              "\n",
              "    [theme=dark] .colab-df-convert {\n",
              "      background-color: #3B4455;\n",
              "      fill: #D2E3FC;\n",
              "    }\n",
              "\n",
              "    [theme=dark] .colab-df-convert:hover {\n",
              "      background-color: #434B5C;\n",
              "      box-shadow: 0px 1px 3px 1px rgba(0, 0, 0, 0.15);\n",
              "      filter: drop-shadow(0px 1px 2px rgba(0, 0, 0, 0.3));\n",
              "      fill: #FFFFFF;\n",
              "    }\n",
              "  </style>\n",
              "\n",
              "      <script>\n",
              "        const buttonEl =\n",
              "          document.querySelector('#df-ec0a5dd3-b70f-4df4-8952-9fe2df1309f7 button.colab-df-convert');\n",
              "        buttonEl.style.display =\n",
              "          google.colab.kernel.accessAllowed ? 'block' : 'none';\n",
              "\n",
              "        async function convertToInteractive(key) {\n",
              "          const element = document.querySelector('#df-ec0a5dd3-b70f-4df4-8952-9fe2df1309f7');\n",
              "          const dataTable =\n",
              "            await google.colab.kernel.invokeFunction('convertToInteractive',\n",
              "                                                     [key], {});\n",
              "          if (!dataTable) return;\n",
              "\n",
              "          const docLinkHtml = 'Like what you see? Visit the ' +\n",
              "            '<a target=\"_blank\" href=https://colab.research.google.com/notebooks/data_table.ipynb>data table notebook</a>'\n",
              "            + ' to learn more about interactive tables.';\n",
              "          element.innerHTML = '';\n",
              "          dataTable['output_type'] = 'display_data';\n",
              "          await google.colab.output.renderOutput(dataTable, element);\n",
              "          const docLink = document.createElement('div');\n",
              "          docLink.innerHTML = docLinkHtml;\n",
              "          element.appendChild(docLink);\n",
              "        }\n",
              "      </script>\n",
              "    </div>\n",
              "  </div>\n",
              "  "
            ]
          },
          "metadata": {},
          "execution_count": 90
        }
      ]
    },
    {
      "cell_type": "code",
      "source": [
        "X_train, X_test, Y_train, Y_test = train_test_split( X_class.drop(columns='necesitaCirugia'), X_class['necesitaCirugia'], test_size=0.2, random_state=0, stratify=X_class['necesitaCirugia'])"
      ],
      "metadata": {
        "id": "nYqRMj5XR_Y4"
      },
      "execution_count": 91,
      "outputs": []
    },
    {
      "cell_type": "code",
      "source": [
        "X_train.head()"
      ],
      "metadata": {
        "colab": {
          "base_uri": "https://localhost:8080/",
          "height": 285
        },
        "id": "4_QoxyXi_HHt",
        "outputId": "ff39ffd2-35e8-4273-aa8f-2de166aec5d6"
      },
      "execution_count": 92,
      "outputs": [
        {
          "output_type": "execute_result",
          "data": {
            "text/plain": [
              "          Edad  Tono gastrocnemios  Dorsiflexion  Felxion Plantar Tobillo  \\\n",
              "628   0.430695            1.498390      1.150701                 0.134208   \n",
              "433  -0.333584            0.404565      0.063663                -0.487508   \n",
              "2156 -0.333584           -0.689259      0.426009                 1.377642   \n",
              "3017  0.277839            0.404565      1.271483                -0.176650   \n",
              "258  -0.180728           -0.689259     -1.627285                 0.600496   \n",
              "\n",
              "      Silfverskiold  Ataxica  Diskinetica  Espastica  Hipotonica  Mixta  \n",
              "628        0.432256      0.0          0.0        1.0         0.0    0.0  \n",
              "433        0.432256      0.0          0.0        1.0         0.0    0.0  \n",
              "2156      -2.024423      0.0          0.0        1.0         0.0    0.0  \n",
              "3017       0.432256      0.0          0.0        1.0         0.0    0.0  \n",
              "258        0.432256      0.0          0.0        1.0         0.0    0.0  "
            ],
            "text/html": [
              "\n",
              "  <div id=\"df-058e4a8c-55f9-4684-a6f4-3d2213351af7\">\n",
              "    <div class=\"colab-df-container\">\n",
              "      <div>\n",
              "<style scoped>\n",
              "    .dataframe tbody tr th:only-of-type {\n",
              "        vertical-align: middle;\n",
              "    }\n",
              "\n",
              "    .dataframe tbody tr th {\n",
              "        vertical-align: top;\n",
              "    }\n",
              "\n",
              "    .dataframe thead th {\n",
              "        text-align: right;\n",
              "    }\n",
              "</style>\n",
              "<table border=\"1\" class=\"dataframe\">\n",
              "  <thead>\n",
              "    <tr style=\"text-align: right;\">\n",
              "      <th></th>\n",
              "      <th>Edad</th>\n",
              "      <th>Tono gastrocnemios</th>\n",
              "      <th>Dorsiflexion</th>\n",
              "      <th>Felxion Plantar Tobillo</th>\n",
              "      <th>Silfverskiold</th>\n",
              "      <th>Ataxica</th>\n",
              "      <th>Diskinetica</th>\n",
              "      <th>Espastica</th>\n",
              "      <th>Hipotonica</th>\n",
              "      <th>Mixta</th>\n",
              "    </tr>\n",
              "  </thead>\n",
              "  <tbody>\n",
              "    <tr>\n",
              "      <th>628</th>\n",
              "      <td>0.430695</td>\n",
              "      <td>1.498390</td>\n",
              "      <td>1.150701</td>\n",
              "      <td>0.134208</td>\n",
              "      <td>0.432256</td>\n",
              "      <td>0.0</td>\n",
              "      <td>0.0</td>\n",
              "      <td>1.0</td>\n",
              "      <td>0.0</td>\n",
              "      <td>0.0</td>\n",
              "    </tr>\n",
              "    <tr>\n",
              "      <th>433</th>\n",
              "      <td>-0.333584</td>\n",
              "      <td>0.404565</td>\n",
              "      <td>0.063663</td>\n",
              "      <td>-0.487508</td>\n",
              "      <td>0.432256</td>\n",
              "      <td>0.0</td>\n",
              "      <td>0.0</td>\n",
              "      <td>1.0</td>\n",
              "      <td>0.0</td>\n",
              "      <td>0.0</td>\n",
              "    </tr>\n",
              "    <tr>\n",
              "      <th>2156</th>\n",
              "      <td>-0.333584</td>\n",
              "      <td>-0.689259</td>\n",
              "      <td>0.426009</td>\n",
              "      <td>1.377642</td>\n",
              "      <td>-2.024423</td>\n",
              "      <td>0.0</td>\n",
              "      <td>0.0</td>\n",
              "      <td>1.0</td>\n",
              "      <td>0.0</td>\n",
              "      <td>0.0</td>\n",
              "    </tr>\n",
              "    <tr>\n",
              "      <th>3017</th>\n",
              "      <td>0.277839</td>\n",
              "      <td>0.404565</td>\n",
              "      <td>1.271483</td>\n",
              "      <td>-0.176650</td>\n",
              "      <td>0.432256</td>\n",
              "      <td>0.0</td>\n",
              "      <td>0.0</td>\n",
              "      <td>1.0</td>\n",
              "      <td>0.0</td>\n",
              "      <td>0.0</td>\n",
              "    </tr>\n",
              "    <tr>\n",
              "      <th>258</th>\n",
              "      <td>-0.180728</td>\n",
              "      <td>-0.689259</td>\n",
              "      <td>-1.627285</td>\n",
              "      <td>0.600496</td>\n",
              "      <td>0.432256</td>\n",
              "      <td>0.0</td>\n",
              "      <td>0.0</td>\n",
              "      <td>1.0</td>\n",
              "      <td>0.0</td>\n",
              "      <td>0.0</td>\n",
              "    </tr>\n",
              "  </tbody>\n",
              "</table>\n",
              "</div>\n",
              "      <button class=\"colab-df-convert\" onclick=\"convertToInteractive('df-058e4a8c-55f9-4684-a6f4-3d2213351af7')\"\n",
              "              title=\"Convert this dataframe to an interactive table.\"\n",
              "              style=\"display:none;\">\n",
              "        \n",
              "  <svg xmlns=\"http://www.w3.org/2000/svg\" height=\"24px\"viewBox=\"0 0 24 24\"\n",
              "       width=\"24px\">\n",
              "    <path d=\"M0 0h24v24H0V0z\" fill=\"none\"/>\n",
              "    <path d=\"M18.56 5.44l.94 2.06.94-2.06 2.06-.94-2.06-.94-.94-2.06-.94 2.06-2.06.94zm-11 1L8.5 8.5l.94-2.06 2.06-.94-2.06-.94L8.5 2.5l-.94 2.06-2.06.94zm10 10l.94 2.06.94-2.06 2.06-.94-2.06-.94-.94-2.06-.94 2.06-2.06.94z\"/><path d=\"M17.41 7.96l-1.37-1.37c-.4-.4-.92-.59-1.43-.59-.52 0-1.04.2-1.43.59L10.3 9.45l-7.72 7.72c-.78.78-.78 2.05 0 2.83L4 21.41c.39.39.9.59 1.41.59.51 0 1.02-.2 1.41-.59l7.78-7.78 2.81-2.81c.8-.78.8-2.07 0-2.86zM5.41 20L4 18.59l7.72-7.72 1.47 1.35L5.41 20z\"/>\n",
              "  </svg>\n",
              "      </button>\n",
              "      \n",
              "  <style>\n",
              "    .colab-df-container {\n",
              "      display:flex;\n",
              "      flex-wrap:wrap;\n",
              "      gap: 12px;\n",
              "    }\n",
              "\n",
              "    .colab-df-convert {\n",
              "      background-color: #E8F0FE;\n",
              "      border: none;\n",
              "      border-radius: 50%;\n",
              "      cursor: pointer;\n",
              "      display: none;\n",
              "      fill: #1967D2;\n",
              "      height: 32px;\n",
              "      padding: 0 0 0 0;\n",
              "      width: 32px;\n",
              "    }\n",
              "\n",
              "    .colab-df-convert:hover {\n",
              "      background-color: #E2EBFA;\n",
              "      box-shadow: 0px 1px 2px rgba(60, 64, 67, 0.3), 0px 1px 3px 1px rgba(60, 64, 67, 0.15);\n",
              "      fill: #174EA6;\n",
              "    }\n",
              "\n",
              "    [theme=dark] .colab-df-convert {\n",
              "      background-color: #3B4455;\n",
              "      fill: #D2E3FC;\n",
              "    }\n",
              "\n",
              "    [theme=dark] .colab-df-convert:hover {\n",
              "      background-color: #434B5C;\n",
              "      box-shadow: 0px 1px 3px 1px rgba(0, 0, 0, 0.15);\n",
              "      filter: drop-shadow(0px 1px 2px rgba(0, 0, 0, 0.3));\n",
              "      fill: #FFFFFF;\n",
              "    }\n",
              "  </style>\n",
              "\n",
              "      <script>\n",
              "        const buttonEl =\n",
              "          document.querySelector('#df-058e4a8c-55f9-4684-a6f4-3d2213351af7 button.colab-df-convert');\n",
              "        buttonEl.style.display =\n",
              "          google.colab.kernel.accessAllowed ? 'block' : 'none';\n",
              "\n",
              "        async function convertToInteractive(key) {\n",
              "          const element = document.querySelector('#df-058e4a8c-55f9-4684-a6f4-3d2213351af7');\n",
              "          const dataTable =\n",
              "            await google.colab.kernel.invokeFunction('convertToInteractive',\n",
              "                                                     [key], {});\n",
              "          if (!dataTable) return;\n",
              "\n",
              "          const docLinkHtml = 'Like what you see? Visit the ' +\n",
              "            '<a target=\"_blank\" href=https://colab.research.google.com/notebooks/data_table.ipynb>data table notebook</a>'\n",
              "            + ' to learn more about interactive tables.';\n",
              "          element.innerHTML = '';\n",
              "          dataTable['output_type'] = 'display_data';\n",
              "          await google.colab.output.renderOutput(dataTable, element);\n",
              "          const docLink = document.createElement('div');\n",
              "          docLink.innerHTML = docLinkHtml;\n",
              "          element.appendChild(docLink);\n",
              "        }\n",
              "      </script>\n",
              "    </div>\n",
              "  </div>\n",
              "  "
            ]
          },
          "metadata": {},
          "execution_count": 92
        }
      ]
    },
    {
      "cell_type": "code",
      "source": [
        "Y_train.head()"
      ],
      "metadata": {
        "colab": {
          "base_uri": "https://localhost:8080/"
        },
        "id": "Q3tgeV6T_JeN",
        "outputId": "8b780ebb-b01c-41ba-fe0b-9f8e61d203f2"
      },
      "execution_count": 93,
      "outputs": [
        {
          "output_type": "execute_result",
          "data": {
            "text/plain": [
              "628     2.0\n",
              "433     1.0\n",
              "2156    2.0\n",
              "3017    2.0\n",
              "258     2.0\n",
              "Name: necesitaCirugia, dtype: float64"
            ]
          },
          "metadata": {},
          "execution_count": 93
        }
      ]
    },
    {
      "cell_type": "markdown",
      "source": [
        "### 4.2.1 Máquina de soporte vectorial"
      ],
      "metadata": {
        "id": "veaSzPIAR_Y4"
      }
    },
    {
      "cell_type": "code",
      "execution_count": 94,
      "metadata": {
        "id": "vLAYfUYaR_Y4"
      },
      "outputs": [],
      "source": [
        "# Dado que el preprocesamiento ya se realizó para los datos de X_train, se correrá el pipeline sin la parte del preproceso\n",
        "estimators = [\n",
        "        ('classifier', svm.SVC(C=0.1, kernel='linear', gamma='auto', class_weight='balanced'))          \n",
        "    ]\n",
        "\n",
        "parameters = {'classifier__C':[0.1, 1, 10],\n",
        "              'classifier__gamma':['scale', 'auto'],\n",
        "              'classifier__kernel':['linear','rbf'],\n",
        "              'classifier__class_weight':[None, 'balanced']\n",
        "            }\n",
        "\n",
        "pipe_svm = Pipeline(estimators)"
      ]
    },
    {
      "cell_type": "code",
      "execution_count": 95,
      "metadata": {
        "colab": {
          "base_uri": "https://localhost:8080/"
        },
        "outputId": "a105ef0b-fd59-4e9b-e01b-5917f2e2b8e9",
        "id": "y13u4bqYR_Y4"
      },
      "outputs": [
        {
          "output_type": "stream",
          "name": "stdout",
          "text": [
            "Fitting 5 folds for each of 24 candidates, totalling 120 fits\n",
            "[CV] END classifier__C=0.1, classifier__class_weight=None, classifier__gamma=scale, classifier__kernel=linear; total time=   0.0s\n",
            "[CV] END classifier__C=0.1, classifier__class_weight=None, classifier__gamma=scale, classifier__kernel=linear; total time=   0.0s\n",
            "[CV] END classifier__C=0.1, classifier__class_weight=None, classifier__gamma=scale, classifier__kernel=linear; total time=   0.0s\n",
            "[CV] END classifier__C=0.1, classifier__class_weight=None, classifier__gamma=scale, classifier__kernel=linear; total time=   0.0s\n",
            "[CV] END classifier__C=0.1, classifier__class_weight=None, classifier__gamma=scale, classifier__kernel=linear; total time=   0.0s\n",
            "[CV] END classifier__C=0.1, classifier__class_weight=None, classifier__gamma=scale, classifier__kernel=rbf; total time=   0.0s\n",
            "[CV] END classifier__C=0.1, classifier__class_weight=None, classifier__gamma=scale, classifier__kernel=rbf; total time=   0.0s\n",
            "[CV] END classifier__C=0.1, classifier__class_weight=None, classifier__gamma=scale, classifier__kernel=rbf; total time=   0.0s\n",
            "[CV] END classifier__C=0.1, classifier__class_weight=None, classifier__gamma=scale, classifier__kernel=rbf; total time=   0.0s\n",
            "[CV] END classifier__C=0.1, classifier__class_weight=None, classifier__gamma=scale, classifier__kernel=rbf; total time=   0.0s\n",
            "[CV] END classifier__C=0.1, classifier__class_weight=None, classifier__gamma=auto, classifier__kernel=linear; total time=   0.0s\n",
            "[CV] END classifier__C=0.1, classifier__class_weight=None, classifier__gamma=auto, classifier__kernel=linear; total time=   0.0s\n",
            "[CV] END classifier__C=0.1, classifier__class_weight=None, classifier__gamma=auto, classifier__kernel=linear; total time=   0.0s\n",
            "[CV] END classifier__C=0.1, classifier__class_weight=None, classifier__gamma=auto, classifier__kernel=linear; total time=   0.0s\n",
            "[CV] END classifier__C=0.1, classifier__class_weight=None, classifier__gamma=auto, classifier__kernel=linear; total time=   0.0s\n",
            "[CV] END classifier__C=0.1, classifier__class_weight=None, classifier__gamma=auto, classifier__kernel=rbf; total time=   0.0s\n",
            "[CV] END classifier__C=0.1, classifier__class_weight=None, classifier__gamma=auto, classifier__kernel=rbf; total time=   0.0s\n",
            "[CV] END classifier__C=0.1, classifier__class_weight=None, classifier__gamma=auto, classifier__kernel=rbf; total time=   0.0s\n",
            "[CV] END classifier__C=0.1, classifier__class_weight=None, classifier__gamma=auto, classifier__kernel=rbf; total time=   0.0s\n",
            "[CV] END classifier__C=0.1, classifier__class_weight=None, classifier__gamma=auto, classifier__kernel=rbf; total time=   0.0s\n",
            "[CV] END classifier__C=0.1, classifier__class_weight=balanced, classifier__gamma=scale, classifier__kernel=linear; total time=   0.0s\n",
            "[CV] END classifier__C=0.1, classifier__class_weight=balanced, classifier__gamma=scale, classifier__kernel=linear; total time=   0.0s\n",
            "[CV] END classifier__C=0.1, classifier__class_weight=balanced, classifier__gamma=scale, classifier__kernel=linear; total time=   0.0s\n",
            "[CV] END classifier__C=0.1, classifier__class_weight=balanced, classifier__gamma=scale, classifier__kernel=linear; total time=   0.0s\n",
            "[CV] END classifier__C=0.1, classifier__class_weight=balanced, classifier__gamma=scale, classifier__kernel=linear; total time=   0.0s\n",
            "[CV] END classifier__C=0.1, classifier__class_weight=balanced, classifier__gamma=scale, classifier__kernel=rbf; total time=   0.0s\n",
            "[CV] END classifier__C=0.1, classifier__class_weight=balanced, classifier__gamma=scale, classifier__kernel=rbf; total time=   0.0s\n",
            "[CV] END classifier__C=0.1, classifier__class_weight=balanced, classifier__gamma=scale, classifier__kernel=rbf; total time=   0.0s\n",
            "[CV] END classifier__C=0.1, classifier__class_weight=balanced, classifier__gamma=scale, classifier__kernel=rbf; total time=   0.0s\n",
            "[CV] END classifier__C=0.1, classifier__class_weight=balanced, classifier__gamma=scale, classifier__kernel=rbf; total time=   0.0s\n",
            "[CV] END classifier__C=0.1, classifier__class_weight=balanced, classifier__gamma=auto, classifier__kernel=linear; total time=   0.0s\n",
            "[CV] END classifier__C=0.1, classifier__class_weight=balanced, classifier__gamma=auto, classifier__kernel=linear; total time=   0.0s\n",
            "[CV] END classifier__C=0.1, classifier__class_weight=balanced, classifier__gamma=auto, classifier__kernel=linear; total time=   0.0s\n",
            "[CV] END classifier__C=0.1, classifier__class_weight=balanced, classifier__gamma=auto, classifier__kernel=linear; total time=   0.0s\n",
            "[CV] END classifier__C=0.1, classifier__class_weight=balanced, classifier__gamma=auto, classifier__kernel=linear; total time=   0.0s\n",
            "[CV] END classifier__C=0.1, classifier__class_weight=balanced, classifier__gamma=auto, classifier__kernel=rbf; total time=   0.0s\n",
            "[CV] END classifier__C=0.1, classifier__class_weight=balanced, classifier__gamma=auto, classifier__kernel=rbf; total time=   0.0s\n",
            "[CV] END classifier__C=0.1, classifier__class_weight=balanced, classifier__gamma=auto, classifier__kernel=rbf; total time=   0.0s\n",
            "[CV] END classifier__C=0.1, classifier__class_weight=balanced, classifier__gamma=auto, classifier__kernel=rbf; total time=   0.0s\n",
            "[CV] END classifier__C=0.1, classifier__class_weight=balanced, classifier__gamma=auto, classifier__kernel=rbf; total time=   0.0s\n",
            "[CV] END classifier__C=1, classifier__class_weight=None, classifier__gamma=scale, classifier__kernel=linear; total time=   0.0s\n",
            "[CV] END classifier__C=1, classifier__class_weight=None, classifier__gamma=scale, classifier__kernel=linear; total time=   0.0s\n",
            "[CV] END classifier__C=1, classifier__class_weight=None, classifier__gamma=scale, classifier__kernel=linear; total time=   0.0s\n",
            "[CV] END classifier__C=1, classifier__class_weight=None, classifier__gamma=scale, classifier__kernel=linear; total time=   0.0s\n",
            "[CV] END classifier__C=1, classifier__class_weight=None, classifier__gamma=scale, classifier__kernel=linear; total time=   0.0s\n",
            "[CV] END classifier__C=1, classifier__class_weight=None, classifier__gamma=scale, classifier__kernel=rbf; total time=   0.0s\n",
            "[CV] END classifier__C=1, classifier__class_weight=None, classifier__gamma=scale, classifier__kernel=rbf; total time=   0.0s\n",
            "[CV] END classifier__C=1, classifier__class_weight=None, classifier__gamma=scale, classifier__kernel=rbf; total time=   0.0s\n",
            "[CV] END classifier__C=1, classifier__class_weight=None, classifier__gamma=scale, classifier__kernel=rbf; total time=   0.0s\n",
            "[CV] END classifier__C=1, classifier__class_weight=None, classifier__gamma=scale, classifier__kernel=rbf; total time=   0.0s\n",
            "[CV] END classifier__C=1, classifier__class_weight=None, classifier__gamma=auto, classifier__kernel=linear; total time=   0.0s\n",
            "[CV] END classifier__C=1, classifier__class_weight=None, classifier__gamma=auto, classifier__kernel=linear; total time=   0.0s\n",
            "[CV] END classifier__C=1, classifier__class_weight=None, classifier__gamma=auto, classifier__kernel=linear; total time=   0.0s\n",
            "[CV] END classifier__C=1, classifier__class_weight=None, classifier__gamma=auto, classifier__kernel=linear; total time=   0.0s\n",
            "[CV] END classifier__C=1, classifier__class_weight=None, classifier__gamma=auto, classifier__kernel=linear; total time=   0.0s\n",
            "[CV] END classifier__C=1, classifier__class_weight=None, classifier__gamma=auto, classifier__kernel=rbf; total time=   0.0s\n",
            "[CV] END classifier__C=1, classifier__class_weight=None, classifier__gamma=auto, classifier__kernel=rbf; total time=   0.0s\n",
            "[CV] END classifier__C=1, classifier__class_weight=None, classifier__gamma=auto, classifier__kernel=rbf; total time=   0.0s\n",
            "[CV] END classifier__C=1, classifier__class_weight=None, classifier__gamma=auto, classifier__kernel=rbf; total time=   0.0s\n",
            "[CV] END classifier__C=1, classifier__class_weight=None, classifier__gamma=auto, classifier__kernel=rbf; total time=   0.0s\n",
            "[CV] END classifier__C=1, classifier__class_weight=balanced, classifier__gamma=scale, classifier__kernel=linear; total time=   0.0s\n",
            "[CV] END classifier__C=1, classifier__class_weight=balanced, classifier__gamma=scale, classifier__kernel=linear; total time=   0.0s\n",
            "[CV] END classifier__C=1, classifier__class_weight=balanced, classifier__gamma=scale, classifier__kernel=linear; total time=   0.0s\n",
            "[CV] END classifier__C=1, classifier__class_weight=balanced, classifier__gamma=scale, classifier__kernel=linear; total time=   0.0s\n",
            "[CV] END classifier__C=1, classifier__class_weight=balanced, classifier__gamma=scale, classifier__kernel=linear; total time=   0.0s\n",
            "[CV] END classifier__C=1, classifier__class_weight=balanced, classifier__gamma=scale, classifier__kernel=rbf; total time=   0.0s\n",
            "[CV] END classifier__C=1, classifier__class_weight=balanced, classifier__gamma=scale, classifier__kernel=rbf; total time=   0.0s\n",
            "[CV] END classifier__C=1, classifier__class_weight=balanced, classifier__gamma=scale, classifier__kernel=rbf; total time=   0.0s\n",
            "[CV] END classifier__C=1, classifier__class_weight=balanced, classifier__gamma=scale, classifier__kernel=rbf; total time=   0.0s\n",
            "[CV] END classifier__C=1, classifier__class_weight=balanced, classifier__gamma=scale, classifier__kernel=rbf; total time=   0.0s\n",
            "[CV] END classifier__C=1, classifier__class_weight=balanced, classifier__gamma=auto, classifier__kernel=linear; total time=   0.0s\n",
            "[CV] END classifier__C=1, classifier__class_weight=balanced, classifier__gamma=auto, classifier__kernel=linear; total time=   0.0s\n",
            "[CV] END classifier__C=1, classifier__class_weight=balanced, classifier__gamma=auto, classifier__kernel=linear; total time=   0.0s\n",
            "[CV] END classifier__C=1, classifier__class_weight=balanced, classifier__gamma=auto, classifier__kernel=linear; total time=   0.0s\n",
            "[CV] END classifier__C=1, classifier__class_weight=balanced, classifier__gamma=auto, classifier__kernel=linear; total time=   0.0s\n",
            "[CV] END classifier__C=1, classifier__class_weight=balanced, classifier__gamma=auto, classifier__kernel=rbf; total time=   0.0s\n",
            "[CV] END classifier__C=1, classifier__class_weight=balanced, classifier__gamma=auto, classifier__kernel=rbf; total time=   0.0s\n",
            "[CV] END classifier__C=1, classifier__class_weight=balanced, classifier__gamma=auto, classifier__kernel=rbf; total time=   0.0s\n",
            "[CV] END classifier__C=1, classifier__class_weight=balanced, classifier__gamma=auto, classifier__kernel=rbf; total time=   0.0s\n",
            "[CV] END classifier__C=1, classifier__class_weight=balanced, classifier__gamma=auto, classifier__kernel=rbf; total time=   0.0s\n",
            "[CV] END classifier__C=10, classifier__class_weight=None, classifier__gamma=scale, classifier__kernel=linear; total time=   0.0s\n",
            "[CV] END classifier__C=10, classifier__class_weight=None, classifier__gamma=scale, classifier__kernel=linear; total time=   0.0s\n",
            "[CV] END classifier__C=10, classifier__class_weight=None, classifier__gamma=scale, classifier__kernel=linear; total time=   0.0s\n",
            "[CV] END classifier__C=10, classifier__class_weight=None, classifier__gamma=scale, classifier__kernel=linear; total time=   0.0s\n",
            "[CV] END classifier__C=10, classifier__class_weight=None, classifier__gamma=scale, classifier__kernel=linear; total time=   0.0s\n",
            "[CV] END classifier__C=10, classifier__class_weight=None, classifier__gamma=scale, classifier__kernel=rbf; total time=   0.0s\n",
            "[CV] END classifier__C=10, classifier__class_weight=None, classifier__gamma=scale, classifier__kernel=rbf; total time=   0.0s\n",
            "[CV] END classifier__C=10, classifier__class_weight=None, classifier__gamma=scale, classifier__kernel=rbf; total time=   0.0s\n",
            "[CV] END classifier__C=10, classifier__class_weight=None, classifier__gamma=scale, classifier__kernel=rbf; total time=   0.0s\n",
            "[CV] END classifier__C=10, classifier__class_weight=None, classifier__gamma=scale, classifier__kernel=rbf; total time=   0.0s\n",
            "[CV] END classifier__C=10, classifier__class_weight=None, classifier__gamma=auto, classifier__kernel=linear; total time=   0.0s\n",
            "[CV] END classifier__C=10, classifier__class_weight=None, classifier__gamma=auto, classifier__kernel=linear; total time=   0.0s\n",
            "[CV] END classifier__C=10, classifier__class_weight=None, classifier__gamma=auto, classifier__kernel=linear; total time=   0.0s\n",
            "[CV] END classifier__C=10, classifier__class_weight=None, classifier__gamma=auto, classifier__kernel=linear; total time=   0.0s\n",
            "[CV] END classifier__C=10, classifier__class_weight=None, classifier__gamma=auto, classifier__kernel=linear; total time=   0.0s\n",
            "[CV] END classifier__C=10, classifier__class_weight=None, classifier__gamma=auto, classifier__kernel=rbf; total time=   0.0s\n",
            "[CV] END classifier__C=10, classifier__class_weight=None, classifier__gamma=auto, classifier__kernel=rbf; total time=   0.0s\n",
            "[CV] END classifier__C=10, classifier__class_weight=None, classifier__gamma=auto, classifier__kernel=rbf; total time=   0.0s\n",
            "[CV] END classifier__C=10, classifier__class_weight=None, classifier__gamma=auto, classifier__kernel=rbf; total time=   0.0s\n",
            "[CV] END classifier__C=10, classifier__class_weight=None, classifier__gamma=auto, classifier__kernel=rbf; total time=   0.0s\n",
            "[CV] END classifier__C=10, classifier__class_weight=balanced, classifier__gamma=scale, classifier__kernel=linear; total time=   0.0s\n",
            "[CV] END classifier__C=10, classifier__class_weight=balanced, classifier__gamma=scale, classifier__kernel=linear; total time=   0.0s\n",
            "[CV] END classifier__C=10, classifier__class_weight=balanced, classifier__gamma=scale, classifier__kernel=linear; total time=   0.0s\n",
            "[CV] END classifier__C=10, classifier__class_weight=balanced, classifier__gamma=scale, classifier__kernel=linear; total time=   0.0s\n",
            "[CV] END classifier__C=10, classifier__class_weight=balanced, classifier__gamma=scale, classifier__kernel=linear; total time=   0.0s\n",
            "[CV] END classifier__C=10, classifier__class_weight=balanced, classifier__gamma=scale, classifier__kernel=rbf; total time=   0.0s\n",
            "[CV] END classifier__C=10, classifier__class_weight=balanced, classifier__gamma=scale, classifier__kernel=rbf; total time=   0.0s\n",
            "[CV] END classifier__C=10, classifier__class_weight=balanced, classifier__gamma=scale, classifier__kernel=rbf; total time=   0.0s\n",
            "[CV] END classifier__C=10, classifier__class_weight=balanced, classifier__gamma=scale, classifier__kernel=rbf; total time=   0.0s\n",
            "[CV] END classifier__C=10, classifier__class_weight=balanced, classifier__gamma=scale, classifier__kernel=rbf; total time=   0.0s\n",
            "[CV] END classifier__C=10, classifier__class_weight=balanced, classifier__gamma=auto, classifier__kernel=linear; total time=   0.0s\n",
            "[CV] END classifier__C=10, classifier__class_weight=balanced, classifier__gamma=auto, classifier__kernel=linear; total time=   0.0s\n",
            "[CV] END classifier__C=10, classifier__class_weight=balanced, classifier__gamma=auto, classifier__kernel=linear; total time=   0.0s\n",
            "[CV] END classifier__C=10, classifier__class_weight=balanced, classifier__gamma=auto, classifier__kernel=linear; total time=   0.0s\n",
            "[CV] END classifier__C=10, classifier__class_weight=balanced, classifier__gamma=auto, classifier__kernel=linear; total time=   0.0s\n",
            "[CV] END classifier__C=10, classifier__class_weight=balanced, classifier__gamma=auto, classifier__kernel=rbf; total time=   0.0s\n",
            "[CV] END classifier__C=10, classifier__class_weight=balanced, classifier__gamma=auto, classifier__kernel=rbf; total time=   0.0s\n",
            "[CV] END classifier__C=10, classifier__class_weight=balanced, classifier__gamma=auto, classifier__kernel=rbf; total time=   0.0s\n",
            "[CV] END classifier__C=10, classifier__class_weight=balanced, classifier__gamma=auto, classifier__kernel=rbf; total time=   0.0s\n",
            "[CV] END classifier__C=10, classifier__class_weight=balanced, classifier__gamma=auto, classifier__kernel=rbf; total time=   0.0s\n",
            "CPU times: user 1.79 s, sys: 28.3 ms, total: 1.82 s\n",
            "Wall time: 1.78 s\n"
          ]
        }
      ],
      "source": [
        "%%time\n",
        "grid_search_svm = GridSearchCV(pipe_svm, parameters, scoring='balanced_accuracy', cv=5, verbose = 2)\n",
        "with tf.device('/device:GPU:0'):\n",
        "  grid_search_svm.fit(X_train,Y_train)"
      ]
    },
    {
      "cell_type": "code",
      "execution_count": 96,
      "metadata": {
        "colab": {
          "base_uri": "https://localhost:8080/"
        },
        "outputId": "6f6f2162-e321-4d3d-e04c-16b38b03ac07",
        "id": "eGw1BJUaR_Y5"
      },
      "outputs": [
        {
          "output_type": "execute_result",
          "data": {
            "text/plain": [
              "{'classifier__C': 0.1,\n",
              " 'classifier__class_weight': 'balanced',\n",
              " 'classifier__gamma': 'auto',\n",
              " 'classifier__kernel': 'rbf'}"
            ]
          },
          "metadata": {},
          "execution_count": 96
        }
      ],
      "source": [
        "grid_search_svm.best_params_"
      ]
    },
    {
      "cell_type": "code",
      "execution_count": 97,
      "metadata": {
        "colab": {
          "base_uri": "https://localhost:8080/"
        },
        "outputId": "0ca2abc5-5083-47b8-b431-80f105008d83",
        "id": "f4GSpQYlR_Y5"
      },
      "outputs": [
        {
          "output_type": "stream",
          "name": "stdout",
          "text": [
            "Train Report\n",
            "               precision    recall  f1-score   support\n",
            "\n",
            "         1.0       0.53      0.78      0.63       143\n",
            "         2.0       0.93      0.79      0.85       484\n",
            "\n",
            "    accuracy                           0.79       627\n",
            "   macro avg       0.73      0.79      0.74       627\n",
            "weighted avg       0.83      0.79      0.80       627\n",
            "\n"
          ]
        }
      ],
      "source": [
        "# Obtener el mejor modelo.\n",
        "mejor_svm = grid_search_svm.best_estimator_\n",
        "\n",
        "y_pred_train_svm = mejor_svm.predict(X_train)\n",
        "\n",
        "report_svm = classification_report(Y_train, y_pred_train_svm)\n",
        "\n",
        "print(\"Train Report\\n\", report_svm)"
      ]
    },
    {
      "cell_type": "code",
      "execution_count": 98,
      "metadata": {
        "colab": {
          "base_uri": "https://localhost:8080/",
          "height": 717
        },
        "outputId": "2d027517-91a0-4ad1-e9d5-15b4074b2195",
        "id": "arfHVmQ_R_Y5"
      },
      "outputs": [
        {
          "output_type": "stream",
          "name": "stdout",
          "text": [
            "Confusion matrix, without normalization\n"
          ]
        },
        {
          "output_type": "execute_result",
          "data": {
            "text/plain": [
              "<matplotlib.axes._subplots.AxesSubplot at 0x7f0376580750>"
            ]
          },
          "metadata": {},
          "execution_count": 98
        },
        {
          "output_type": "display_data",
          "data": {
            "text/plain": [
              "<Figure size 720x720 with 2 Axes>"
            ],
            "image/png": "[encoded data removed]"
          },
          "metadata": {
            "needs_background": "light"
          }
        }
      ],
      "source": [
        "%matplotlib inline\n",
        "plot_confusion_matrix(y_true=Y_train, y_pred=y_pred_train_svm, classes=[\"1 - Liberación posterior\",\"2 - Alargamiento de los gemelos\"],\n",
        "                      title='Matriz de Confusión - train')"
      ]
    },
    {
      "cell_type": "code",
      "execution_count": 99,
      "metadata": {
        "id": "lNA5nQZHR_Y5"
      },
      "outputs": [],
      "source": [
        "# Ahora se usará un pipeline con el mejor modelo para analizar los datos de test\n",
        "estimators = [\n",
        "        ('classifier', svm.SVC( C=0.1,gamma=\"auto\", kernel=\"rbf\", class_weight='balanced' ))]\n",
        "\n",
        "pipe_svm_test = Pipeline(estimators)"
      ]
    },
    {
      "cell_type": "code",
      "execution_count": 100,
      "metadata": {
        "colab": {
          "base_uri": "https://localhost:8080/"
        },
        "outputId": "5b5f767e-d370-42e7-b1c0-b01745d47fba",
        "id": "GULtd1MWR_Y6"
      },
      "outputs": [
        {
          "output_type": "stream",
          "name": "stdout",
          "text": [
            "CPU times: user 21 ms, sys: 0 ns, total: 21 ms\n",
            "Wall time: 21.1 ms\n"
          ]
        },
        {
          "output_type": "execute_result",
          "data": {
            "text/plain": [
              "Pipeline(steps=[('classifier',\n",
              "                 SVC(C=0.1, class_weight='balanced', gamma='auto'))])"
            ]
          },
          "metadata": {},
          "execution_count": 100
        }
      ],
      "source": [
        "%%time\n",
        "pipe_svm_test.fit(X_train, Y_train)"
      ]
    },
    {
      "cell_type": "code",
      "execution_count": 101,
      "metadata": {
        "colab": {
          "base_uri": "https://localhost:8080/"
        },
        "outputId": "3db2d1a9-571b-4cc7-f2d6-df65877d2329",
        "id": "gg96Qf9wR_Y6"
      },
      "outputs": [
        {
          "output_type": "stream",
          "name": "stdout",
          "text": [
            "SVM Test Report\n",
            "               precision    recall  f1-score   support\n",
            "\n",
            "         1.0       0.57      0.81      0.67        36\n",
            "         2.0       0.93      0.82      0.87       121\n",
            "\n",
            "    accuracy                           0.82       157\n",
            "   macro avg       0.75      0.81      0.77       157\n",
            "weighted avg       0.85      0.82      0.83       157\n",
            "\n"
          ]
        }
      ],
      "source": [
        "y_pred_test_svm=pipe_svm_test.predict(X_test)\n",
        "\n",
        "report_tree = classification_report(Y_test, y_pred_test_svm)\n",
        "\n",
        "print(\"SVM Test Report\\n\", report_tree)"
      ]
    },
    {
      "cell_type": "code",
      "execution_count": 102,
      "metadata": {
        "colab": {
          "base_uri": "https://localhost:8080/",
          "height": 717
        },
        "outputId": "a58f33c1-ac96-4fc5-95fd-12680fd74867",
        "id": "11IL4nGfR_Y6"
      },
      "outputs": [
        {
          "output_type": "stream",
          "name": "stdout",
          "text": [
            "Confusion matrix, without normalization\n"
          ]
        },
        {
          "output_type": "execute_result",
          "data": {
            "text/plain": [
              "<matplotlib.axes._subplots.AxesSubplot at 0x7f03769bcd10>"
            ]
          },
          "metadata": {},
          "execution_count": 102
        },
        {
          "output_type": "display_data",
          "data": {
            "text/plain": [
              "<Figure size 720x720 with 2 Axes>"
            ],
            "image/png": "[encoded data removed]"
          },
          "metadata": {
            "needs_background": "light"
          }
        }
      ],
      "source": [
        "%matplotlib inline\n",
        "plot_confusion_matrix(y_true=Y_test, y_pred=y_pred_test_svm, classes=[\"1 - Liberación posterior\",\"2 - Alargamiento de los gemelos\"],\n",
        "                      title='Matriz de Confusión - test')"
      ]
    },
    {
      "cell_type": "markdown",
      "source": [
        "### 4.2.2 KNN"
      ],
      "metadata": {
        "id": "rUUJTiBlR_Y6"
      }
    },
    {
      "cell_type": "code",
      "execution_count": 103,
      "metadata": {
        "id": "M213ShcgR_Y6"
      },
      "outputs": [],
      "source": [
        "# Dado que el preprocesamiento ya se realizó para los datos de X_train, estos no requeieren del preprocesamiento\n",
        "estimators = [\n",
        "        ('classifier', KNeighborsClassifier())          \n",
        "    ]\n",
        "\n",
        "parameters = {\n",
        "              'classifier__weights':['distance', 'uniform'],\n",
        "              'classifier__n_neighbors':[6,7,8,9,10,11,12,14,16,20,25],\n",
        "              'classifier__p':[1,2],\n",
        "            }\n",
        "\n",
        "pipe_knn = Pipeline(estimators)"
      ]
    },
    {
      "cell_type": "code",
      "execution_count": 104,
      "metadata": {
        "colab": {
          "base_uri": "https://localhost:8080/"
        },
        "outputId": "a8eaad93-22c0-445c-b9ea-1ba42c294c77",
        "id": "kmQu5h7ZR_Y9"
      },
      "outputs": [
        {
          "output_type": "stream",
          "name": "stdout",
          "text": [
            "CPU times: user 1.44 s, sys: 7.04 ms, total: 1.45 s\n",
            "Wall time: 1.46 s\n"
          ]
        }
      ],
      "source": [
        "%%time\n",
        "grid_search_knn = GridSearchCV(pipe_knn, parameters, scoring='balanced_accuracy', cv=4, error_score=0.0)\n",
        "with tf.device('/device:GPU:0'):\n",
        "  grid_search_knn.fit(X_train,Y_train)"
      ]
    },
    {
      "cell_type": "code",
      "execution_count": 105,
      "metadata": {
        "colab": {
          "base_uri": "https://localhost:8080/"
        },
        "outputId": "ea574f0a-7ac4-4e36-b490-b74276c87dd8",
        "id": "T08-7xtqR_Y9"
      },
      "outputs": [
        {
          "output_type": "execute_result",
          "data": {
            "text/plain": [
              "{'classifier__n_neighbors': 7,\n",
              " 'classifier__p': 2,\n",
              " 'classifier__weights': 'distance'}"
            ]
          },
          "metadata": {},
          "execution_count": 105
        }
      ],
      "source": [
        "grid_search_knn.best_params_"
      ]
    },
    {
      "cell_type": "code",
      "execution_count": 106,
      "metadata": {
        "colab": {
          "base_uri": "https://localhost:8080/"
        },
        "outputId": "ade1c33a-e5cd-491c-baa0-255f937031fd",
        "id": "wO65f1kVR_Y9"
      },
      "outputs": [
        {
          "output_type": "stream",
          "name": "stdout",
          "text": [
            "Train Report\n",
            "               precision    recall  f1-score   support\n",
            "\n",
            "         1.0       0.97      1.00      0.99       143\n",
            "         2.0       1.00      0.99      1.00       484\n",
            "\n",
            "    accuracy                           0.99       627\n",
            "   macro avg       0.99      1.00      0.99       627\n",
            "weighted avg       0.99      0.99      0.99       627\n",
            "\n"
          ]
        }
      ],
      "source": [
        "# Obtener el mejor modelo.\n",
        "mejor_knn = grid_search_knn.best_estimator_\n",
        "\n",
        "y_pred_train_knn = mejor_knn.predict(X_train)\n",
        "\n",
        "report_tree = classification_report(Y_train, y_pred_train_knn)\n",
        "\n",
        "print(\"Train Report\\n\", report_tree)"
      ]
    },
    {
      "cell_type": "code",
      "execution_count": 107,
      "metadata": {
        "colab": {
          "base_uri": "https://localhost:8080/",
          "height": 717
        },
        "outputId": "7e2966dc-8827-41d1-918d-b9cccd43b5a7",
        "id": "s7Q9MquaR_Y9"
      },
      "outputs": [
        {
          "output_type": "stream",
          "name": "stdout",
          "text": [
            "Confusion matrix, without normalization\n"
          ]
        },
        {
          "output_type": "execute_result",
          "data": {
            "text/plain": [
              "<matplotlib.axes._subplots.AxesSubplot at 0x7f03763f3690>"
            ]
          },
          "metadata": {},
          "execution_count": 107
        },
        {
          "output_type": "display_data",
          "data": {
            "text/plain": [
              "<Figure size 720x720 with 2 Axes>"
            ],
            "image/png": "[encoded data removed]"
          },
          "metadata": {
            "needs_background": "light"
          }
        }
      ],
      "source": [
        "%matplotlib inline\n",
        "plot_confusion_matrix(y_true=Y_train, y_pred=y_pred_train_knn, classes=[\"1 - Liberación posterior\",\"2 - Alargamiento de los gemelos\"],\n",
        "                      title='Matriz de Confusión - train')"
      ]
    },
    {
      "cell_type": "code",
      "execution_count": 108,
      "metadata": {
        "id": "KqOOku-hR_Y-"
      },
      "outputs": [],
      "source": [
        "# Ahora se usará un pipeline con el mejor modelo para analizar los datos de test\n",
        "estimators = [\n",
        "        ('classifier', KNeighborsClassifier(p=2,n_neighbors=7,weights='distance'))]\n",
        "\n",
        "pipe_knn_test = Pipeline(estimators)"
      ]
    },
    {
      "cell_type": "code",
      "execution_count": 109,
      "metadata": {
        "colab": {
          "base_uri": "https://localhost:8080/"
        },
        "outputId": "260eca86-8c94-46a1-c81d-230462e741f2",
        "id": "nQ-vEeC6R_Y-"
      },
      "outputs": [
        {
          "output_type": "stream",
          "name": "stdout",
          "text": [
            "CPU times: user 3.09 ms, sys: 0 ns, total: 3.09 ms\n",
            "Wall time: 3.53 ms\n"
          ]
        },
        {
          "output_type": "execute_result",
          "data": {
            "text/plain": [
              "Pipeline(steps=[('classifier',\n",
              "                 KNeighborsClassifier(n_neighbors=7, weights='distance'))])"
            ]
          },
          "metadata": {},
          "execution_count": 109
        }
      ],
      "source": [
        "%%time\n",
        "pipe_knn_test.fit(X_train, Y_train)"
      ]
    },
    {
      "cell_type": "code",
      "execution_count": 110,
      "metadata": {
        "colab": {
          "base_uri": "https://localhost:8080/"
        },
        "outputId": "bcd4ae02-6168-4668-c832-e83baa9ddc51",
        "id": "emKIh28iR_Y-"
      },
      "outputs": [
        {
          "output_type": "stream",
          "name": "stdout",
          "text": [
            "KNN Test Report\n",
            "               precision    recall  f1-score   support\n",
            "\n",
            "         1.0       0.75      0.42      0.54        36\n",
            "         2.0       0.85      0.96      0.90       121\n",
            "\n",
            "    accuracy                           0.83       157\n",
            "   macro avg       0.80      0.69      0.72       157\n",
            "weighted avg       0.82      0.83      0.82       157\n",
            "\n"
          ]
        }
      ],
      "source": [
        "# y_pred_test_knn = mejor_knn.predict(X_test)\n",
        "y_pred_test_knn=pipe_knn_test.predict(X_test)\n",
        "\n",
        "report_tree = classification_report(Y_test, y_pred_test_knn)\n",
        "\n",
        "print(\"KNN Test Report\\n\", report_tree)"
      ]
    },
    {
      "cell_type": "code",
      "execution_count": 134,
      "metadata": {
        "colab": {
          "base_uri": "https://localhost:8080/",
          "height": 717
        },
        "outputId": "ab64615a-f80e-46ad-9a7c-d46bd8e6d6b5",
        "id": "vtjdCGsUR_Y-"
      },
      "outputs": [
        {
          "output_type": "stream",
          "name": "stdout",
          "text": [
            "Confusion matrix, without normalization\n"
          ]
        },
        {
          "output_type": "execute_result",
          "data": {
            "text/plain": [
              "<matplotlib.axes._subplots.AxesSubplot at 0x7f0376253a90>"
            ]
          },
          "metadata": {},
          "execution_count": 134
        },
        {
          "output_type": "display_data",
          "data": {
            "text/plain": [
              "<Figure size 720x720 with 2 Axes>"
            ],
            "image/png": "[encoded data removed]"
          },
          "metadata": {
            "needs_background": "light"
          }
        }
      ],
      "source": [
        "%matplotlib inline\n",
        "plot_confusion_matrix(y_true=Y_test, y_pred=y_pred_test_knn, classes=[\"1 - Liberación posterior\",\"2 - Alargamiento de los gemelos\"],\n",
        "                      title='Matriz de Confusión KNN - test')"
      ]
    },
    {
      "cell_type": "markdown",
      "source": [
        "### 4.2.3 Árbol de decisión"
      ],
      "metadata": {
        "id": "QsbQ8Kj9R_Y-"
      }
    },
    {
      "cell_type": "code",
      "execution_count": 112,
      "metadata": {
        "id": "lMtzX02fR_Y-"
      },
      "outputs": [],
      "source": [
        "# Dado que el preprocesamiento ya se realizó para los datos de X_train, se correrá el pipeline sin la parte del preproceso\n",
        "estimators = [\n",
        "        ('classifier', DecisionTreeClassifier(random_state=0))          \n",
        "    ]\n",
        "\n",
        "parameters = {\n",
        "              'classifier__criterion':['gini','entropy'],\n",
        "              'classifier__max_depth':[2,4,8,16,24,28,32],\n",
        "              'classifier__min_samples_split':[2,3],\n",
        "              'classifier__class_weight':[None, 'balanced']\n",
        "            }\n",
        "\n",
        "pipe_tree = Pipeline(estimators)\n"
      ]
    },
    {
      "cell_type": "code",
      "execution_count": 113,
      "metadata": {
        "colab": {
          "base_uri": "https://localhost:8080/"
        },
        "outputId": "c4f01c83-4aad-4687-c5e1-9c3fea4ae4f0",
        "id": "Rdbmjf_kR_Y_"
      },
      "outputs": [
        {
          "output_type": "stream",
          "name": "stdout",
          "text": [
            "CPU times: user 1.27 s, sys: 6.27 ms, total: 1.28 s\n",
            "Wall time: 1.54 s\n"
          ]
        }
      ],
      "source": [
        "%%time\n",
        "grid_search_tree = GridSearchCV(pipe_tree, parameters, scoring='balanced_accuracy', cv=4, error_score=0.0)\n",
        "grid_search_tree.fit(X_train,Y_train)"
      ]
    },
    {
      "cell_type": "code",
      "execution_count": 114,
      "metadata": {
        "colab": {
          "base_uri": "https://localhost:8080/"
        },
        "outputId": "59ea4c8c-186b-436b-9fff-531243e5c353",
        "id": "dy8izwBtR_Y_"
      },
      "outputs": [
        {
          "output_type": "execute_result",
          "data": {
            "text/plain": [
              "{'classifier__class_weight': 'balanced',\n",
              " 'classifier__criterion': 'entropy',\n",
              " 'classifier__max_depth': 2,\n",
              " 'classifier__min_samples_split': 2}"
            ]
          },
          "metadata": {},
          "execution_count": 114
        }
      ],
      "source": [
        "grid_search_tree.best_params_"
      ]
    },
    {
      "cell_type": "code",
      "execution_count": 115,
      "metadata": {
        "colab": {
          "base_uri": "https://localhost:8080/"
        },
        "outputId": "9597f9fd-4d1b-4928-e80c-51525f747a31",
        "id": "9Cap7vL6R_Y_"
      },
      "outputs": [
        {
          "output_type": "stream",
          "name": "stdout",
          "text": [
            "Train Report\n",
            "               precision    recall  f1-score   support\n",
            "\n",
            "         1.0       0.54      0.79      0.64       143\n",
            "         2.0       0.93      0.80      0.86       484\n",
            "\n",
            "    accuracy                           0.80       627\n",
            "   macro avg       0.73      0.79      0.75       627\n",
            "weighted avg       0.84      0.80      0.81       627\n",
            "\n"
          ]
        }
      ],
      "source": [
        "y_pred_train_tree = grid_search_tree.best_estimator_.predict(X_train)\n",
        "report_tree = classification_report(Y_train, y_pred_train_tree)\n",
        "\n",
        "print(\"Train Report\\n\", report_tree)"
      ]
    },
    {
      "cell_type": "code",
      "execution_count": 116,
      "metadata": {
        "colab": {
          "base_uri": "https://localhost:8080/",
          "height": 717
        },
        "outputId": "d0745e38-e27c-47f3-b65b-a652ee31196d",
        "id": "tlT75kwGR_Y_"
      },
      "outputs": [
        {
          "output_type": "stream",
          "name": "stdout",
          "text": [
            "Confusion matrix, without normalization\n"
          ]
        },
        {
          "output_type": "execute_result",
          "data": {
            "text/plain": [
              "<matplotlib.axes._subplots.AxesSubplot at 0x7f037628cbd0>"
            ]
          },
          "metadata": {},
          "execution_count": 116
        },
        {
          "output_type": "display_data",
          "data": {
            "text/plain": [
              "<Figure size 720x720 with 2 Axes>"
            ],
            "image/png": "[encoded data removed]"
          },
          "metadata": {
            "needs_background": "light"
          }
        }
      ],
      "source": [
        "%matplotlib inline\n",
        "plot_confusion_matrix(y_true=Y_train, y_pred=y_pred_train_tree, classes=[\"1 - Liberación posterior\",\"2 - Alargamiento de los gemelos\"],\n",
        "                      title='Matriz de Confusión - train')"
      ]
    },
    {
      "cell_type": "code",
      "execution_count": 117,
      "metadata": {
        "id": "EzyfQ8jNR_Y_"
      },
      "outputs": [],
      "source": [
        "# Ahora se usará un pipeline con el mejor modelo para analizar los datos de test\n",
        "estimators = [\n",
        "        \n",
        "        ('classifier', DecisionTreeClassifier(criterion='entropy',max_depth=2, min_samples_split=2, class_weight='balanced',random_state=0))]\n",
        "\n",
        "pipe_tree_test = Pipeline(estimators)"
      ]
    },
    {
      "cell_type": "code",
      "execution_count": 118,
      "metadata": {
        "colab": {
          "base_uri": "https://localhost:8080/"
        },
        "outputId": "e18df3cc-7ddb-48a0-fc62-d9e52692a0d0",
        "id": "TFpKHXAvR_ZA"
      },
      "outputs": [
        {
          "output_type": "execute_result",
          "data": {
            "text/plain": [
              "Pipeline(steps=[('classifier',\n",
              "                 DecisionTreeClassifier(class_weight='balanced',\n",
              "                                        criterion='entropy', max_depth=2,\n",
              "                                        random_state=0))])"
            ]
          },
          "metadata": {},
          "execution_count": 118
        }
      ],
      "source": [
        "pipe_tree_test.fit(X_train, Y_train)"
      ]
    },
    {
      "cell_type": "code",
      "execution_count": 119,
      "metadata": {
        "id": "3JSPu48wR_ZA"
      },
      "outputs": [],
      "source": [
        "y_test_tree=pipe_tree_test.predict(X_test)"
      ]
    },
    {
      "cell_type": "code",
      "execution_count": 120,
      "metadata": {
        "colab": {
          "base_uri": "https://localhost:8080/"
        },
        "outputId": "674d11f3-18e9-4b44-923e-fa00e6117307",
        "id": "c07jx2tSR_ZA"
      },
      "outputs": [
        {
          "output_type": "stream",
          "name": "stdout",
          "text": [
            "Tree test Report\n",
            "               precision    recall  f1-score   support\n",
            "\n",
            "         1.0       0.62      0.86      0.72        36\n",
            "         2.0       0.95      0.84      0.89       121\n",
            "\n",
            "    accuracy                           0.85       157\n",
            "   macro avg       0.79      0.85      0.81       157\n",
            "weighted avg       0.88      0.85      0.85       157\n",
            "\n"
          ]
        }
      ],
      "source": [
        "report_tree_test = classification_report(Y_test, y_test_tree)\n",
        "\n",
        "print(\"Tree test Report\\n\", report_tree_test)"
      ]
    },
    {
      "cell_type": "code",
      "execution_count": 121,
      "metadata": {
        "colab": {
          "base_uri": "https://localhost:8080/",
          "height": 717
        },
        "outputId": "ca90b9ae-242b-4141-8eb0-4bba312aec8c",
        "id": "Ai5hx0z5R_ZA"
      },
      "outputs": [
        {
          "output_type": "stream",
          "name": "stdout",
          "text": [
            "Confusion matrix, without normalization\n"
          ]
        },
        {
          "output_type": "execute_result",
          "data": {
            "text/plain": [
              "<matplotlib.axes._subplots.AxesSubplot at 0x7f0376226b50>"
            ]
          },
          "metadata": {},
          "execution_count": 121
        },
        {
          "output_type": "display_data",
          "data": {
            "text/plain": [
              "<Figure size 720x720 with 2 Axes>"
            ],
            "image/png": "[encoded data removed]"
          },
          "metadata": {
            "needs_background": "light"
          }
        }
      ],
      "source": [
        "%matplotlib inline\n",
        "plot_confusion_matrix(y_true=Y_test, y_pred=y_test_tree, classes=[\"1 - Liberación posterior\",\"2 - Alargamiento de los gemelos\"],\n",
        "                      title='Matriz de Confusión - test')"
      ]
    },
    {
      "cell_type": "markdown",
      "source": [
        "### 4.2.4 Logistic regression"
      ],
      "metadata": {
        "id": "iuveAL7xR_ZA"
      }
    },
    {
      "cell_type": "code",
      "execution_count": 126,
      "metadata": {
        "id": "dqnYs64UR_ZA"
      },
      "outputs": [],
      "source": [
        "# Dado que el preprocesamiento ya se realizó para los datos de X_train, se correrá el pipeline sin la parte del preproceso\n",
        "estimators = [\n",
        "        ('classifier', LogisticRegression())          \n",
        "    ]\n",
        "\n",
        "parameters = {'classifier__penalty':['l1', 'l2', 'elasticnet'],\n",
        "              'classifier__C':[0.1, 1, 10],\n",
        "              'classifier__class_weight':[None, 'balanced'],\n",
        "              'classifier__solver': ['liblinear']\n",
        "              \n",
        "            }\n",
        "\n",
        "pipe_logistic = Pipeline(estimators)"
      ]
    },
    {
      "cell_type": "code",
      "execution_count": 127,
      "metadata": {
        "colab": {
          "base_uri": "https://localhost:8080/"
        },
        "outputId": "fd6548bf-7e89-43d7-c243-6e6cbb421233",
        "id": "0W5-E0YFR_ZB"
      },
      "outputs": [
        {
          "output_type": "stream",
          "name": "stdout",
          "text": [
            "Fitting 5 folds for each of 18 candidates, totalling 90 fits\n",
            "CPU times: user 594 ms, sys: 5.97 ms, total: 600 ms\n",
            "Wall time: 629 ms\n"
          ]
        },
        {
          "output_type": "stream",
          "name": "stderr",
          "text": [
            "/usr/local/lib/python3.7/dist-packages/sklearn/model_selection/_validation.py:372: FitFailedWarning: \n",
            "30 fits failed out of a total of 90.\n",
            "The score on these train-test partitions for these parameters will be set to nan.\n",
            "If these failures are not expected, you can try to debug them by setting error_score='raise'.\n",
            "\n",
            "Below are more details about the failures:\n",
            "--------------------------------------------------------------------------------\n",
            "30 fits failed with the following error:\n",
            "Traceback (most recent call last):\n",
            "  File \"/usr/local/lib/python3.7/dist-packages/sklearn/model_selection/_validation.py\", line 680, in _fit_and_score\n",
            "    estimator.fit(X_train, y_train, **fit_params)\n",
            "  File \"/usr/local/lib/python3.7/dist-packages/sklearn/pipeline.py\", line 394, in fit\n",
            "    self._final_estimator.fit(Xt, y, **fit_params_last_step)\n",
            "  File \"/usr/local/lib/python3.7/dist-packages/sklearn/linear_model/_logistic.py\", line 1461, in fit\n",
            "    solver = _check_solver(self.solver, self.penalty, self.dual)\n",
            "  File \"/usr/local/lib/python3.7/dist-packages/sklearn/linear_model/_logistic.py\", line 459, in _check_solver\n",
            "    solver\n",
            "ValueError: Only 'saga' solver supports elasticnet penalty, got solver=liblinear.\n",
            "\n",
            "  warnings.warn(some_fits_failed_message, FitFailedWarning)\n",
            "/usr/local/lib/python3.7/dist-packages/sklearn/model_selection/_search.py:972: UserWarning: One or more of the test scores are non-finite: [0.68725951 0.70637992        nan 0.78915553 0.78433157        nan\n",
            " 0.71732655 0.72434625        nan 0.77892729 0.78098915        nan\n",
            " 0.72331533 0.72331533        nan 0.78043686 0.77686544        nan]\n",
            "  category=UserWarning,\n"
          ]
        }
      ],
      "source": [
        "%%time\n",
        "grid_search_logistic = GridSearchCV(pipe_logistic, parameters, scoring='balanced_accuracy', cv=5, verbose = 1)\n",
        "with tf.device('/device:GPU:0'):\n",
        "  grid_search_logistic.fit(X_train,Y_train)"
      ]
    },
    {
      "cell_type": "code",
      "execution_count": 128,
      "metadata": {
        "colab": {
          "base_uri": "https://localhost:8080/"
        },
        "outputId": "b2afd45c-7331-4dd0-e60a-807544eeb6ce",
        "id": "E4_KB24iR_ZB"
      },
      "outputs": [
        {
          "output_type": "execute_result",
          "data": {
            "text/plain": [
              "{'classifier__C': 0.1,\n",
              " 'classifier__class_weight': 'balanced',\n",
              " 'classifier__penalty': 'l1',\n",
              " 'classifier__solver': 'liblinear'}"
            ]
          },
          "metadata": {},
          "execution_count": 128
        }
      ],
      "source": [
        "grid_search_logistic.best_params_"
      ]
    },
    {
      "cell_type": "code",
      "execution_count": null,
      "metadata": {
        "colab": {
          "base_uri": "https://localhost:8080/"
        },
        "outputId": "d11112cb-100f-4bd9-ed9f-6f4a35e76451",
        "id": "FPzVcBHSR_ZB"
      },
      "outputs": [
        {
          "output_type": "stream",
          "name": "stdout",
          "text": [
            "Train Report\n",
            "               precision    recall  f1-score   support\n",
            "\n",
            "         1.0       0.51      0.80      0.62       143\n",
            "         2.0       0.93      0.78      0.85       484\n",
            "\n",
            "    accuracy                           0.78       627\n",
            "   macro avg       0.72      0.79      0.74       627\n",
            "weighted avg       0.83      0.78      0.80       627\n",
            "\n"
          ]
        }
      ],
      "source": [
        "# Obtener el mejor modelo.\n",
        "mejor_logistic = grid_search_logistic.best_estimator_\n",
        "\n",
        "y_pred_train_logistic = mejor_logistic.predict(X_train)\n",
        "\n",
        "report_logistic = classification_report(Y_train, y_pred_train_logistic)\n",
        "\n",
        "print(\"Train Report\\n\", report_logistic)"
      ]
    },
    {
      "cell_type": "code",
      "execution_count": null,
      "metadata": {
        "colab": {
          "base_uri": "https://localhost:8080/",
          "height": 717
        },
        "outputId": "545b1c54-dbe9-4c4d-9099-9e51f5c7b2f8",
        "id": "0Ppf4jFUR_ZB"
      },
      "outputs": [
        {
          "output_type": "stream",
          "name": "stdout",
          "text": [
            "Confusion matrix, without normalization\n"
          ]
        },
        {
          "output_type": "execute_result",
          "data": {
            "text/plain": [
              "<matplotlib.axes._subplots.AxesSubplot at 0x7f041cbc2a50>"
            ]
          },
          "metadata": {},
          "execution_count": 239
        },
        {
          "output_type": "display_data",
          "data": {
            "text/plain": [
              "<Figure size 720x720 with 2 Axes>"
            ],
            "image/png": "[encoded data removed]"
          },
          "metadata": {
            "needs_background": "light"
          }
        }
      ],
      "source": [
        "%matplotlib inline\n",
        "plot_confusion_matrix(y_true=Y_train, y_pred=y_pred_train_logistic, classes=[\"1 - Liberación posterior\",\"2 - Alargamiento de los gemelos\"],\n",
        "                      title='Matriz de Confusión - train')"
      ]
    },
    {
      "cell_type": "code",
      "execution_count": null,
      "metadata": {
        "id": "Ih7LVa5FR_ZC"
      },
      "outputs": [],
      "source": [
        "# Ahora se usará un pipeline con el mejor modelo para analizar los datos de test\n",
        "estimators = [\n",
        "        ('classifier', LogisticRegression( C=1,penalty=\"l2\", class_weight='balanced' ))]\n",
        "\n",
        "pipe_logistic_test = Pipeline(estimators)"
      ]
    },
    {
      "cell_type": "code",
      "execution_count": null,
      "metadata": {
        "colab": {
          "base_uri": "https://localhost:8080/"
        },
        "outputId": "2cbf9bb8-b25f-46b4-d448-57926a94389d",
        "id": "9ggw4dCXR_ZC"
      },
      "outputs": [
        {
          "output_type": "stream",
          "name": "stdout",
          "text": [
            "CPU times: user 24.7 ms, sys: 0 ns, total: 24.7 ms\n",
            "Wall time: 26.2 ms\n"
          ]
        },
        {
          "output_type": "execute_result",
          "data": {
            "text/plain": [
              "Pipeline(steps=[('classifier',\n",
              "                 LogisticRegression(C=1, class_weight='balanced'))])"
            ]
          },
          "metadata": {},
          "execution_count": 241
        }
      ],
      "source": [
        "%%time\n",
        "pipe_logistic_test.fit(X_train, Y_train)"
      ]
    },
    {
      "cell_type": "code",
      "execution_count": null,
      "metadata": {
        "colab": {
          "base_uri": "https://localhost:8080/"
        },
        "outputId": "1e8f46d6-f225-47c2-dee5-c627d6df23f5",
        "id": "xzHLsZuYR_ZC"
      },
      "outputs": [
        {
          "output_type": "stream",
          "name": "stdout",
          "text": [
            "Logistic regression Test Report\n",
            "               precision    recall  f1-score   support\n",
            "\n",
            "         1.0       0.56      0.81      0.66        36\n",
            "         2.0       0.93      0.81      0.87       121\n",
            "\n",
            "    accuracy                           0.81       157\n",
            "   macro avg       0.75      0.81      0.76       157\n",
            "weighted avg       0.85      0.81      0.82       157\n",
            "\n"
          ]
        }
      ],
      "source": [
        "y_pred_test_logistic=pipe_logistic_test.predict(X_test)\n",
        "\n",
        "report_tree = classification_report(Y_test, y_pred_test_logistic)\n",
        "\n",
        "print(\"Logistic regression Test Report\\n\", report_tree)"
      ]
    },
    {
      "cell_type": "code",
      "execution_count": null,
      "metadata": {
        "colab": {
          "base_uri": "https://localhost:8080/",
          "height": 717
        },
        "outputId": "f63017e1-2670-45a0-e8a6-cd144f7fc1e5",
        "id": "Xx3O0AaVR_ZC"
      },
      "outputs": [
        {
          "output_type": "stream",
          "name": "stdout",
          "text": [
            "Confusion matrix, without normalization\n"
          ]
        },
        {
          "output_type": "execute_result",
          "data": {
            "text/plain": [
              "<matplotlib.axes._subplots.AxesSubplot at 0x7f041cb21f90>"
            ]
          },
          "metadata": {},
          "execution_count": 243
        },
        {
          "output_type": "display_data",
          "data": {
            "text/plain": [
              "<Figure size 720x720 with 2 Axes>"
            ],
            "image/png": "[encoded data removed]"
          },
          "metadata": {
            "needs_background": "light"
          }
        }
      ],
      "source": [
        "%matplotlib inline\n",
        "plot_confusion_matrix(y_true=Y_test, y_pred=y_pred_test_logistic, classes=[\"1 - Liberación posterior\",\"2 - Alargamiento de los gemelos\"],\n",
        "                      title='Matriz de Confusión - test')"
      ]
    },
    {
      "cell_type": "markdown",
      "source": [
        "### 4.2.5 Random Forest"
      ],
      "metadata": {
        "id": "CAglaqtT0pAc"
      }
    },
    {
      "cell_type": "code",
      "execution_count": 129,
      "metadata": {
        "id": "f6Kj0UJ60zeX"
      },
      "outputs": [],
      "source": [
        "estimators = [\n",
        "        ('classifier', RandomForestClassifier(max_depth=2, random_state=0))          \n",
        "    ]\n",
        "\n",
        "parameters = {\n",
        "              'classifier__n_estimators':[100,200],\n",
        "              'classifier__criterion':['gini','entropy'],\n",
        "              'classifier__max_depth':[2,4,8,16,24,28,32],\n",
        "              'classifier__min_samples_split':[2,3],\n",
        "              'classifier__class_weight':[None, 'balanced']\n",
        "            }\n",
        "\n",
        "pipe_RF = Pipeline(estimators)"
      ]
    },
    {
      "cell_type": "code",
      "execution_count": 130,
      "metadata": {
        "colab": {
          "base_uri": "https://localhost:8080/"
        },
        "outputId": "2a004760-02c8-4820-a668-aa6455dca8dc",
        "id": "eVdd99lo0zeY"
      },
      "outputs": [
        {
          "output_type": "stream",
          "name": "stdout",
          "text": [
            "Fitting 5 folds for each of 112 candidates, totalling 560 fits\n",
            "CPU times: user 1min 58s, sys: 824 ms, total: 1min 59s\n",
            "Wall time: 2min\n"
          ]
        }
      ],
      "source": [
        "%%time\n",
        "grid_search_RF = GridSearchCV(pipe_RF, parameters, scoring='balanced_accuracy', cv=5, verbose = 1)\n",
        "with tf.device('/device:GPU:0'):\n",
        "  grid_search_RF.fit(X_train,Y_train)"
      ]
    },
    {
      "cell_type": "code",
      "execution_count": 131,
      "metadata": {
        "colab": {
          "base_uri": "https://localhost:8080/"
        },
        "outputId": "09d2c7ab-8444-4dd9-dc54-d05a8e17897c",
        "id": "NHEqgPCz0zeY"
      },
      "outputs": [
        {
          "output_type": "execute_result",
          "data": {
            "text/plain": [
              "{'classifier__class_weight': 'balanced',\n",
              " 'classifier__criterion': 'gini',\n",
              " 'classifier__max_depth': 2,\n",
              " 'classifier__min_samples_split': 2,\n",
              " 'classifier__n_estimators': 200}"
            ]
          },
          "metadata": {},
          "execution_count": 131
        }
      ],
      "source": [
        "grid_search_RF.best_params_"
      ]
    },
    {
      "cell_type": "code",
      "execution_count": 132,
      "metadata": {
        "colab": {
          "base_uri": "https://localhost:8080/"
        },
        "outputId": "ad7c2f0f-106a-4547-88b1-9b068c9eaaa7",
        "id": "laAfJmn80zeY"
      },
      "outputs": [
        {
          "output_type": "stream",
          "name": "stdout",
          "text": [
            "Train Report\n",
            "               precision    recall  f1-score   support\n",
            "\n",
            "         1.0       0.53      0.81      0.64       143\n",
            "         2.0       0.93      0.79      0.85       484\n",
            "\n",
            "    accuracy                           0.79       627\n",
            "   macro avg       0.73      0.80      0.75       627\n",
            "weighted avg       0.84      0.79      0.81       627\n",
            "\n"
          ]
        }
      ],
      "source": [
        "# Obtener el mejor modelo.\n",
        "mejor_RF = grid_search_RF.best_estimator_\n",
        "\n",
        "y_pred_train_RF = mejor_RF.predict(X_train)\n",
        "\n",
        "report_RF = classification_report(Y_train, y_pred_train_RF)\n",
        "\n",
        "print(\"Train Report\\n\", report_RF)"
      ]
    },
    {
      "cell_type": "code",
      "execution_count": 133,
      "metadata": {
        "colab": {
          "base_uri": "https://localhost:8080/",
          "height": 717
        },
        "outputId": "7e57113b-5642-47a7-c6be-8e83d9626eae",
        "id": "_kF_lAGb0zeY"
      },
      "outputs": [
        {
          "output_type": "stream",
          "name": "stdout",
          "text": [
            "Confusion matrix, without normalization\n"
          ]
        },
        {
          "output_type": "execute_result",
          "data": {
            "text/plain": [
              "<matplotlib.axes._subplots.AxesSubplot at 0x7f037cae9b50>"
            ]
          },
          "metadata": {},
          "execution_count": 133
        },
        {
          "output_type": "display_data",
          "data": {
            "text/plain": [
              "<Figure size 720x720 with 2 Axes>"
            ],
            "image/png": "[encoded data removed]"
          },
          "metadata": {
            "needs_background": "light"
          }
        }
      ],
      "source": [
        "%matplotlib inline\n",
        "plot_confusion_matrix(y_true=Y_train, y_pred=y_pred_train_RF, classes=[\"1 - Liberación posterior\",\"2 - Alargamiento de los gemelos\"],\n",
        "                      title='Matriz de Confusión - train')"
      ]
    },
    {
      "cell_type": "code",
      "execution_count": null,
      "metadata": {
        "colab": {
          "base_uri": "https://localhost:8080/"
        },
        "outputId": "3effc356-9cd2-484e-f991-3587e924863b",
        "id": "fCcpMl8D6MO3"
      },
      "outputs": [
        {
          "output_type": "stream",
          "name": "stdout",
          "text": [
            "CPU times: user 276 ms, sys: 1.02 ms, total: 277 ms\n",
            "Wall time: 279 ms\n"
          ]
        },
        {
          "output_type": "execute_result",
          "data": {
            "text/plain": [
              "Pipeline(steps=[('classifier',\n",
              "                 RandomForestClassifier(class_weight='balanced', max_depth=2,\n",
              "                                        n_estimators=200, random_state=0))])"
            ]
          },
          "metadata": {},
          "execution_count": 276
        }
      ],
      "source": [
        "%%time\n",
        "mejor_RF.fit(X_train, Y_train)"
      ]
    },
    {
      "cell_type": "code",
      "execution_count": null,
      "metadata": {
        "colab": {
          "base_uri": "https://localhost:8080/"
        },
        "outputId": "885973f3-efc0-4e62-96c9-0a513359b48b",
        "id": "bfqwFJ_H6MO4"
      },
      "outputs": [
        {
          "output_type": "stream",
          "name": "stdout",
          "text": [
            "Random Forest Test Report\n",
            "               precision    recall  f1-score   support\n",
            "\n",
            "         1.0       0.62      0.86      0.72        36\n",
            "         2.0       0.95      0.84      0.89       121\n",
            "\n",
            "    accuracy                           0.85       157\n",
            "   macro avg       0.79      0.85      0.81       157\n",
            "weighted avg       0.88      0.85      0.85       157\n",
            "\n"
          ]
        }
      ],
      "source": [
        "y_pred_test_logistic=mejor_RF.predict(X_test)\n",
        "\n",
        "report_tree = classification_report(Y_test, y_pred_test_logistic)\n",
        "\n",
        "print(\"Random Forest Test Report\\n\", report_tree)"
      ]
    },
    {
      "cell_type": "code",
      "execution_count": null,
      "metadata": {
        "colab": {
          "base_uri": "https://localhost:8080/",
          "height": 719
        },
        "outputId": "d65f7e5c-7f88-4fe9-ac27-35e92ff1e1eb",
        "id": "893rEffu6MO4"
      },
      "outputs": [
        {
          "output_type": "stream",
          "name": "stdout",
          "text": [
            "Confusion matrix, without normalization\n"
          ]
        },
        {
          "output_type": "execute_result",
          "data": {
            "text/plain": [
              "<matplotlib.axes._subplots.AxesSubplot at 0x7f0413cba3d0>"
            ]
          },
          "metadata": {},
          "execution_count": 278
        },
        {
          "output_type": "display_data",
          "data": {
            "text/plain": [
              "<Figure size 720x720 with 2 Axes>"
            ],
            "image/png": "[encoded data removed]"
          },
          "metadata": {
            "needs_background": "light"
          }
        }
      ],
      "source": [
        "%matplotlib inline\n",
        "plot_confusion_matrix(y_true=Y_test, y_pred=y_pred_test_logistic, classes=[\"0 - No necesita cirugía\",\"1 - Necesita cirugía\"],\n",
        "                      title='Matriz de Confusión - test')"
      ]
    },
    {
      "cell_type": "markdown",
      "source": [
        "# 5.Exportar el modelo"
      ],
      "metadata": {
        "id": "s_OGTzpWWL-k"
      }
    },
    {
      "cell_type": "code",
      "source": [
        "example={\"Edad\":[-0.027872],\"Tono gastrocnemios\":[ -0.114409], \"Dorsiflexion\":\t[0.667573],\"Felxion Plantar Tobillo\":[0.600496],\"Silfverskiold\":[0.432256],\"Ataxica\":[0.0],\t\"Diskinetica\":[0.0],\"Espastica\":[1.0],\t\"Hipotonica\":[0.0],\"Mixta\":[0.0]}\n",
        "input=pd.DataFrame.from_dict(example)"
      ],
      "metadata": {
        "id": "HTfu1yMXXbPo"
      },
      "execution_count": null,
      "outputs": []
    },
    {
      "cell_type": "code",
      "source": [
        "columns = ['Edad', 'Tono gastrocnemios', 'Dorsiflexion', 'Felxion Plantar Tobillo',       'Silfverskiold']\n",
        "input[columns]"
      ],
      "metadata": {
        "colab": {
          "base_uri": "https://localhost:8080/",
          "height": 81
        },
        "id": "yfPppYQLuhDX",
        "outputId": "493c8386-b1b3-4df3-d272-955801280f0a"
      },
      "execution_count": null,
      "outputs": [
        {
          "output_type": "execute_result",
          "data": {
            "text/plain": [
              "       Edad  Tono gastrocnemios  Dorsiflexion  Felxion Plantar Tobillo  \\\n",
              "0 -0.027872           -0.114409      0.667573                 0.600496   \n",
              "\n",
              "   Silfverskiold  \n",
              "0       0.432256  "
            ],
            "text/html": [
              "\n",
              "  <div id=\"df-366814b3-cc6f-4aff-9dbc-19a3b5242b81\">\n",
              "    <div class=\"colab-df-container\">\n",
              "      <div>\n",
              "<style scoped>\n",
              "    .dataframe tbody tr th:only-of-type {\n",
              "        vertical-align: middle;\n",
              "    }\n",
              "\n",
              "    .dataframe tbody tr th {\n",
              "        vertical-align: top;\n",
              "    }\n",
              "\n",
              "    .dataframe thead th {\n",
              "        text-align: right;\n",
              "    }\n",
              "</style>\n",
              "<table border=\"1\" class=\"dataframe\">\n",
              "  <thead>\n",
              "    <tr style=\"text-align: right;\">\n",
              "      <th></th>\n",
              "      <th>Edad</th>\n",
              "      <th>Tono gastrocnemios</th>\n",
              "      <th>Dorsiflexion</th>\n",
              "      <th>Felxion Plantar Tobillo</th>\n",
              "      <th>Silfverskiold</th>\n",
              "    </tr>\n",
              "  </thead>\n",
              "  <tbody>\n",
              "    <tr>\n",
              "      <th>0</th>\n",
              "      <td>-0.027872</td>\n",
              "      <td>-0.114409</td>\n",
              "      <td>0.667573</td>\n",
              "      <td>0.600496</td>\n",
              "      <td>0.432256</td>\n",
              "    </tr>\n",
              "  </tbody>\n",
              "</table>\n",
              "</div>\n",
              "      <button class=\"colab-df-convert\" onclick=\"convertToInteractive('df-366814b3-cc6f-4aff-9dbc-19a3b5242b81')\"\n",
              "              title=\"Convert this dataframe to an interactive table.\"\n",
              "              style=\"display:none;\">\n",
              "        \n",
              "  <svg xmlns=\"http://www.w3.org/2000/svg\" height=\"24px\"viewBox=\"0 0 24 24\"\n",
              "       width=\"24px\">\n",
              "    <path d=\"M0 0h24v24H0V0z\" fill=\"none\"/>\n",
              "    <path d=\"M18.56 5.44l.94 2.06.94-2.06 2.06-.94-2.06-.94-.94-2.06-.94 2.06-2.06.94zm-11 1L8.5 8.5l.94-2.06 2.06-.94-2.06-.94L8.5 2.5l-.94 2.06-2.06.94zm10 10l.94 2.06.94-2.06 2.06-.94-2.06-.94-.94-2.06-.94 2.06-2.06.94z\"/><path d=\"M17.41 7.96l-1.37-1.37c-.4-.4-.92-.59-1.43-.59-.52 0-1.04.2-1.43.59L10.3 9.45l-7.72 7.72c-.78.78-.78 2.05 0 2.83L4 21.41c.39.39.9.59 1.41.59.51 0 1.02-.2 1.41-.59l7.78-7.78 2.81-2.81c.8-.78.8-2.07 0-2.86zM5.41 20L4 18.59l7.72-7.72 1.47 1.35L5.41 20z\"/>\n",
              "  </svg>\n",
              "      </button>\n",
              "      \n",
              "  <style>\n",
              "    .colab-df-container {\n",
              "      display:flex;\n",
              "      flex-wrap:wrap;\n",
              "      gap: 12px;\n",
              "    }\n",
              "\n",
              "    .colab-df-convert {\n",
              "      background-color: #E8F0FE;\n",
              "      border: none;\n",
              "      border-radius: 50%;\n",
              "      cursor: pointer;\n",
              "      display: none;\n",
              "      fill: #1967D2;\n",
              "      height: 32px;\n",
              "      padding: 0 0 0 0;\n",
              "      width: 32px;\n",
              "    }\n",
              "\n",
              "    .colab-df-convert:hover {\n",
              "      background-color: #E2EBFA;\n",
              "      box-shadow: 0px 1px 2px rgba(60, 64, 67, 0.3), 0px 1px 3px 1px rgba(60, 64, 67, 0.15);\n",
              "      fill: #174EA6;\n",
              "    }\n",
              "\n",
              "    [theme=dark] .colab-df-convert {\n",
              "      background-color: #3B4455;\n",
              "      fill: #D2E3FC;\n",
              "    }\n",
              "\n",
              "    [theme=dark] .colab-df-convert:hover {\n",
              "      background-color: #434B5C;\n",
              "      box-shadow: 0px 1px 3px 1px rgba(0, 0, 0, 0.15);\n",
              "      filter: drop-shadow(0px 1px 2px rgba(0, 0, 0, 0.3));\n",
              "      fill: #FFFFFF;\n",
              "    }\n",
              "  </style>\n",
              "\n",
              "      <script>\n",
              "        const buttonEl =\n",
              "          document.querySelector('#df-366814b3-cc6f-4aff-9dbc-19a3b5242b81 button.colab-df-convert');\n",
              "        buttonEl.style.display =\n",
              "          google.colab.kernel.accessAllowed ? 'block' : 'none';\n",
              "\n",
              "        async function convertToInteractive(key) {\n",
              "          const element = document.querySelector('#df-366814b3-cc6f-4aff-9dbc-19a3b5242b81');\n",
              "          const dataTable =\n",
              "            await google.colab.kernel.invokeFunction('convertToInteractive',\n",
              "                                                     [key], {});\n",
              "          if (!dataTable) return;\n",
              "\n",
              "          const docLinkHtml = 'Like what you see? Visit the ' +\n",
              "            '<a target=\"_blank\" href=https://colab.research.google.com/notebooks/data_table.ipynb>data table notebook</a>'\n",
              "            + ' to learn more about interactive tables.';\n",
              "          element.innerHTML = '';\n",
              "          dataTable['output_type'] = 'display_data';\n",
              "          await google.colab.output.renderOutput(dataTable, element);\n",
              "          const docLink = document.createElement('div');\n",
              "          docLink.innerHTML = docLinkHtml;\n",
              "          element.appendChild(docLink);\n",
              "        }\n",
              "      </script>\n",
              "    </div>\n",
              "  </div>\n",
              "  "
            ]
          },
          "metadata": {},
          "execution_count": 246
        }
      ]
    },
    {
      "cell_type": "code",
      "source": [
        "pipe_knn_test.predict(input)"
      ],
      "metadata": {
        "id": "-GuuU1HvkWPy",
        "colab": {
          "base_uri": "https://localhost:8080/"
        },
        "outputId": "0c726160-2e3a-4789-acb6-2af2130d9820"
      },
      "execution_count": null,
      "outputs": [
        {
          "output_type": "execute_result",
          "data": {
            "text/plain": [
              "array([0])"
            ]
          },
          "metadata": {},
          "execution_count": 231
        }
      ]
    },
    {
      "cell_type": "code",
      "source": [
        "pipe_svm_test.predict(input)"
      ],
      "metadata": {
        "colab": {
          "base_uri": "https://localhost:8080/"
        },
        "id": "uVQc1nmM7Inn",
        "outputId": "cfbfeb98-bcc5-40fe-a203-16cdf65123ac"
      },
      "execution_count": null,
      "outputs": [
        {
          "output_type": "execute_result",
          "data": {
            "text/plain": [
              "array([2.])"
            ]
          },
          "metadata": {},
          "execution_count": 261
        }
      ]
    },
    {
      "cell_type": "code",
      "execution_count": null,
      "metadata": {
        "id": "3Rj7svj0YPtV",
        "colab": {
          "base_uri": "https://localhost:8080/"
        },
        "outputId": "ef169124-4c62-47d2-8678-9e08a191d66a"
      },
      "outputs": [
        {
          "output_type": "execute_result",
          "data": {
            "text/plain": [
              "['knn_si_no.joblib']"
            ]
          },
          "metadata": {},
          "execution_count": 226
        }
      ],
      "source": [
        "# Usamos la lbreria joblib\n",
        "filename = 'rf_si_no.joblib'\n",
        "# Se guarda\n",
        "dump(pipe_knn_test, filename) "
      ]
    },
    {
      "cell_type": "code",
      "execution_count": null,
      "metadata": {
        "colab": {
          "base_uri": "https://localhost:8080/"
        },
        "outputId": "18918fa8-93b5-4308-d86a-5863db7475d9",
        "id": "OZPemskC7CG6"
      },
      "outputs": [
        {
          "output_type": "execute_result",
          "data": {
            "text/plain": [
              "['svm_cirugia.joblib']"
            ]
          },
          "metadata": {},
          "execution_count": 260
        }
      ],
      "source": [
        "# Usamos la lbreria joblib\n",
        "filename = 'svm_cirugia.joblib'\n",
        "# Se guarda\n",
        "dump(pipe_svm_test, filename) "
      ]
    },
    {
      "cell_type": "code",
      "source": [
        "# Usamos la lbreria joblib\n",
        "filename = 'scaler.joblib'\n",
        "# Se guarda\n",
        "dump(scaler, filename) "
      ],
      "metadata": {
        "colab": {
          "base_uri": "https://localhost:8080/"
        },
        "id": "seZVGmgyzyvt",
        "outputId": "285c2660-5ee3-454d-c4e0-f56583241b46"
      },
      "execution_count": null,
      "outputs": [
        {
          "output_type": "execute_result",
          "data": {
            "text/plain": [
              "['scaler.joblib']"
            ]
          },
          "metadata": {},
          "execution_count": 248
        }
      ]
    },
    {
      "cell_type": "code",
      "source": [
        "a=scaler.transform(input[columns])\n",
        "a"
      ],
      "metadata": {
        "colab": {
          "base_uri": "https://localhost:8080/"
        },
        "id": "QnqHms0u0uQx",
        "outputId": "71ad3e02-be68-4eda-f3c5-9ecfdf127cca"
      },
      "execution_count": null,
      "outputs": [
        {
          "output_type": "execute_result",
          "data": {
            "text/plain": [
              "array([[-1.86640073, -1.81160356, -1.22462326, -2.92770769, -1.49346619]])"
            ]
          },
          "metadata": {},
          "execution_count": 247
        }
      ]
    },
    {
      "cell_type": "markdown",
      "source": [
        "# 6.A futuro"
      ],
      "metadata": {
        "id": "Aue1-nSF3uLw"
      }
    },
    {
      "cell_type": "markdown",
      "source": [
        "Light Gradient Boosting Machine\n",
        "Random Forest\n",
        "\n",
        "SMOTE\n",
        "Undersampling\n"
      ],
      "metadata": {
        "id": "W4TAXrYN3xaQ"
      }
    }
  ]
}