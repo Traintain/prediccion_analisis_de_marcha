{
  "nbformat": 4,
  "nbformat_minor": 0,
  "metadata": {
    "colab": {
      "name": "Proyecto análisis de marcha.ipynb",
      "provenance": [],
      "collapsed_sections": [],
      "toc_visible": true,
      "authorship_tag": "ABX9TyMGLXQkNUZ6fL44hPCP+Fb4",
      "include_colab_link": true
    },
    "kernelspec": {
      "name": "python3",
      "display_name": "Python 3"
    },
    "language_info": {
      "name": "python"
    }
  },
  "cells": [
    {
      "cell_type": "markdown",
      "metadata": {
        "id": "view-in-github",
        "colab_type": "text"
      },
      "source": [
        "<a href=\"https://colab.research.google.com/github/Traintain/prediccion_analisis_de_marcha/blob/main/Proyecto_an%C3%A1lisis_de_marcha.ipynb\" target=\"_parent\"><img src=\"https://colab.research.google.com/assets/colab-badge.svg\" alt=\"Open In Colab\"/></a>"
      ]
    },
    {
      "cell_type": "markdown",
      "source": [
        "# 0.Importación de librerías"
      ],
      "metadata": {
        "id": "YoF4yh0govVa"
      }
    },
    {
      "cell_type": "code",
      "source": [
        "import pandas as pd\n",
        "\n",
        "# Seaborn\n",
        "import seaborn as sns\n",
        "\n",
        "# Librerías para la visualización\n",
        "import matplotlib.pyplot as plt\n",
        "\n",
        "import tensorflow as tf\n",
        "\n",
        "import numpy as np\n",
        "\n",
        "#Scikit-learn\n",
        "from sklearn.preprocessing import OneHotEncoder, StandardScaler\n",
        "from sklearn.model_selection import train_test_split, GridSearchCV\n",
        "from sklearn import svm\n",
        "from sklearn.neighbors import KNeighborsClassifier\n",
        "from sklearn.tree import DecisionTreeClassifier\n",
        "from sklearn.linear_model import LogisticRegression\n",
        "from sklearn.pipeline import Pipeline\n",
        "from sklearn.metrics import classification_report, confusion_matrix\n",
        "\n",
        "# Importar/ Exportar modelos\n",
        "from joblib import dump, load"
      ],
      "metadata": {
        "id": "Qqsvjqrf9G6i"
      },
      "execution_count": null,
      "outputs": []
    },
    {
      "cell_type": "markdown",
      "source": [
        "# 1.Entendimiento del negocio"
      ],
      "metadata": {
        "id": "bB1OyjuCo1bD"
      }
    },
    {
      "cell_type": "markdown",
      "source": [
        "Como parte del proceso diagnóstico de enfermedades que afecten la marcha se realizan laboratorios de marcha. En estos laboratorios se cuantifica y analiza cómo camina una persona. Dependiendo de esto un médico analiza los datos y da un concepto.\n",
        "\n",
        "En este caso, nos interesa analizar las siguientes variables de los laboratorios de marcha:\n",
        "- Edad del paciente\n",
        "- Tipo: Puede ser espástica, diskinética, mixta, atáxica e hiptónica. La más común es espástica.\n",
        "- Tono gastrocnemios: se tiene una medida basada en la escala de Ashworth para medir espacticidas. Esta indica que tanto puedes doblar la pierna hasta que se frena (doblez de la pierna). Es un valor entre 0 y 4, donde 0 indica movimiento normal y 4 indica que no se puede mover.\n",
        "- Dorsiflexión plantar: cuánto dobla el tobillo para arriba en el examen físco (experto dice que es fundamental). va de -26 a 42 (mínimo 10 se considera normal). Puede haber negativos. ángulo, en grados\n",
        "- Felxion plantar de tobillo: cuanti puede hacia abajo. Lo usual en espacidad es que sea positivo. \n",
        "- Silverskiöld: si se dobla diferente con la rodilla estirada y con la roilla doblada. (están cortos sólo los gemelos o el gemelo y el soleo). Booleana + no evaluable -> 4 categirías. Negativo == 0 Leve==1, Positivo==2 NE==3\n",
        "\n",
        "Con esto se procedió a entrenar dos clasificadores: uno capaz de identificar si la persona necesita cirugía y otro que identifica el tipo de cirugía entre dos categorías:\n",
        "- Alargar el tendón de aquiles\n",
        "- Alargar los gemelos"
      ],
      "metadata": {
        "id": "ZEqnKabGo7WD"
      }
    },
    {
      "cell_type": "markdown",
      "source": [
        "# 1.Pre-procesamiento de los datos\n",
        "Se tienen dos bases de datos separadas, una con las medidas de los análisis de marcha por paciente y otra con las etiquetas de las cirugías por paciente. Se generara una base de datos por"
      ],
      "metadata": {
        "id": "PlyPCC_64Sky"
      }
    },
    {
      "cell_type": "code",
      "source": [
        "# Carga de los archivos xlsx a pandas\n",
        "analisisMarcha=pd.read_excel('Final_BD.xlsx')\n",
        "etiquetas=pd.read_excel('Final_Etiquetas.xlsx')"
      ],
      "metadata": {
        "id": "ccvwh07A4SYs"
      },
      "execution_count": null,
      "outputs": []
    },
    {
      "cell_type": "code",
      "source": [
        "analisisMarcha.head()"
      ],
      "metadata": {
        "colab": {
          "base_uri": "https://localhost:8080/",
          "height": 322
        },
        "id": "wetPw5_h9KIs",
        "outputId": "0e037147-524f-4454-ec4f-79557448bbf8"
      },
      "execution_count": null,
      "outputs": [
        {
          "output_type": "execute_result",
          "data": {
            "text/plain": [
              "   Unnamed: 0  Historia clinica Distribucion  Edad       Tipo  \\\n",
              "0        1652            164243    Bilateral    12  Espástica   \n",
              "1        1651            252594    Bilateral    17  Espástica   \n",
              "2        1650            541411    Bilateral     5  Espástica   \n",
              "3        1649            109399    Bilateral    22  Espástica   \n",
              "4        1648            402015    Bilateral    16  Espástica   \n",
              "\n",
              "   Tono gastrocnemios derechos  Tono gastrocnemios izquierdos  \\\n",
              "0                          1.5                            1.0   \n",
              "1                          2.0                            2.0   \n",
              "2                          4.0                            3.0   \n",
              "3                          1.5                            1.5   \n",
              "4                          1.0                            1.0   \n",
              "\n",
              "   Dorsiflexión derecha  Dorsiflexión izquierda  Flexión Plantar Tobillo Der  \\\n",
              "0                    32                      32                           46   \n",
              "1                    -6                       0                           58   \n",
              "2                    10                      30                           40   \n",
              "3                     0                       0                           40   \n",
              "4                    40                      40                            0   \n",
              "\n",
              "   Flexión Plantar Tobillo Izq  Silfverskiöld derecha   \\\n",
              "0                           40                       2   \n",
              "1                           56                       2   \n",
              "2                           38                       2   \n",
              "3                           40                       2   \n",
              "4                           18                       2   \n",
              "\n",
              "   Silfverskiöld izquierda  Cirugia derecha  Cirugia izquierda  \n",
              "0                        2              NaN                NaN  \n",
              "1                        2              NaN                NaN  \n",
              "2                        2              NaN                NaN  \n",
              "3                        2              NaN                NaN  \n",
              "4                        1              NaN                NaN  "
            ],
            "text/html": [
              "\n",
              "  <div id=\"df-f231106d-69eb-4a7d-b5a1-b51dc907ae3d\">\n",
              "    <div class=\"colab-df-container\">\n",
              "      <div>\n",
              "<style scoped>\n",
              "    .dataframe tbody tr th:only-of-type {\n",
              "        vertical-align: middle;\n",
              "    }\n",
              "\n",
              "    .dataframe tbody tr th {\n",
              "        vertical-align: top;\n",
              "    }\n",
              "\n",
              "    .dataframe thead th {\n",
              "        text-align: right;\n",
              "    }\n",
              "</style>\n",
              "<table border=\"1\" class=\"dataframe\">\n",
              "  <thead>\n",
              "    <tr style=\"text-align: right;\">\n",
              "      <th></th>\n",
              "      <th>Unnamed: 0</th>\n",
              "      <th>Historia clinica</th>\n",
              "      <th>Distribucion</th>\n",
              "      <th>Edad</th>\n",
              "      <th>Tipo</th>\n",
              "      <th>Tono gastrocnemios derechos</th>\n",
              "      <th>Tono gastrocnemios izquierdos</th>\n",
              "      <th>Dorsiflexión derecha</th>\n",
              "      <th>Dorsiflexión izquierda</th>\n",
              "      <th>Flexión Plantar Tobillo Der</th>\n",
              "      <th>Flexión Plantar Tobillo Izq</th>\n",
              "      <th>Silfverskiöld derecha</th>\n",
              "      <th>Silfverskiöld izquierda</th>\n",
              "      <th>Cirugia derecha</th>\n",
              "      <th>Cirugia izquierda</th>\n",
              "    </tr>\n",
              "  </thead>\n",
              "  <tbody>\n",
              "    <tr>\n",
              "      <th>0</th>\n",
              "      <td>1652</td>\n",
              "      <td>164243</td>\n",
              "      <td>Bilateral</td>\n",
              "      <td>12</td>\n",
              "      <td>Espástica</td>\n",
              "      <td>1.5</td>\n",
              "      <td>1.0</td>\n",
              "      <td>32</td>\n",
              "      <td>32</td>\n",
              "      <td>46</td>\n",
              "      <td>40</td>\n",
              "      <td>2</td>\n",
              "      <td>2</td>\n",
              "      <td>NaN</td>\n",
              "      <td>NaN</td>\n",
              "    </tr>\n",
              "    <tr>\n",
              "      <th>1</th>\n",
              "      <td>1651</td>\n",
              "      <td>252594</td>\n",
              "      <td>Bilateral</td>\n",
              "      <td>17</td>\n",
              "      <td>Espástica</td>\n",
              "      <td>2.0</td>\n",
              "      <td>2.0</td>\n",
              "      <td>-6</td>\n",
              "      <td>0</td>\n",
              "      <td>58</td>\n",
              "      <td>56</td>\n",
              "      <td>2</td>\n",
              "      <td>2</td>\n",
              "      <td>NaN</td>\n",
              "      <td>NaN</td>\n",
              "    </tr>\n",
              "    <tr>\n",
              "      <th>2</th>\n",
              "      <td>1650</td>\n",
              "      <td>541411</td>\n",
              "      <td>Bilateral</td>\n",
              "      <td>5</td>\n",
              "      <td>Espástica</td>\n",
              "      <td>4.0</td>\n",
              "      <td>3.0</td>\n",
              "      <td>10</td>\n",
              "      <td>30</td>\n",
              "      <td>40</td>\n",
              "      <td>38</td>\n",
              "      <td>2</td>\n",
              "      <td>2</td>\n",
              "      <td>NaN</td>\n",
              "      <td>NaN</td>\n",
              "    </tr>\n",
              "    <tr>\n",
              "      <th>3</th>\n",
              "      <td>1649</td>\n",
              "      <td>109399</td>\n",
              "      <td>Bilateral</td>\n",
              "      <td>22</td>\n",
              "      <td>Espástica</td>\n",
              "      <td>1.5</td>\n",
              "      <td>1.5</td>\n",
              "      <td>0</td>\n",
              "      <td>0</td>\n",
              "      <td>40</td>\n",
              "      <td>40</td>\n",
              "      <td>2</td>\n",
              "      <td>2</td>\n",
              "      <td>NaN</td>\n",
              "      <td>NaN</td>\n",
              "    </tr>\n",
              "    <tr>\n",
              "      <th>4</th>\n",
              "      <td>1648</td>\n",
              "      <td>402015</td>\n",
              "      <td>Bilateral</td>\n",
              "      <td>16</td>\n",
              "      <td>Espástica</td>\n",
              "      <td>1.0</td>\n",
              "      <td>1.0</td>\n",
              "      <td>40</td>\n",
              "      <td>40</td>\n",
              "      <td>0</td>\n",
              "      <td>18</td>\n",
              "      <td>2</td>\n",
              "      <td>1</td>\n",
              "      <td>NaN</td>\n",
              "      <td>NaN</td>\n",
              "    </tr>\n",
              "  </tbody>\n",
              "</table>\n",
              "</div>\n",
              "      <button class=\"colab-df-convert\" onclick=\"convertToInteractive('df-f231106d-69eb-4a7d-b5a1-b51dc907ae3d')\"\n",
              "              title=\"Convert this dataframe to an interactive table.\"\n",
              "              style=\"display:none;\">\n",
              "        \n",
              "  <svg xmlns=\"http://www.w3.org/2000/svg\" height=\"24px\"viewBox=\"0 0 24 24\"\n",
              "       width=\"24px\">\n",
              "    <path d=\"M0 0h24v24H0V0z\" fill=\"none\"/>\n",
              "    <path d=\"M18.56 5.44l.94 2.06.94-2.06 2.06-.94-2.06-.94-.94-2.06-.94 2.06-2.06.94zm-11 1L8.5 8.5l.94-2.06 2.06-.94-2.06-.94L8.5 2.5l-.94 2.06-2.06.94zm10 10l.94 2.06.94-2.06 2.06-.94-2.06-.94-.94-2.06-.94 2.06-2.06.94z\"/><path d=\"M17.41 7.96l-1.37-1.37c-.4-.4-.92-.59-1.43-.59-.52 0-1.04.2-1.43.59L10.3 9.45l-7.72 7.72c-.78.78-.78 2.05 0 2.83L4 21.41c.39.39.9.59 1.41.59.51 0 1.02-.2 1.41-.59l7.78-7.78 2.81-2.81c.8-.78.8-2.07 0-2.86zM5.41 20L4 18.59l7.72-7.72 1.47 1.35L5.41 20z\"/>\n",
              "  </svg>\n",
              "      </button>\n",
              "      \n",
              "  <style>\n",
              "    .colab-df-container {\n",
              "      display:flex;\n",
              "      flex-wrap:wrap;\n",
              "      gap: 12px;\n",
              "    }\n",
              "\n",
              "    .colab-df-convert {\n",
              "      background-color: #E8F0FE;\n",
              "      border: none;\n",
              "      border-radius: 50%;\n",
              "      cursor: pointer;\n",
              "      display: none;\n",
              "      fill: #1967D2;\n",
              "      height: 32px;\n",
              "      padding: 0 0 0 0;\n",
              "      width: 32px;\n",
              "    }\n",
              "\n",
              "    .colab-df-convert:hover {\n",
              "      background-color: #E2EBFA;\n",
              "      box-shadow: 0px 1px 2px rgba(60, 64, 67, 0.3), 0px 1px 3px 1px rgba(60, 64, 67, 0.15);\n",
              "      fill: #174EA6;\n",
              "    }\n",
              "\n",
              "    [theme=dark] .colab-df-convert {\n",
              "      background-color: #3B4455;\n",
              "      fill: #D2E3FC;\n",
              "    }\n",
              "\n",
              "    [theme=dark] .colab-df-convert:hover {\n",
              "      background-color: #434B5C;\n",
              "      box-shadow: 0px 1px 3px 1px rgba(0, 0, 0, 0.15);\n",
              "      filter: drop-shadow(0px 1px 2px rgba(0, 0, 0, 0.3));\n",
              "      fill: #FFFFFF;\n",
              "    }\n",
              "  </style>\n",
              "\n",
              "      <script>\n",
              "        const buttonEl =\n",
              "          document.querySelector('#df-f231106d-69eb-4a7d-b5a1-b51dc907ae3d button.colab-df-convert');\n",
              "        buttonEl.style.display =\n",
              "          google.colab.kernel.accessAllowed ? 'block' : 'none';\n",
              "\n",
              "        async function convertToInteractive(key) {\n",
              "          const element = document.querySelector('#df-f231106d-69eb-4a7d-b5a1-b51dc907ae3d');\n",
              "          const dataTable =\n",
              "            await google.colab.kernel.invokeFunction('convertToInteractive',\n",
              "                                                     [key], {});\n",
              "          if (!dataTable) return;\n",
              "\n",
              "          const docLinkHtml = 'Like what you see? Visit the ' +\n",
              "            '<a target=\"_blank\" href=https://colab.research.google.com/notebooks/data_table.ipynb>data table notebook</a>'\n",
              "            + ' to learn more about interactive tables.';\n",
              "          element.innerHTML = '';\n",
              "          dataTable['output_type'] = 'display_data';\n",
              "          await google.colab.output.renderOutput(dataTable, element);\n",
              "          const docLink = document.createElement('div');\n",
              "          docLink.innerHTML = docLinkHtml;\n",
              "          element.appendChild(docLink);\n",
              "        }\n",
              "      </script>\n",
              "    </div>\n",
              "  </div>\n",
              "  "
            ]
          },
          "metadata": {},
          "execution_count": 3
        }
      ]
    },
    {
      "cell_type": "code",
      "source": [
        "etiquetas.head()"
      ],
      "metadata": {
        "colab": {
          "base_uri": "https://localhost:8080/",
          "height": 317
        },
        "id": "GB7vcaG997w6",
        "outputId": "6c227649-08bf-484b-cd91-fad228de0396"
      },
      "execution_count": null,
      "outputs": [
        {
          "output_type": "execute_result",
          "data": {
            "text/plain": [
              "   Historia Clinica  Numero de historias  2016  D_2016  I_2016  2017  D_2017  \\\n",
              "0            340565                    4     1     0.0     0.0     1     0.0   \n",
              "1            201019                    4     1     0.0     0.0     1     0.0   \n",
              "2            181653                    4     1     2.0     2.0     0     NaN   \n",
              "3            336396                    4     1     0.0     0.0     1     2.0   \n",
              "4            197146                    3     0     NaN     NaN     1     0.0   \n",
              "\n",
              "   I_2017  2018  D_2018  ...  I_2019  2020  D_2020  I_2020  2021  D_2021  \\\n",
              "0     1.0     1     0.0  ...     0.0     0     NaN     NaN     0     NaN   \n",
              "1     0.0     0     NaN  ...     0.0     0     NaN     NaN     1     0.0   \n",
              "2     NaN     1     0.0  ...     0.0     0     NaN     NaN     1     2.0   \n",
              "3     2.0     1     0.0  ...     NaN     1     0.0     0.0     0     NaN   \n",
              "4     0.0     0     NaN  ...     NaN     1     0.0     0.0     1     0.0   \n",
              "\n",
              "   I_2021  2022  D_2022  I_2022  \n",
              "0     NaN     0     NaN     NaN  \n",
              "1     0.0     0     NaN     NaN  \n",
              "2     2.0     0     NaN     NaN  \n",
              "3     NaN     0     NaN     NaN  \n",
              "4     0.0     0     NaN     NaN  \n",
              "\n",
              "[5 rows x 23 columns]"
            ],
            "text/html": [
              "\n",
              "  <div id=\"df-8ee6b33a-8125-4747-8220-868c208326c1\">\n",
              "    <div class=\"colab-df-container\">\n",
              "      <div>\n",
              "<style scoped>\n",
              "    .dataframe tbody tr th:only-of-type {\n",
              "        vertical-align: middle;\n",
              "    }\n",
              "\n",
              "    .dataframe tbody tr th {\n",
              "        vertical-align: top;\n",
              "    }\n",
              "\n",
              "    .dataframe thead th {\n",
              "        text-align: right;\n",
              "    }\n",
              "</style>\n",
              "<table border=\"1\" class=\"dataframe\">\n",
              "  <thead>\n",
              "    <tr style=\"text-align: right;\">\n",
              "      <th></th>\n",
              "      <th>Historia Clinica</th>\n",
              "      <th>Numero de historias</th>\n",
              "      <th>2016</th>\n",
              "      <th>D_2016</th>\n",
              "      <th>I_2016</th>\n",
              "      <th>2017</th>\n",
              "      <th>D_2017</th>\n",
              "      <th>I_2017</th>\n",
              "      <th>2018</th>\n",
              "      <th>D_2018</th>\n",
              "      <th>...</th>\n",
              "      <th>I_2019</th>\n",
              "      <th>2020</th>\n",
              "      <th>D_2020</th>\n",
              "      <th>I_2020</th>\n",
              "      <th>2021</th>\n",
              "      <th>D_2021</th>\n",
              "      <th>I_2021</th>\n",
              "      <th>2022</th>\n",
              "      <th>D_2022</th>\n",
              "      <th>I_2022</th>\n",
              "    </tr>\n",
              "  </thead>\n",
              "  <tbody>\n",
              "    <tr>\n",
              "      <th>0</th>\n",
              "      <td>340565</td>\n",
              "      <td>4</td>\n",
              "      <td>1</td>\n",
              "      <td>0.0</td>\n",
              "      <td>0.0</td>\n",
              "      <td>1</td>\n",
              "      <td>0.0</td>\n",
              "      <td>1.0</td>\n",
              "      <td>1</td>\n",
              "      <td>0.0</td>\n",
              "      <td>...</td>\n",
              "      <td>0.0</td>\n",
              "      <td>0</td>\n",
              "      <td>NaN</td>\n",
              "      <td>NaN</td>\n",
              "      <td>0</td>\n",
              "      <td>NaN</td>\n",
              "      <td>NaN</td>\n",
              "      <td>0</td>\n",
              "      <td>NaN</td>\n",
              "      <td>NaN</td>\n",
              "    </tr>\n",
              "    <tr>\n",
              "      <th>1</th>\n",
              "      <td>201019</td>\n",
              "      <td>4</td>\n",
              "      <td>1</td>\n",
              "      <td>0.0</td>\n",
              "      <td>0.0</td>\n",
              "      <td>1</td>\n",
              "      <td>0.0</td>\n",
              "      <td>0.0</td>\n",
              "      <td>0</td>\n",
              "      <td>NaN</td>\n",
              "      <td>...</td>\n",
              "      <td>0.0</td>\n",
              "      <td>0</td>\n",
              "      <td>NaN</td>\n",
              "      <td>NaN</td>\n",
              "      <td>1</td>\n",
              "      <td>0.0</td>\n",
              "      <td>0.0</td>\n",
              "      <td>0</td>\n",
              "      <td>NaN</td>\n",
              "      <td>NaN</td>\n",
              "    </tr>\n",
              "    <tr>\n",
              "      <th>2</th>\n",
              "      <td>181653</td>\n",
              "      <td>4</td>\n",
              "      <td>1</td>\n",
              "      <td>2.0</td>\n",
              "      <td>2.0</td>\n",
              "      <td>0</td>\n",
              "      <td>NaN</td>\n",
              "      <td>NaN</td>\n",
              "      <td>1</td>\n",
              "      <td>0.0</td>\n",
              "      <td>...</td>\n",
              "      <td>0.0</td>\n",
              "      <td>0</td>\n",
              "      <td>NaN</td>\n",
              "      <td>NaN</td>\n",
              "      <td>1</td>\n",
              "      <td>2.0</td>\n",
              "      <td>2.0</td>\n",
              "      <td>0</td>\n",
              "      <td>NaN</td>\n",
              "      <td>NaN</td>\n",
              "    </tr>\n",
              "    <tr>\n",
              "      <th>3</th>\n",
              "      <td>336396</td>\n",
              "      <td>4</td>\n",
              "      <td>1</td>\n",
              "      <td>0.0</td>\n",
              "      <td>0.0</td>\n",
              "      <td>1</td>\n",
              "      <td>2.0</td>\n",
              "      <td>2.0</td>\n",
              "      <td>1</td>\n",
              "      <td>0.0</td>\n",
              "      <td>...</td>\n",
              "      <td>NaN</td>\n",
              "      <td>1</td>\n",
              "      <td>0.0</td>\n",
              "      <td>0.0</td>\n",
              "      <td>0</td>\n",
              "      <td>NaN</td>\n",
              "      <td>NaN</td>\n",
              "      <td>0</td>\n",
              "      <td>NaN</td>\n",
              "      <td>NaN</td>\n",
              "    </tr>\n",
              "    <tr>\n",
              "      <th>4</th>\n",
              "      <td>197146</td>\n",
              "      <td>3</td>\n",
              "      <td>0</td>\n",
              "      <td>NaN</td>\n",
              "      <td>NaN</td>\n",
              "      <td>1</td>\n",
              "      <td>0.0</td>\n",
              "      <td>0.0</td>\n",
              "      <td>0</td>\n",
              "      <td>NaN</td>\n",
              "      <td>...</td>\n",
              "      <td>NaN</td>\n",
              "      <td>1</td>\n",
              "      <td>0.0</td>\n",
              "      <td>0.0</td>\n",
              "      <td>1</td>\n",
              "      <td>0.0</td>\n",
              "      <td>0.0</td>\n",
              "      <td>0</td>\n",
              "      <td>NaN</td>\n",
              "      <td>NaN</td>\n",
              "    </tr>\n",
              "  </tbody>\n",
              "</table>\n",
              "<p>5 rows × 23 columns</p>\n",
              "</div>\n",
              "      <button class=\"colab-df-convert\" onclick=\"convertToInteractive('df-8ee6b33a-8125-4747-8220-868c208326c1')\"\n",
              "              title=\"Convert this dataframe to an interactive table.\"\n",
              "              style=\"display:none;\">\n",
              "        \n",
              "  <svg xmlns=\"http://www.w3.org/2000/svg\" height=\"24px\"viewBox=\"0 0 24 24\"\n",
              "       width=\"24px\">\n",
              "    <path d=\"M0 0h24v24H0V0z\" fill=\"none\"/>\n",
              "    <path d=\"M18.56 5.44l.94 2.06.94-2.06 2.06-.94-2.06-.94-.94-2.06-.94 2.06-2.06.94zm-11 1L8.5 8.5l.94-2.06 2.06-.94-2.06-.94L8.5 2.5l-.94 2.06-2.06.94zm10 10l.94 2.06.94-2.06 2.06-.94-2.06-.94-.94-2.06-.94 2.06-2.06.94z\"/><path d=\"M17.41 7.96l-1.37-1.37c-.4-.4-.92-.59-1.43-.59-.52 0-1.04.2-1.43.59L10.3 9.45l-7.72 7.72c-.78.78-.78 2.05 0 2.83L4 21.41c.39.39.9.59 1.41.59.51 0 1.02-.2 1.41-.59l7.78-7.78 2.81-2.81c.8-.78.8-2.07 0-2.86zM5.41 20L4 18.59l7.72-7.72 1.47 1.35L5.41 20z\"/>\n",
              "  </svg>\n",
              "      </button>\n",
              "      \n",
              "  <style>\n",
              "    .colab-df-container {\n",
              "      display:flex;\n",
              "      flex-wrap:wrap;\n",
              "      gap: 12px;\n",
              "    }\n",
              "\n",
              "    .colab-df-convert {\n",
              "      background-color: #E8F0FE;\n",
              "      border: none;\n",
              "      border-radius: 50%;\n",
              "      cursor: pointer;\n",
              "      display: none;\n",
              "      fill: #1967D2;\n",
              "      height: 32px;\n",
              "      padding: 0 0 0 0;\n",
              "      width: 32px;\n",
              "    }\n",
              "\n",
              "    .colab-df-convert:hover {\n",
              "      background-color: #E2EBFA;\n",
              "      box-shadow: 0px 1px 2px rgba(60, 64, 67, 0.3), 0px 1px 3px 1px rgba(60, 64, 67, 0.15);\n",
              "      fill: #174EA6;\n",
              "    }\n",
              "\n",
              "    [theme=dark] .colab-df-convert {\n",
              "      background-color: #3B4455;\n",
              "      fill: #D2E3FC;\n",
              "    }\n",
              "\n",
              "    [theme=dark] .colab-df-convert:hover {\n",
              "      background-color: #434B5C;\n",
              "      box-shadow: 0px 1px 3px 1px rgba(0, 0, 0, 0.15);\n",
              "      filter: drop-shadow(0px 1px 2px rgba(0, 0, 0, 0.3));\n",
              "      fill: #FFFFFF;\n",
              "    }\n",
              "  </style>\n",
              "\n",
              "      <script>\n",
              "        const buttonEl =\n",
              "          document.querySelector('#df-8ee6b33a-8125-4747-8220-868c208326c1 button.colab-df-convert');\n",
              "        buttonEl.style.display =\n",
              "          google.colab.kernel.accessAllowed ? 'block' : 'none';\n",
              "\n",
              "        async function convertToInteractive(key) {\n",
              "          const element = document.querySelector('#df-8ee6b33a-8125-4747-8220-868c208326c1');\n",
              "          const dataTable =\n",
              "            await google.colab.kernel.invokeFunction('convertToInteractive',\n",
              "                                                     [key], {});\n",
              "          if (!dataTable) return;\n",
              "\n",
              "          const docLinkHtml = 'Like what you see? Visit the ' +\n",
              "            '<a target=\"_blank\" href=https://colab.research.google.com/notebooks/data_table.ipynb>data table notebook</a>'\n",
              "            + ' to learn more about interactive tables.';\n",
              "          element.innerHTML = '';\n",
              "          dataTable['output_type'] = 'display_data';\n",
              "          await google.colab.output.renderOutput(dataTable, element);\n",
              "          const docLink = document.createElement('div');\n",
              "          docLink.innerHTML = docLinkHtml;\n",
              "          element.appendChild(docLink);\n",
              "        }\n",
              "      </script>\n",
              "    </div>\n",
              "  </div>\n",
              "  "
            ]
          },
          "metadata": {},
          "execution_count": 4
        }
      ]
    },
    {
      "cell_type": "code",
      "source": [
        "def arregloEtiquetas(pacienteId):\n",
        "  etiquetasDerecha=[]\n",
        "  etiquetasIzquierda=[]\n",
        "  for i in range(2016,2023):\n",
        "    if etiquetas.loc[etiquetas['Historia Clinica'] ==pacienteId ][i].iloc[0]==1:\n",
        "      etiquetasDerecha.append(etiquetas.loc[etiquetas['Historia Clinica'] ==pacienteId ]['D_'+str(i)].iloc[0])\n",
        "      etiquetasIzquierda.append(etiquetas.loc[etiquetas['Historia Clinica'] ==pacienteId ]['I_'+str(i)].iloc[0])\n",
        "  return etiquetasDerecha, etiquetasIzquierda"
      ],
      "metadata": {
        "id": "rDFzn6WuLIgq"
      },
      "execution_count": null,
      "outputs": []
    },
    {
      "cell_type": "code",
      "source": [
        "for historia in etiquetas['Historia Clinica'].unique():\n",
        "  indices=analisisMarcha.index[analisisMarcha['Historia clinica'] ==historia ]\n",
        "  # Para cada análisis de marcha que está registrado\n",
        "  der,izq=arregloEtiquetas(historia)\n",
        "  for i in range(0, len(indices)):\n",
        "    analisisMarcha.at[indices[i],\"Cirugia derecha\"]=der[len(indices)-i-1]\n",
        "    analisisMarcha.at[indices[i],\"Cirugia izquierda\"]=izq[len(indices)-i-1]\n"
      ],
      "metadata": {
        "id": "s-yQ3aPuB7vn"
      },
      "execution_count": null,
      "outputs": []
    },
    {
      "cell_type": "code",
      "source": [
        "analisisMarcha.head()"
      ],
      "metadata": {
        "colab": {
          "base_uri": "https://localhost:8080/",
          "height": 322
        },
        "id": "2lQZPYWvfg9-",
        "outputId": "5c914db3-2bfc-454c-d7f6-cb69911481ef"
      },
      "execution_count": null,
      "outputs": [
        {
          "output_type": "execute_result",
          "data": {
            "text/plain": [
              "   Unnamed: 0  Historia clinica Distribucion  Edad       Tipo  \\\n",
              "0        1652            164243    Bilateral    12  Espástica   \n",
              "1        1651            252594    Bilateral    17  Espástica   \n",
              "2        1650            541411    Bilateral     5  Espástica   \n",
              "3        1649            109399    Bilateral    22  Espástica   \n",
              "4        1648            402015    Bilateral    16  Espástica   \n",
              "\n",
              "   Tono gastrocnemios derechos  Tono gastrocnemios izquierdos  \\\n",
              "0                          1.5                            1.0   \n",
              "1                          2.0                            2.0   \n",
              "2                          4.0                            3.0   \n",
              "3                          1.5                            1.5   \n",
              "4                          1.0                            1.0   \n",
              "\n",
              "   Dorsiflexión derecha  Dorsiflexión izquierda  Flexión Plantar Tobillo Der  \\\n",
              "0                    32                      32                           46   \n",
              "1                    -6                       0                           58   \n",
              "2                    10                      30                           40   \n",
              "3                     0                       0                           40   \n",
              "4                    40                      40                            0   \n",
              "\n",
              "   Flexión Plantar Tobillo Izq  Silfverskiöld derecha   \\\n",
              "0                           40                       2   \n",
              "1                           56                       2   \n",
              "2                           38                       2   \n",
              "3                           40                       2   \n",
              "4                           18                       2   \n",
              "\n",
              "   Silfverskiöld izquierda  Cirugia derecha  Cirugia izquierda  \n",
              "0                        2              0.0                0.0  \n",
              "1                        2              0.0                0.0  \n",
              "2                        2              2.0                0.0  \n",
              "3                        2              0.0                0.0  \n",
              "4                        1              0.0                0.0  "
            ],
            "text/html": [
              "\n",
              "  <div id=\"df-60ca3df9-11e5-4fb8-8557-9b57029e2b07\">\n",
              "    <div class=\"colab-df-container\">\n",
              "      <div>\n",
              "<style scoped>\n",
              "    .dataframe tbody tr th:only-of-type {\n",
              "        vertical-align: middle;\n",
              "    }\n",
              "\n",
              "    .dataframe tbody tr th {\n",
              "        vertical-align: top;\n",
              "    }\n",
              "\n",
              "    .dataframe thead th {\n",
              "        text-align: right;\n",
              "    }\n",
              "</style>\n",
              "<table border=\"1\" class=\"dataframe\">\n",
              "  <thead>\n",
              "    <tr style=\"text-align: right;\">\n",
              "      <th></th>\n",
              "      <th>Unnamed: 0</th>\n",
              "      <th>Historia clinica</th>\n",
              "      <th>Distribucion</th>\n",
              "      <th>Edad</th>\n",
              "      <th>Tipo</th>\n",
              "      <th>Tono gastrocnemios derechos</th>\n",
              "      <th>Tono gastrocnemios izquierdos</th>\n",
              "      <th>Dorsiflexión derecha</th>\n",
              "      <th>Dorsiflexión izquierda</th>\n",
              "      <th>Flexión Plantar Tobillo Der</th>\n",
              "      <th>Flexión Plantar Tobillo Izq</th>\n",
              "      <th>Silfverskiöld derecha</th>\n",
              "      <th>Silfverskiöld izquierda</th>\n",
              "      <th>Cirugia derecha</th>\n",
              "      <th>Cirugia izquierda</th>\n",
              "    </tr>\n",
              "  </thead>\n",
              "  <tbody>\n",
              "    <tr>\n",
              "      <th>0</th>\n",
              "      <td>1652</td>\n",
              "      <td>164243</td>\n",
              "      <td>Bilateral</td>\n",
              "      <td>12</td>\n",
              "      <td>Espástica</td>\n",
              "      <td>1.5</td>\n",
              "      <td>1.0</td>\n",
              "      <td>32</td>\n",
              "      <td>32</td>\n",
              "      <td>46</td>\n",
              "      <td>40</td>\n",
              "      <td>2</td>\n",
              "      <td>2</td>\n",
              "      <td>0.0</td>\n",
              "      <td>0.0</td>\n",
              "    </tr>\n",
              "    <tr>\n",
              "      <th>1</th>\n",
              "      <td>1651</td>\n",
              "      <td>252594</td>\n",
              "      <td>Bilateral</td>\n",
              "      <td>17</td>\n",
              "      <td>Espástica</td>\n",
              "      <td>2.0</td>\n",
              "      <td>2.0</td>\n",
              "      <td>-6</td>\n",
              "      <td>0</td>\n",
              "      <td>58</td>\n",
              "      <td>56</td>\n",
              "      <td>2</td>\n",
              "      <td>2</td>\n",
              "      <td>0.0</td>\n",
              "      <td>0.0</td>\n",
              "    </tr>\n",
              "    <tr>\n",
              "      <th>2</th>\n",
              "      <td>1650</td>\n",
              "      <td>541411</td>\n",
              "      <td>Bilateral</td>\n",
              "      <td>5</td>\n",
              "      <td>Espástica</td>\n",
              "      <td>4.0</td>\n",
              "      <td>3.0</td>\n",
              "      <td>10</td>\n",
              "      <td>30</td>\n",
              "      <td>40</td>\n",
              "      <td>38</td>\n",
              "      <td>2</td>\n",
              "      <td>2</td>\n",
              "      <td>2.0</td>\n",
              "      <td>0.0</td>\n",
              "    </tr>\n",
              "    <tr>\n",
              "      <th>3</th>\n",
              "      <td>1649</td>\n",
              "      <td>109399</td>\n",
              "      <td>Bilateral</td>\n",
              "      <td>22</td>\n",
              "      <td>Espástica</td>\n",
              "      <td>1.5</td>\n",
              "      <td>1.5</td>\n",
              "      <td>0</td>\n",
              "      <td>0</td>\n",
              "      <td>40</td>\n",
              "      <td>40</td>\n",
              "      <td>2</td>\n",
              "      <td>2</td>\n",
              "      <td>0.0</td>\n",
              "      <td>0.0</td>\n",
              "    </tr>\n",
              "    <tr>\n",
              "      <th>4</th>\n",
              "      <td>1648</td>\n",
              "      <td>402015</td>\n",
              "      <td>Bilateral</td>\n",
              "      <td>16</td>\n",
              "      <td>Espástica</td>\n",
              "      <td>1.0</td>\n",
              "      <td>1.0</td>\n",
              "      <td>40</td>\n",
              "      <td>40</td>\n",
              "      <td>0</td>\n",
              "      <td>18</td>\n",
              "      <td>2</td>\n",
              "      <td>1</td>\n",
              "      <td>0.0</td>\n",
              "      <td>0.0</td>\n",
              "    </tr>\n",
              "  </tbody>\n",
              "</table>\n",
              "</div>\n",
              "      <button class=\"colab-df-convert\" onclick=\"convertToInteractive('df-60ca3df9-11e5-4fb8-8557-9b57029e2b07')\"\n",
              "              title=\"Convert this dataframe to an interactive table.\"\n",
              "              style=\"display:none;\">\n",
              "        \n",
              "  <svg xmlns=\"http://www.w3.org/2000/svg\" height=\"24px\"viewBox=\"0 0 24 24\"\n",
              "       width=\"24px\">\n",
              "    <path d=\"M0 0h24v24H0V0z\" fill=\"none\"/>\n",
              "    <path d=\"M18.56 5.44l.94 2.06.94-2.06 2.06-.94-2.06-.94-.94-2.06-.94 2.06-2.06.94zm-11 1L8.5 8.5l.94-2.06 2.06-.94-2.06-.94L8.5 2.5l-.94 2.06-2.06.94zm10 10l.94 2.06.94-2.06 2.06-.94-2.06-.94-.94-2.06-.94 2.06-2.06.94z\"/><path d=\"M17.41 7.96l-1.37-1.37c-.4-.4-.92-.59-1.43-.59-.52 0-1.04.2-1.43.59L10.3 9.45l-7.72 7.72c-.78.78-.78 2.05 0 2.83L4 21.41c.39.39.9.59 1.41.59.51 0 1.02-.2 1.41-.59l7.78-7.78 2.81-2.81c.8-.78.8-2.07 0-2.86zM5.41 20L4 18.59l7.72-7.72 1.47 1.35L5.41 20z\"/>\n",
              "  </svg>\n",
              "      </button>\n",
              "      \n",
              "  <style>\n",
              "    .colab-df-container {\n",
              "      display:flex;\n",
              "      flex-wrap:wrap;\n",
              "      gap: 12px;\n",
              "    }\n",
              "\n",
              "    .colab-df-convert {\n",
              "      background-color: #E8F0FE;\n",
              "      border: none;\n",
              "      border-radius: 50%;\n",
              "      cursor: pointer;\n",
              "      display: none;\n",
              "      fill: #1967D2;\n",
              "      height: 32px;\n",
              "      padding: 0 0 0 0;\n",
              "      width: 32px;\n",
              "    }\n",
              "\n",
              "    .colab-df-convert:hover {\n",
              "      background-color: #E2EBFA;\n",
              "      box-shadow: 0px 1px 2px rgba(60, 64, 67, 0.3), 0px 1px 3px 1px rgba(60, 64, 67, 0.15);\n",
              "      fill: #174EA6;\n",
              "    }\n",
              "\n",
              "    [theme=dark] .colab-df-convert {\n",
              "      background-color: #3B4455;\n",
              "      fill: #D2E3FC;\n",
              "    }\n",
              "\n",
              "    [theme=dark] .colab-df-convert:hover {\n",
              "      background-color: #434B5C;\n",
              "      box-shadow: 0px 1px 3px 1px rgba(0, 0, 0, 0.15);\n",
              "      filter: drop-shadow(0px 1px 2px rgba(0, 0, 0, 0.3));\n",
              "      fill: #FFFFFF;\n",
              "    }\n",
              "  </style>\n",
              "\n",
              "      <script>\n",
              "        const buttonEl =\n",
              "          document.querySelector('#df-60ca3df9-11e5-4fb8-8557-9b57029e2b07 button.colab-df-convert');\n",
              "        buttonEl.style.display =\n",
              "          google.colab.kernel.accessAllowed ? 'block' : 'none';\n",
              "\n",
              "        async function convertToInteractive(key) {\n",
              "          const element = document.querySelector('#df-60ca3df9-11e5-4fb8-8557-9b57029e2b07');\n",
              "          const dataTable =\n",
              "            await google.colab.kernel.invokeFunction('convertToInteractive',\n",
              "                                                     [key], {});\n",
              "          if (!dataTable) return;\n",
              "\n",
              "          const docLinkHtml = 'Like what you see? Visit the ' +\n",
              "            '<a target=\"_blank\" href=https://colab.research.google.com/notebooks/data_table.ipynb>data table notebook</a>'\n",
              "            + ' to learn more about interactive tables.';\n",
              "          element.innerHTML = '';\n",
              "          dataTable['output_type'] = 'display_data';\n",
              "          await google.colab.output.renderOutput(dataTable, element);\n",
              "          const docLink = document.createElement('div');\n",
              "          docLink.innerHTML = docLinkHtml;\n",
              "          element.appendChild(docLink);\n",
              "        }\n",
              "      </script>\n",
              "    </div>\n",
              "  </div>\n",
              "  "
            ]
          },
          "metadata": {},
          "execution_count": 7
        }
      ]
    },
    {
      "cell_type": "markdown",
      "source": [
        "Ahora que los datos del análisis de marcha tienen las etiquetas del tratamiento de cada lado, vamos a separar los datos por cada pierna"
      ],
      "metadata": {
        "id": "z2co1z26mA4T"
      }
    },
    {
      "cell_type": "code",
      "source": [
        "analisisMarcha.columns"
      ],
      "metadata": {
        "colab": {
          "base_uri": "https://localhost:8080/"
        },
        "id": "B1RpCc-No0I6",
        "outputId": "489f87d0-912b-4721-c5b1-7f31fd209c80"
      },
      "execution_count": null,
      "outputs": [
        {
          "output_type": "execute_result",
          "data": {
            "text/plain": [
              "Index(['Unnamed: 0', 'Historia clinica', 'Distribucion', 'Edad', 'Tipo',\n",
              "       'Tono gastrocnemios derechos', 'Tono gastrocnemios izquierdos',\n",
              "       'Dorsiflexión derecha', 'Dorsiflexión izquierda',\n",
              "       'Flexión Plantar Tobillo Der', 'Flexión Plantar Tobillo Izq',\n",
              "       'Silfverskiöld derecha ', 'Silfverskiöld izquierda', 'Cirugia derecha',\n",
              "       'Cirugia izquierda'],\n",
              "      dtype='object')"
            ]
          },
          "metadata": {},
          "execution_count": 8
        }
      ]
    },
    {
      "cell_type": "code",
      "source": [
        "temp1=analisisMarcha.copy()\n",
        "temp2=analisisMarcha.copy()\n",
        "temp1=temp1[[\"Edad\",\"Tipo\",\"Tono gastrocnemios derechos\", \"Dorsiflexión derecha\", \"Flexión Plantar Tobillo Der\",\"Silfverskiöld derecha \", \"Cirugia derecha\"]]\n",
        "temp2=temp2[[\"Edad\",\"Tipo\",\"Tono gastrocnemios izquierdos\", \"Dorsiflexión izquierda\", \"Flexión Plantar Tobillo Izq\",\"Silfverskiöld izquierda\", \"Cirugia izquierda\"]]\n",
        "temp1.rename(columns={\"Tono gastrocnemios derechos\":\"Tono gastrocnemios\",\"Dorsiflexión derecha\":\"Dorsiflexion\", \"Flexión Plantar Tobillo Der\":\"Felxion Plantar Tobillo\", \"Silfverskiöld derecha \":\"Silfverskiold\", \"Cirugia derecha\":\"Cirugia\"}, inplace=True)\n",
        "temp2.rename(columns={\"Tono gastrocnemios izquierdos\":\"Tono gastrocnemios\",\"Dorsiflexión izquierda\":\"Dorsiflexion\", \"Flexión Plantar Tobillo Izq\":\"Felxion Plantar Tobillo\", \"Silfverskiöld izquierda\":\"Silfverskiold\", \"Cirugia izquierda\":\"Cirugia\"}, inplace=True)\n",
        "data_raw=pd.concat([temp1,temp2])"
      ],
      "metadata": {
        "id": "CrOrWT_lmpdE"
      },
      "execution_count": null,
      "outputs": []
    },
    {
      "cell_type": "markdown",
      "source": [
        "# 2.Perfilamiento de los datos"
      ],
      "metadata": {
        "id": "btN6kcbnsCyj"
      }
    },
    {
      "cell_type": "code",
      "execution_count": null,
      "metadata": {
        "colab": {
          "base_uri": "https://localhost:8080/"
        },
        "id": "2c456275-c0f3-4161-9edc-4b563d5ddb1f",
        "outputId": "26f509dd-e764-46d9-8d80-028995a28880"
      },
      "outputs": [
        {
          "output_type": "execute_result",
          "data": {
            "text/plain": [
              "(3294, 7)"
            ]
          },
          "metadata": {},
          "execution_count": 10
        }
      ],
      "source": [
        "# Revisamos cuántos registros tenemos\n",
        "data_raw.shape"
      ]
    },
    {
      "cell_type": "code",
      "execution_count": null,
      "metadata": {
        "colab": {
          "base_uri": "https://localhost:8080/",
          "height": 206
        },
        "id": "893d186d-bc49-4d3b-9125-5cd4d089549c",
        "outputId": "16a6f95f-d9d3-4a5b-d307-aecfa4e41b88"
      },
      "outputs": [
        {
          "output_type": "execute_result",
          "data": {
            "text/plain": [
              "   Edad       Tipo  Tono gastrocnemios  Dorsiflexion  Felxion Plantar Tobillo  \\\n",
              "0    12  Espástica                 1.5            32                       46   \n",
              "1    17  Espástica                 2.0            -6                       58   \n",
              "2     5  Espástica                 4.0            10                       40   \n",
              "3    22  Espástica                 1.5             0                       40   \n",
              "4    16  Espástica                 1.0            40                        0   \n",
              "\n",
              "   Silfverskiold  Cirugia  \n",
              "0              2      0.0  \n",
              "1              2      0.0  \n",
              "2              2      2.0  \n",
              "3              2      0.0  \n",
              "4              2      0.0  "
            ],
            "text/html": [
              "\n",
              "  <div id=\"df-07c473c3-302c-4e30-8e7e-322a43a3702c\">\n",
              "    <div class=\"colab-df-container\">\n",
              "      <div>\n",
              "<style scoped>\n",
              "    .dataframe tbody tr th:only-of-type {\n",
              "        vertical-align: middle;\n",
              "    }\n",
              "\n",
              "    .dataframe tbody tr th {\n",
              "        vertical-align: top;\n",
              "    }\n",
              "\n",
              "    .dataframe thead th {\n",
              "        text-align: right;\n",
              "    }\n",
              "</style>\n",
              "<table border=\"1\" class=\"dataframe\">\n",
              "  <thead>\n",
              "    <tr style=\"text-align: right;\">\n",
              "      <th></th>\n",
              "      <th>Edad</th>\n",
              "      <th>Tipo</th>\n",
              "      <th>Tono gastrocnemios</th>\n",
              "      <th>Dorsiflexion</th>\n",
              "      <th>Felxion Plantar Tobillo</th>\n",
              "      <th>Silfverskiold</th>\n",
              "      <th>Cirugia</th>\n",
              "    </tr>\n",
              "  </thead>\n",
              "  <tbody>\n",
              "    <tr>\n",
              "      <th>0</th>\n",
              "      <td>12</td>\n",
              "      <td>Espástica</td>\n",
              "      <td>1.5</td>\n",
              "      <td>32</td>\n",
              "      <td>46</td>\n",
              "      <td>2</td>\n",
              "      <td>0.0</td>\n",
              "    </tr>\n",
              "    <tr>\n",
              "      <th>1</th>\n",
              "      <td>17</td>\n",
              "      <td>Espástica</td>\n",
              "      <td>2.0</td>\n",
              "      <td>-6</td>\n",
              "      <td>58</td>\n",
              "      <td>2</td>\n",
              "      <td>0.0</td>\n",
              "    </tr>\n",
              "    <tr>\n",
              "      <th>2</th>\n",
              "      <td>5</td>\n",
              "      <td>Espástica</td>\n",
              "      <td>4.0</td>\n",
              "      <td>10</td>\n",
              "      <td>40</td>\n",
              "      <td>2</td>\n",
              "      <td>2.0</td>\n",
              "    </tr>\n",
              "    <tr>\n",
              "      <th>3</th>\n",
              "      <td>22</td>\n",
              "      <td>Espástica</td>\n",
              "      <td>1.5</td>\n",
              "      <td>0</td>\n",
              "      <td>40</td>\n",
              "      <td>2</td>\n",
              "      <td>0.0</td>\n",
              "    </tr>\n",
              "    <tr>\n",
              "      <th>4</th>\n",
              "      <td>16</td>\n",
              "      <td>Espástica</td>\n",
              "      <td>1.0</td>\n",
              "      <td>40</td>\n",
              "      <td>0</td>\n",
              "      <td>2</td>\n",
              "      <td>0.0</td>\n",
              "    </tr>\n",
              "  </tbody>\n",
              "</table>\n",
              "</div>\n",
              "      <button class=\"colab-df-convert\" onclick=\"convertToInteractive('df-07c473c3-302c-4e30-8e7e-322a43a3702c')\"\n",
              "              title=\"Convert this dataframe to an interactive table.\"\n",
              "              style=\"display:none;\">\n",
              "        \n",
              "  <svg xmlns=\"http://www.w3.org/2000/svg\" height=\"24px\"viewBox=\"0 0 24 24\"\n",
              "       width=\"24px\">\n",
              "    <path d=\"M0 0h24v24H0V0z\" fill=\"none\"/>\n",
              "    <path d=\"M18.56 5.44l.94 2.06.94-2.06 2.06-.94-2.06-.94-.94-2.06-.94 2.06-2.06.94zm-11 1L8.5 8.5l.94-2.06 2.06-.94-2.06-.94L8.5 2.5l-.94 2.06-2.06.94zm10 10l.94 2.06.94-2.06 2.06-.94-2.06-.94-.94-2.06-.94 2.06-2.06.94z\"/><path d=\"M17.41 7.96l-1.37-1.37c-.4-.4-.92-.59-1.43-.59-.52 0-1.04.2-1.43.59L10.3 9.45l-7.72 7.72c-.78.78-.78 2.05 0 2.83L4 21.41c.39.39.9.59 1.41.59.51 0 1.02-.2 1.41-.59l7.78-7.78 2.81-2.81c.8-.78.8-2.07 0-2.86zM5.41 20L4 18.59l7.72-7.72 1.47 1.35L5.41 20z\"/>\n",
              "  </svg>\n",
              "      </button>\n",
              "      \n",
              "  <style>\n",
              "    .colab-df-container {\n",
              "      display:flex;\n",
              "      flex-wrap:wrap;\n",
              "      gap: 12px;\n",
              "    }\n",
              "\n",
              "    .colab-df-convert {\n",
              "      background-color: #E8F0FE;\n",
              "      border: none;\n",
              "      border-radius: 50%;\n",
              "      cursor: pointer;\n",
              "      display: none;\n",
              "      fill: #1967D2;\n",
              "      height: 32px;\n",
              "      padding: 0 0 0 0;\n",
              "      width: 32px;\n",
              "    }\n",
              "\n",
              "    .colab-df-convert:hover {\n",
              "      background-color: #E2EBFA;\n",
              "      box-shadow: 0px 1px 2px rgba(60, 64, 67, 0.3), 0px 1px 3px 1px rgba(60, 64, 67, 0.15);\n",
              "      fill: #174EA6;\n",
              "    }\n",
              "\n",
              "    [theme=dark] .colab-df-convert {\n",
              "      background-color: #3B4455;\n",
              "      fill: #D2E3FC;\n",
              "    }\n",
              "\n",
              "    [theme=dark] .colab-df-convert:hover {\n",
              "      background-color: #434B5C;\n",
              "      box-shadow: 0px 1px 3px 1px rgba(0, 0, 0, 0.15);\n",
              "      filter: drop-shadow(0px 1px 2px rgba(0, 0, 0, 0.3));\n",
              "      fill: #FFFFFF;\n",
              "    }\n",
              "  </style>\n",
              "\n",
              "      <script>\n",
              "        const buttonEl =\n",
              "          document.querySelector('#df-07c473c3-302c-4e30-8e7e-322a43a3702c button.colab-df-convert');\n",
              "        buttonEl.style.display =\n",
              "          google.colab.kernel.accessAllowed ? 'block' : 'none';\n",
              "\n",
              "        async function convertToInteractive(key) {\n",
              "          const element = document.querySelector('#df-07c473c3-302c-4e30-8e7e-322a43a3702c');\n",
              "          const dataTable =\n",
              "            await google.colab.kernel.invokeFunction('convertToInteractive',\n",
              "                                                     [key], {});\n",
              "          if (!dataTable) return;\n",
              "\n",
              "          const docLinkHtml = 'Like what you see? Visit the ' +\n",
              "            '<a target=\"_blank\" href=https://colab.research.google.com/notebooks/data_table.ipynb>data table notebook</a>'\n",
              "            + ' to learn more about interactive tables.';\n",
              "          element.innerHTML = '';\n",
              "          dataTable['output_type'] = 'display_data';\n",
              "          await google.colab.output.renderOutput(dataTable, element);\n",
              "          const docLink = document.createElement('div');\n",
              "          docLink.innerHTML = docLinkHtml;\n",
              "          element.appendChild(docLink);\n",
              "        }\n",
              "      </script>\n",
              "    </div>\n",
              "  </div>\n",
              "  "
            ]
          },
          "metadata": {},
          "execution_count": 11
        }
      ],
      "source": [
        "# Luego vemos a grandes rasgos cada columna, para ver el tipo de dato que tiene\n",
        "data_raw.head()"
      ]
    },
    {
      "cell_type": "markdown",
      "metadata": {
        "id": "OUcsE2Rkk0I0"
      },
      "source": [
        "## Calidad de los datos"
      ]
    },
    {
      "cell_type": "markdown",
      "metadata": {
        "id": "aYNnxJJlk7F0"
      },
      "source": [
        "### Validez\n",
        "\n",
        "Cada columna tiene el tipo de dato que le corresponde según el diccionario. Revisaremos cada columna en caso de que haya alguno no válido"
      ]
    },
    {
      "cell_type": "code",
      "source": [
        "# Miramos el tipo de dato de cada columna, para verificar que sea correcto\n",
        "data_raw.dtypes"
      ],
      "metadata": {
        "colab": {
          "base_uri": "https://localhost:8080/"
        },
        "id": "o3xXCpZdtxwJ",
        "outputId": "bae77ce7-679d-44a9-bfeb-a1f27f0f93be"
      },
      "execution_count": null,
      "outputs": [
        {
          "output_type": "execute_result",
          "data": {
            "text/plain": [
              "Edad                         int64\n",
              "Tipo                        object\n",
              "Tono gastrocnemios         float64\n",
              "Dorsiflexion                 int64\n",
              "Felxion Plantar Tobillo      int64\n",
              "Silfverskiold                int64\n",
              "Cirugia                    float64\n",
              "dtype: object"
            ]
          },
          "metadata": {},
          "execution_count": 12
        }
      ]
    },
    {
      "cell_type": "code",
      "execution_count": null,
      "metadata": {
        "colab": {
          "base_uri": "https://localhost:8080/"
        },
        "id": "RQTMfqWrRHgL",
        "outputId": "71bb0675-9570-4b0f-eb8f-51a3c2827ba2"
      },
      "outputs": [
        {
          "output_type": "stream",
          "name": "stdout",
          "text": [
            "Edad\n",
            "[12 17  5 22 16 15 13  9 10 19 14 25  7  4 21  6  3  8 11 18 33 41 38 31\n",
            " 27 23 29 20 37 34 35 36 43 28 26 45 32 42 44 24 46 39 58 30 40 55]\n",
            "Tipo\n",
            "['Espástica' 'Diskinética' 'Hipotónica' 'Atáxica' 'Mixta']\n",
            "Tono gastrocnemios\n",
            "[ 1.5  2.   4.   1.   3.   0.  -1.   nan]\n",
            "Dorsiflexion\n",
            "[ 32  -6  10   0  40 -34  -8  12  18   2  20  22 -52  24  -4  60 -14  14\n",
            " -20  46  28  42   4 -12  26   6  34  30  16  50 -18   8  -2  38 -48 -16\n",
            "  54  58 -24 -28 -10  36 -22  64 -26  25  76  44 -36  48  52 -30  62  72\n",
            "  66  33  29 -42 -32 -50 -54  68  56  70  27 -40 -46]\n",
            "Felxion Plantar Tobillo\n",
            "[ 46  58  40   0  66  32  56  20  50  54  28  22  24  52  62  26  14  30\n",
            "  60  72  42  70  38  36   8  12  64  34  44  48  90  18   4  16  10 -20\n",
            "   6  76  68  74  35  45  -8  80   2  82  43  55]\n",
            "Silfverskiold\n",
            "[2 3 0 1]\n",
            "Cirugia\n",
            "[0. 2. 1.]\n"
          ]
        }
      ],
      "source": [
        "columnas = data_raw.columns\n",
        "for name in columnas:\n",
        "  print(name)\n",
        "  print(data_raw[name].unique())"
      ]
    },
    {
      "cell_type": "markdown",
      "metadata": {
        "id": "wtTF0G7oRF4j"
      },
      "source": [
        "### Completitud"
      ]
    },
    {
      "cell_type": "code",
      "execution_count": null,
      "metadata": {
        "colab": {
          "base_uri": "https://localhost:8080/"
        },
        "id": "xbEs1Py7aFAh",
        "outputId": "8055e151-799d-4515-bf69-afbeb8a5e290"
      },
      "outputs": [
        {
          "output_type": "execute_result",
          "data": {
            "text/plain": [
              "Edad                       0\n",
              "Tipo                       0\n",
              "Tono gastrocnemios         9\n",
              "Dorsiflexion               0\n",
              "Felxion Plantar Tobillo    0\n",
              "Silfverskiold              0\n",
              "Cirugia                    0\n",
              "dtype: int64"
            ]
          },
          "metadata": {},
          "execution_count": 14
        }
      ],
      "source": [
        "data_raw.isna().sum()"
      ]
    },
    {
      "cell_type": "code",
      "source": [
        "# Se retirarán las filas que tienen datos nulos\n",
        "data_raw.dropna(inplace=True)"
      ],
      "metadata": {
        "id": "SXnDRLUcwHZx"
      },
      "execution_count": null,
      "outputs": []
    },
    {
      "cell_type": "markdown",
      "metadata": {
        "id": "L6KFUg2YlR07"
      },
      "source": [
        "### Presencia de duplicados\n",
        "Se mirará si hay filas que sean idénticas"
      ]
    },
    {
      "cell_type": "code",
      "execution_count": null,
      "metadata": {
        "colab": {
          "base_uri": "https://localhost:8080/"
        },
        "id": "radBpAy7lQRs",
        "outputId": "f4df0a9a-24ac-427a-da2d-174be81dc08c"
      },
      "outputs": [
        {
          "output_type": "execute_result",
          "data": {
            "text/plain": [
              "False    3196\n",
              "True       89\n",
              "dtype: int64"
            ]
          },
          "metadata": {},
          "execution_count": 16
        }
      ],
      "source": [
        "data_raw.duplicated().value_counts()"
      ]
    },
    {
      "cell_type": "code",
      "source": [
        "#Comprobaremos si estos duplicados también estaban en la base de datos inicial, sin juntar\n",
        "analisisMarcha.drop(columns=\"Unnamed: 0\").duplicated().value_counts()"
      ],
      "metadata": {
        "colab": {
          "base_uri": "https://localhost:8080/"
        },
        "id": "k9YWbJde1_30",
        "outputId": "d37a5059-7a1c-43bf-d207-1ab3e9ca9d6c"
      },
      "execution_count": null,
      "outputs": [
        {
          "output_type": "execute_result",
          "data": {
            "text/plain": [
              "False    1647\n",
              "dtype: int64"
            ]
          },
          "metadata": {},
          "execution_count": 17
        }
      ]
    },
    {
      "cell_type": "markdown",
      "source": [
        "Dado que no hay duplicados teniendo en cuenta el id de la historia, no se eliminará ninguna fila duplicada"
      ],
      "metadata": {
        "id": "jnHV2OG32Krj"
      }
    },
    {
      "cell_type": "markdown",
      "metadata": {
        "id": "UaVHK72cR2aN"
      },
      "source": [
        "## Perfilamiento de los datos"
      ]
    },
    {
      "cell_type": "markdown",
      "metadata": {
        "id": "VvkDBlljPkFE"
      },
      "source": [
        "Veamos el número de pacientes en cada categoría "
      ]
    },
    {
      "cell_type": "code",
      "execution_count": null,
      "metadata": {
        "colab": {
          "base_uri": "https://localhost:8080/"
        },
        "id": "L_V6pIPYPoXF",
        "outputId": "f054c690-ed7e-4b13-ba9a-4cdd562a4623"
      },
      "outputs": [
        {
          "output_type": "execute_result",
          "data": {
            "text/plain": [
              "0.0    2501\n",
              "2.0     605\n",
              "1.0     179\n",
              "Name: Cirugia, dtype: int64"
            ]
          },
          "metadata": {},
          "execution_count": 18
        }
      ],
      "source": [
        "# Revisamos el número de datos etiquetados como no cirugía (0), alargamiento del\n",
        "# tendón de aquiles (1) y alargamiento de la fascia de los gemelos (2)\n",
        "data_raw['Cirugia'].value_counts()"
      ]
    },
    {
      "cell_type": "markdown",
      "source": [
        "El conjunto está desbalanceado. 21% de los pacientes requieren cirugía, y de estos 16% requieren alargamiento del tendón de aquiles, mientras que el resto requiere alargamiento de la fascia de los gemelos."
      ],
      "metadata": {
        "id": "wW7piyLq0say"
      }
    },
    {
      "cell_type": "markdown",
      "metadata": {
        "id": "vQlUPxqBUYAc"
      },
      "source": [
        "Revisemos también cuántos datos hay de cada tipo de parálisis"
      ]
    },
    {
      "cell_type": "code",
      "execution_count": null,
      "metadata": {
        "colab": {
          "base_uri": "https://localhost:8080/"
        },
        "id": "qGBJXcw1RPXU",
        "outputId": "a6de5c16-75ae-4aab-a998-187ed6571e44"
      },
      "outputs": [
        {
          "output_type": "execute_result",
          "data": {
            "text/plain": [
              "Espástica      3063\n",
              "Diskinética     132\n",
              "Mixta            66\n",
              "Hipotónica       14\n",
              "Atáxica          10\n",
              "Name: Tipo, dtype: int64"
            ]
          },
          "metadata": {},
          "execution_count": 19
        }
      ],
      "source": [
        "data_raw['Tipo'].value_counts()"
      ]
    },
    {
      "cell_type": "code",
      "source": [
        "data_raw.to_excel(\"data.xlsx\")"
      ],
      "metadata": {
        "id": "CNuDmEoQuCWk"
      },
      "execution_count": null,
      "outputs": []
    },
    {
      "cell_type": "markdown",
      "source": [
        "Graficaremos los datos para ver su distribución. Además, veremos si hay correlación entre variables"
      ],
      "metadata": {
        "id": "DrvStC2ai78z"
      }
    },
    {
      "cell_type": "code",
      "source": [
        "from IPython.core.pylabtools import figsize\n",
        "columnas=list(data_raw.columns)\n",
        "fig, axs = plt.subplots(ncols=2,nrows=4, figsize=(25,25))\n",
        "for i in range(0,7):\n",
        "  sns.histplot(data=data_raw[columnas[i]], ax=axs[i//2][i%2])"
      ],
      "metadata": {
        "colab": {
          "base_uri": "https://localhost:8080/",
          "height": 922
        },
        "id": "nju6LIkLkB_9",
        "outputId": "1dba4f7b-7211-4482-b576-e12a030b6561"
      },
      "execution_count": null,
      "outputs": [
        {
          "output_type": "display_data",
          "data": {
            "text/plain": [
              "<Figure size 1800x1800 with 8 Axes>"
            ],
            "image/png": "[encoded data removed]"
          },
          "metadata": {
            "needs_background": "light"
          }
        }
      ]
    },
    {
      "cell_type": "markdown",
      "source": [
        "# 3.Preparación de los datos"
      ],
      "metadata": {
        "id": "Xb4U_A2li76S"
      }
    },
    {
      "cell_type": "code",
      "source": [
        "# Se crea una copia de los datos para hacer modificaciones\n",
        "data_pre=data_raw.copy()\n",
        "data_pre.reset_index(inplace=True)\n",
        "data_pre.drop(columns=[\"index\"],inplace=True)"
      ],
      "metadata": {
        "id": "umZ4NwdFlGTX"
      },
      "execution_count": null,
      "outputs": []
    },
    {
      "cell_type": "markdown",
      "source": [
        "Dado que se quiere predecir si es cirugía/no cirugía, y por aparte el tipo de cirugía, se crearán una columna para este booleano."
      ],
      "metadata": {
        "id": "KzJjGgtklR3x"
      }
    },
    {
      "cell_type": "code",
      "source": [
        "data_pre[\"necesitaCirugia\"]=data_pre['Cirugia']!=0\n",
        "data_pre['necesitaCirugia'] = data_pre['necesitaCirugia'].replace({False:0, True:1})"
      ],
      "metadata": {
        "id": "y5xNwkQClRXw"
      },
      "execution_count": null,
      "outputs": []
    },
    {
      "cell_type": "markdown",
      "source": [
        "Además, se realizó un proceso de OneHot Encoding para convertir la variable categórica \"Tipo de parálisis\" en una variable numérica"
      ],
      "metadata": {
        "id": "KKnqFymyvkE5"
      }
    },
    {
      "cell_type": "code",
      "source": [
        "oneHot = OneHotEncoder()\n",
        "temp=pd.DataFrame(oneHot.fit_transform(data_pre[['Tipo']]).toarray())\n",
        "temp.rename(columns={0:'Ataxica',1:'Diskinetica', 2:'Espastica', 3:'Hipotonica', 4:'Mixta'},inplace=True)\n",
        "data_pre=pd.concat([data_pre, temp], axis=1)\n",
        "data_pre.drop(columns=\"Tipo\", inplace=True)"
      ],
      "metadata": {
        "id": "rCbw13Uvnc2L"
      },
      "execution_count": null,
      "outputs": []
    },
    {
      "cell_type": "code",
      "source": [
        "data_pre.head()"
      ],
      "metadata": {
        "colab": {
          "base_uri": "https://localhost:8080/",
          "height": 305
        },
        "id": "7ZtaX8mCrpBr",
        "outputId": "f7baf385-2708-4c9b-c186-44f47512bbb0"
      },
      "execution_count": null,
      "outputs": [
        {
          "output_type": "execute_result",
          "data": {
            "text/plain": [
              "   Edad  Tono gastrocnemios  Dorsiflexion  Felxion Plantar Tobillo  \\\n",
              "0    12                 1.5            32                       46   \n",
              "1    17                 2.0            -6                       58   \n",
              "2     5                 4.0            10                       40   \n",
              "3    22                 1.5             0                       40   \n",
              "4    16                 1.0            40                        0   \n",
              "\n",
              "   Silfverskiold  Cirugia  necesitaCirugia  Ataxica  Diskinetica  Espastica  \\\n",
              "0              2      0.0                0      0.0          0.0        1.0   \n",
              "1              2      0.0                0      0.0          0.0        1.0   \n",
              "2              2      2.0                1      0.0          0.0        1.0   \n",
              "3              2      0.0                0      0.0          0.0        1.0   \n",
              "4              2      0.0                0      0.0          0.0        1.0   \n",
              "\n",
              "   Hipotonica  Mixta  \n",
              "0         0.0    0.0  \n",
              "1         0.0    0.0  \n",
              "2         0.0    0.0  \n",
              "3         0.0    0.0  \n",
              "4         0.0    0.0  "
            ],
            "text/html": [
              "\n",
              "  <div id=\"df-7dd2cc73-24cb-4989-a44a-873ba737e447\">\n",
              "    <div class=\"colab-df-container\">\n",
              "      <div>\n",
              "<style scoped>\n",
              "    .dataframe tbody tr th:only-of-type {\n",
              "        vertical-align: middle;\n",
              "    }\n",
              "\n",
              "    .dataframe tbody tr th {\n",
              "        vertical-align: top;\n",
              "    }\n",
              "\n",
              "    .dataframe thead th {\n",
              "        text-align: right;\n",
              "    }\n",
              "</style>\n",
              "<table border=\"1\" class=\"dataframe\">\n",
              "  <thead>\n",
              "    <tr style=\"text-align: right;\">\n",
              "      <th></th>\n",
              "      <th>Edad</th>\n",
              "      <th>Tono gastrocnemios</th>\n",
              "      <th>Dorsiflexion</th>\n",
              "      <th>Felxion Plantar Tobillo</th>\n",
              "      <th>Silfverskiold</th>\n",
              "      <th>Cirugia</th>\n",
              "      <th>necesitaCirugia</th>\n",
              "      <th>Ataxica</th>\n",
              "      <th>Diskinetica</th>\n",
              "      <th>Espastica</th>\n",
              "      <th>Hipotonica</th>\n",
              "      <th>Mixta</th>\n",
              "    </tr>\n",
              "  </thead>\n",
              "  <tbody>\n",
              "    <tr>\n",
              "      <th>0</th>\n",
              "      <td>12</td>\n",
              "      <td>1.5</td>\n",
              "      <td>32</td>\n",
              "      <td>46</td>\n",
              "      <td>2</td>\n",
              "      <td>0.0</td>\n",
              "      <td>0</td>\n",
              "      <td>0.0</td>\n",
              "      <td>0.0</td>\n",
              "      <td>1.0</td>\n",
              "      <td>0.0</td>\n",
              "      <td>0.0</td>\n",
              "    </tr>\n",
              "    <tr>\n",
              "      <th>1</th>\n",
              "      <td>17</td>\n",
              "      <td>2.0</td>\n",
              "      <td>-6</td>\n",
              "      <td>58</td>\n",
              "      <td>2</td>\n",
              "      <td>0.0</td>\n",
              "      <td>0</td>\n",
              "      <td>0.0</td>\n",
              "      <td>0.0</td>\n",
              "      <td>1.0</td>\n",
              "      <td>0.0</td>\n",
              "      <td>0.0</td>\n",
              "    </tr>\n",
              "    <tr>\n",
              "      <th>2</th>\n",
              "      <td>5</td>\n",
              "      <td>4.0</td>\n",
              "      <td>10</td>\n",
              "      <td>40</td>\n",
              "      <td>2</td>\n",
              "      <td>2.0</td>\n",
              "      <td>1</td>\n",
              "      <td>0.0</td>\n",
              "      <td>0.0</td>\n",
              "      <td>1.0</td>\n",
              "      <td>0.0</td>\n",
              "      <td>0.0</td>\n",
              "    </tr>\n",
              "    <tr>\n",
              "      <th>3</th>\n",
              "      <td>22</td>\n",
              "      <td>1.5</td>\n",
              "      <td>0</td>\n",
              "      <td>40</td>\n",
              "      <td>2</td>\n",
              "      <td>0.0</td>\n",
              "      <td>0</td>\n",
              "      <td>0.0</td>\n",
              "      <td>0.0</td>\n",
              "      <td>1.0</td>\n",
              "      <td>0.0</td>\n",
              "      <td>0.0</td>\n",
              "    </tr>\n",
              "    <tr>\n",
              "      <th>4</th>\n",
              "      <td>16</td>\n",
              "      <td>1.0</td>\n",
              "      <td>40</td>\n",
              "      <td>0</td>\n",
              "      <td>2</td>\n",
              "      <td>0.0</td>\n",
              "      <td>0</td>\n",
              "      <td>0.0</td>\n",
              "      <td>0.0</td>\n",
              "      <td>1.0</td>\n",
              "      <td>0.0</td>\n",
              "      <td>0.0</td>\n",
              "    </tr>\n",
              "  </tbody>\n",
              "</table>\n",
              "</div>\n",
              "      <button class=\"colab-df-convert\" onclick=\"convertToInteractive('df-7dd2cc73-24cb-4989-a44a-873ba737e447')\"\n",
              "              title=\"Convert this dataframe to an interactive table.\"\n",
              "              style=\"display:none;\">\n",
              "        \n",
              "  <svg xmlns=\"http://www.w3.org/2000/svg\" height=\"24px\"viewBox=\"0 0 24 24\"\n",
              "       width=\"24px\">\n",
              "    <path d=\"M0 0h24v24H0V0z\" fill=\"none\"/>\n",
              "    <path d=\"M18.56 5.44l.94 2.06.94-2.06 2.06-.94-2.06-.94-.94-2.06-.94 2.06-2.06.94zm-11 1L8.5 8.5l.94-2.06 2.06-.94-2.06-.94L8.5 2.5l-.94 2.06-2.06.94zm10 10l.94 2.06.94-2.06 2.06-.94-2.06-.94-.94-2.06-.94 2.06-2.06.94z\"/><path d=\"M17.41 7.96l-1.37-1.37c-.4-.4-.92-.59-1.43-.59-.52 0-1.04.2-1.43.59L10.3 9.45l-7.72 7.72c-.78.78-.78 2.05 0 2.83L4 21.41c.39.39.9.59 1.41.59.51 0 1.02-.2 1.41-.59l7.78-7.78 2.81-2.81c.8-.78.8-2.07 0-2.86zM5.41 20L4 18.59l7.72-7.72 1.47 1.35L5.41 20z\"/>\n",
              "  </svg>\n",
              "      </button>\n",
              "      \n",
              "  <style>\n",
              "    .colab-df-container {\n",
              "      display:flex;\n",
              "      flex-wrap:wrap;\n",
              "      gap: 12px;\n",
              "    }\n",
              "\n",
              "    .colab-df-convert {\n",
              "      background-color: #E8F0FE;\n",
              "      border: none;\n",
              "      border-radius: 50%;\n",
              "      cursor: pointer;\n",
              "      display: none;\n",
              "      fill: #1967D2;\n",
              "      height: 32px;\n",
              "      padding: 0 0 0 0;\n",
              "      width: 32px;\n",
              "    }\n",
              "\n",
              "    .colab-df-convert:hover {\n",
              "      background-color: #E2EBFA;\n",
              "      box-shadow: 0px 1px 2px rgba(60, 64, 67, 0.3), 0px 1px 3px 1px rgba(60, 64, 67, 0.15);\n",
              "      fill: #174EA6;\n",
              "    }\n",
              "\n",
              "    [theme=dark] .colab-df-convert {\n",
              "      background-color: #3B4455;\n",
              "      fill: #D2E3FC;\n",
              "    }\n",
              "\n",
              "    [theme=dark] .colab-df-convert:hover {\n",
              "      background-color: #434B5C;\n",
              "      box-shadow: 0px 1px 3px 1px rgba(0, 0, 0, 0.15);\n",
              "      filter: drop-shadow(0px 1px 2px rgba(0, 0, 0, 0.3));\n",
              "      fill: #FFFFFF;\n",
              "    }\n",
              "  </style>\n",
              "\n",
              "      <script>\n",
              "        const buttonEl =\n",
              "          document.querySelector('#df-7dd2cc73-24cb-4989-a44a-873ba737e447 button.colab-df-convert');\n",
              "        buttonEl.style.display =\n",
              "          google.colab.kernel.accessAllowed ? 'block' : 'none';\n",
              "\n",
              "        async function convertToInteractive(key) {\n",
              "          const element = document.querySelector('#df-7dd2cc73-24cb-4989-a44a-873ba737e447');\n",
              "          const dataTable =\n",
              "            await google.colab.kernel.invokeFunction('convertToInteractive',\n",
              "                                                     [key], {});\n",
              "          if (!dataTable) return;\n",
              "\n",
              "          const docLinkHtml = 'Like what you see? Visit the ' +\n",
              "            '<a target=\"_blank\" href=https://colab.research.google.com/notebooks/data_table.ipynb>data table notebook</a>'\n",
              "            + ' to learn more about interactive tables.';\n",
              "          element.innerHTML = '';\n",
              "          dataTable['output_type'] = 'display_data';\n",
              "          await google.colab.output.renderOutput(dataTable, element);\n",
              "          const docLink = document.createElement('div');\n",
              "          docLink.innerHTML = docLinkHtml;\n",
              "          element.appendChild(docLink);\n",
              "        }\n",
              "      </script>\n",
              "    </div>\n",
              "  </div>\n",
              "  "
            ]
          },
          "metadata": {},
          "execution_count": 25
        }
      ]
    },
    {
      "cell_type": "markdown",
      "source": [
        "Vamos a estandarizar los valores, de forma que queden en un rango similar"
      ],
      "metadata": {
        "id": "3MhDx0EKxYxg"
      }
    },
    {
      "cell_type": "code",
      "source": [
        "columns = ['Edad', 'Tono gastrocnemios', 'Dorsiflexion', 'Felxion Plantar Tobillo',\n",
        "       'Silfverskiold']\n",
        "data_norm=data_pre.drop(columns=['Cirugia', 'necesitaCirugia', 'Ataxica', 'Diskinetica',\n",
        "       'Espastica', 'Hipotonica', 'Mixta'])\n",
        "scaler = StandardScaler()\n",
        "data_norm = scaler.fit_transform(data_norm)\n",
        "data_norm = pd.DataFrame(data_norm,columns=columns)\n",
        "data_norm[['Ataxica', 'Diskinetica','Espastica', 'Hipotonica', 'Mixta']]=data_pre[['Ataxica', 'Diskinetica',\n",
        "       'Espastica', 'Hipotonica', 'Mixta']]\n",
        "data_norm.head()"
      ],
      "metadata": {
        "colab": {
          "base_uri": "https://localhost:8080/",
          "height": 285
        },
        "id": "N6-Vsg8Gx3WJ",
        "outputId": "ec977b48-a53a-4c9d-ed30-fe1b6ff007c0"
      },
      "execution_count": null,
      "outputs": [
        {
          "output_type": "execute_result",
          "data": {
            "text/plain": [
              "       Edad  Tono gastrocnemios  Dorsiflexion  Felxion Plantar Tobillo  \\\n",
              "0 -0.027872           -0.114409      0.667573                 0.600496   \n",
              "1  0.736406            0.411231     -1.627285                 1.533071   \n",
              "2 -1.097862            2.513790     -0.661029                 0.134208   \n",
              "3  1.500684           -0.114409     -1.264939                 0.134208   \n",
              "4  0.583550           -0.640048      1.150701                -2.974375   \n",
              "\n",
              "   Silfverskiold  Ataxica  Diskinetica  Espastica  Hipotonica  Mixta  \n",
              "0       0.432256      0.0          0.0        1.0         0.0    0.0  \n",
              "1       0.432256      0.0          0.0        1.0         0.0    0.0  \n",
              "2       0.432256      0.0          0.0        1.0         0.0    0.0  \n",
              "3       0.432256      0.0          0.0        1.0         0.0    0.0  \n",
              "4       0.432256      0.0          0.0        1.0         0.0    0.0  "
            ],
            "text/html": [
              "\n",
              "  <div id=\"df-d435caf3-f312-4a9b-be46-058fbfad08e3\">\n",
              "    <div class=\"colab-df-container\">\n",
              "      <div>\n",
              "<style scoped>\n",
              "    .dataframe tbody tr th:only-of-type {\n",
              "        vertical-align: middle;\n",
              "    }\n",
              "\n",
              "    .dataframe tbody tr th {\n",
              "        vertical-align: top;\n",
              "    }\n",
              "\n",
              "    .dataframe thead th {\n",
              "        text-align: right;\n",
              "    }\n",
              "</style>\n",
              "<table border=\"1\" class=\"dataframe\">\n",
              "  <thead>\n",
              "    <tr style=\"text-align: right;\">\n",
              "      <th></th>\n",
              "      <th>Edad</th>\n",
              "      <th>Tono gastrocnemios</th>\n",
              "      <th>Dorsiflexion</th>\n",
              "      <th>Felxion Plantar Tobillo</th>\n",
              "      <th>Silfverskiold</th>\n",
              "      <th>Ataxica</th>\n",
              "      <th>Diskinetica</th>\n",
              "      <th>Espastica</th>\n",
              "      <th>Hipotonica</th>\n",
              "      <th>Mixta</th>\n",
              "    </tr>\n",
              "  </thead>\n",
              "  <tbody>\n",
              "    <tr>\n",
              "      <th>0</th>\n",
              "      <td>-0.027872</td>\n",
              "      <td>-0.114409</td>\n",
              "      <td>0.667573</td>\n",
              "      <td>0.600496</td>\n",
              "      <td>0.432256</td>\n",
              "      <td>0.0</td>\n",
              "      <td>0.0</td>\n",
              "      <td>1.0</td>\n",
              "      <td>0.0</td>\n",
              "      <td>0.0</td>\n",
              "    </tr>\n",
              "    <tr>\n",
              "      <th>1</th>\n",
              "      <td>0.736406</td>\n",
              "      <td>0.411231</td>\n",
              "      <td>-1.627285</td>\n",
              "      <td>1.533071</td>\n",
              "      <td>0.432256</td>\n",
              "      <td>0.0</td>\n",
              "      <td>0.0</td>\n",
              "      <td>1.0</td>\n",
              "      <td>0.0</td>\n",
              "      <td>0.0</td>\n",
              "    </tr>\n",
              "    <tr>\n",
              "      <th>2</th>\n",
              "      <td>-1.097862</td>\n",
              "      <td>2.513790</td>\n",
              "      <td>-0.661029</td>\n",
              "      <td>0.134208</td>\n",
              "      <td>0.432256</td>\n",
              "      <td>0.0</td>\n",
              "      <td>0.0</td>\n",
              "      <td>1.0</td>\n",
              "      <td>0.0</td>\n",
              "      <td>0.0</td>\n",
              "    </tr>\n",
              "    <tr>\n",
              "      <th>3</th>\n",
              "      <td>1.500684</td>\n",
              "      <td>-0.114409</td>\n",
              "      <td>-1.264939</td>\n",
              "      <td>0.134208</td>\n",
              "      <td>0.432256</td>\n",
              "      <td>0.0</td>\n",
              "      <td>0.0</td>\n",
              "      <td>1.0</td>\n",
              "      <td>0.0</td>\n",
              "      <td>0.0</td>\n",
              "    </tr>\n",
              "    <tr>\n",
              "      <th>4</th>\n",
              "      <td>0.583550</td>\n",
              "      <td>-0.640048</td>\n",
              "      <td>1.150701</td>\n",
              "      <td>-2.974375</td>\n",
              "      <td>0.432256</td>\n",
              "      <td>0.0</td>\n",
              "      <td>0.0</td>\n",
              "      <td>1.0</td>\n",
              "      <td>0.0</td>\n",
              "      <td>0.0</td>\n",
              "    </tr>\n",
              "  </tbody>\n",
              "</table>\n",
              "</div>\n",
              "      <button class=\"colab-df-convert\" onclick=\"convertToInteractive('df-d435caf3-f312-4a9b-be46-058fbfad08e3')\"\n",
              "              title=\"Convert this dataframe to an interactive table.\"\n",
              "              style=\"display:none;\">\n",
              "        \n",
              "  <svg xmlns=\"http://www.w3.org/2000/svg\" height=\"24px\"viewBox=\"0 0 24 24\"\n",
              "       width=\"24px\">\n",
              "    <path d=\"M0 0h24v24H0V0z\" fill=\"none\"/>\n",
              "    <path d=\"M18.56 5.44l.94 2.06.94-2.06 2.06-.94-2.06-.94-.94-2.06-.94 2.06-2.06.94zm-11 1L8.5 8.5l.94-2.06 2.06-.94-2.06-.94L8.5 2.5l-.94 2.06-2.06.94zm10 10l.94 2.06.94-2.06 2.06-.94-2.06-.94-.94-2.06-.94 2.06-2.06.94z\"/><path d=\"M17.41 7.96l-1.37-1.37c-.4-.4-.92-.59-1.43-.59-.52 0-1.04.2-1.43.59L10.3 9.45l-7.72 7.72c-.78.78-.78 2.05 0 2.83L4 21.41c.39.39.9.59 1.41.59.51 0 1.02-.2 1.41-.59l7.78-7.78 2.81-2.81c.8-.78.8-2.07 0-2.86zM5.41 20L4 18.59l7.72-7.72 1.47 1.35L5.41 20z\"/>\n",
              "  </svg>\n",
              "      </button>\n",
              "      \n",
              "  <style>\n",
              "    .colab-df-container {\n",
              "      display:flex;\n",
              "      flex-wrap:wrap;\n",
              "      gap: 12px;\n",
              "    }\n",
              "\n",
              "    .colab-df-convert {\n",
              "      background-color: #E8F0FE;\n",
              "      border: none;\n",
              "      border-radius: 50%;\n",
              "      cursor: pointer;\n",
              "      display: none;\n",
              "      fill: #1967D2;\n",
              "      height: 32px;\n",
              "      padding: 0 0 0 0;\n",
              "      width: 32px;\n",
              "    }\n",
              "\n",
              "    .colab-df-convert:hover {\n",
              "      background-color: #E2EBFA;\n",
              "      box-shadow: 0px 1px 2px rgba(60, 64, 67, 0.3), 0px 1px 3px 1px rgba(60, 64, 67, 0.15);\n",
              "      fill: #174EA6;\n",
              "    }\n",
              "\n",
              "    [theme=dark] .colab-df-convert {\n",
              "      background-color: #3B4455;\n",
              "      fill: #D2E3FC;\n",
              "    }\n",
              "\n",
              "    [theme=dark] .colab-df-convert:hover {\n",
              "      background-color: #434B5C;\n",
              "      box-shadow: 0px 1px 3px 1px rgba(0, 0, 0, 0.15);\n",
              "      filter: drop-shadow(0px 1px 2px rgba(0, 0, 0, 0.3));\n",
              "      fill: #FFFFFF;\n",
              "    }\n",
              "  </style>\n",
              "\n",
              "      <script>\n",
              "        const buttonEl =\n",
              "          document.querySelector('#df-d435caf3-f312-4a9b-be46-058fbfad08e3 button.colab-df-convert');\n",
              "        buttonEl.style.display =\n",
              "          google.colab.kernel.accessAllowed ? 'block' : 'none';\n",
              "\n",
              "        async function convertToInteractive(key) {\n",
              "          const element = document.querySelector('#df-d435caf3-f312-4a9b-be46-058fbfad08e3');\n",
              "          const dataTable =\n",
              "            await google.colab.kernel.invokeFunction('convertToInteractive',\n",
              "                                                     [key], {});\n",
              "          if (!dataTable) return;\n",
              "\n",
              "          const docLinkHtml = 'Like what you see? Visit the ' +\n",
              "            '<a target=\"_blank\" href=https://colab.research.google.com/notebooks/data_table.ipynb>data table notebook</a>'\n",
              "            + ' to learn more about interactive tables.';\n",
              "          element.innerHTML = '';\n",
              "          dataTable['output_type'] = 'display_data';\n",
              "          await google.colab.output.renderOutput(dataTable, element);\n",
              "          const docLink = document.createElement('div');\n",
              "          docLink.innerHTML = docLinkHtml;\n",
              "          element.appendChild(docLink);\n",
              "        }\n",
              "      </script>\n",
              "    </div>\n",
              "  </div>\n",
              "  "
            ]
          },
          "metadata": {},
          "execution_count": 241
        }
      ]
    },
    {
      "cell_type": "code",
      "source": [
        "X=data_norm.copy()\n",
        "y_bool=data_pre['necesitaCirugia']\n",
        "y_categ=data_pre['Cirugia']"
      ],
      "metadata": {
        "id": "w60tC6090EIM"
      },
      "execution_count": null,
      "outputs": []
    },
    {
      "cell_type": "markdown",
      "source": [
        "# 4.Modelamiento"
      ],
      "metadata": {
        "id": "WYOFdgbG0bLy"
      }
    },
    {
      "cell_type": "markdown",
      "source": [
        "Primero, entrenaremos modelos para determinar si un paciente requiere o no cirugía.\n",
        "Posteriormente, entrenaremos modelos para determinar la categoría de la cirugía, en caso de que se necesite.\n",
        "Finalmente se probarán clasificadores multiclase."
      ],
      "metadata": {
        "id": "DMsOFKpu0djn"
      }
    },
    {
      "cell_type": "code",
      "execution_count": null,
      "metadata": {
        "id": "O9_i4RF6ZHmM",
        "cellView": "form"
      },
      "outputs": [],
      "source": [
        "#@title Función para pintar matriz de confusión\n",
        "# {display-mode: \"form\"}\n",
        "\n",
        "def plot_confusion_matrix(y_true, y_pred, classes,\n",
        "                          normalize=False,\n",
        "                          title=None,\n",
        "                          cmap=plt.cm.Blues,size=(10,10)):\n",
        "    \"\"\"\n",
        "    This function prints and plots the confusion matrix.\n",
        "    Normalization can be applied by setting `normalize=True`.\n",
        "    \"\"\"\n",
        "    if not title:\n",
        "        if normalize:\n",
        "            title = 'Normalized confusion matrix'\n",
        "        else:\n",
        "            title = 'Confusion matrix, without normalization'\n",
        "\n",
        "    # Compute confusion matrix\n",
        "    cm = confusion_matrix(y_true, y_pred)\n",
        "    \n",
        "    if normalize:\n",
        "        cm = cm.astype('float') / cm.sum(axis=1)[:, np.newaxis]\n",
        "        print(\"Normalized confusion matrix\")\n",
        "    else:\n",
        "        print('Confusion matrix, without normalization')\n",
        "\n",
        "\n",
        "\n",
        "    fig, ax = plt.subplots(figsize=size)\n",
        "    im = ax.imshow(cm, interpolation='nearest', cmap=cmap)\n",
        "    ax.figure.colorbar(im, ax=ax)\n",
        "    # We want to show all ticks...\n",
        "    ax.set(xticks=np.arange(cm.shape[1]),\n",
        "           yticks=np.arange(cm.shape[0]),\n",
        "           # ... and label them with the respective list entries\n",
        "           xticklabels=classes, yticklabels=classes,\n",
        "           title=title,\n",
        "           ylabel='True label',\n",
        "           xlabel='Predicted label')\n",
        "\n",
        "    # Rotate the tick labels and set their alignment.\n",
        "    plt.setp(ax.get_xticklabels(), rotation=45, ha=\"right\",\n",
        "             rotation_mode=\"anchor\")\n",
        "\n",
        "    # Loop over data dimensions and create text annotations.\n",
        "    fmt = '.2f' if normalize else 'd'\n",
        "    thresh = cm.max() / 2.\n",
        "    for i in range(cm.shape[0]):\n",
        "        for j in range(cm.shape[1]):\n",
        "            ax.text(j, i, format(cm[i, j], fmt),\n",
        "                    ha=\"center\", va=\"center\",\n",
        "                    color=\"white\" if cm[i, j] > thresh else \"black\")\n",
        "    fig.tight_layout()\n",
        "    return ax"
      ]
    },
    {
      "cell_type": "markdown",
      "source": [
        "## 4.1 Clasificador binario para predecir si necesita cirugía o no"
      ],
      "metadata": {
        "id": "ZB-VXHxr2Krg"
      }
    },
    {
      "cell_type": "code",
      "source": [
        "X_train, X_test, Y_train, Y_test = train_test_split(X.drop(columns=\"necesitaCirugia\"), y_bool, test_size=0.2, random_state=0)"
      ],
      "metadata": {
        "id": "tsYulsEx85at"
      },
      "execution_count": null,
      "outputs": []
    },
    {
      "cell_type": "code",
      "source": [
        "X_train.columns"
      ],
      "metadata": {
        "colab": {
          "base_uri": "https://localhost:8080/"
        },
        "id": "OjcefjEdzK9a",
        "outputId": "59b7eadd-4df8-471e-f62b-af7df7adc539"
      },
      "execution_count": null,
      "outputs": [
        {
          "output_type": "execute_result",
          "data": {
            "text/plain": [
              "Index(['Edad', 'Tono gastrocnemios', 'Dorsiflexion', 'Felxion Plantar Tobillo',\n",
              "       'Silfverskiold', 'Ataxica', 'Diskinetica', 'Espastica', 'Hipotonica',\n",
              "       'Mixta'],\n",
              "      dtype='object')"
            ]
          },
          "metadata": {},
          "execution_count": 235
        }
      ]
    },
    {
      "cell_type": "markdown",
      "source": [
        "### 4.1.1 Máquina de soporte vectorial"
      ],
      "metadata": {
        "id": "sHJJ1-b92vGO"
      }
    },
    {
      "cell_type": "code",
      "execution_count": null,
      "metadata": {
        "id": "i41QeZ9I84xB"
      },
      "outputs": [],
      "source": [
        "# Dado que el preprocesamiento ya se realizó para los datos de X_train, se correrá el pipeline sin la parte del preproceso\n",
        "estimators = [\n",
        "        ('classifier', svm.SVC(C=0.1, kernel='linear', gamma='auto', class_weight='balanced'))          \n",
        "    ]\n",
        "\n",
        "parameters = {'classifier__C':[0.1, 1, 10],\n",
        "              'classifier__gamma':['scale', 'auto'],\n",
        "              'classifier__kernel':['linear','rbf'],\n",
        "              'classifier__class_weight':[None, 'balanced']\n",
        "            }\n",
        "\n",
        "pipe_svm = Pipeline(estimators)"
      ]
    },
    {
      "cell_type": "code",
      "execution_count": null,
      "metadata": {
        "id": "PyMCv-6s-qxT"
      },
      "outputs": [],
      "source": [
        "%%time\n",
        "grid_search_svm = GridSearchCV(pipe_svm, parameters, scoring='precision', cv=5, verbose = 1)\n",
        "with tf.device('/device:GPU:0'):\n",
        "  grid_search_svm.fit(X_train,Y_train)"
      ]
    },
    {
      "cell_type": "code",
      "execution_count": null,
      "metadata": {
        "id": "slJJxb0pUxQn",
        "colab": {
          "base_uri": "https://localhost:8080/"
        },
        "outputId": "3c1467b2-c9a2-4478-d7ac-acd630ff891e"
      },
      "outputs": [
        {
          "output_type": "execute_result",
          "data": {
            "text/plain": [
              "{'classifier__C': 0.1,\n",
              " 'classifier__class_weight': None,\n",
              " 'classifier__gamma': 'auto',\n",
              " 'classifier__kernel': 'rbf'}"
            ]
          },
          "metadata": {},
          "execution_count": 190
        }
      ],
      "source": [
        "grid_search_svm.best_params_"
      ]
    },
    {
      "cell_type": "code",
      "execution_count": null,
      "metadata": {
        "id": "rnQRCpSKUxQo",
        "colab": {
          "base_uri": "https://localhost:8080/"
        },
        "outputId": "0e021884-0fb8-4f7b-aa42-78f43b13b702"
      },
      "outputs": [
        {
          "output_type": "stream",
          "name": "stdout",
          "text": [
            "Train Report\n",
            "               precision    recall  f1-score   support\n",
            "\n",
            "           0       0.80      0.97      0.87      1987\n",
            "           1       0.70      0.23      0.35       641\n",
            "\n",
            "    accuracy                           0.79      2628\n",
            "   macro avg       0.75      0.60      0.61      2628\n",
            "weighted avg       0.77      0.79      0.75      2628\n",
            "\n"
          ]
        }
      ],
      "source": [
        "# Obtener el mejor modelo.\n",
        "mejor_svm = grid_search_svm.best_estimator_\n",
        "\n",
        "y_pred_train_svm = mejor_svm.predict(X_train)\n",
        "\n",
        "report_svm = classification_report(Y_train, y_pred_train_svm)\n",
        "\n",
        "print(\"Train Report\\n\", report_svm)"
      ]
    },
    {
      "cell_type": "code",
      "execution_count": null,
      "metadata": {
        "id": "Uxc8NBHoUxQo",
        "colab": {
          "base_uri": "https://localhost:8080/",
          "height": 719
        },
        "outputId": "24b631b0-839d-4504-8a60-ec28d012bfbf"
      },
      "outputs": [
        {
          "output_type": "stream",
          "name": "stdout",
          "text": [
            "Confusion matrix, without normalization\n"
          ]
        },
        {
          "output_type": "execute_result",
          "data": {
            "text/plain": [
              "<matplotlib.axes._subplots.AxesSubplot at 0x7f218962a190>"
            ]
          },
          "metadata": {},
          "execution_count": 192
        },
        {
          "output_type": "display_data",
          "data": {
            "text/plain": [
              "<Figure size 720x720 with 2 Axes>"
            ],
            "image/png": "[encoded data removed]"
          },
          "metadata": {
            "needs_background": "light"
          }
        }
      ],
      "source": [
        "%matplotlib inline\n",
        "plot_confusion_matrix(y_true=Y_train, y_pred=y_pred_train_svm, classes=[\"0 - No necesita cirugía\",\"1 - Necesita cirugía\"],\n",
        "                      title='Matriz de Confusión - train')"
      ]
    },
    {
      "cell_type": "code",
      "execution_count": null,
      "metadata": {
        "id": "bss_TKtfVa0z"
      },
      "outputs": [],
      "source": [
        "# Ahora se usará un pipeline con el mejor modelo para analizar los datos de test\n",
        "estimators = [\n",
        "        ('classifier', svm.SVC( C=0.1,gamma=\"auto\", kernel=\"rbf\", class_weight=None ))]\n",
        "\n",
        "pipe_svm_test = Pipeline(estimators)"
      ]
    },
    {
      "cell_type": "code",
      "execution_count": null,
      "metadata": {
        "id": "2djr0sBiVa0z",
        "colab": {
          "base_uri": "https://localhost:8080/"
        },
        "outputId": "9ad730cd-3d22-4033-d1f7-e916f2d660c1"
      },
      "outputs": [
        {
          "output_type": "stream",
          "name": "stdout",
          "text": [
            "CPU times: user 232 ms, sys: 2.17 ms, total: 234 ms\n",
            "Wall time: 242 ms\n"
          ]
        },
        {
          "output_type": "execute_result",
          "data": {
            "text/plain": [
              "Pipeline(steps=[('classifier', SVC(C=0.1, gamma='auto'))])"
            ]
          },
          "metadata": {},
          "execution_count": 194
        }
      ],
      "source": [
        "%%time\n",
        "pipe_svm_test.fit(X_train, Y_train)"
      ]
    },
    {
      "cell_type": "code",
      "execution_count": null,
      "metadata": {
        "id": "VOE-F-moVa0z",
        "colab": {
          "base_uri": "https://localhost:8080/"
        },
        "outputId": "ca67a95f-820b-40b8-efd0-6909a7fefeaf"
      },
      "outputs": [
        {
          "output_type": "stream",
          "name": "stdout",
          "text": [
            "SVM Test Report\n",
            "               precision    recall  f1-score   support\n",
            "\n",
            "           0       0.84      0.97      0.90       514\n",
            "           1       0.77      0.32      0.45       143\n",
            "\n",
            "    accuracy                           0.83       657\n",
            "   macro avg       0.80      0.65      0.68       657\n",
            "weighted avg       0.82      0.83      0.80       657\n",
            "\n"
          ]
        }
      ],
      "source": [
        "y_pred_test_svm=pipe_svm_test.predict(X_test)\n",
        "\n",
        "report_tree = classification_report(Y_test, y_pred_test_svm)\n",
        "\n",
        "print(\"SVM Test Report\\n\", report_tree)"
      ]
    },
    {
      "cell_type": "code",
      "execution_count": null,
      "metadata": {
        "id": "adG4_RN0Va00",
        "colab": {
          "base_uri": "https://localhost:8080/",
          "height": 721
        },
        "outputId": "955d2d12-2a90-43aa-bc83-9232e4d264c9"
      },
      "outputs": [
        {
          "output_type": "stream",
          "name": "stdout",
          "text": [
            "Confusion matrix, without normalization\n"
          ]
        },
        {
          "output_type": "execute_result",
          "data": {
            "text/plain": [
              "<matplotlib.axes._subplots.AxesSubplot at 0x7f2189667dd0>"
            ]
          },
          "metadata": {},
          "execution_count": 196
        },
        {
          "output_type": "display_data",
          "data": {
            "text/plain": [
              "<Figure size 720x720 with 2 Axes>"
            ],
            "image/png": "[encoded data removed]"
          },
          "metadata": {
            "needs_background": "light"
          }
        }
      ],
      "source": [
        "%matplotlib inline\n",
        "plot_confusion_matrix(y_true=Y_test, y_pred=y_pred_test_svm, classes=[\"0 - No necesita cirugía\",\"1 - Necesita cirugía\"],\n",
        "                      title='Matriz de Confusión - test')"
      ]
    },
    {
      "cell_type": "markdown",
      "source": [
        "### 4.1.2 KNN"
      ],
      "metadata": {
        "id": "e34Tltv72z4a"
      }
    },
    {
      "cell_type": "code",
      "execution_count": null,
      "metadata": {
        "id": "08xBXdd1i4lZ"
      },
      "outputs": [],
      "source": [
        "# Dado que el preprocesamiento ya se realizó para los datos de X_train, estos no requeieren del preprocesamiento\n",
        "estimators = [\n",
        "        ('classifier', KNeighborsClassifier())          \n",
        "    ]\n",
        "\n",
        "parameters = {\n",
        "              'classifier__weights':['distance', 'uniform'],\n",
        "              'classifier__n_neighbors':[6,7,8,9,10,11,12,14,16,20,25],\n",
        "              'classifier__p':[1,2],\n",
        "            }\n",
        "\n",
        "pipe_knn = Pipeline(estimators)"
      ]
    },
    {
      "cell_type": "code",
      "execution_count": null,
      "metadata": {
        "colab": {
          "base_uri": "https://localhost:8080/"
        },
        "id": "BHJqroaIm4W_",
        "outputId": "1da22ef9-443e-40a5-91c9-92da3fb50a64"
      },
      "outputs": [
        {
          "output_type": "stream",
          "name": "stdout",
          "text": [
            "CPU times: user 6.15 s, sys: 36.4 ms, total: 6.19 s\n",
            "Wall time: 6.88 s\n"
          ]
        }
      ],
      "source": [
        "%%time\n",
        "grid_search_knn = GridSearchCV(pipe_knn, parameters, scoring='precision', cv=4, error_score=0.0)\n",
        "with tf.device('/device:GPU:0'):\n",
        "  grid_search_knn.fit(X_train,Y_train)"
      ]
    },
    {
      "cell_type": "code",
      "execution_count": null,
      "metadata": {
        "colab": {
          "base_uri": "https://localhost:8080/"
        },
        "id": "UAOloAP5vudY",
        "outputId": "c3560b6a-dab8-41df-a8f3-ee8202b230ae"
      },
      "outputs": [
        {
          "output_type": "execute_result",
          "data": {
            "text/plain": [
              "{'classifier__n_neighbors': 20,\n",
              " 'classifier__p': 2,\n",
              " 'classifier__weights': 'uniform'}"
            ]
          },
          "metadata": {},
          "execution_count": 199
        }
      ],
      "source": [
        "grid_search_knn.best_params_"
      ]
    },
    {
      "cell_type": "code",
      "execution_count": null,
      "metadata": {
        "colab": {
          "base_uri": "https://localhost:8080/"
        },
        "id": "jNjvQeqRqTP_",
        "outputId": "1233d3ad-969d-4713-e352-6b61c16b9d06"
      },
      "outputs": [
        {
          "output_type": "stream",
          "name": "stdout",
          "text": [
            "Train Report\n",
            "               precision    recall  f1-score   support\n",
            "\n",
            "           0       0.83      0.95      0.89      1987\n",
            "           1       0.72      0.41      0.52       641\n",
            "\n",
            "    accuracy                           0.82      2628\n",
            "   macro avg       0.77      0.68      0.70      2628\n",
            "weighted avg       0.80      0.82      0.80      2628\n",
            "\n"
          ]
        }
      ],
      "source": [
        "# Obtener el mejor modelo.\n",
        "mejor_knn = grid_search_knn.best_estimator_\n",
        "\n",
        "y_pred_train_knn = mejor_knn.predict(X_train)\n",
        "\n",
        "report_tree = classification_report(Y_train, y_pred_train_knn)\n",
        "\n",
        "print(\"Train Report\\n\", report_tree)"
      ]
    },
    {
      "cell_type": "code",
      "execution_count": null,
      "metadata": {
        "colab": {
          "base_uri": "https://localhost:8080/",
          "height": 719
        },
        "id": "0EA2IYQU3zxi",
        "outputId": "b1ef39c7-2631-485d-ae40-0ab67bef8737"
      },
      "outputs": [
        {
          "output_type": "stream",
          "name": "stdout",
          "text": [
            "Confusion matrix, without normalization\n"
          ]
        },
        {
          "output_type": "execute_result",
          "data": {
            "text/plain": [
              "<matplotlib.axes._subplots.AxesSubplot at 0x7f21894e8e50>"
            ]
          },
          "metadata": {},
          "execution_count": 201
        },
        {
          "output_type": "display_data",
          "data": {
            "text/plain": [
              "<Figure size 720x720 with 2 Axes>"
            ],
            "image/png": "[encoded data removed]"
          },
          "metadata": {
            "needs_background": "light"
          }
        }
      ],
      "source": [
        "%matplotlib inline\n",
        "plot_confusion_matrix(y_true=Y_train, y_pred=y_pred_train_knn, classes=[\"0 - No necesita cirugía\",\"1 - Necesita cirugía\"],\n",
        "                      title='Matriz de Confusión - train')"
      ]
    },
    {
      "cell_type": "code",
      "execution_count": null,
      "metadata": {
        "id": "7PKkPpq5xqw4"
      },
      "outputs": [],
      "source": [
        "# Ahora se usará un pipeline con el mejor modelo para analizar los datos de test\n",
        "estimators = [\n",
        "        ('classifier', KNeighborsClassifier(p=2,n_neighbors=20,weights='uniform'))]\n",
        "\n",
        "pipe_knn_test = Pipeline(estimators)"
      ]
    },
    {
      "cell_type": "code",
      "execution_count": null,
      "metadata": {
        "colab": {
          "base_uri": "https://localhost:8080/"
        },
        "id": "OnXZbpiSxqw5",
        "outputId": "7a025875-ba02-4f8d-a604-b81efe3ac8a6"
      },
      "outputs": [
        {
          "output_type": "stream",
          "name": "stdout",
          "text": [
            "CPU times: user 7.1 ms, sys: 0 ns, total: 7.1 ms\n",
            "Wall time: 7.5 ms\n"
          ]
        },
        {
          "output_type": "execute_result",
          "data": {
            "text/plain": [
              "Pipeline(steps=[('classifier', KNeighborsClassifier(n_neighbors=20))])"
            ]
          },
          "metadata": {},
          "execution_count": 203
        }
      ],
      "source": [
        "%%time\n",
        "pipe_knn_test.fit(X_train, Y_train)"
      ]
    },
    {
      "cell_type": "code",
      "execution_count": null,
      "metadata": {
        "colab": {
          "base_uri": "https://localhost:8080/"
        },
        "id": "-Vwv_zCT3KZa",
        "outputId": "a545f075-1dc9-4494-b505-3819781d97d1"
      },
      "outputs": [
        {
          "output_type": "stream",
          "name": "stdout",
          "text": [
            "KNN Test Report\n",
            "               precision    recall  f1-score   support\n",
            "\n",
            "           0       0.86      0.94      0.90       514\n",
            "           1       0.67      0.45      0.54       143\n",
            "\n",
            "    accuracy                           0.83       657\n",
            "   macro avg       0.76      0.69      0.72       657\n",
            "weighted avg       0.82      0.83      0.82       657\n",
            "\n"
          ]
        }
      ],
      "source": [
        "# y_pred_test_knn = mejor_knn.predict(X_test)\n",
        "y_pred_test_knn=pipe_knn_test.predict(X_test)\n",
        "\n",
        "report_tree = classification_report(Y_test, y_pred_test_knn)\n",
        "\n",
        "print(\"KNN Test Report\\n\", report_tree)"
      ]
    },
    {
      "cell_type": "code",
      "execution_count": null,
      "metadata": {
        "colab": {
          "base_uri": "https://localhost:8080/",
          "height": 719
        },
        "id": "fKuF8_n238g5",
        "outputId": "b408838d-2f45-4120-ee69-a17e6ebe5473"
      },
      "outputs": [
        {
          "output_type": "stream",
          "name": "stdout",
          "text": [
            "Confusion matrix, without normalization\n"
          ]
        },
        {
          "output_type": "execute_result",
          "data": {
            "text/plain": [
              "<matplotlib.axes._subplots.AxesSubplot at 0x7f21896749d0>"
            ]
          },
          "metadata": {},
          "execution_count": 205
        },
        {
          "output_type": "display_data",
          "data": {
            "text/plain": [
              "<Figure size 720x720 with 2 Axes>"
            ],
            "image/png": "[encoded data removed]"
          },
          "metadata": {
            "needs_background": "light"
          }
        }
      ],
      "source": [
        "%matplotlib inline\n",
        "plot_confusion_matrix(y_true=Y_test, y_pred=y_pred_test_knn, classes=[\"0 - No necesita cirugía\",\"1 - Necesita cirugía\"],\n",
        "                      title='Matriz de Confusión - test')"
      ]
    },
    {
      "cell_type": "markdown",
      "source": [
        "### 4.1.3 Árbol de decisión"
      ],
      "metadata": {
        "id": "EWFjFm5v3N9O"
      }
    },
    {
      "cell_type": "code",
      "execution_count": null,
      "metadata": {
        "id": "UaPmfTwRjHol"
      },
      "outputs": [],
      "source": [
        "# Dado que el preprocesamiento ya se realizó para los datos de X_train, se correrá el pipeline sin la parte del preproceso\n",
        "estimators = [\n",
        "        ('classifier', DecisionTreeClassifier(random_state=0))          \n",
        "    ]\n",
        "\n",
        "parameters = {\n",
        "              'classifier__criterion':['gini','entropy'],\n",
        "              'classifier__max_depth':[2,4,8,16,24,28,32],\n",
        "              'classifier__min_samples_split':[2,3],\n",
        "              'classifier__class_weight':[None, 'balanced']\n",
        "            }\n",
        "\n",
        "pipe_tree = Pipeline(estimators)\n"
      ]
    },
    {
      "cell_type": "code",
      "execution_count": null,
      "metadata": {
        "colab": {
          "base_uri": "https://localhost:8080/"
        },
        "id": "hQxeVWgyrG9u",
        "outputId": "0f302bad-b908-4576-d700-21953f6c7c3c"
      },
      "outputs": [
        {
          "output_type": "stream",
          "name": "stdout",
          "text": [
            "CPU times: user 3.19 s, sys: 14.3 ms, total: 3.2 s\n",
            "Wall time: 4.19 s\n"
          ]
        }
      ],
      "source": [
        "%%time\n",
        "grid_search_tree = GridSearchCV(pipe_tree, parameters, scoring='precision', cv=4, error_score=0.0)\n",
        "grid_search_tree.fit(X_train,Y_train)"
      ]
    },
    {
      "cell_type": "code",
      "execution_count": null,
      "metadata": {
        "colab": {
          "base_uri": "https://localhost:8080/"
        },
        "id": "jH7mJxpPsPyO",
        "outputId": "f90061da-21c1-4bab-8b48-73448e3766d3"
      },
      "outputs": [
        {
          "output_type": "execute_result",
          "data": {
            "text/plain": [
              "{'classifier__class_weight': None,\n",
              " 'classifier__criterion': 'entropy',\n",
              " 'classifier__max_depth': 4,\n",
              " 'classifier__min_samples_split': 2}"
            ]
          },
          "metadata": {},
          "execution_count": 208
        }
      ],
      "source": [
        "grid_search_tree.best_params_"
      ]
    },
    {
      "cell_type": "code",
      "execution_count": null,
      "metadata": {
        "colab": {
          "base_uri": "https://localhost:8080/"
        },
        "id": "t88X3IALq5-B",
        "outputId": "7293d03e-7b13-47ed-90e0-523fabf608b7"
      },
      "outputs": [
        {
          "output_type": "stream",
          "name": "stdout",
          "text": [
            "Train Report\n",
            "               precision    recall  f1-score   support\n",
            "\n",
            "           0       0.83      0.93      0.88      1987\n",
            "           1       0.64      0.42      0.51       641\n",
            "\n",
            "    accuracy                           0.80      2628\n",
            "   macro avg       0.74      0.67      0.69      2628\n",
            "weighted avg       0.79      0.80      0.79      2628\n",
            "\n"
          ]
        }
      ],
      "source": [
        "y_pred_train_tree = grid_search_tree.best_estimator_.predict(X_train)\n",
        "report_tree = classification_report(Y_train, y_pred_train_tree)\n",
        "\n",
        "print(\"Train Report\\n\", report_tree)"
      ]
    },
    {
      "cell_type": "code",
      "execution_count": null,
      "metadata": {
        "colab": {
          "base_uri": "https://localhost:8080/",
          "height": 719
        },
        "id": "htjU9_ZKjuG1",
        "outputId": "09d45afe-6f93-45c9-ec79-a9680846fac0"
      },
      "outputs": [
        {
          "output_type": "stream",
          "name": "stdout",
          "text": [
            "Confusion matrix, without normalization\n"
          ]
        },
        {
          "output_type": "execute_result",
          "data": {
            "text/plain": [
              "<matplotlib.axes._subplots.AxesSubplot at 0x7f2189439210>"
            ]
          },
          "metadata": {},
          "execution_count": 210
        },
        {
          "output_type": "display_data",
          "data": {
            "text/plain": [
              "<Figure size 720x720 with 2 Axes>"
            ],
            "image/png": "[encoded data removed]"
          },
          "metadata": {
            "needs_background": "light"
          }
        }
      ],
      "source": [
        "%matplotlib inline\n",
        "plot_confusion_matrix(y_true=Y_train, y_pred=y_pred_train_tree, classes=[\"0 - No necesita cirugía\",\"1 - Necesita cirugía\"],\n",
        "                      title='Matriz de Confusión - train')"
      ]
    },
    {
      "cell_type": "code",
      "execution_count": null,
      "metadata": {
        "id": "Y_WgtWfIs4ns"
      },
      "outputs": [],
      "source": [
        "# Ahora se usará un pipeline con el mejor modelo para analizar los datos de test\n",
        "estimators = [\n",
        "        \n",
        "        ('classifier', DecisionTreeClassifier(criterion='entropy',max_depth=4, min_samples_split=2,random_state=0))]\n",
        "\n",
        "pipe_tree_test = Pipeline(estimators)"
      ]
    },
    {
      "cell_type": "code",
      "execution_count": null,
      "metadata": {
        "colab": {
          "base_uri": "https://localhost:8080/"
        },
        "id": "N9F46NzsAA5l",
        "outputId": "b5189c2f-1ea0-4d8e-d005-0ac83e1e71fc"
      },
      "outputs": [
        {
          "output_type": "execute_result",
          "data": {
            "text/plain": [
              "Pipeline(steps=[('classifier',\n",
              "                 DecisionTreeClassifier(criterion='entropy', max_depth=4,\n",
              "                                        random_state=0))])"
            ]
          },
          "metadata": {},
          "execution_count": 212
        }
      ],
      "source": [
        "pipe_tree_test.fit(X_train, Y_train)"
      ]
    },
    {
      "cell_type": "code",
      "execution_count": null,
      "metadata": {
        "id": "4JC61g8VAPCd"
      },
      "outputs": [],
      "source": [
        "y_test_tree=pipe_tree_test.predict(X_test)"
      ]
    },
    {
      "cell_type": "code",
      "execution_count": null,
      "metadata": {
        "colab": {
          "base_uri": "https://localhost:8080/"
        },
        "id": "K_IWfis3AW81",
        "outputId": "290c5253-a4aa-4054-9858-8555b7199f89"
      },
      "outputs": [
        {
          "output_type": "stream",
          "name": "stdout",
          "text": [
            "Tree test Report\n",
            "               precision    recall  f1-score   support\n",
            "\n",
            "           0       0.86      0.92      0.89       514\n",
            "           1       0.62      0.48      0.54       143\n",
            "\n",
            "    accuracy                           0.82       657\n",
            "   macro avg       0.74      0.70      0.71       657\n",
            "weighted avg       0.81      0.82      0.81       657\n",
            "\n"
          ]
        }
      ],
      "source": [
        "report_tree_test = classification_report(Y_test, y_test_tree)\n",
        "\n",
        "print(\"Tree test Report\\n\", report_tree_test)"
      ]
    },
    {
      "cell_type": "code",
      "execution_count": null,
      "metadata": {
        "colab": {
          "base_uri": "https://localhost:8080/",
          "height": 719
        },
        "id": "USTFhDGbCqfT",
        "outputId": "cf92a749-f36c-4e06-a2a7-24a7814be267"
      },
      "outputs": [
        {
          "output_type": "stream",
          "name": "stdout",
          "text": [
            "Confusion matrix, without normalization\n"
          ]
        },
        {
          "output_type": "execute_result",
          "data": {
            "text/plain": [
              "<matplotlib.axes._subplots.AxesSubplot at 0x7f21892fc210>"
            ]
          },
          "metadata": {},
          "execution_count": 215
        },
        {
          "output_type": "display_data",
          "data": {
            "text/plain": [
              "<Figure size 720x720 with 2 Axes>"
            ],
            "image/png": "[encoded data removed]"
          },
          "metadata": {
            "needs_background": "light"
          }
        }
      ],
      "source": [
        "%matplotlib inline\n",
        "plot_confusion_matrix(y_true=Y_test, y_pred=y_test_tree, classes=[\"0 - No necesita cirugía\",\"1 - Necesita cirugía\"],\n",
        "                      title='Matriz de Confusión - test')"
      ]
    },
    {
      "cell_type": "markdown",
      "source": [
        "### 4.1.4 Logistic regression"
      ],
      "metadata": {
        "id": "a3uz3xuSMtEd"
      }
    },
    {
      "cell_type": "code",
      "execution_count": null,
      "metadata": {
        "id": "skBKDu_fNN7N"
      },
      "outputs": [],
      "source": [
        "# Dado que el preprocesamiento ya se realizó para los datos de X_train, se correrá el pipeline sin la parte del preproceso\n",
        "estimators = [\n",
        "        ('classifier', LogisticRegression())          \n",
        "    ]\n",
        "\n",
        "parameters = {'classifier__penalty':['l1', 'l2', 'elasticnet', 'none'],\n",
        "              'classifier__C':[0.1, 1, 10],\n",
        "              'classifier__class_weight':[None, 'balanced']\n",
        "              \n",
        "            }\n",
        "\n",
        "pipe_logistic = Pipeline(estimators)"
      ]
    },
    {
      "cell_type": "code",
      "execution_count": null,
      "metadata": {
        "colab": {
          "base_uri": "https://localhost:8080/"
        },
        "outputId": "c4984dd7-61e5-4f40-a96f-ff13f3c9b7a6",
        "id": "Qs_-v2VPNN7N"
      },
      "outputs": [
        {
          "output_type": "stream",
          "name": "stdout",
          "text": [
            "Fitting 5 folds for each of 24 candidates, totalling 120 fits\n",
            "[CV] END classifier__C=0.1, classifier__class_weight=None, classifier__penalty=l1; total time=   0.0s\n",
            "[CV] END classifier__C=0.1, classifier__class_weight=None, classifier__penalty=l1; total time=   0.0s\n",
            "[CV] END classifier__C=0.1, classifier__class_weight=None, classifier__penalty=l1; total time=   0.0s\n",
            "[CV] END classifier__C=0.1, classifier__class_weight=None, classifier__penalty=l1; total time=   0.0s\n",
            "[CV] END classifier__C=0.1, classifier__class_weight=None, classifier__penalty=l1; total time=   0.0s\n",
            "[CV] END classifier__C=0.1, classifier__class_weight=None, classifier__penalty=l2; total time=   0.1s\n",
            "[CV] END classifier__C=0.1, classifier__class_weight=None, classifier__penalty=l2; total time=   0.1s\n",
            "[CV] END classifier__C=0.1, classifier__class_weight=None, classifier__penalty=l2; total time=   0.1s\n",
            "[CV] END classifier__C=0.1, classifier__class_weight=None, classifier__penalty=l2; total time=   0.1s\n",
            "[CV] END classifier__C=0.1, classifier__class_weight=None, classifier__penalty=l2; total time=   0.1s\n",
            "[CV] END classifier__C=0.1, classifier__class_weight=None, classifier__penalty=elasticnet; total time=   0.0s\n",
            "[CV] END classifier__C=0.1, classifier__class_weight=None, classifier__penalty=elasticnet; total time=   0.0s\n",
            "[CV] END classifier__C=0.1, classifier__class_weight=None, classifier__penalty=elasticnet; total time=   0.0s\n",
            "[CV] END classifier__C=0.1, classifier__class_weight=None, classifier__penalty=elasticnet; total time=   0.0s\n",
            "[CV] END classifier__C=0.1, classifier__class_weight=None, classifier__penalty=elasticnet; total time=   0.0s\n"
          ]
        },
        {
          "output_type": "stream",
          "name": "stderr",
          "text": [
            "/usr/local/lib/python3.7/dist-packages/sklearn/linear_model/_logistic.py:1484: UserWarning: Setting penalty='none' will ignore the C and l1_ratio parameters\n",
            "  \"Setting penalty='none' will ignore the C and l1_ratio parameters\"\n",
            "/usr/local/lib/python3.7/dist-packages/sklearn/linear_model/_logistic.py:1484: UserWarning: Setting penalty='none' will ignore the C and l1_ratio parameters\n",
            "  \"Setting penalty='none' will ignore the C and l1_ratio parameters\"\n"
          ]
        },
        {
          "output_type": "stream",
          "name": "stdout",
          "text": [
            "[CV] END classifier__C=0.1, classifier__class_weight=None, classifier__penalty=none; total time=   0.1s\n",
            "[CV] END classifier__C=0.1, classifier__class_weight=None, classifier__penalty=none; total time=   0.1s\n",
            "[CV] END classifier__C=0.1, classifier__class_weight=None, classifier__penalty=none; total time=   0.1s"
          ]
        },
        {
          "output_type": "stream",
          "name": "stderr",
          "text": [
            "/usr/local/lib/python3.7/dist-packages/sklearn/linear_model/_logistic.py:1484: UserWarning: Setting penalty='none' will ignore the C and l1_ratio parameters\n",
            "  \"Setting penalty='none' will ignore the C and l1_ratio parameters\"\n",
            "/usr/local/lib/python3.7/dist-packages/sklearn/linear_model/_logistic.py:1484: UserWarning: Setting penalty='none' will ignore the C and l1_ratio parameters\n",
            "  \"Setting penalty='none' will ignore the C and l1_ratio parameters\"\n",
            "/usr/local/lib/python3.7/dist-packages/sklearn/linear_model/_logistic.py:1484: UserWarning: Setting penalty='none' will ignore the C and l1_ratio parameters\n",
            "  \"Setting penalty='none' will ignore the C and l1_ratio parameters\"\n"
          ]
        },
        {
          "output_type": "stream",
          "name": "stdout",
          "text": [
            "\n",
            "[CV] END classifier__C=0.1, classifier__class_weight=None, classifier__penalty=none; total time=   0.1s\n",
            "[CV] END classifier__C=0.1, classifier__class_weight=None, classifier__penalty=none; total time=   0.1s\n",
            "[CV] END classifier__C=0.1, classifier__class_weight=balanced, classifier__penalty=l1; total time=   0.0s\n",
            "[CV] END classifier__C=0.1, classifier__class_weight=balanced, classifier__penalty=l1; total time=   0.0s\n",
            "[CV] END classifier__C=0.1, classifier__class_weight=balanced, classifier__penalty=l1; total time=   0.0s\n",
            "[CV] END classifier__C=0.1, classifier__class_weight=balanced, classifier__penalty=l1; total time=   0.0s\n",
            "[CV] END classifier__C=0.1, classifier__class_weight=balanced, classifier__penalty=l1; total time=   0.0s\n",
            "[CV] END classifier__C=0.1, classifier__class_weight=balanced, classifier__penalty=l2; total time=   0.1s\n",
            "[CV] END classifier__C=0.1, classifier__class_weight=balanced, classifier__penalty=l2; total time=   0.1s\n",
            "[CV] END classifier__C=0.1, classifier__class_weight=balanced, classifier__penalty=l2; total time=   0.1s\n",
            "[CV] END classifier__C=0.1, classifier__class_weight=balanced, classifier__penalty=l2; total time=   0.1s\n",
            "[CV] END classifier__C=0.1, classifier__class_weight=balanced, classifier__penalty=l2; total time=   0.1s\n",
            "[CV] END classifier__C=0.1, classifier__class_weight=balanced, classifier__penalty=elasticnet; total time=   0.0s\n",
            "[CV] END classifier__C=0.1, classifier__class_weight=balanced, classifier__penalty=elasticnet; total time=   0.0s\n",
            "[CV] END classifier__C=0.1, classifier__class_weight=balanced, classifier__penalty=elasticnet; total time=   0.0s\n",
            "[CV] END classifier__C=0.1, classifier__class_weight=balanced, classifier__penalty=elasticnet; total time=   0.0s\n",
            "[CV] END classifier__C=0.1, classifier__class_weight=balanced, classifier__penalty=elasticnet; total time=   0.0s\n"
          ]
        },
        {
          "output_type": "stream",
          "name": "stderr",
          "text": [
            "/usr/local/lib/python3.7/dist-packages/sklearn/linear_model/_logistic.py:1484: UserWarning: Setting penalty='none' will ignore the C and l1_ratio parameters\n",
            "  \"Setting penalty='none' will ignore the C and l1_ratio parameters\"\n",
            "/usr/local/lib/python3.7/dist-packages/sklearn/linear_model/_logistic.py:1484: UserWarning: Setting penalty='none' will ignore the C and l1_ratio parameters\n",
            "  \"Setting penalty='none' will ignore the C and l1_ratio parameters\"\n",
            "/usr/local/lib/python3.7/dist-packages/sklearn/linear_model/_logistic.py:1484: UserWarning: Setting penalty='none' will ignore the C and l1_ratio parameters\n",
            "  \"Setting penalty='none' will ignore the C and l1_ratio parameters\"\n"
          ]
        },
        {
          "output_type": "stream",
          "name": "stdout",
          "text": [
            "[CV] END classifier__C=0.1, classifier__class_weight=balanced, classifier__penalty=none; total time=   0.1s\n",
            "[CV] END classifier__C=0.1, classifier__class_weight=balanced, classifier__penalty=none; total time=   0.1s\n",
            "[CV] END classifier__C=0.1, classifier__class_weight=balanced, classifier__penalty=none; total time=   0.1s\n"
          ]
        },
        {
          "output_type": "stream",
          "name": "stderr",
          "text": [
            "/usr/local/lib/python3.7/dist-packages/sklearn/linear_model/_logistic.py:1484: UserWarning: Setting penalty='none' will ignore the C and l1_ratio parameters\n",
            "  \"Setting penalty='none' will ignore the C and l1_ratio parameters\"\n",
            "/usr/local/lib/python3.7/dist-packages/sklearn/linear_model/_logistic.py:1484: UserWarning: Setting penalty='none' will ignore the C and l1_ratio parameters\n",
            "  \"Setting penalty='none' will ignore the C and l1_ratio parameters\"\n"
          ]
        },
        {
          "output_type": "stream",
          "name": "stdout",
          "text": [
            "[CV] END classifier__C=0.1, classifier__class_weight=balanced, classifier__penalty=none; total time=   0.1s\n",
            "[CV] END classifier__C=0.1, classifier__class_weight=balanced, classifier__penalty=none; total time=   0.1s\n",
            "[CV] END classifier__C=1, classifier__class_weight=None, classifier__penalty=l1; total time=   0.0s\n",
            "[CV] END classifier__C=1, classifier__class_weight=None, classifier__penalty=l1; total time=   0.0s\n",
            "[CV] END classifier__C=1, classifier__class_weight=None, classifier__penalty=l1; total time=   0.0s\n",
            "[CV] END classifier__C=1, classifier__class_weight=None, classifier__penalty=l1; total time=   0.0s\n",
            "[CV] END classifier__C=1, classifier__class_weight=None, classifier__penalty=l1; total time=   0.0s\n",
            "[CV] END classifier__C=1, classifier__class_weight=None, classifier__penalty=l2; total time=   0.1s\n",
            "[CV] END classifier__C=1, classifier__class_weight=None, classifier__penalty=l2; total time=   0.1s\n",
            "[CV] END classifier__C=1, classifier__class_weight=None, classifier__penalty=l2; total time=   0.1s\n",
            "[CV] END classifier__C=1, classifier__class_weight=None, classifier__penalty=l2; total time=   0.1s\n",
            "[CV] END classifier__C=1, classifier__class_weight=None, classifier__penalty=l2; total time=   0.1s\n",
            "[CV] END classifier__C=1, classifier__class_weight=None, classifier__penalty=elasticnet; total time=   0.0s\n",
            "[CV] END classifier__C=1, classifier__class_weight=None, classifier__penalty=elasticnet; total time=   0.0s\n",
            "[CV] END classifier__C=1, classifier__class_weight=None, classifier__penalty=elasticnet; total time=   0.0s\n",
            "[CV] END classifier__C=1, classifier__class_weight=None, classifier__penalty=elasticnet; total time=   0.0s\n",
            "[CV] END classifier__C=1, classifier__class_weight=None, classifier__penalty=elasticnet; total time=   0.0s\n",
            "[CV] END classifier__C=1, classifier__class_weight=None, classifier__penalty=none; total time=   0.1s\n",
            "[CV] END classifier__C=1, classifier__class_weight=None, classifier__penalty=none; total time=   0.1s\n",
            "[CV] END classifier__C=1, classifier__class_weight=None, classifier__penalty=none; total time=   0.1s\n",
            "[CV] END classifier__C=1, classifier__class_weight=None, classifier__penalty=none; total time=   0.1s\n",
            "[CV] END classifier__C=1, classifier__class_weight=None, classifier__penalty=none; total time=   0.1s\n",
            "[CV] END classifier__C=1, classifier__class_weight=balanced, classifier__penalty=l1; total time=   0.0s\n",
            "[CV] END classifier__C=1, classifier__class_weight=balanced, classifier__penalty=l1; total time=   0.0s\n",
            "[CV] END classifier__C=1, classifier__class_weight=balanced, classifier__penalty=l1; total time=   0.0s\n",
            "[CV] END classifier__C=1, classifier__class_weight=balanced, classifier__penalty=l1; total time=   0.0s\n",
            "[CV] END classifier__C=1, classifier__class_weight=balanced, classifier__penalty=l1; total time=   0.0s\n",
            "[CV] END classifier__C=1, classifier__class_weight=balanced, classifier__penalty=l2; total time=   0.1s\n",
            "[CV] END classifier__C=1, classifier__class_weight=balanced, classifier__penalty=l2; total time=   0.1s\n",
            "[CV] END classifier__C=1, classifier__class_weight=balanced, classifier__penalty=l2; total time=   0.1s\n",
            "[CV] END classifier__C=1, classifier__class_weight=balanced, classifier__penalty=l2; total time=   0.1s\n",
            "[CV] END classifier__C=1, classifier__class_weight=balanced, classifier__penalty=l2; total time=   0.1s\n",
            "[CV] END classifier__C=1, classifier__class_weight=balanced, classifier__penalty=elasticnet; total time=   0.0s\n",
            "[CV] END classifier__C=1, classifier__class_weight=balanced, classifier__penalty=elasticnet; total time=   0.0s\n",
            "[CV] END classifier__C=1, classifier__class_weight=balanced, classifier__penalty=elasticnet; total time=   0.0s\n",
            "[CV] END classifier__C=1, classifier__class_weight=balanced, classifier__penalty=elasticnet; total time=   0.0s\n",
            "[CV] END classifier__C=1, classifier__class_weight=balanced, classifier__penalty=elasticnet; total time=   0.0s\n",
            "[CV] END classifier__C=1, classifier__class_weight=balanced, classifier__penalty=none; total time=   0.1s\n",
            "[CV] END classifier__C=1, classifier__class_weight=balanced, classifier__penalty=none; total time=   0.1s\n",
            "[CV] END classifier__C=1, classifier__class_weight=balanced, classifier__penalty=none; total time=   0.1s\n",
            "[CV] END classifier__C=1, classifier__class_weight=balanced, classifier__penalty=none; total time=   0.1s\n",
            "[CV] END classifier__C=1, classifier__class_weight=balanced, classifier__penalty=none; total time=   0.1s\n",
            "[CV] END classifier__C=10, classifier__class_weight=None, classifier__penalty=l1; total time=   0.0s\n",
            "[CV] END classifier__C=10, classifier__class_weight=None, classifier__penalty=l1; total time=   0.0s\n",
            "[CV] END classifier__C=10, classifier__class_weight=None, classifier__penalty=l1; total time=   0.0s\n",
            "[CV] END classifier__C=10, classifier__class_weight=None, classifier__penalty=l1; total time=   0.0s\n",
            "[CV] END classifier__C=10, classifier__class_weight=None, classifier__penalty=l1; total time=   0.0s\n",
            "[CV] END classifier__C=10, classifier__class_weight=None, classifier__penalty=l2; total time=   0.1s\n",
            "[CV] END classifier__C=10, classifier__class_weight=None, classifier__penalty=l2; total time=   0.1s\n",
            "[CV] END classifier__C=10, classifier__class_weight=None, classifier__penalty=l2; total time=   0.1s\n",
            "[CV] END classifier__C=10, classifier__class_weight=None, classifier__penalty=l2; total time=   0.1s\n",
            "[CV] END classifier__C=10, classifier__class_weight=None, classifier__penalty=l2; total time=   0.1s\n",
            "[CV] END classifier__C=10, classifier__class_weight=None, classifier__penalty=elasticnet; total time=   0.0s\n",
            "[CV] END classifier__C=10, classifier__class_weight=None, classifier__penalty=elasticnet; total time=   0.0s\n",
            "[CV] END classifier__C=10, classifier__class_weight=None, classifier__penalty=elasticnet; total time=   0.0s\n",
            "[CV] END classifier__C=10, classifier__class_weight=None, classifier__penalty=elasticnet; total time=   0.0s\n",
            "[CV] END classifier__C=10, classifier__class_weight=None, classifier__penalty=elasticnet; total time=   0.0s\n"
          ]
        },
        {
          "output_type": "stream",
          "name": "stderr",
          "text": [
            "/usr/local/lib/python3.7/dist-packages/sklearn/linear_model/_logistic.py:1484: UserWarning: Setting penalty='none' will ignore the C and l1_ratio parameters\n",
            "  \"Setting penalty='none' will ignore the C and l1_ratio parameters\"\n",
            "/usr/local/lib/python3.7/dist-packages/sklearn/linear_model/_logistic.py:1484: UserWarning: Setting penalty='none' will ignore the C and l1_ratio parameters\n",
            "  \"Setting penalty='none' will ignore the C and l1_ratio parameters\"\n",
            "/usr/local/lib/python3.7/dist-packages/sklearn/linear_model/_logistic.py:1484: UserWarning: Setting penalty='none' will ignore the C and l1_ratio parameters\n",
            "  \"Setting penalty='none' will ignore the C and l1_ratio parameters\"\n"
          ]
        },
        {
          "output_type": "stream",
          "name": "stdout",
          "text": [
            "[CV] END classifier__C=10, classifier__class_weight=None, classifier__penalty=none; total time=   0.1s\n",
            "[CV] END classifier__C=10, classifier__class_weight=None, classifier__penalty=none; total time=   0.1s\n",
            "[CV] END classifier__C=10, classifier__class_weight=None, classifier__penalty=none; total time=   0.1s\n",
            "[CV] END classifier__C=10, classifier__class_weight=None, classifier__penalty=none; total time=   0.1s\n",
            "[CV] END classifier__C=10, classifier__class_weight=None, classifier__penalty=none; total time=   0.1s\n",
            "[CV] END classifier__C=10, classifier__class_weight=balanced, classifier__penalty=l1; total time=   0.0s\n",
            "[CV] END classifier__C=10, classifier__class_weight=balanced, classifier__penalty=l1; total time=   0.0s\n",
            "[CV] END classifier__C=10, classifier__class_weight=balanced, classifier__penalty=l1; total time=   0.0s\n"
          ]
        },
        {
          "output_type": "stream",
          "name": "stderr",
          "text": [
            "/usr/local/lib/python3.7/dist-packages/sklearn/linear_model/_logistic.py:1484: UserWarning: Setting penalty='none' will ignore the C and l1_ratio parameters\n",
            "  \"Setting penalty='none' will ignore the C and l1_ratio parameters\"\n",
            "/usr/local/lib/python3.7/dist-packages/sklearn/linear_model/_logistic.py:1484: UserWarning: Setting penalty='none' will ignore the C and l1_ratio parameters\n",
            "  \"Setting penalty='none' will ignore the C and l1_ratio parameters\"\n"
          ]
        },
        {
          "output_type": "stream",
          "name": "stdout",
          "text": [
            "[CV] END classifier__C=10, classifier__class_weight=balanced, classifier__penalty=l1; total time=   0.0s\n",
            "[CV] END classifier__C=10, classifier__class_weight=balanced, classifier__penalty=l1; total time=   0.0s\n",
            "[CV] END classifier__C=10, classifier__class_weight=balanced, classifier__penalty=l2; total time=   0.1s\n",
            "[CV] END classifier__C=10, classifier__class_weight=balanced, classifier__penalty=l2; total time=   0.1s\n",
            "[CV] END classifier__C=10, classifier__class_weight=balanced, classifier__penalty=l2; total time=   0.1s\n",
            "[CV] END classifier__C=10, classifier__class_weight=balanced, classifier__penalty=l2; total time=   0.1s\n",
            "[CV] END classifier__C=10, classifier__class_weight=balanced, classifier__penalty=l2; total time=   0.1s\n",
            "[CV] END classifier__C=10, classifier__class_weight=balanced, classifier__penalty=elasticnet; total time=   0.0s\n",
            "[CV] END classifier__C=10, classifier__class_weight=balanced, classifier__penalty=elasticnet; total time=   0.0s\n",
            "[CV] END classifier__C=10, classifier__class_weight=balanced, classifier__penalty=elasticnet; total time=   0.0s\n",
            "[CV] END classifier__C=10, classifier__class_weight=balanced, classifier__penalty=elasticnet; total time=   0.0s\n",
            "[CV] END classifier__C=10, classifier__class_weight=balanced, classifier__penalty=elasticnet; total time=   0.0s\n",
            "[CV] END classifier__C=10, classifier__class_weight=balanced, classifier__penalty=none; total time=   0.1s\n",
            "[CV] END classifier__C=10, classifier__class_weight=balanced, classifier__penalty=none; total time=   0.1s\n"
          ]
        },
        {
          "output_type": "stream",
          "name": "stderr",
          "text": [
            "/usr/local/lib/python3.7/dist-packages/sklearn/linear_model/_logistic.py:1484: UserWarning: Setting penalty='none' will ignore the C and l1_ratio parameters\n",
            "  \"Setting penalty='none' will ignore the C and l1_ratio parameters\"\n",
            "/usr/local/lib/python3.7/dist-packages/sklearn/linear_model/_logistic.py:1484: UserWarning: Setting penalty='none' will ignore the C and l1_ratio parameters\n",
            "  \"Setting penalty='none' will ignore the C and l1_ratio parameters\"\n",
            "/usr/local/lib/python3.7/dist-packages/sklearn/linear_model/_logistic.py:1484: UserWarning: Setting penalty='none' will ignore the C and l1_ratio parameters\n",
            "  \"Setting penalty='none' will ignore the C and l1_ratio parameters\"\n"
          ]
        },
        {
          "output_type": "stream",
          "name": "stdout",
          "text": [
            "[CV] END classifier__C=10, classifier__class_weight=balanced, classifier__penalty=none; total time=   0.1s\n",
            "[CV] END classifier__C=10, classifier__class_weight=balanced, classifier__penalty=none; total time=   0.1s\n",
            "[CV] END classifier__C=10, classifier__class_weight=balanced, classifier__penalty=none; total time=   0.1s\n"
          ]
        },
        {
          "output_type": "stream",
          "name": "stderr",
          "text": [
            "/usr/local/lib/python3.7/dist-packages/sklearn/linear_model/_logistic.py:1484: UserWarning: Setting penalty='none' will ignore the C and l1_ratio parameters\n",
            "  \"Setting penalty='none' will ignore the C and l1_ratio parameters\"\n",
            "/usr/local/lib/python3.7/dist-packages/sklearn/linear_model/_logistic.py:1484: UserWarning: Setting penalty='none' will ignore the C and l1_ratio parameters\n",
            "  \"Setting penalty='none' will ignore the C and l1_ratio parameters\"\n",
            "/usr/local/lib/python3.7/dist-packages/sklearn/model_selection/_validation.py:372: FitFailedWarning: \n",
            "60 fits failed out of a total of 120.\n",
            "The score on these train-test partitions for these parameters will be set to nan.\n",
            "If these failures are not expected, you can try to debug them by setting error_score='raise'.\n",
            "\n",
            "Below are more details about the failures:\n",
            "--------------------------------------------------------------------------------\n",
            "30 fits failed with the following error:\n",
            "Traceback (most recent call last):\n",
            "  File \"/usr/local/lib/python3.7/dist-packages/sklearn/model_selection/_validation.py\", line 680, in _fit_and_score\n",
            "    estimator.fit(X_train, y_train, **fit_params)\n",
            "  File \"/usr/local/lib/python3.7/dist-packages/sklearn/pipeline.py\", line 394, in fit\n",
            "    self._final_estimator.fit(Xt, y, **fit_params_last_step)\n",
            "  File \"/usr/local/lib/python3.7/dist-packages/sklearn/linear_model/_logistic.py\", line 1461, in fit\n",
            "    solver = _check_solver(self.solver, self.penalty, self.dual)\n",
            "  File \"/usr/local/lib/python3.7/dist-packages/sklearn/linear_model/_logistic.py\", line 449, in _check_solver\n",
            "    % (solver, penalty)\n",
            "ValueError: Solver lbfgs supports only 'l2' or 'none' penalties, got l1 penalty.\n",
            "\n",
            "--------------------------------------------------------------------------------\n",
            "30 fits failed with the following error:\n",
            "Traceback (most recent call last):\n",
            "  File \"/usr/local/lib/python3.7/dist-packages/sklearn/model_selection/_validation.py\", line 680, in _fit_and_score\n",
            "    estimator.fit(X_train, y_train, **fit_params)\n",
            "  File \"/usr/local/lib/python3.7/dist-packages/sklearn/pipeline.py\", line 394, in fit\n",
            "    self._final_estimator.fit(Xt, y, **fit_params_last_step)\n",
            "  File \"/usr/local/lib/python3.7/dist-packages/sklearn/linear_model/_logistic.py\", line 1461, in fit\n",
            "    solver = _check_solver(self.solver, self.penalty, self.dual)\n",
            "  File \"/usr/local/lib/python3.7/dist-packages/sklearn/linear_model/_logistic.py\", line 449, in _check_solver\n",
            "    % (solver, penalty)\n",
            "ValueError: Solver lbfgs supports only 'l2' or 'none' penalties, got elasticnet penalty.\n",
            "\n",
            "  warnings.warn(some_fits_failed_message, FitFailedWarning)\n",
            "/usr/local/lib/python3.7/dist-packages/sklearn/model_selection/_search.py:972: UserWarning: One or more of the test scores are non-finite: [       nan 0.67412592        nan 0.67057453        nan 0.46088149\n",
            "        nan 0.46283249        nan 0.67204029        nan 0.67057453\n",
            "        nan 0.46035065        nan 0.46283249        nan 0.67057453\n",
            "        nan 0.67057453        nan 0.46178721        nan 0.46283249]\n",
            "  category=UserWarning,\n"
          ]
        },
        {
          "output_type": "stream",
          "name": "stdout",
          "text": [
            "CPU times: user 3.39 s, sys: 3.66 s, total: 7.05 s\n",
            "Wall time: 6.16 s\n"
          ]
        }
      ],
      "source": [
        "%%time\n",
        "grid_search_logistic = GridSearchCV(pipe_logistic, parameters, scoring='precision', cv=5, verbose = 2)\n",
        "with tf.device('/device:GPU:0'):\n",
        "  grid_search_logistic.fit(X_train,Y_train)"
      ]
    },
    {
      "cell_type": "code",
      "execution_count": null,
      "metadata": {
        "colab": {
          "base_uri": "https://localhost:8080/"
        },
        "outputId": "9d037820-bd58-44d4-8942-dd8db983fb67",
        "id": "Hucq80w5NN7O"
      },
      "outputs": [
        {
          "output_type": "execute_result",
          "data": {
            "text/plain": [
              "{'classifier__C': 0.1,\n",
              " 'classifier__class_weight': None,\n",
              " 'classifier__penalty': 'l2'}"
            ]
          },
          "metadata": {},
          "execution_count": 218
        }
      ],
      "source": [
        "grid_search_logistic.best_params_"
      ]
    },
    {
      "cell_type": "code",
      "execution_count": null,
      "metadata": {
        "colab": {
          "base_uri": "https://localhost:8080/"
        },
        "outputId": "95c47f6e-4954-409f-80ee-e967ddaa3d22",
        "id": "dllfMKUgNN7O"
      },
      "outputs": [
        {
          "output_type": "stream",
          "name": "stdout",
          "text": [
            "Train Report\n",
            "               precision    recall  f1-score   support\n",
            "\n",
            "           0       0.81      0.95      0.88      1987\n",
            "           1       0.68      0.31      0.42       641\n",
            "\n",
            "    accuracy                           0.80      2628\n",
            "   macro avg       0.75      0.63      0.65      2628\n",
            "weighted avg       0.78      0.80      0.77      2628\n",
            "\n"
          ]
        }
      ],
      "source": [
        "# Obtener el mejor modelo.\n",
        "mejor_logistic = grid_search_logistic.best_estimator_\n",
        "\n",
        "y_pred_train_logistic = mejor_logistic.predict(X_train)\n",
        "\n",
        "report_logistic = classification_report(Y_train, y_pred_train_logistic)\n",
        "\n",
        "print(\"Train Report\\n\", report_logistic)"
      ]
    },
    {
      "cell_type": "code",
      "execution_count": null,
      "metadata": {
        "colab": {
          "base_uri": "https://localhost:8080/",
          "height": 719
        },
        "outputId": "aee504fa-fea4-4e51-be99-cc03890647ec",
        "id": "Ra52o2LHNN7O"
      },
      "outputs": [
        {
          "output_type": "stream",
          "name": "stdout",
          "text": [
            "Confusion matrix, without normalization\n"
          ]
        },
        {
          "output_type": "execute_result",
          "data": {
            "text/plain": [
              "<matplotlib.axes._subplots.AxesSubplot at 0x7f2189237450>"
            ]
          },
          "metadata": {},
          "execution_count": 220
        },
        {
          "output_type": "display_data",
          "data": {
            "text/plain": [
              "<Figure size 720x720 with 2 Axes>"
            ],
            "image/png": "[encoded data removed]"
          },
          "metadata": {
            "needs_background": "light"
          }
        }
      ],
      "source": [
        "%matplotlib inline\n",
        "plot_confusion_matrix(y_true=Y_train, y_pred=y_pred_train_logistic, classes=[\"0 - No necesita cirugía\",\"1 - Necesita cirugía\"],\n",
        "                      title='Matriz de Confusión - train')"
      ]
    },
    {
      "cell_type": "code",
      "execution_count": null,
      "metadata": {
        "id": "CJAUzkBkNN7O"
      },
      "outputs": [],
      "source": [
        "# Ahora se usará un pipeline con el mejor modelo para analizar los datos de test\n",
        "estimators = [\n",
        "        ('classifier', LogisticRegression( C=0.1,penalty=\"l2\", class_weight=None ))]\n",
        "\n",
        "pipe_logistic_test = Pipeline(estimators)"
      ]
    },
    {
      "cell_type": "code",
      "execution_count": null,
      "metadata": {
        "colab": {
          "base_uri": "https://localhost:8080/"
        },
        "outputId": "08f2288b-166e-4881-f75b-8b1a4d4e0080",
        "id": "uwTN6kQCNN7P"
      },
      "outputs": [
        {
          "output_type": "stream",
          "name": "stdout",
          "text": [
            "CPU times: user 27.2 ms, sys: 37.9 ms, total: 65.2 ms\n",
            "Wall time: 58.6 ms\n"
          ]
        },
        {
          "output_type": "execute_result",
          "data": {
            "text/plain": [
              "Pipeline(steps=[('classifier', LogisticRegression(C=0.1))])"
            ]
          },
          "metadata": {},
          "execution_count": 222
        }
      ],
      "source": [
        "%%time\n",
        "pipe_logistic_test.fit(X_train, Y_train)"
      ]
    },
    {
      "cell_type": "code",
      "execution_count": null,
      "metadata": {
        "colab": {
          "base_uri": "https://localhost:8080/"
        },
        "outputId": "28dc175c-feca-4347-94fe-7c12e2ea23e3",
        "id": "jktutSEaNN7P"
      },
      "outputs": [
        {
          "output_type": "stream",
          "name": "stdout",
          "text": [
            "Logistic regression Test Report\n",
            "               precision    recall  f1-score   support\n",
            "\n",
            "           0       0.85      0.96      0.90       514\n",
            "           1       0.72      0.37      0.49       143\n",
            "\n",
            "    accuracy                           0.83       657\n",
            "   macro avg       0.78      0.66      0.69       657\n",
            "weighted avg       0.82      0.83      0.81       657\n",
            "\n"
          ]
        }
      ],
      "source": [
        "y_pred_test_logistic=pipe_logistic_test.predict(X_test)\n",
        "\n",
        "report_tree = classification_report(Y_test, y_pred_test_logistic)\n",
        "\n",
        "print(\"Logistic regression Test Report\\n\", report_tree)"
      ]
    },
    {
      "cell_type": "code",
      "execution_count": null,
      "metadata": {
        "colab": {
          "base_uri": "https://localhost:8080/",
          "height": 719
        },
        "outputId": "d0cb1447-fdff-48f4-d983-eb6d483c47d4",
        "id": "rUlWacRWNN7P"
      },
      "outputs": [
        {
          "output_type": "stream",
          "name": "stdout",
          "text": [
            "Confusion matrix, without normalization\n"
          ]
        },
        {
          "output_type": "execute_result",
          "data": {
            "text/plain": [
              "<matplotlib.axes._subplots.AxesSubplot at 0x7f2189148510>"
            ]
          },
          "metadata": {},
          "execution_count": 224
        },
        {
          "output_type": "display_data",
          "data": {
            "text/plain": [
              "<Figure size 720x720 with 2 Axes>"
            ],
            "image/png": "[encoded data removed]"
          },
          "metadata": {
            "needs_background": "light"
          }
        }
      ],
      "source": [
        "%matplotlib inline\n",
        "plot_confusion_matrix(y_true=Y_test, y_pred=y_pred_test_logistic, classes=[\"0 - No necesita cirugía\",\"1 - Necesita cirugía\"],\n",
        "                      title='Matriz de Confusión - test')"
      ]
    },
    {
      "cell_type": "code",
      "source": [
        ""
      ],
      "metadata": {
        "id": "K9lIjB7bXl0I"
      },
      "execution_count": null,
      "outputs": []
    },
    {
      "cell_type": "markdown",
      "source": [
        "## 4.2 Clasificador binario para predecir el tipo de cirugía que necesita"
      ],
      "metadata": {
        "id": "vEFoH8K7R_Y3"
      }
    },
    {
      "cell_type": "code",
      "source": [
        "X['necesitaCirugia']=y_categ\n",
        "X_class=X[ X['necesitaCirugia'] != 0 ]\n",
        "X_class"
      ],
      "metadata": {
        "id": "YjL9GJB5SfHU",
        "colab": {
          "base_uri": "https://localhost:8080/",
          "height": 522
        },
        "outputId": "3953de45-b6ee-4407-d50a-337fa9d8acb5"
      },
      "execution_count": null,
      "outputs": [
        {
          "output_type": "execute_result",
          "data": {
            "text/plain": [
              "          Edad  Tono gastrocnemios  Dorsiflexion  Felxion Plantar Tobillo  \\\n",
              "2    -1.097862            2.513790     -0.661029                 0.134208   \n",
              "5     0.430695            1.462510     -1.264939                 0.134208   \n",
              "6     0.124983           -1.691328     -3.318233                 2.154788   \n",
              "8    -0.027872            1.462510     -1.748067                 1.377642   \n",
              "9    -0.333584            0.411231     -1.264939                 2.154788   \n",
              "...        ...                 ...           ...                      ...   \n",
              "3241 -0.792151           -0.114409     -1.989631                 1.688500   \n",
              "3246 -0.639295            0.411231     -1.506503                 1.688500   \n",
              "3254 -0.027872           -0.114409     -1.989631                 2.310217   \n",
              "3258  2.112107            0.411231     -1.627285                 1.066784   \n",
              "3276 -0.333584            1.462510     -2.351977                 1.688500   \n",
              "\n",
              "      Silfverskiold  Ataxica  Diskinetica  Espastica  Hipotonica  Mixta  \\\n",
              "2          0.432256      0.0          0.0        1.0         0.0    0.0   \n",
              "5          0.432256      0.0          0.0        1.0         0.0    0.0   \n",
              "6          1.660596      0.0          0.0        1.0         0.0    0.0   \n",
              "8          0.432256      0.0          0.0        1.0         0.0    0.0   \n",
              "9          0.432256      0.0          0.0        1.0         0.0    0.0   \n",
              "...             ...      ...          ...        ...         ...    ...   \n",
              "3241       0.432256      0.0          0.0        1.0         0.0    0.0   \n",
              "3246       0.432256      0.0          0.0        1.0         0.0    0.0   \n",
              "3254       0.432256      0.0          0.0        1.0         0.0    0.0   \n",
              "3258       0.432256      0.0          0.0        1.0         0.0    0.0   \n",
              "3276       0.432256      0.0          0.0        1.0         0.0    0.0   \n",
              "\n",
              "      necesitaCirugia  \n",
              "2                 2.0  \n",
              "5                 2.0  \n",
              "6                 1.0  \n",
              "8                 1.0  \n",
              "9                 1.0  \n",
              "...               ...  \n",
              "3241              1.0  \n",
              "3246              1.0  \n",
              "3254              1.0  \n",
              "3258              1.0  \n",
              "3276              1.0  \n",
              "\n",
              "[784 rows x 11 columns]"
            ],
            "text/html": [
              "\n",
              "  <div id=\"df-326cd112-3db0-47d9-bbc8-02b757f867fd\">\n",
              "    <div class=\"colab-df-container\">\n",
              "      <div>\n",
              "<style scoped>\n",
              "    .dataframe tbody tr th:only-of-type {\n",
              "        vertical-align: middle;\n",
              "    }\n",
              "\n",
              "    .dataframe tbody tr th {\n",
              "        vertical-align: top;\n",
              "    }\n",
              "\n",
              "    .dataframe thead th {\n",
              "        text-align: right;\n",
              "    }\n",
              "</style>\n",
              "<table border=\"1\" class=\"dataframe\">\n",
              "  <thead>\n",
              "    <tr style=\"text-align: right;\">\n",
              "      <th></th>\n",
              "      <th>Edad</th>\n",
              "      <th>Tono gastrocnemios</th>\n",
              "      <th>Dorsiflexion</th>\n",
              "      <th>Felxion Plantar Tobillo</th>\n",
              "      <th>Silfverskiold</th>\n",
              "      <th>Ataxica</th>\n",
              "      <th>Diskinetica</th>\n",
              "      <th>Espastica</th>\n",
              "      <th>Hipotonica</th>\n",
              "      <th>Mixta</th>\n",
              "      <th>necesitaCirugia</th>\n",
              "    </tr>\n",
              "  </thead>\n",
              "  <tbody>\n",
              "    <tr>\n",
              "      <th>2</th>\n",
              "      <td>-1.097862</td>\n",
              "      <td>2.513790</td>\n",
              "      <td>-0.661029</td>\n",
              "      <td>0.134208</td>\n",
              "      <td>0.432256</td>\n",
              "      <td>0.0</td>\n",
              "      <td>0.0</td>\n",
              "      <td>1.0</td>\n",
              "      <td>0.0</td>\n",
              "      <td>0.0</td>\n",
              "      <td>2.0</td>\n",
              "    </tr>\n",
              "    <tr>\n",
              "      <th>5</th>\n",
              "      <td>0.430695</td>\n",
              "      <td>1.462510</td>\n",
              "      <td>-1.264939</td>\n",
              "      <td>0.134208</td>\n",
              "      <td>0.432256</td>\n",
              "      <td>0.0</td>\n",
              "      <td>0.0</td>\n",
              "      <td>1.0</td>\n",
              "      <td>0.0</td>\n",
              "      <td>0.0</td>\n",
              "      <td>2.0</td>\n",
              "    </tr>\n",
              "    <tr>\n",
              "      <th>6</th>\n",
              "      <td>0.124983</td>\n",
              "      <td>-1.691328</td>\n",
              "      <td>-3.318233</td>\n",
              "      <td>2.154788</td>\n",
              "      <td>1.660596</td>\n",
              "      <td>0.0</td>\n",
              "      <td>0.0</td>\n",
              "      <td>1.0</td>\n",
              "      <td>0.0</td>\n",
              "      <td>0.0</td>\n",
              "      <td>1.0</td>\n",
              "    </tr>\n",
              "    <tr>\n",
              "      <th>8</th>\n",
              "      <td>-0.027872</td>\n",
              "      <td>1.462510</td>\n",
              "      <td>-1.748067</td>\n",
              "      <td>1.377642</td>\n",
              "      <td>0.432256</td>\n",
              "      <td>0.0</td>\n",
              "      <td>0.0</td>\n",
              "      <td>1.0</td>\n",
              "      <td>0.0</td>\n",
              "      <td>0.0</td>\n",
              "      <td>1.0</td>\n",
              "    </tr>\n",
              "    <tr>\n",
              "      <th>9</th>\n",
              "      <td>-0.333584</td>\n",
              "      <td>0.411231</td>\n",
              "      <td>-1.264939</td>\n",
              "      <td>2.154788</td>\n",
              "      <td>0.432256</td>\n",
              "      <td>0.0</td>\n",
              "      <td>0.0</td>\n",
              "      <td>1.0</td>\n",
              "      <td>0.0</td>\n",
              "      <td>0.0</td>\n",
              "      <td>1.0</td>\n",
              "    </tr>\n",
              "    <tr>\n",
              "      <th>...</th>\n",
              "      <td>...</td>\n",
              "      <td>...</td>\n",
              "      <td>...</td>\n",
              "      <td>...</td>\n",
              "      <td>...</td>\n",
              "      <td>...</td>\n",
              "      <td>...</td>\n",
              "      <td>...</td>\n",
              "      <td>...</td>\n",
              "      <td>...</td>\n",
              "      <td>...</td>\n",
              "    </tr>\n",
              "    <tr>\n",
              "      <th>3241</th>\n",
              "      <td>-0.792151</td>\n",
              "      <td>-0.114409</td>\n",
              "      <td>-1.989631</td>\n",
              "      <td>1.688500</td>\n",
              "      <td>0.432256</td>\n",
              "      <td>0.0</td>\n",
              "      <td>0.0</td>\n",
              "      <td>1.0</td>\n",
              "      <td>0.0</td>\n",
              "      <td>0.0</td>\n",
              "      <td>1.0</td>\n",
              "    </tr>\n",
              "    <tr>\n",
              "      <th>3246</th>\n",
              "      <td>-0.639295</td>\n",
              "      <td>0.411231</td>\n",
              "      <td>-1.506503</td>\n",
              "      <td>1.688500</td>\n",
              "      <td>0.432256</td>\n",
              "      <td>0.0</td>\n",
              "      <td>0.0</td>\n",
              "      <td>1.0</td>\n",
              "      <td>0.0</td>\n",
              "      <td>0.0</td>\n",
              "      <td>1.0</td>\n",
              "    </tr>\n",
              "    <tr>\n",
              "      <th>3254</th>\n",
              "      <td>-0.027872</td>\n",
              "      <td>-0.114409</td>\n",
              "      <td>-1.989631</td>\n",
              "      <td>2.310217</td>\n",
              "      <td>0.432256</td>\n",
              "      <td>0.0</td>\n",
              "      <td>0.0</td>\n",
              "      <td>1.0</td>\n",
              "      <td>0.0</td>\n",
              "      <td>0.0</td>\n",
              "      <td>1.0</td>\n",
              "    </tr>\n",
              "    <tr>\n",
              "      <th>3258</th>\n",
              "      <td>2.112107</td>\n",
              "      <td>0.411231</td>\n",
              "      <td>-1.627285</td>\n",
              "      <td>1.066784</td>\n",
              "      <td>0.432256</td>\n",
              "      <td>0.0</td>\n",
              "      <td>0.0</td>\n",
              "      <td>1.0</td>\n",
              "      <td>0.0</td>\n",
              "      <td>0.0</td>\n",
              "      <td>1.0</td>\n",
              "    </tr>\n",
              "    <tr>\n",
              "      <th>3276</th>\n",
              "      <td>-0.333584</td>\n",
              "      <td>1.462510</td>\n",
              "      <td>-2.351977</td>\n",
              "      <td>1.688500</td>\n",
              "      <td>0.432256</td>\n",
              "      <td>0.0</td>\n",
              "      <td>0.0</td>\n",
              "      <td>1.0</td>\n",
              "      <td>0.0</td>\n",
              "      <td>0.0</td>\n",
              "      <td>1.0</td>\n",
              "    </tr>\n",
              "  </tbody>\n",
              "</table>\n",
              "<p>784 rows × 11 columns</p>\n",
              "</div>\n",
              "      <button class=\"colab-df-convert\" onclick=\"convertToInteractive('df-326cd112-3db0-47d9-bbc8-02b757f867fd')\"\n",
              "              title=\"Convert this dataframe to an interactive table.\"\n",
              "              style=\"display:none;\">\n",
              "        \n",
              "  <svg xmlns=\"http://www.w3.org/2000/svg\" height=\"24px\"viewBox=\"0 0 24 24\"\n",
              "       width=\"24px\">\n",
              "    <path d=\"M0 0h24v24H0V0z\" fill=\"none\"/>\n",
              "    <path d=\"M18.56 5.44l.94 2.06.94-2.06 2.06-.94-2.06-.94-.94-2.06-.94 2.06-2.06.94zm-11 1L8.5 8.5l.94-2.06 2.06-.94-2.06-.94L8.5 2.5l-.94 2.06-2.06.94zm10 10l.94 2.06.94-2.06 2.06-.94-2.06-.94-.94-2.06-.94 2.06-2.06.94z\"/><path d=\"M17.41 7.96l-1.37-1.37c-.4-.4-.92-.59-1.43-.59-.52 0-1.04.2-1.43.59L10.3 9.45l-7.72 7.72c-.78.78-.78 2.05 0 2.83L4 21.41c.39.39.9.59 1.41.59.51 0 1.02-.2 1.41-.59l7.78-7.78 2.81-2.81c.8-.78.8-2.07 0-2.86zM5.41 20L4 18.59l7.72-7.72 1.47 1.35L5.41 20z\"/>\n",
              "  </svg>\n",
              "      </button>\n",
              "      \n",
              "  <style>\n",
              "    .colab-df-container {\n",
              "      display:flex;\n",
              "      flex-wrap:wrap;\n",
              "      gap: 12px;\n",
              "    }\n",
              "\n",
              "    .colab-df-convert {\n",
              "      background-color: #E8F0FE;\n",
              "      border: none;\n",
              "      border-radius: 50%;\n",
              "      cursor: pointer;\n",
              "      display: none;\n",
              "      fill: #1967D2;\n",
              "      height: 32px;\n",
              "      padding: 0 0 0 0;\n",
              "      width: 32px;\n",
              "    }\n",
              "\n",
              "    .colab-df-convert:hover {\n",
              "      background-color: #E2EBFA;\n",
              "      box-shadow: 0px 1px 2px rgba(60, 64, 67, 0.3), 0px 1px 3px 1px rgba(60, 64, 67, 0.15);\n",
              "      fill: #174EA6;\n",
              "    }\n",
              "\n",
              "    [theme=dark] .colab-df-convert {\n",
              "      background-color: #3B4455;\n",
              "      fill: #D2E3FC;\n",
              "    }\n",
              "\n",
              "    [theme=dark] .colab-df-convert:hover {\n",
              "      background-color: #434B5C;\n",
              "      box-shadow: 0px 1px 3px 1px rgba(0, 0, 0, 0.15);\n",
              "      filter: drop-shadow(0px 1px 2px rgba(0, 0, 0, 0.3));\n",
              "      fill: #FFFFFF;\n",
              "    }\n",
              "  </style>\n",
              "\n",
              "      <script>\n",
              "        const buttonEl =\n",
              "          document.querySelector('#df-326cd112-3db0-47d9-bbc8-02b757f867fd button.colab-df-convert');\n",
              "        buttonEl.style.display =\n",
              "          google.colab.kernel.accessAllowed ? 'block' : 'none';\n",
              "\n",
              "        async function convertToInteractive(key) {\n",
              "          const element = document.querySelector('#df-326cd112-3db0-47d9-bbc8-02b757f867fd');\n",
              "          const dataTable =\n",
              "            await google.colab.kernel.invokeFunction('convertToInteractive',\n",
              "                                                     [key], {});\n",
              "          if (!dataTable) return;\n",
              "\n",
              "          const docLinkHtml = 'Like what you see? Visit the ' +\n",
              "            '<a target=\"_blank\" href=https://colab.research.google.com/notebooks/data_table.ipynb>data table notebook</a>'\n",
              "            + ' to learn more about interactive tables.';\n",
              "          element.innerHTML = '';\n",
              "          dataTable['output_type'] = 'display_data';\n",
              "          await google.colab.output.renderOutput(dataTable, element);\n",
              "          const docLink = document.createElement('div');\n",
              "          docLink.innerHTML = docLinkHtml;\n",
              "          element.appendChild(docLink);\n",
              "        }\n",
              "      </script>\n",
              "    </div>\n",
              "  </div>\n",
              "  "
            ]
          },
          "metadata": {},
          "execution_count": 249
        }
      ]
    },
    {
      "cell_type": "code",
      "source": [
        "X_train, X_test, Y_train, Y_test = train_test_split( X_class.drop(columns='necesitaCirugia'), X_class['necesitaCirugia'], test_size=0.2, random_state=0)"
      ],
      "metadata": {
        "id": "nYqRMj5XR_Y4"
      },
      "execution_count": null,
      "outputs": []
    },
    {
      "cell_type": "markdown",
      "source": [
        "### 4.2.1 Máquina de soporte vectorial"
      ],
      "metadata": {
        "id": "veaSzPIAR_Y4"
      }
    },
    {
      "cell_type": "code",
      "execution_count": null,
      "metadata": {
        "id": "vLAYfUYaR_Y4"
      },
      "outputs": [],
      "source": [
        "# Dado que el preprocesamiento ya se realizó para los datos de X_train, se correrá el pipeline sin la parte del preproceso\n",
        "estimators = [\n",
        "        ('classifier', svm.SVC(C=0.1, kernel='linear', gamma='auto', class_weight='balanced'))          \n",
        "    ]\n",
        "\n",
        "parameters = {'classifier__C':[0.1, 1, 10],\n",
        "              'classifier__gamma':['scale', 'auto'],\n",
        "              'classifier__kernel':['linear','rbf'],\n",
        "              'classifier__class_weight':[None, 'balanced']\n",
        "            }\n",
        "\n",
        "pipe_svm = Pipeline(estimators)"
      ]
    },
    {
      "cell_type": "code",
      "execution_count": null,
      "metadata": {
        "colab": {
          "base_uri": "https://localhost:8080/"
        },
        "outputId": "b76429e7-f9e6-4ebf-d6ba-a9e28b8c93bc",
        "id": "y13u4bqYR_Y4"
      },
      "outputs": [
        {
          "output_type": "stream",
          "name": "stdout",
          "text": [
            "Fitting 5 folds for each of 24 candidates, totalling 120 fits\n",
            "[CV] END classifier__C=0.1, classifier__class_weight=None, classifier__gamma=scale, classifier__kernel=linear; total time=   0.0s\n",
            "[CV] END classifier__C=0.1, classifier__class_weight=None, classifier__gamma=scale, classifier__kernel=linear; total time=   0.0s\n",
            "[CV] END classifier__C=0.1, classifier__class_weight=None, classifier__gamma=scale, classifier__kernel=linear; total time=   0.0s\n",
            "[CV] END classifier__C=0.1, classifier__class_weight=None, classifier__gamma=scale, classifier__kernel=linear; total time=   0.0s\n",
            "[CV] END classifier__C=0.1, classifier__class_weight=None, classifier__gamma=scale, classifier__kernel=linear; total time=   0.0s\n",
            "[CV] END classifier__C=0.1, classifier__class_weight=None, classifier__gamma=scale, classifier__kernel=rbf; total time=   0.0s\n",
            "[CV] END classifier__C=0.1, classifier__class_weight=None, classifier__gamma=scale, classifier__kernel=rbf; total time=   0.0s\n",
            "[CV] END classifier__C=0.1, classifier__class_weight=None, classifier__gamma=scale, classifier__kernel=rbf; total time=   0.0s\n",
            "[CV] END classifier__C=0.1, classifier__class_weight=None, classifier__gamma=scale, classifier__kernel=rbf; total time=   0.0s\n",
            "[CV] END classifier__C=0.1, classifier__class_weight=None, classifier__gamma=scale, classifier__kernel=rbf; total time=   0.0s\n",
            "[CV] END classifier__C=0.1, classifier__class_weight=None, classifier__gamma=auto, classifier__kernel=linear; total time=   0.0s\n",
            "[CV] END classifier__C=0.1, classifier__class_weight=None, classifier__gamma=auto, classifier__kernel=linear; total time=   0.0s\n",
            "[CV] END classifier__C=0.1, classifier__class_weight=None, classifier__gamma=auto, classifier__kernel=linear; total time=   0.0s\n",
            "[CV] END classifier__C=0.1, classifier__class_weight=None, classifier__gamma=auto, classifier__kernel=linear; total time=   0.0s\n",
            "[CV] END classifier__C=0.1, classifier__class_weight=None, classifier__gamma=auto, classifier__kernel=linear; total time=   0.0s\n",
            "[CV] END classifier__C=0.1, classifier__class_weight=None, classifier__gamma=auto, classifier__kernel=rbf; total time=   0.0s\n",
            "[CV] END classifier__C=0.1, classifier__class_weight=None, classifier__gamma=auto, classifier__kernel=rbf; total time=   0.0s\n",
            "[CV] END classifier__C=0.1, classifier__class_weight=None, classifier__gamma=auto, classifier__kernel=rbf; total time=   0.0s\n",
            "[CV] END classifier__C=0.1, classifier__class_weight=None, classifier__gamma=auto, classifier__kernel=rbf; total time=   0.0s\n",
            "[CV] END classifier__C=0.1, classifier__class_weight=None, classifier__gamma=auto, classifier__kernel=rbf; total time=   0.0s\n",
            "[CV] END classifier__C=0.1, classifier__class_weight=balanced, classifier__gamma=scale, classifier__kernel=linear; total time=   0.0s\n",
            "[CV] END classifier__C=0.1, classifier__class_weight=balanced, classifier__gamma=scale, classifier__kernel=linear; total time=   0.0s\n",
            "[CV] END classifier__C=0.1, classifier__class_weight=balanced, classifier__gamma=scale, classifier__kernel=linear; total time=   0.0s\n",
            "[CV] END classifier__C=0.1, classifier__class_weight=balanced, classifier__gamma=scale, classifier__kernel=linear; total time=   0.0s\n",
            "[CV] END classifier__C=0.1, classifier__class_weight=balanced, classifier__gamma=scale, classifier__kernel=linear; total time=   0.0s\n",
            "[CV] END classifier__C=0.1, classifier__class_weight=balanced, classifier__gamma=scale, classifier__kernel=rbf; total time=   0.0s\n",
            "[CV] END classifier__C=0.1, classifier__class_weight=balanced, classifier__gamma=scale, classifier__kernel=rbf; total time=   0.0s\n",
            "[CV] END classifier__C=0.1, classifier__class_weight=balanced, classifier__gamma=scale, classifier__kernel=rbf; total time=   0.0s\n",
            "[CV] END classifier__C=0.1, classifier__class_weight=balanced, classifier__gamma=scale, classifier__kernel=rbf; total time=   0.0s\n",
            "[CV] END classifier__C=0.1, classifier__class_weight=balanced, classifier__gamma=scale, classifier__kernel=rbf; total time=   0.0s\n",
            "[CV] END classifier__C=0.1, classifier__class_weight=balanced, classifier__gamma=auto, classifier__kernel=linear; total time=   0.0s\n",
            "[CV] END classifier__C=0.1, classifier__class_weight=balanced, classifier__gamma=auto, classifier__kernel=linear; total time=   0.0s\n",
            "[CV] END classifier__C=0.1, classifier__class_weight=balanced, classifier__gamma=auto, classifier__kernel=linear; total time=   0.0s\n",
            "[CV] END classifier__C=0.1, classifier__class_weight=balanced, classifier__gamma=auto, classifier__kernel=linear; total time=   0.0s\n",
            "[CV] END classifier__C=0.1, classifier__class_weight=balanced, classifier__gamma=auto, classifier__kernel=linear; total time=   0.0s\n",
            "[CV] END classifier__C=0.1, classifier__class_weight=balanced, classifier__gamma=auto, classifier__kernel=rbf; total time=   0.0s\n",
            "[CV] END classifier__C=0.1, classifier__class_weight=balanced, classifier__gamma=auto, classifier__kernel=rbf; total time=   0.0s\n",
            "[CV] END classifier__C=0.1, classifier__class_weight=balanced, classifier__gamma=auto, classifier__kernel=rbf; total time=   0.0s\n",
            "[CV] END classifier__C=0.1, classifier__class_weight=balanced, classifier__gamma=auto, classifier__kernel=rbf; total time=   0.0s\n",
            "[CV] END classifier__C=0.1, classifier__class_weight=balanced, classifier__gamma=auto, classifier__kernel=rbf; total time=   0.0s\n",
            "[CV] END classifier__C=1, classifier__class_weight=None, classifier__gamma=scale, classifier__kernel=linear; total time=   0.0s\n",
            "[CV] END classifier__C=1, classifier__class_weight=None, classifier__gamma=scale, classifier__kernel=linear; total time=   0.0s\n",
            "[CV] END classifier__C=1, classifier__class_weight=None, classifier__gamma=scale, classifier__kernel=linear; total time=   0.0s\n",
            "[CV] END classifier__C=1, classifier__class_weight=None, classifier__gamma=scale, classifier__kernel=linear; total time=   0.0s\n",
            "[CV] END classifier__C=1, classifier__class_weight=None, classifier__gamma=scale, classifier__kernel=linear; total time=   0.0s\n",
            "[CV] END classifier__C=1, classifier__class_weight=None, classifier__gamma=scale, classifier__kernel=rbf; total time=   0.0s\n",
            "[CV] END classifier__C=1, classifier__class_weight=None, classifier__gamma=scale, classifier__kernel=rbf; total time=   0.0s\n",
            "[CV] END classifier__C=1, classifier__class_weight=None, classifier__gamma=scale, classifier__kernel=rbf; total time=   0.0s\n",
            "[CV] END classifier__C=1, classifier__class_weight=None, classifier__gamma=scale, classifier__kernel=rbf; total time=   0.0s\n",
            "[CV] END classifier__C=1, classifier__class_weight=None, classifier__gamma=scale, classifier__kernel=rbf; total time=   0.0s\n",
            "[CV] END classifier__C=1, classifier__class_weight=None, classifier__gamma=auto, classifier__kernel=linear; total time=   0.0s\n",
            "[CV] END classifier__C=1, classifier__class_weight=None, classifier__gamma=auto, classifier__kernel=linear; total time=   0.0s\n",
            "[CV] END classifier__C=1, classifier__class_weight=None, classifier__gamma=auto, classifier__kernel=linear; total time=   0.0s\n",
            "[CV] END classifier__C=1, classifier__class_weight=None, classifier__gamma=auto, classifier__kernel=linear; total time=   0.0s\n",
            "[CV] END classifier__C=1, classifier__class_weight=None, classifier__gamma=auto, classifier__kernel=linear; total time=   0.0s\n",
            "[CV] END classifier__C=1, classifier__class_weight=None, classifier__gamma=auto, classifier__kernel=rbf; total time=   0.0s\n",
            "[CV] END classifier__C=1, classifier__class_weight=None, classifier__gamma=auto, classifier__kernel=rbf; total time=   0.0s\n",
            "[CV] END classifier__C=1, classifier__class_weight=None, classifier__gamma=auto, classifier__kernel=rbf; total time=   0.0s\n",
            "[CV] END classifier__C=1, classifier__class_weight=None, classifier__gamma=auto, classifier__kernel=rbf; total time=   0.0s\n",
            "[CV] END classifier__C=1, classifier__class_weight=None, classifier__gamma=auto, classifier__kernel=rbf; total time=   0.0s\n",
            "[CV] END classifier__C=1, classifier__class_weight=balanced, classifier__gamma=scale, classifier__kernel=linear; total time=   0.0s\n",
            "[CV] END classifier__C=1, classifier__class_weight=balanced, classifier__gamma=scale, classifier__kernel=linear; total time=   0.0s\n",
            "[CV] END classifier__C=1, classifier__class_weight=balanced, classifier__gamma=scale, classifier__kernel=linear; total time=   0.0s\n",
            "[CV] END classifier__C=1, classifier__class_weight=balanced, classifier__gamma=scale, classifier__kernel=linear; total time=   0.0s\n",
            "[CV] END classifier__C=1, classifier__class_weight=balanced, classifier__gamma=scale, classifier__kernel=linear; total time=   0.0s\n",
            "[CV] END classifier__C=1, classifier__class_weight=balanced, classifier__gamma=scale, classifier__kernel=rbf; total time=   0.0s\n",
            "[CV] END classifier__C=1, classifier__class_weight=balanced, classifier__gamma=scale, classifier__kernel=rbf; total time=   0.0s\n",
            "[CV] END classifier__C=1, classifier__class_weight=balanced, classifier__gamma=scale, classifier__kernel=rbf; total time=   0.0s\n",
            "[CV] END classifier__C=1, classifier__class_weight=balanced, classifier__gamma=scale, classifier__kernel=rbf; total time=   0.0s\n",
            "[CV] END classifier__C=1, classifier__class_weight=balanced, classifier__gamma=scale, classifier__kernel=rbf; total time=   0.0s\n",
            "[CV] END classifier__C=1, classifier__class_weight=balanced, classifier__gamma=auto, classifier__kernel=linear; total time=   0.0s\n",
            "[CV] END classifier__C=1, classifier__class_weight=balanced, classifier__gamma=auto, classifier__kernel=linear; total time=   0.0s\n",
            "[CV] END classifier__C=1, classifier__class_weight=balanced, classifier__gamma=auto, classifier__kernel=linear; total time=   0.0s\n",
            "[CV] END classifier__C=1, classifier__class_weight=balanced, classifier__gamma=auto, classifier__kernel=linear; total time=   0.0s\n",
            "[CV] END classifier__C=1, classifier__class_weight=balanced, classifier__gamma=auto, classifier__kernel=linear; total time=   0.0s\n",
            "[CV] END classifier__C=1, classifier__class_weight=balanced, classifier__gamma=auto, classifier__kernel=rbf; total time=   0.0s\n",
            "[CV] END classifier__C=1, classifier__class_weight=balanced, classifier__gamma=auto, classifier__kernel=rbf; total time=   0.0s\n",
            "[CV] END classifier__C=1, classifier__class_weight=balanced, classifier__gamma=auto, classifier__kernel=rbf; total time=   0.0s\n",
            "[CV] END classifier__C=1, classifier__class_weight=balanced, classifier__gamma=auto, classifier__kernel=rbf; total time=   0.0s\n",
            "[CV] END classifier__C=1, classifier__class_weight=balanced, classifier__gamma=auto, classifier__kernel=rbf; total time=   0.0s\n",
            "[CV] END classifier__C=10, classifier__class_weight=None, classifier__gamma=scale, classifier__kernel=linear; total time=   0.0s\n",
            "[CV] END classifier__C=10, classifier__class_weight=None, classifier__gamma=scale, classifier__kernel=linear; total time=   0.0s\n",
            "[CV] END classifier__C=10, classifier__class_weight=None, classifier__gamma=scale, classifier__kernel=linear; total time=   0.0s\n",
            "[CV] END classifier__C=10, classifier__class_weight=None, classifier__gamma=scale, classifier__kernel=linear; total time=   0.0s\n",
            "[CV] END classifier__C=10, classifier__class_weight=None, classifier__gamma=scale, classifier__kernel=linear; total time=   0.0s\n",
            "[CV] END classifier__C=10, classifier__class_weight=None, classifier__gamma=scale, classifier__kernel=rbf; total time=   0.0s\n",
            "[CV] END classifier__C=10, classifier__class_weight=None, classifier__gamma=scale, classifier__kernel=rbf; total time=   0.0s\n",
            "[CV] END classifier__C=10, classifier__class_weight=None, classifier__gamma=scale, classifier__kernel=rbf; total time=   0.0s\n",
            "[CV] END classifier__C=10, classifier__class_weight=None, classifier__gamma=scale, classifier__kernel=rbf; total time=   0.0s\n",
            "[CV] END classifier__C=10, classifier__class_weight=None, classifier__gamma=scale, classifier__kernel=rbf; total time=   0.0s\n",
            "[CV] END classifier__C=10, classifier__class_weight=None, classifier__gamma=auto, classifier__kernel=linear; total time=   0.0s\n",
            "[CV] END classifier__C=10, classifier__class_weight=None, classifier__gamma=auto, classifier__kernel=linear; total time=   0.0s\n",
            "[CV] END classifier__C=10, classifier__class_weight=None, classifier__gamma=auto, classifier__kernel=linear; total time=   0.0s\n",
            "[CV] END classifier__C=10, classifier__class_weight=None, classifier__gamma=auto, classifier__kernel=linear; total time=   0.0s\n",
            "[CV] END classifier__C=10, classifier__class_weight=None, classifier__gamma=auto, classifier__kernel=linear; total time=   0.0s\n",
            "[CV] END classifier__C=10, classifier__class_weight=None, classifier__gamma=auto, classifier__kernel=rbf; total time=   0.0s\n",
            "[CV] END classifier__C=10, classifier__class_weight=None, classifier__gamma=auto, classifier__kernel=rbf; total time=   0.0s\n",
            "[CV] END classifier__C=10, classifier__class_weight=None, classifier__gamma=auto, classifier__kernel=rbf; total time=   0.0s\n",
            "[CV] END classifier__C=10, classifier__class_weight=None, classifier__gamma=auto, classifier__kernel=rbf; total time=   0.0s\n",
            "[CV] END classifier__C=10, classifier__class_weight=None, classifier__gamma=auto, classifier__kernel=rbf; total time=   0.0s\n",
            "[CV] END classifier__C=10, classifier__class_weight=balanced, classifier__gamma=scale, classifier__kernel=linear; total time=   0.0s\n",
            "[CV] END classifier__C=10, classifier__class_weight=balanced, classifier__gamma=scale, classifier__kernel=linear; total time=   0.0s\n",
            "[CV] END classifier__C=10, classifier__class_weight=balanced, classifier__gamma=scale, classifier__kernel=linear; total time=   0.0s\n",
            "[CV] END classifier__C=10, classifier__class_weight=balanced, classifier__gamma=scale, classifier__kernel=linear; total time=   0.0s\n",
            "[CV] END classifier__C=10, classifier__class_weight=balanced, classifier__gamma=scale, classifier__kernel=linear; total time=   0.0s\n",
            "[CV] END classifier__C=10, classifier__class_weight=balanced, classifier__gamma=scale, classifier__kernel=rbf; total time=   0.0s\n",
            "[CV] END classifier__C=10, classifier__class_weight=balanced, classifier__gamma=scale, classifier__kernel=rbf; total time=   0.0s\n",
            "[CV] END classifier__C=10, classifier__class_weight=balanced, classifier__gamma=scale, classifier__kernel=rbf; total time=   0.0s\n",
            "[CV] END classifier__C=10, classifier__class_weight=balanced, classifier__gamma=scale, classifier__kernel=rbf; total time=   0.0s\n",
            "[CV] END classifier__C=10, classifier__class_weight=balanced, classifier__gamma=scale, classifier__kernel=rbf; total time=   0.0s\n",
            "[CV] END classifier__C=10, classifier__class_weight=balanced, classifier__gamma=auto, classifier__kernel=linear; total time=   0.0s\n",
            "[CV] END classifier__C=10, classifier__class_weight=balanced, classifier__gamma=auto, classifier__kernel=linear; total time=   0.0s\n",
            "[CV] END classifier__C=10, classifier__class_weight=balanced, classifier__gamma=auto, classifier__kernel=linear; total time=   0.0s\n",
            "[CV] END classifier__C=10, classifier__class_weight=balanced, classifier__gamma=auto, classifier__kernel=linear; total time=   0.0s\n",
            "[CV] END classifier__C=10, classifier__class_weight=balanced, classifier__gamma=auto, classifier__kernel=linear; total time=   0.0s\n",
            "[CV] END classifier__C=10, classifier__class_weight=balanced, classifier__gamma=auto, classifier__kernel=rbf; total time=   0.0s\n",
            "[CV] END classifier__C=10, classifier__class_weight=balanced, classifier__gamma=auto, classifier__kernel=rbf; total time=   0.0s\n",
            "[CV] END classifier__C=10, classifier__class_weight=balanced, classifier__gamma=auto, classifier__kernel=rbf; total time=   0.0s\n",
            "[CV] END classifier__C=10, classifier__class_weight=balanced, classifier__gamma=auto, classifier__kernel=rbf; total time=   0.0s\n",
            "[CV] END classifier__C=10, classifier__class_weight=balanced, classifier__gamma=auto, classifier__kernel=rbf; total time=   0.0s\n",
            "CPU times: user 2.28 s, sys: 23.4 ms, total: 2.3 s\n",
            "Wall time: 2.32 s\n"
          ]
        }
      ],
      "source": [
        "%%time\n",
        "grid_search_svm = GridSearchCV(pipe_svm, parameters, scoring='accuracy', cv=5, verbose = 2)\n",
        "with tf.device('/device:GPU:0'):\n",
        "  grid_search_svm.fit(X_train,Y_train)"
      ]
    },
    {
      "cell_type": "code",
      "execution_count": null,
      "metadata": {
        "colab": {
          "base_uri": "https://localhost:8080/"
        },
        "outputId": "c5fbeb00-fe3e-4a5e-b9c7-29684a96b29f",
        "id": "eGw1BJUaR_Y5"
      },
      "outputs": [
        {
          "output_type": "execute_result",
          "data": {
            "text/plain": [
              "{'classifier__C': 10,\n",
              " 'classifier__class_weight': None,\n",
              " 'classifier__gamma': 'auto',\n",
              " 'classifier__kernel': 'rbf'}"
            ]
          },
          "metadata": {},
          "execution_count": 253
        }
      ],
      "source": [
        "grid_search_svm.best_params_"
      ]
    },
    {
      "cell_type": "code",
      "execution_count": null,
      "metadata": {
        "colab": {
          "base_uri": "https://localhost:8080/"
        },
        "outputId": "a6c247b4-e13b-4463-e187-4e8cd79d986e",
        "id": "f4GSpQYlR_Y5"
      },
      "outputs": [
        {
          "output_type": "stream",
          "name": "stdout",
          "text": [
            "Train Report\n",
            "               precision    recall  f1-score   support\n",
            "\n",
            "         1.0       0.80      0.56      0.66       139\n",
            "         2.0       0.88      0.96      0.92       488\n",
            "\n",
            "    accuracy                           0.87       627\n",
            "   macro avg       0.84      0.76      0.79       627\n",
            "weighted avg       0.87      0.87      0.86       627\n",
            "\n"
          ]
        }
      ],
      "source": [
        "# Obtener el mejor modelo.\n",
        "mejor_svm = grid_search_svm.best_estimator_\n",
        "\n",
        "y_pred_train_svm = mejor_svm.predict(X_train)\n",
        "\n",
        "report_svm = classification_report(Y_train, y_pred_train_svm)\n",
        "\n",
        "print(\"Train Report\\n\", report_svm)"
      ]
    },
    {
      "cell_type": "code",
      "execution_count": null,
      "metadata": {
        "colab": {
          "base_uri": "https://localhost:8080/",
          "height": 717
        },
        "outputId": "668e58d2-2e28-4b56-a3aa-f904de6fa151",
        "id": "arfHVmQ_R_Y5"
      },
      "outputs": [
        {
          "output_type": "stream",
          "name": "stdout",
          "text": [
            "Confusion matrix, without normalization\n"
          ]
        },
        {
          "output_type": "execute_result",
          "data": {
            "text/plain": [
              "<matplotlib.axes._subplots.AxesSubplot at 0x7f21898e0510>"
            ]
          },
          "metadata": {},
          "execution_count": 255
        },
        {
          "output_type": "display_data",
          "data": {
            "text/plain": [
              "<Figure size 720x720 with 2 Axes>"
            ],
            "image/png": "[encoded data removed]"
          },
          "metadata": {
            "needs_background": "light"
          }
        }
      ],
      "source": [
        "%matplotlib inline\n",
        "plot_confusion_matrix(y_true=Y_train, y_pred=y_pred_train_svm, classes=[\"1 - Liberación posterior\",\"2 - Alargamiento de los gemelos\"],\n",
        "                      title='Matriz de Confusión - train')"
      ]
    },
    {
      "cell_type": "code",
      "execution_count": null,
      "metadata": {
        "id": "lNA5nQZHR_Y5"
      },
      "outputs": [],
      "source": [
        "# Ahora se usará un pipeline con el mejor modelo para analizar los datos de test\n",
        "estimators = [\n",
        "        ('classifier', svm.SVC( C=10,gamma=\"auto\", kernel=\"rbf\", class_weight=None ))]\n",
        "\n",
        "pipe_svm_test = Pipeline(estimators)"
      ]
    },
    {
      "cell_type": "code",
      "execution_count": null,
      "metadata": {
        "colab": {
          "base_uri": "https://localhost:8080/"
        },
        "outputId": "403186c5-22f7-43db-b86e-c06ffc5bc903",
        "id": "GULtd1MWR_Y6"
      },
      "outputs": [
        {
          "output_type": "stream",
          "name": "stdout",
          "text": [
            "CPU times: user 30.1 ms, sys: 0 ns, total: 30.1 ms\n",
            "Wall time: 39.1 ms\n"
          ]
        },
        {
          "output_type": "execute_result",
          "data": {
            "text/plain": [
              "Pipeline(steps=[('classifier', SVC(C=10, gamma='auto'))])"
            ]
          },
          "metadata": {},
          "execution_count": 257
        }
      ],
      "source": [
        "%%time\n",
        "pipe_svm_test.fit(X_train, Y_train)"
      ]
    },
    {
      "cell_type": "code",
      "execution_count": null,
      "metadata": {
        "colab": {
          "base_uri": "https://localhost:8080/"
        },
        "outputId": "844d7876-74f2-41bb-a4b3-251bb1f932c0",
        "id": "gg96Qf9wR_Y6"
      },
      "outputs": [
        {
          "output_type": "stream",
          "name": "stdout",
          "text": [
            "SVM Test Report\n",
            "               precision    recall  f1-score   support\n",
            "\n",
            "         1.0       0.84      0.40      0.54        40\n",
            "         2.0       0.83      0.97      0.89       117\n",
            "\n",
            "    accuracy                           0.83       157\n",
            "   macro avg       0.83      0.69      0.72       157\n",
            "weighted avg       0.83      0.83      0.80       157\n",
            "\n"
          ]
        }
      ],
      "source": [
        "y_pred_test_svm=pipe_svm_test.predict(X_test)\n",
        "\n",
        "report_tree = classification_report(Y_test, y_pred_test_svm)\n",
        "\n",
        "print(\"SVM Test Report\\n\", report_tree)"
      ]
    },
    {
      "cell_type": "code",
      "execution_count": null,
      "metadata": {
        "colab": {
          "base_uri": "https://localhost:8080/",
          "height": 717
        },
        "outputId": "c812f96b-8bee-4e47-9d08-b6231641a3a7",
        "id": "11IL4nGfR_Y6"
      },
      "outputs": [
        {
          "output_type": "stream",
          "name": "stdout",
          "text": [
            "Confusion matrix, without normalization\n"
          ]
        },
        {
          "output_type": "execute_result",
          "data": {
            "text/plain": [
              "<matplotlib.axes._subplots.AxesSubplot at 0x7f21892a7a90>"
            ]
          },
          "metadata": {},
          "execution_count": 259
        },
        {
          "output_type": "display_data",
          "data": {
            "text/plain": [
              "<Figure size 720x720 with 2 Axes>"
            ],
            "image/png": "[encoded data removed]"
          },
          "metadata": {
            "needs_background": "light"
          }
        }
      ],
      "source": [
        "%matplotlib inline\n",
        "plot_confusion_matrix(y_true=Y_test, y_pred=y_pred_test_svm, classes=[\"1 - Liberación posterior\",\"2 - Alargamiento de los gemelos\"],\n",
        "                      title='Matriz de Confusión - test')"
      ]
    },
    {
      "cell_type": "markdown",
      "source": [
        "### 4.2.2 KNN"
      ],
      "metadata": {
        "id": "rUUJTiBlR_Y6"
      }
    },
    {
      "cell_type": "code",
      "execution_count": null,
      "metadata": {
        "id": "M213ShcgR_Y6"
      },
      "outputs": [],
      "source": [
        "# Dado que el preprocesamiento ya se realizó para los datos de X_train, estos no requeieren del preprocesamiento\n",
        "estimators = [\n",
        "        ('classifier', KNeighborsClassifier())          \n",
        "    ]\n",
        "\n",
        "parameters = {\n",
        "              'classifier__weights':['distance', 'uniform'],\n",
        "              'classifier__n_neighbors':[6,7,8,9,10,11,12,14,16,20,25],\n",
        "              'classifier__p':[1,2],\n",
        "            }\n",
        "\n",
        "pipe_knn = Pipeline(estimators)"
      ]
    },
    {
      "cell_type": "code",
      "execution_count": null,
      "metadata": {
        "colab": {
          "base_uri": "https://localhost:8080/"
        },
        "outputId": "06eb51a7-695a-4722-92df-e38d4df753c5",
        "id": "kmQu5h7ZR_Y9"
      },
      "outputs": [
        {
          "output_type": "stream",
          "name": "stdout",
          "text": [
            "CPU times: user 1.76 s, sys: 7.06 ms, total: 1.76 s\n",
            "Wall time: 1.78 s\n"
          ]
        }
      ],
      "source": [
        "%%time\n",
        "grid_search_knn = GridSearchCV(pipe_knn, parameters, scoring='accuracy', cv=4, error_score=0.0)\n",
        "with tf.device('/device:GPU:0'):\n",
        "  grid_search_knn.fit(X_train,Y_train)"
      ]
    },
    {
      "cell_type": "code",
      "execution_count": null,
      "metadata": {
        "colab": {
          "base_uri": "https://localhost:8080/"
        },
        "outputId": "ef07bdd2-a17b-4fcc-d814-f356d502e126",
        "id": "T08-7xtqR_Y9"
      },
      "outputs": [
        {
          "output_type": "execute_result",
          "data": {
            "text/plain": [
              "{'classifier__n_neighbors': 25,\n",
              " 'classifier__p': 1,\n",
              " 'classifier__weights': 'uniform'}"
            ]
          },
          "metadata": {},
          "execution_count": 80
        }
      ],
      "source": [
        "grid_search_knn.best_params_"
      ]
    },
    {
      "cell_type": "code",
      "execution_count": null,
      "metadata": {
        "colab": {
          "base_uri": "https://localhost:8080/"
        },
        "outputId": "f29b0bf9-ed01-4d6b-8e71-c8dbd7ea562a",
        "id": "wO65f1kVR_Y9"
      },
      "outputs": [
        {
          "output_type": "stream",
          "name": "stdout",
          "text": [
            "Train Report\n",
            "               precision    recall  f1-score   support\n",
            "\n",
            "         1.0       0.77      0.45      0.57       139\n",
            "         2.0       0.86      0.96      0.91       488\n",
            "\n",
            "    accuracy                           0.85       627\n",
            "   macro avg       0.81      0.71      0.74       627\n",
            "weighted avg       0.84      0.85      0.83       627\n",
            "\n"
          ]
        }
      ],
      "source": [
        "# Obtener el mejor modelo.\n",
        "mejor_knn = grid_search_knn.best_estimator_\n",
        "\n",
        "y_pred_train_knn = mejor_knn.predict(X_train)\n",
        "\n",
        "report_tree = classification_report(Y_train, y_pred_train_knn)\n",
        "\n",
        "print(\"Train Report\\n\", report_tree)"
      ]
    },
    {
      "cell_type": "code",
      "execution_count": null,
      "metadata": {
        "colab": {
          "base_uri": "https://localhost:8080/",
          "height": 717
        },
        "outputId": "d41b4aa4-a89a-405a-a656-662ccaff8e3d",
        "id": "s7Q9MquaR_Y9"
      },
      "outputs": [
        {
          "output_type": "stream",
          "name": "stdout",
          "text": [
            "Confusion matrix, without normalization\n"
          ]
        },
        {
          "output_type": "execute_result",
          "data": {
            "text/plain": [
              "<matplotlib.axes._subplots.AxesSubplot at 0x7f218b854850>"
            ]
          },
          "metadata": {},
          "execution_count": 82
        },
        {
          "output_type": "display_data",
          "data": {
            "text/plain": [
              "<Figure size 720x720 with 2 Axes>"
            ],
            "image/png": "[encoded data removed]"
          },
          "metadata": {
            "needs_background": "light"
          }
        }
      ],
      "source": [
        "%matplotlib inline\n",
        "plot_confusion_matrix(y_true=Y_train, y_pred=y_pred_train_knn, classes=[\"1 - Liberación posterior\",\"2 - Alargamiento de los gemelos\"],\n",
        "                      title='Matriz de Confusión - train')"
      ]
    },
    {
      "cell_type": "code",
      "execution_count": null,
      "metadata": {
        "id": "KqOOku-hR_Y-"
      },
      "outputs": [],
      "source": [
        "# Ahora se usará un pipeline con el mejor modelo para analizar los datos de test\n",
        "estimators = [\n",
        "        ('classifier', KNeighborsClassifier(p=1,n_neighbors=25,weights='uniform'))]\n",
        "\n",
        "pipe_knn_test = Pipeline(estimators)"
      ]
    },
    {
      "cell_type": "code",
      "execution_count": null,
      "metadata": {
        "colab": {
          "base_uri": "https://localhost:8080/"
        },
        "outputId": "09ec7751-5b67-4094-e839-4db25d746a4a",
        "id": "nQ-vEeC6R_Y-"
      },
      "outputs": [
        {
          "output_type": "stream",
          "name": "stdout",
          "text": [
            "CPU times: user 5.24 ms, sys: 2.91 ms, total: 8.14 ms\n",
            "Wall time: 8.28 ms\n"
          ]
        },
        {
          "output_type": "execute_result",
          "data": {
            "text/plain": [
              "Pipeline(steps=[('classifier', KNeighborsClassifier(n_neighbors=25, p=1))])"
            ]
          },
          "metadata": {},
          "execution_count": 84
        }
      ],
      "source": [
        "%%time\n",
        "pipe_knn_test.fit(X_train, Y_train)"
      ]
    },
    {
      "cell_type": "code",
      "execution_count": null,
      "metadata": {
        "colab": {
          "base_uri": "https://localhost:8080/"
        },
        "outputId": "79a80e9a-24fa-4f57-9d05-47bced5e3db6",
        "id": "emKIh28iR_Y-"
      },
      "outputs": [
        {
          "output_type": "stream",
          "name": "stdout",
          "text": [
            "KNN Test Report\n",
            "               precision    recall  f1-score   support\n",
            "\n",
            "         1.0       0.76      0.40      0.52        40\n",
            "         2.0       0.82      0.96      0.89       117\n",
            "\n",
            "    accuracy                           0.82       157\n",
            "   macro avg       0.79      0.68      0.70       157\n",
            "weighted avg       0.81      0.82      0.79       157\n",
            "\n"
          ]
        }
      ],
      "source": [
        "# y_pred_test_knn = mejor_knn.predict(X_test)\n",
        "y_pred_test_knn=pipe_knn_test.predict(X_test)\n",
        "\n",
        "report_tree = classification_report(Y_test, y_pred_test_knn)\n",
        "\n",
        "print(\"KNN Test Report\\n\", report_tree)"
      ]
    },
    {
      "cell_type": "code",
      "execution_count": null,
      "metadata": {
        "colab": {
          "base_uri": "https://localhost:8080/",
          "height": 717
        },
        "outputId": "e541e91e-d5db-4092-9ac0-4a9a1850654c",
        "id": "vtjdCGsUR_Y-"
      },
      "outputs": [
        {
          "output_type": "stream",
          "name": "stdout",
          "text": [
            "Confusion matrix, without normalization\n"
          ]
        },
        {
          "output_type": "execute_result",
          "data": {
            "text/plain": [
              "<matplotlib.axes._subplots.AxesSubplot at 0x7f219259bb90>"
            ]
          },
          "metadata": {},
          "execution_count": 86
        },
        {
          "output_type": "display_data",
          "data": {
            "text/plain": [
              "<Figure size 720x720 with 2 Axes>"
            ],
            "image/png": "[encoded data removed]"
          },
          "metadata": {
            "needs_background": "light"
          }
        }
      ],
      "source": [
        "%matplotlib inline\n",
        "plot_confusion_matrix(y_true=Y_test, y_pred=y_pred_test_knn, classes=[\"1 - Liberación posterior\",\"2 - Alargamiento de los gemelos\"],\n",
        "                      title='Matriz de Confusión - test')"
      ]
    },
    {
      "cell_type": "markdown",
      "source": [
        "### 4.2.3 Árbol de decisión"
      ],
      "metadata": {
        "id": "QsbQ8Kj9R_Y-"
      }
    },
    {
      "cell_type": "code",
      "execution_count": null,
      "metadata": {
        "id": "lMtzX02fR_Y-"
      },
      "outputs": [],
      "source": [
        "# Dado que el preprocesamiento ya se realizó para los datos de X_train, se correrá el pipeline sin la parte del preproceso\n",
        "estimators = [\n",
        "        ('classifier', DecisionTreeClassifier(random_state=0))          \n",
        "    ]\n",
        "\n",
        "parameters = {\n",
        "              'classifier__criterion':['gini','entropy'],\n",
        "              'classifier__max_depth':[2,4,8,16,24,28,32],\n",
        "              'classifier__min_samples_split':[2,3],\n",
        "              'classifier__class_weight':[None, 'balanced']\n",
        "            }\n",
        "\n",
        "pipe_tree = Pipeline(estimators)\n"
      ]
    },
    {
      "cell_type": "code",
      "execution_count": null,
      "metadata": {
        "colab": {
          "base_uri": "https://localhost:8080/"
        },
        "outputId": "9ea93ec4-717a-47ab-b38b-ade8cfceda8e",
        "id": "Rdbmjf_kR_Y_"
      },
      "outputs": [
        {
          "output_type": "stream",
          "name": "stdout",
          "text": [
            "CPU times: user 1.44 s, sys: 10.3 ms, total: 1.45 s\n",
            "Wall time: 1.46 s\n"
          ]
        }
      ],
      "source": [
        "%%time\n",
        "grid_search_tree = GridSearchCV(pipe_tree, parameters, scoring='accuracy', cv=4, error_score=0.0)\n",
        "grid_search_tree.fit(X_train,Y_train)"
      ]
    },
    {
      "cell_type": "code",
      "execution_count": null,
      "metadata": {
        "colab": {
          "base_uri": "https://localhost:8080/"
        },
        "outputId": "6c18093a-00d7-4223-ff25-717c3433bd94",
        "id": "dy8izwBtR_Y_"
      },
      "outputs": [
        {
          "output_type": "execute_result",
          "data": {
            "text/plain": [
              "{'classifier__class_weight': None,\n",
              " 'classifier__criterion': 'gini',\n",
              " 'classifier__max_depth': 2,\n",
              " 'classifier__min_samples_split': 2}"
            ]
          },
          "metadata": {},
          "execution_count": 89
        }
      ],
      "source": [
        "grid_search_tree.best_params_"
      ]
    },
    {
      "cell_type": "code",
      "execution_count": null,
      "metadata": {
        "colab": {
          "base_uri": "https://localhost:8080/"
        },
        "outputId": "4a13167d-bddc-493b-8192-6caff572a017",
        "id": "9Cap7vL6R_Y_"
      },
      "outputs": [
        {
          "output_type": "stream",
          "name": "stdout",
          "text": [
            "Train Report\n",
            "               precision    recall  f1-score   support\n",
            "\n",
            "         1.0       0.68      0.63      0.65       139\n",
            "         2.0       0.90      0.92      0.91       488\n",
            "\n",
            "    accuracy                           0.85       627\n",
            "   macro avg       0.79      0.77      0.78       627\n",
            "weighted avg       0.85      0.85      0.85       627\n",
            "\n"
          ]
        }
      ],
      "source": [
        "y_pred_train_tree = grid_search_tree.best_estimator_.predict(X_train)\n",
        "report_tree = classification_report(Y_train, y_pred_train_tree)\n",
        "\n",
        "print(\"Train Report\\n\", report_tree)"
      ]
    },
    {
      "cell_type": "code",
      "execution_count": null,
      "metadata": {
        "colab": {
          "base_uri": "https://localhost:8080/",
          "height": 717
        },
        "outputId": "d02afbb9-71d3-47a4-b4f7-cd1558dec8f0",
        "id": "tlT75kwGR_Y_"
      },
      "outputs": [
        {
          "output_type": "stream",
          "name": "stdout",
          "text": [
            "Confusion matrix, without normalization\n"
          ]
        },
        {
          "output_type": "execute_result",
          "data": {
            "text/plain": [
              "<matplotlib.axes._subplots.AxesSubplot at 0x7f218b72c2d0>"
            ]
          },
          "metadata": {},
          "execution_count": 91
        },
        {
          "output_type": "display_data",
          "data": {
            "text/plain": [
              "<Figure size 720x720 with 2 Axes>"
            ],
            "image/png": "[encoded data removed]"
          },
          "metadata": {
            "needs_background": "light"
          }
        }
      ],
      "source": [
        "%matplotlib inline\n",
        "plot_confusion_matrix(y_true=Y_train, y_pred=y_pred_train_tree, classes=[\"1 - Liberación posterior\",\"2 - Alargamiento de los gemelos\"],\n",
        "                      title='Matriz de Confusión - train')"
      ]
    },
    {
      "cell_type": "code",
      "execution_count": null,
      "metadata": {
        "id": "EzyfQ8jNR_Y_"
      },
      "outputs": [],
      "source": [
        "# Ahora se usará un pipeline con el mejor modelo para analizar los datos de test\n",
        "estimators = [\n",
        "        \n",
        "        ('classifier', DecisionTreeClassifier(criterion='gini',max_depth=2, min_samples_split=2,random_state=0))]\n",
        "\n",
        "pipe_tree_test = Pipeline(estimators)"
      ]
    },
    {
      "cell_type": "code",
      "execution_count": null,
      "metadata": {
        "colab": {
          "base_uri": "https://localhost:8080/"
        },
        "outputId": "228620da-1c28-4f91-8bdc-7529ea4c857c",
        "id": "TFpKHXAvR_ZA"
      },
      "outputs": [
        {
          "output_type": "execute_result",
          "data": {
            "text/plain": [
              "Pipeline(steps=[('classifier',\n",
              "                 DecisionTreeClassifier(max_depth=2, random_state=0))])"
            ]
          },
          "metadata": {},
          "execution_count": 93
        }
      ],
      "source": [
        "pipe_tree_test.fit(X_train, Y_train)"
      ]
    },
    {
      "cell_type": "code",
      "execution_count": null,
      "metadata": {
        "id": "3JSPu48wR_ZA"
      },
      "outputs": [],
      "source": [
        "y_test_tree=pipe_tree_test.predict(X_test)"
      ]
    },
    {
      "cell_type": "code",
      "execution_count": null,
      "metadata": {
        "colab": {
          "base_uri": "https://localhost:8080/"
        },
        "outputId": "178bbffc-6d5b-42d5-e568-025043426b54",
        "id": "c07jx2tSR_ZA"
      },
      "outputs": [
        {
          "output_type": "stream",
          "name": "stdout",
          "text": [
            "Tree test Report\n",
            "               precision    recall  f1-score   support\n",
            "\n",
            "         1.0       0.67      0.60      0.63        40\n",
            "         2.0       0.87      0.90      0.88       117\n",
            "\n",
            "    accuracy                           0.82       157\n",
            "   macro avg       0.77      0.75      0.76       157\n",
            "weighted avg       0.82      0.82      0.82       157\n",
            "\n"
          ]
        }
      ],
      "source": [
        "report_tree_test = classification_report(Y_test, y_test_tree)\n",
        "\n",
        "print(\"Tree test Report\\n\", report_tree_test)"
      ]
    },
    {
      "cell_type": "code",
      "execution_count": null,
      "metadata": {
        "colab": {
          "base_uri": "https://localhost:8080/",
          "height": 717
        },
        "outputId": "42f14848-160c-4388-e025-a2ce79bdcd1b",
        "id": "Ai5hx0z5R_ZA"
      },
      "outputs": [
        {
          "output_type": "stream",
          "name": "stdout",
          "text": [
            "Confusion matrix, without normalization\n"
          ]
        },
        {
          "output_type": "execute_result",
          "data": {
            "text/plain": [
              "<matplotlib.axes._subplots.AxesSubplot at 0x7f218b672b10>"
            ]
          },
          "metadata": {},
          "execution_count": 96
        },
        {
          "output_type": "display_data",
          "data": {
            "text/plain": [
              "<Figure size 720x720 with 2 Axes>"
            ],
            "image/png": "[encoded data removed]"
          },
          "metadata": {
            "needs_background": "light"
          }
        }
      ],
      "source": [
        "%matplotlib inline\n",
        "plot_confusion_matrix(y_true=Y_test, y_pred=y_test_tree, classes=[\"1 - Liberación posterior\",\"2 - Alargamiento de los gemelos\"],\n",
        "                      title='Matriz de Confusión - test')"
      ]
    },
    {
      "cell_type": "markdown",
      "source": [
        "### 4.2.4 Logistic regression"
      ],
      "metadata": {
        "id": "iuveAL7xR_ZA"
      }
    },
    {
      "cell_type": "code",
      "execution_count": null,
      "metadata": {
        "id": "dqnYs64UR_ZA"
      },
      "outputs": [],
      "source": [
        "# Dado que el preprocesamiento ya se realizó para los datos de X_train, se correrá el pipeline sin la parte del preproceso\n",
        "estimators = [\n",
        "        ('classifier', LogisticRegression())          \n",
        "    ]\n",
        "\n",
        "parameters = {'classifier__penalty':['l1', 'l2', 'elasticnet', 'none'],\n",
        "              'classifier__C':[0.1, 1, 10],\n",
        "              'classifier__class_weight':[None, 'balanced']\n",
        "              \n",
        "            }\n",
        "\n",
        "pipe_logistic = Pipeline(estimators)"
      ]
    },
    {
      "cell_type": "code",
      "execution_count": null,
      "metadata": {
        "colab": {
          "base_uri": "https://localhost:8080/"
        },
        "outputId": "7ac7aca5-8aca-4bb1-fa38-2a7ee8c91612",
        "id": "0W5-E0YFR_ZB"
      },
      "outputs": [
        {
          "output_type": "stream",
          "name": "stdout",
          "text": [
            "Fitting 5 folds for each of 24 candidates, totalling 120 fits\n",
            "[CV] END classifier__C=0.1, classifier__class_weight=None, classifier__penalty=l1; total time=   0.0s\n",
            "[CV] END classifier__C=0.1, classifier__class_weight=None, classifier__penalty=l1; total time=   0.0s\n",
            "[CV] END classifier__C=0.1, classifier__class_weight=None, classifier__penalty=l1; total time=   0.0s\n",
            "[CV] END classifier__C=0.1, classifier__class_weight=None, classifier__penalty=l1; total time=   0.0s\n",
            "[CV] END classifier__C=0.1, classifier__class_weight=None, classifier__penalty=l1; total time=   0.0s\n",
            "[CV] END classifier__C=0.1, classifier__class_weight=None, classifier__penalty=l2; total time=   0.0s\n",
            "[CV] END classifier__C=0.1, classifier__class_weight=None, classifier__penalty=l2; total time=   0.0s\n",
            "[CV] END classifier__C=0.1, classifier__class_weight=None, classifier__penalty=l2; total time=   0.0s\n",
            "[CV] END classifier__C=0.1, classifier__class_weight=None, classifier__penalty=l2; total time=   0.0s\n",
            "[CV] END classifier__C=0.1, classifier__class_weight=None, classifier__penalty=l2; total time=   0.0s\n",
            "[CV] END classifier__C=0.1, classifier__class_weight=None, classifier__penalty=elasticnet; total time=   0.0s\n",
            "[CV] END classifier__C=0.1, classifier__class_weight=None, classifier__penalty=elasticnet; total time=   0.0s\n",
            "[CV] END classifier__C=0.1, classifier__class_weight=None, classifier__penalty=elasticnet; total time=   0.0s\n",
            "[CV] END classifier__C=0.1, classifier__class_weight=None, classifier__penalty=elasticnet; total time=   0.0s\n",
            "[CV] END classifier__C=0.1, classifier__class_weight=None, classifier__penalty=elasticnet; total time=   0.0s\n",
            "[CV] END classifier__C=0.1, classifier__class_weight=None, classifier__penalty=none; total time=   0.0s\n",
            "[CV] END classifier__C=0.1, classifier__class_weight=None, classifier__penalty=none; total time=   0.0s\n",
            "[CV] END classifier__C=0.1, classifier__class_weight=None, classifier__penalty=none; total time=   0.0s\n",
            "[CV] END classifier__C=0.1, classifier__class_weight=None, classifier__penalty=none; total time=   0.0s\n",
            "[CV] END classifier__C=0.1, classifier__class_weight=None, classifier__penalty=none; total time=   0.0s\n",
            "[CV] END classifier__C=0.1, classifier__class_weight=balanced, classifier__penalty=l1; total time=   0.0s\n",
            "[CV] END classifier__C=0.1, classifier__class_weight=balanced, classifier__penalty=l1; total time=   0.0s\n"
          ]
        },
        {
          "output_type": "stream",
          "name": "stderr",
          "text": [
            "/usr/local/lib/python3.7/dist-packages/sklearn/linear_model/_logistic.py:1484: UserWarning: Setting penalty='none' will ignore the C and l1_ratio parameters\n",
            "  \"Setting penalty='none' will ignore the C and l1_ratio parameters\"\n",
            "/usr/local/lib/python3.7/dist-packages/sklearn/linear_model/_logistic.py:1484: UserWarning: Setting penalty='none' will ignore the C and l1_ratio parameters\n",
            "  \"Setting penalty='none' will ignore the C and l1_ratio parameters\"\n",
            "/usr/local/lib/python3.7/dist-packages/sklearn/linear_model/_logistic.py:1484: UserWarning: Setting penalty='none' will ignore the C and l1_ratio parameters\n",
            "  \"Setting penalty='none' will ignore the C and l1_ratio parameters\"\n",
            "/usr/local/lib/python3.7/dist-packages/sklearn/linear_model/_logistic.py:1484: UserWarning: Setting penalty='none' will ignore the C and l1_ratio parameters\n",
            "  \"Setting penalty='none' will ignore the C and l1_ratio parameters\"\n",
            "/usr/local/lib/python3.7/dist-packages/sklearn/linear_model/_logistic.py:1484: UserWarning: Setting penalty='none' will ignore the C and l1_ratio parameters\n",
            "  \"Setting penalty='none' will ignore the C and l1_ratio parameters\"\n",
            "/usr/local/lib/python3.7/dist-packages/sklearn/linear_model/_logistic.py:1484: UserWarning: Setting penalty='none' will ignore the C and l1_ratio parameters\n",
            "  \"Setting penalty='none' will ignore the C and l1_ratio parameters\"\n"
          ]
        },
        {
          "output_type": "stream",
          "name": "stdout",
          "text": [
            "[CV] END classifier__C=0.1, classifier__class_weight=balanced, classifier__penalty=l1; total time=   0.0s\n",
            "[CV] END classifier__C=0.1, classifier__class_weight=balanced, classifier__penalty=l1; total time=   0.0s\n",
            "[CV] END classifier__C=0.1, classifier__class_weight=balanced, classifier__penalty=l1; total time=   0.0s\n",
            "[CV] END classifier__C=0.1, classifier__class_weight=balanced, classifier__penalty=l2; total time=   0.0s\n",
            "[CV] END classifier__C=0.1, classifier__class_weight=balanced, classifier__penalty=l2; total time=   0.0s\n",
            "[CV] END classifier__C=0.1, classifier__class_weight=balanced, classifier__penalty=l2; total time=   0.0s\n",
            "[CV] END classifier__C=0.1, classifier__class_weight=balanced, classifier__penalty=l2; total time=   0.0s\n",
            "[CV] END classifier__C=0.1, classifier__class_weight=balanced, classifier__penalty=l2; total time=   0.0s\n",
            "[CV] END classifier__C=0.1, classifier__class_weight=balanced, classifier__penalty=elasticnet; total time=   0.0s\n",
            "[CV] END classifier__C=0.1, classifier__class_weight=balanced, classifier__penalty=elasticnet; total time=   0.0s\n",
            "[CV] END classifier__C=0.1, classifier__class_weight=balanced, classifier__penalty=elasticnet; total time=   0.0s\n",
            "[CV] END classifier__C=0.1, classifier__class_weight=balanced, classifier__penalty=elasticnet; total time=   0.0s\n",
            "[CV] END classifier__C=0.1, classifier__class_weight=balanced, classifier__penalty=elasticnet; total time=   0.0s\n",
            "[CV] END classifier__C=0.1, classifier__class_weight=balanced, classifier__penalty=none; total time=   0.0s\n",
            "[CV] END classifier__C=0.1, classifier__class_weight=balanced, classifier__penalty=none; total time=   0.0s\n",
            "[CV] END classifier__C=0.1, classifier__class_weight=balanced, classifier__penalty=none; total time=   0.0s\n",
            "[CV] END classifier__C=0.1, classifier__class_weight=balanced, classifier__penalty=none; total time=   0.0s\n",
            "[CV] END classifier__C=0.1, classifier__class_weight=balanced, classifier__penalty=none; total time=   0.0s\n",
            "[CV] END classifier__C=1, classifier__class_weight=None, classifier__penalty=l1; total time=   0.0s\n",
            "[CV] END classifier__C=1, classifier__class_weight=None, classifier__penalty=l1; total time=   0.0s\n"
          ]
        },
        {
          "output_type": "stream",
          "name": "stderr",
          "text": [
            "/usr/local/lib/python3.7/dist-packages/sklearn/linear_model/_logistic.py:1484: UserWarning: Setting penalty='none' will ignore the C and l1_ratio parameters\n",
            "  \"Setting penalty='none' will ignore the C and l1_ratio parameters\"\n",
            "/usr/local/lib/python3.7/dist-packages/sklearn/linear_model/_logistic.py:1484: UserWarning: Setting penalty='none' will ignore the C and l1_ratio parameters\n",
            "  \"Setting penalty='none' will ignore the C and l1_ratio parameters\"\n",
            "/usr/local/lib/python3.7/dist-packages/sklearn/linear_model/_logistic.py:1484: UserWarning: Setting penalty='none' will ignore the C and l1_ratio parameters\n",
            "  \"Setting penalty='none' will ignore the C and l1_ratio parameters\"\n",
            "/usr/local/lib/python3.7/dist-packages/sklearn/linear_model/_logistic.py:1484: UserWarning: Setting penalty='none' will ignore the C and l1_ratio parameters\n",
            "  \"Setting penalty='none' will ignore the C and l1_ratio parameters\"\n"
          ]
        },
        {
          "output_type": "stream",
          "name": "stdout",
          "text": [
            "[CV] END classifier__C=1, classifier__class_weight=None, classifier__penalty=l1; total time=   0.0s\n",
            "[CV] END classifier__C=1, classifier__class_weight=None, classifier__penalty=l1; total time=   0.0s\n",
            "[CV] END classifier__C=1, classifier__class_weight=None, classifier__penalty=l1; total time=   0.0s\n",
            "[CV] END classifier__C=1, classifier__class_weight=None, classifier__penalty=l2; total time=   0.0s\n",
            "[CV] END classifier__C=1, classifier__class_weight=None, classifier__penalty=l2; total time=   0.0s\n",
            "[CV] END classifier__C=1, classifier__class_weight=None, classifier__penalty=l2; total time=   0.0s\n",
            "[CV] END classifier__C=1, classifier__class_weight=None, classifier__penalty=l2; total time=   0.0s\n",
            "[CV] END classifier__C=1, classifier__class_weight=None, classifier__penalty=l2; total time=   0.0s\n",
            "[CV] END classifier__C=1, classifier__class_weight=None, classifier__penalty=elasticnet; total time=   0.0s\n",
            "[CV] END classifier__C=1, classifier__class_weight=None, classifier__penalty=elasticnet; total time=   0.0s\n",
            "[CV] END classifier__C=1, classifier__class_weight=None, classifier__penalty=elasticnet; total time=   0.0s\n",
            "[CV] END classifier__C=1, classifier__class_weight=None, classifier__penalty=elasticnet; total time=   0.0s\n",
            "[CV] END classifier__C=1, classifier__class_weight=None, classifier__penalty=elasticnet; total time=   0.0s\n",
            "[CV] END classifier__C=1, classifier__class_weight=None, classifier__penalty=none; total time=   0.0s\n",
            "[CV] END classifier__C=1, classifier__class_weight=None, classifier__penalty=none; total time=   0.0s\n",
            "[CV] END classifier__C=1, classifier__class_weight=None, classifier__penalty=none; total time=   0.0s\n",
            "[CV] END classifier__C=1, classifier__class_weight=None, classifier__penalty=none; total time=   0.0s\n",
            "[CV] END classifier__C=1, classifier__class_weight=None, classifier__penalty=none; total time=   0.0s\n",
            "[CV] END classifier__C=1, classifier__class_weight=balanced, classifier__penalty=l1; total time=   0.0s\n",
            "[CV] END classifier__C=1, classifier__class_weight=balanced, classifier__penalty=l1; total time=   0.0s\n",
            "[CV] END classifier__C=1, classifier__class_weight=balanced, classifier__penalty=l1; total time=   0.0s\n",
            "[CV] END classifier__C=1, classifier__class_weight=balanced, classifier__penalty=l1; total time=   0.0s\n",
            "[CV] END classifier__C=1, classifier__class_weight=balanced, classifier__penalty=l1; total time=   0.0s\n",
            "[CV] END classifier__C=1, classifier__class_weight=balanced, classifier__penalty=l2; total time=   0.0s\n",
            "[CV] END classifier__C=1, classifier__class_weight=balanced, classifier__penalty=l2; total time=   0.0s\n",
            "[CV] END classifier__C=1, classifier__class_weight=balanced, classifier__penalty=l2; total time=   0.0s\n",
            "[CV] END classifier__C=1, classifier__class_weight=balanced, classifier__penalty=l2; total time=   0.0s\n",
            "[CV] END classifier__C=1, classifier__class_weight=balanced, classifier__penalty=l2; total time=   0.0s\n",
            "[CV] END classifier__C=1, classifier__class_weight=balanced, classifier__penalty=elasticnet; total time=   0.0s\n",
            "[CV] END classifier__C=1, classifier__class_weight=balanced, classifier__penalty=elasticnet; total time=   0.0s\n",
            "[CV] END classifier__C=1, classifier__class_weight=balanced, classifier__penalty=elasticnet; total time=   0.0s\n",
            "[CV] END classifier__C=1, classifier__class_weight=balanced, classifier__penalty=elasticnet; total time=   0.0s\n",
            "[CV] END classifier__C=1, classifier__class_weight=balanced, classifier__penalty=elasticnet; total time=   0.0s\n",
            "[CV] END classifier__C=1, classifier__class_weight=balanced, classifier__penalty=none; total time=   0.0s\n",
            "[CV] END classifier__C=1, classifier__class_weight=balanced, classifier__penalty=none; total time=   0.0s\n",
            "[CV] END classifier__C=1, classifier__class_weight=balanced, classifier__penalty=none; total time=   0.0s\n",
            "[CV] END classifier__C=1, classifier__class_weight=balanced, classifier__penalty=none; total time=   0.0s\n",
            "[CV] END classifier__C=1, classifier__class_weight=balanced, classifier__penalty=none; total time=   0.0s\n",
            "[CV] END classifier__C=10, classifier__class_weight=None, classifier__penalty=l1; total time=   0.0s\n",
            "[CV] END classifier__C=10, classifier__class_weight=None, classifier__penalty=l1; total time=   0.0s\n",
            "[CV] END classifier__C=10, classifier__class_weight=None, classifier__penalty=l1; total time=   0.0s\n",
            "[CV] END classifier__C=10, classifier__class_weight=None, classifier__penalty=l1; total time=   0.0s\n",
            "[CV] END classifier__C=10, classifier__class_weight=None, classifier__penalty=l1; total time=   0.0s\n",
            "[CV] END classifier__C=10, classifier__class_weight=None, classifier__penalty=l2; total time=   0.0s\n",
            "[CV] END classifier__C=10, classifier__class_weight=None, classifier__penalty=l2; total time=   0.0s\n",
            "[CV] END classifier__C=10, classifier__class_weight=None, classifier__penalty=l2; total time=   0.0s\n",
            "[CV] END classifier__C=10, classifier__class_weight=None, classifier__penalty=l2; total time=   0.0s\n",
            "[CV] END classifier__C=10, classifier__class_weight=None, classifier__penalty=l2; total time=   0.0s\n",
            "[CV] END classifier__C=10, classifier__class_weight=None, classifier__penalty=elasticnet; total time=   0.0s\n",
            "[CV] END classifier__C=10, classifier__class_weight=None, classifier__penalty=elasticnet; total time=   0.0s\n",
            "[CV] END classifier__C=10, classifier__class_weight=None, classifier__penalty=elasticnet; total time=   0.0s\n",
            "[CV] END classifier__C=10, classifier__class_weight=None, classifier__penalty=elasticnet; total time=   0.0s\n",
            "[CV] END classifier__C=10, classifier__class_weight=None, classifier__penalty=elasticnet; total time=   0.0s\n",
            "[CV] END classifier__C=10, classifier__class_weight=None, classifier__penalty=none; total time=   0.0s\n",
            "[CV] END classifier__C=10, classifier__class_weight=None, classifier__penalty=none; total time=   0.0s\n",
            "[CV] END classifier__C=10, classifier__class_weight=None, classifier__penalty=none; total time=   0.0s\n"
          ]
        },
        {
          "output_type": "stream",
          "name": "stderr",
          "text": [
            "/usr/local/lib/python3.7/dist-packages/sklearn/linear_model/_logistic.py:1484: UserWarning: Setting penalty='none' will ignore the C and l1_ratio parameters\n",
            "  \"Setting penalty='none' will ignore the C and l1_ratio parameters\"\n",
            "/usr/local/lib/python3.7/dist-packages/sklearn/linear_model/_logistic.py:1484: UserWarning: Setting penalty='none' will ignore the C and l1_ratio parameters\n",
            "  \"Setting penalty='none' will ignore the C and l1_ratio parameters\"\n",
            "/usr/local/lib/python3.7/dist-packages/sklearn/linear_model/_logistic.py:1484: UserWarning: Setting penalty='none' will ignore the C and l1_ratio parameters\n",
            "  \"Setting penalty='none' will ignore the C and l1_ratio parameters\"\n",
            "/usr/local/lib/python3.7/dist-packages/sklearn/linear_model/_logistic.py:1484: UserWarning: Setting penalty='none' will ignore the C and l1_ratio parameters\n",
            "  \"Setting penalty='none' will ignore the C and l1_ratio parameters\"\n",
            "/usr/local/lib/python3.7/dist-packages/sklearn/linear_model/_logistic.py:1484: UserWarning: Setting penalty='none' will ignore the C and l1_ratio parameters\n",
            "  \"Setting penalty='none' will ignore the C and l1_ratio parameters\"\n"
          ]
        },
        {
          "output_type": "stream",
          "name": "stdout",
          "text": [
            "[CV] END classifier__C=10, classifier__class_weight=None, classifier__penalty=none; total time=   0.0s\n",
            "[CV] END classifier__C=10, classifier__class_weight=None, classifier__penalty=none; total time=   0.1s\n",
            "[CV] END classifier__C=10, classifier__class_weight=balanced, classifier__penalty=l1; total time=   0.0s\n",
            "[CV] END classifier__C=10, classifier__class_weight=balanced, classifier__penalty=l1; total time=   0.0s\n",
            "[CV] END classifier__C=10, classifier__class_weight=balanced, classifier__penalty=l1; total time=   0.0s\n",
            "[CV] END classifier__C=10, classifier__class_weight=balanced, classifier__penalty=l1; total time=   0.0s\n",
            "[CV] END classifier__C=10, classifier__class_weight=balanced, classifier__penalty=l1; total time=   0.0s\n",
            "[CV] END classifier__C=10, classifier__class_weight=balanced, classifier__penalty=l2; total time=   0.0s\n",
            "[CV] END classifier__C=10, classifier__class_weight=balanced, classifier__penalty=l2; total time=   0.1s\n",
            "[CV] END classifier__C=10, classifier__class_weight=balanced, classifier__penalty=l2; total time=   0.1s\n",
            "[CV] END classifier__C=10, classifier__class_weight=balanced, classifier__penalty=l2; total time=   0.1s\n",
            "[CV] END classifier__C=10, classifier__class_weight=balanced, classifier__penalty=l2; total time=   0.0s\n",
            "[CV] END classifier__C=10, classifier__class_weight=balanced, classifier__penalty=elasticnet; total time=   0.0s\n",
            "[CV] END classifier__C=10, classifier__class_weight=balanced, classifier__penalty=elasticnet; total time=   0.0s\n",
            "[CV] END classifier__C=10, classifier__class_weight=balanced, classifier__penalty=elasticnet; total time=   0.0s\n",
            "[CV] END classifier__C=10, classifier__class_weight=balanced, classifier__penalty=elasticnet; total time=   0.0s\n",
            "[CV] END classifier__C=10, classifier__class_weight=balanced, classifier__penalty=elasticnet; total time=   0.0s\n",
            "[CV] END classifier__C=10, classifier__class_weight=balanced, classifier__penalty=none; total time=   0.0s\n",
            "[CV] END classifier__C=10, classifier__class_weight=balanced, classifier__penalty=none; total time=   0.1s\n"
          ]
        },
        {
          "output_type": "stream",
          "name": "stderr",
          "text": [
            "/usr/local/lib/python3.7/dist-packages/sklearn/linear_model/_logistic.py:1484: UserWarning: Setting penalty='none' will ignore the C and l1_ratio parameters\n",
            "  \"Setting penalty='none' will ignore the C and l1_ratio parameters\"\n",
            "/usr/local/lib/python3.7/dist-packages/sklearn/linear_model/_logistic.py:1484: UserWarning: Setting penalty='none' will ignore the C and l1_ratio parameters\n",
            "  \"Setting penalty='none' will ignore the C and l1_ratio parameters\"\n",
            "/usr/local/lib/python3.7/dist-packages/sklearn/linear_model/_logistic.py:1484: UserWarning: Setting penalty='none' will ignore the C and l1_ratio parameters\n",
            "  \"Setting penalty='none' will ignore the C and l1_ratio parameters\"\n"
          ]
        },
        {
          "output_type": "stream",
          "name": "stdout",
          "text": [
            "[CV] END classifier__C=10, classifier__class_weight=balanced, classifier__penalty=none; total time=   0.1s\n",
            "[CV] END classifier__C=10, classifier__class_weight=balanced, classifier__penalty=none; total time=   0.1s\n",
            "[CV] END classifier__C=10, classifier__class_weight=balanced, classifier__penalty=none; total time=   0.0s\n",
            "CPU times: user 1.47 s, sys: 44.2 ms, total: 1.51 s\n",
            "Wall time: 2 s\n"
          ]
        },
        {
          "output_type": "stream",
          "name": "stderr",
          "text": [
            "/usr/local/lib/python3.7/dist-packages/sklearn/linear_model/_logistic.py:1484: UserWarning: Setting penalty='none' will ignore the C and l1_ratio parameters\n",
            "  \"Setting penalty='none' will ignore the C and l1_ratio parameters\"\n",
            "/usr/local/lib/python3.7/dist-packages/sklearn/linear_model/_logistic.py:1484: UserWarning: Setting penalty='none' will ignore the C and l1_ratio parameters\n",
            "  \"Setting penalty='none' will ignore the C and l1_ratio parameters\"\n",
            "/usr/local/lib/python3.7/dist-packages/sklearn/model_selection/_validation.py:372: FitFailedWarning: \n",
            "60 fits failed out of a total of 120.\n",
            "The score on these train-test partitions for these parameters will be set to nan.\n",
            "If these failures are not expected, you can try to debug them by setting error_score='raise'.\n",
            "\n",
            "Below are more details about the failures:\n",
            "--------------------------------------------------------------------------------\n",
            "30 fits failed with the following error:\n",
            "Traceback (most recent call last):\n",
            "  File \"/usr/local/lib/python3.7/dist-packages/sklearn/model_selection/_validation.py\", line 680, in _fit_and_score\n",
            "    estimator.fit(X_train, y_train, **fit_params)\n",
            "  File \"/usr/local/lib/python3.7/dist-packages/sklearn/pipeline.py\", line 394, in fit\n",
            "    self._final_estimator.fit(Xt, y, **fit_params_last_step)\n",
            "  File \"/usr/local/lib/python3.7/dist-packages/sklearn/linear_model/_logistic.py\", line 1461, in fit\n",
            "    solver = _check_solver(self.solver, self.penalty, self.dual)\n",
            "  File \"/usr/local/lib/python3.7/dist-packages/sklearn/linear_model/_logistic.py\", line 449, in _check_solver\n",
            "    % (solver, penalty)\n",
            "ValueError: Solver lbfgs supports only 'l2' or 'none' penalties, got l1 penalty.\n",
            "\n",
            "--------------------------------------------------------------------------------\n",
            "30 fits failed with the following error:\n",
            "Traceback (most recent call last):\n",
            "  File \"/usr/local/lib/python3.7/dist-packages/sklearn/model_selection/_validation.py\", line 680, in _fit_and_score\n",
            "    estimator.fit(X_train, y_train, **fit_params)\n",
            "  File \"/usr/local/lib/python3.7/dist-packages/sklearn/pipeline.py\", line 394, in fit\n",
            "    self._final_estimator.fit(Xt, y, **fit_params_last_step)\n",
            "  File \"/usr/local/lib/python3.7/dist-packages/sklearn/linear_model/_logistic.py\", line 1461, in fit\n",
            "    solver = _check_solver(self.solver, self.penalty, self.dual)\n",
            "  File \"/usr/local/lib/python3.7/dist-packages/sklearn/linear_model/_logistic.py\", line 449, in _check_solver\n",
            "    % (solver, penalty)\n",
            "ValueError: Solver lbfgs supports only 'l2' or 'none' penalties, got elasticnet penalty.\n",
            "\n",
            "  warnings.warn(some_fits_failed_message, FitFailedWarning)\n",
            "/usr/local/lib/python3.7/dist-packages/sklearn/model_selection/_search.py:972: UserWarning: One or more of the test scores are non-finite: [       nan 0.85008254        nan 0.85168254        nan 0.79577143\n",
            "        nan 0.78462222        nan 0.85169524        nan 0.85168254\n",
            "        nan 0.78940952        nan 0.78462222        nan 0.85328254\n",
            "        nan 0.85168254        nan 0.78462222        nan 0.78462222]\n",
            "  category=UserWarning,\n"
          ]
        }
      ],
      "source": [
        "%%time\n",
        "grid_search_logistic = GridSearchCV(pipe_logistic, parameters, scoring='accuracy', cv=5, verbose = 2)\n",
        "with tf.device('/device:GPU:0'):\n",
        "  grid_search_logistic.fit(X_train,Y_train)"
      ]
    },
    {
      "cell_type": "code",
      "execution_count": null,
      "metadata": {
        "colab": {
          "base_uri": "https://localhost:8080/"
        },
        "outputId": "8e9b4993-a84b-4e56-9d93-b34f675825c3",
        "id": "E4_KB24iR_ZB"
      },
      "outputs": [
        {
          "output_type": "execute_result",
          "data": {
            "text/plain": [
              "{'classifier__C': 10,\n",
              " 'classifier__class_weight': None,\n",
              " 'classifier__penalty': 'l2'}"
            ]
          },
          "metadata": {},
          "execution_count": 99
        }
      ],
      "source": [
        "grid_search_logistic.best_params_"
      ]
    },
    {
      "cell_type": "code",
      "execution_count": null,
      "metadata": {
        "colab": {
          "base_uri": "https://localhost:8080/"
        },
        "outputId": "3405b3b4-8ea5-4a23-ac11-48f35bb2c53e",
        "id": "FPzVcBHSR_ZB"
      },
      "outputs": [
        {
          "output_type": "stream",
          "name": "stdout",
          "text": [
            "Train Report\n",
            "               precision    recall  f1-score   support\n",
            "\n",
            "         1.0       0.74      0.55      0.63       139\n",
            "         2.0       0.88      0.94      0.91       488\n",
            "\n",
            "    accuracy                           0.86       627\n",
            "   macro avg       0.81      0.75      0.77       627\n",
            "weighted avg       0.85      0.86      0.85       627\n",
            "\n"
          ]
        }
      ],
      "source": [
        "# Obtener el mejor modelo.\n",
        "mejor_logistic = grid_search_logistic.best_estimator_\n",
        "\n",
        "y_pred_train_logistic = mejor_logistic.predict(X_train)\n",
        "\n",
        "report_logistic = classification_report(Y_train, y_pred_train_logistic)\n",
        "\n",
        "print(\"Train Report\\n\", report_logistic)"
      ]
    },
    {
      "cell_type": "code",
      "execution_count": null,
      "metadata": {
        "colab": {
          "base_uri": "https://localhost:8080/",
          "height": 717
        },
        "outputId": "3f1f0d46-267f-47e5-cf2f-49f02c7fba89",
        "id": "0Ppf4jFUR_ZB"
      },
      "outputs": [
        {
          "output_type": "stream",
          "name": "stdout",
          "text": [
            "Confusion matrix, without normalization\n"
          ]
        },
        {
          "output_type": "execute_result",
          "data": {
            "text/plain": [
              "<matplotlib.axes._subplots.AxesSubplot at 0x7f218b596b90>"
            ]
          },
          "metadata": {},
          "execution_count": 101
        },
        {
          "output_type": "display_data",
          "data": {
            "text/plain": [
              "<Figure size 720x720 with 2 Axes>"
            ],
            "image/png": "[encoded data removed]"
          },
          "metadata": {
            "needs_background": "light"
          }
        }
      ],
      "source": [
        "%matplotlib inline\n",
        "plot_confusion_matrix(y_true=Y_train, y_pred=y_pred_train_logistic, classes=[\"1 - Liberación posterior\",\"2 - Alargamiento de los gemelos\"],\n",
        "                      title='Matriz de Confusión - train')"
      ]
    },
    {
      "cell_type": "code",
      "execution_count": null,
      "metadata": {
        "id": "Ih7LVa5FR_ZC"
      },
      "outputs": [],
      "source": [
        "# Ahora se usará un pipeline con el mejor modelo para analizar los datos de test\n",
        "estimators = [\n",
        "        ('classifier', LogisticRegression( C=10,penalty=\"l2\", class_weight=None ))]\n",
        "\n",
        "pipe_logistic_test = Pipeline(estimators)"
      ]
    },
    {
      "cell_type": "code",
      "execution_count": null,
      "metadata": {
        "colab": {
          "base_uri": "https://localhost:8080/"
        },
        "outputId": "b232df21-43d0-43a4-cf63-f4f15620d10a",
        "id": "9ggw4dCXR_ZC"
      },
      "outputs": [
        {
          "output_type": "stream",
          "name": "stdout",
          "text": [
            "CPU times: user 25.6 ms, sys: 888 µs, total: 26.5 ms\n",
            "Wall time: 44.4 ms\n"
          ]
        },
        {
          "output_type": "execute_result",
          "data": {
            "text/plain": [
              "Pipeline(steps=[('classifier', LogisticRegression(C=10))])"
            ]
          },
          "metadata": {},
          "execution_count": 103
        }
      ],
      "source": [
        "%%time\n",
        "pipe_logistic_test.fit(X_train, Y_train)"
      ]
    },
    {
      "cell_type": "code",
      "execution_count": null,
      "metadata": {
        "colab": {
          "base_uri": "https://localhost:8080/"
        },
        "outputId": "b7eac40a-2d18-462a-99cb-e26975d3baf0",
        "id": "xzHLsZuYR_ZC"
      },
      "outputs": [
        {
          "output_type": "stream",
          "name": "stdout",
          "text": [
            "Logistic regression Test Report\n",
            "               precision    recall  f1-score   support\n",
            "\n",
            "         1.0       0.77      0.50      0.61        40\n",
            "         2.0       0.85      0.95      0.90       117\n",
            "\n",
            "    accuracy                           0.83       157\n",
            "   macro avg       0.81      0.72      0.75       157\n",
            "weighted avg       0.83      0.83      0.82       157\n",
            "\n"
          ]
        }
      ],
      "source": [
        "y_pred_test_logistic=pipe_logistic_test.predict(X_test)\n",
        "\n",
        "report_tree = classification_report(Y_test, y_pred_test_logistic)\n",
        "\n",
        "print(\"Logistic regression Test Report\\n\", report_tree)"
      ]
    },
    {
      "cell_type": "code",
      "execution_count": null,
      "metadata": {
        "colab": {
          "base_uri": "https://localhost:8080/",
          "height": 717
        },
        "outputId": "d0f00e8a-3136-4a6d-e15a-7d0c27fc3ea6",
        "id": "Xx3O0AaVR_ZC"
      },
      "outputs": [
        {
          "output_type": "stream",
          "name": "stdout",
          "text": [
            "Confusion matrix, without normalization\n"
          ]
        },
        {
          "output_type": "execute_result",
          "data": {
            "text/plain": [
              "<matplotlib.axes._subplots.AxesSubplot at 0x7f2192168850>"
            ]
          },
          "metadata": {},
          "execution_count": 105
        },
        {
          "output_type": "display_data",
          "data": {
            "text/plain": [
              "<Figure size 720x720 with 2 Axes>"
            ],
            "image/png": "[encoded data removed]"
          },
          "metadata": {
            "needs_background": "light"
          }
        }
      ],
      "source": [
        "%matplotlib inline\n",
        "plot_confusion_matrix(y_true=Y_test, y_pred=y_pred_test_logistic, classes=[\"1 - Liberación posterior\",\"2 - Alargamiento de los gemelos\"],\n",
        "                      title='Matriz de Confusión - test')"
      ]
    },
    {
      "cell_type": "markdown",
      "source": [
        "# 5.Exportar el modelo"
      ],
      "metadata": {
        "id": "s_OGTzpWWL-k"
      }
    },
    {
      "cell_type": "code",
      "source": [
        "example={\"Edad\":[-0.027872],\"Tono gastrocnemios\":[ -0.114409], \"Dorsiflexion\":\t[0.667573],\"Felxion Plantar Tobillo\":[0.600496],\"Silfverskiold\":[0.432256],\"Ataxica\":[0.0],\t\"Diskinetica\":[0.0],\"Espastica\":[1.0],\t\"Hipotonica\":[0.0],\"Mixta\":[0.0]}\n",
        "input=pd.DataFrame.from_dict(example)"
      ],
      "metadata": {
        "id": "HTfu1yMXXbPo"
      },
      "execution_count": null,
      "outputs": []
    },
    {
      "cell_type": "code",
      "source": [
        "columns = ['Edad', 'Tono gastrocnemios', 'Dorsiflexion', 'Felxion Plantar Tobillo',       'Silfverskiold']\n",
        "input[columns]"
      ],
      "metadata": {
        "colab": {
          "base_uri": "https://localhost:8080/",
          "height": 81
        },
        "id": "yfPppYQLuhDX",
        "outputId": "493c8386-b1b3-4df3-d272-955801280f0a"
      },
      "execution_count": null,
      "outputs": [
        {
          "output_type": "execute_result",
          "data": {
            "text/plain": [
              "       Edad  Tono gastrocnemios  Dorsiflexion  Felxion Plantar Tobillo  \\\n",
              "0 -0.027872           -0.114409      0.667573                 0.600496   \n",
              "\n",
              "   Silfverskiold  \n",
              "0       0.432256  "
            ],
            "text/html": [
              "\n",
              "  <div id=\"df-366814b3-cc6f-4aff-9dbc-19a3b5242b81\">\n",
              "    <div class=\"colab-df-container\">\n",
              "      <div>\n",
              "<style scoped>\n",
              "    .dataframe tbody tr th:only-of-type {\n",
              "        vertical-align: middle;\n",
              "    }\n",
              "\n",
              "    .dataframe tbody tr th {\n",
              "        vertical-align: top;\n",
              "    }\n",
              "\n",
              "    .dataframe thead th {\n",
              "        text-align: right;\n",
              "    }\n",
              "</style>\n",
              "<table border=\"1\" class=\"dataframe\">\n",
              "  <thead>\n",
              "    <tr style=\"text-align: right;\">\n",
              "      <th></th>\n",
              "      <th>Edad</th>\n",
              "      <th>Tono gastrocnemios</th>\n",
              "      <th>Dorsiflexion</th>\n",
              "      <th>Felxion Plantar Tobillo</th>\n",
              "      <th>Silfverskiold</th>\n",
              "    </tr>\n",
              "  </thead>\n",
              "  <tbody>\n",
              "    <tr>\n",
              "      <th>0</th>\n",
              "      <td>-0.027872</td>\n",
              "      <td>-0.114409</td>\n",
              "      <td>0.667573</td>\n",
              "      <td>0.600496</td>\n",
              "      <td>0.432256</td>\n",
              "    </tr>\n",
              "  </tbody>\n",
              "</table>\n",
              "</div>\n",
              "      <button class=\"colab-df-convert\" onclick=\"convertToInteractive('df-366814b3-cc6f-4aff-9dbc-19a3b5242b81')\"\n",
              "              title=\"Convert this dataframe to an interactive table.\"\n",
              "              style=\"display:none;\">\n",
              "        \n",
              "  <svg xmlns=\"http://www.w3.org/2000/svg\" height=\"24px\"viewBox=\"0 0 24 24\"\n",
              "       width=\"24px\">\n",
              "    <path d=\"M0 0h24v24H0V0z\" fill=\"none\"/>\n",
              "    <path d=\"M18.56 5.44l.94 2.06.94-2.06 2.06-.94-2.06-.94-.94-2.06-.94 2.06-2.06.94zm-11 1L8.5 8.5l.94-2.06 2.06-.94-2.06-.94L8.5 2.5l-.94 2.06-2.06.94zm10 10l.94 2.06.94-2.06 2.06-.94-2.06-.94-.94-2.06-.94 2.06-2.06.94z\"/><path d=\"M17.41 7.96l-1.37-1.37c-.4-.4-.92-.59-1.43-.59-.52 0-1.04.2-1.43.59L10.3 9.45l-7.72 7.72c-.78.78-.78 2.05 0 2.83L4 21.41c.39.39.9.59 1.41.59.51 0 1.02-.2 1.41-.59l7.78-7.78 2.81-2.81c.8-.78.8-2.07 0-2.86zM5.41 20L4 18.59l7.72-7.72 1.47 1.35L5.41 20z\"/>\n",
              "  </svg>\n",
              "      </button>\n",
              "      \n",
              "  <style>\n",
              "    .colab-df-container {\n",
              "      display:flex;\n",
              "      flex-wrap:wrap;\n",
              "      gap: 12px;\n",
              "    }\n",
              "\n",
              "    .colab-df-convert {\n",
              "      background-color: #E8F0FE;\n",
              "      border: none;\n",
              "      border-radius: 50%;\n",
              "      cursor: pointer;\n",
              "      display: none;\n",
              "      fill: #1967D2;\n",
              "      height: 32px;\n",
              "      padding: 0 0 0 0;\n",
              "      width: 32px;\n",
              "    }\n",
              "\n",
              "    .colab-df-convert:hover {\n",
              "      background-color: #E2EBFA;\n",
              "      box-shadow: 0px 1px 2px rgba(60, 64, 67, 0.3), 0px 1px 3px 1px rgba(60, 64, 67, 0.15);\n",
              "      fill: #174EA6;\n",
              "    }\n",
              "\n",
              "    [theme=dark] .colab-df-convert {\n",
              "      background-color: #3B4455;\n",
              "      fill: #D2E3FC;\n",
              "    }\n",
              "\n",
              "    [theme=dark] .colab-df-convert:hover {\n",
              "      background-color: #434B5C;\n",
              "      box-shadow: 0px 1px 3px 1px rgba(0, 0, 0, 0.15);\n",
              "      filter: drop-shadow(0px 1px 2px rgba(0, 0, 0, 0.3));\n",
              "      fill: #FFFFFF;\n",
              "    }\n",
              "  </style>\n",
              "\n",
              "      <script>\n",
              "        const buttonEl =\n",
              "          document.querySelector('#df-366814b3-cc6f-4aff-9dbc-19a3b5242b81 button.colab-df-convert');\n",
              "        buttonEl.style.display =\n",
              "          google.colab.kernel.accessAllowed ? 'block' : 'none';\n",
              "\n",
              "        async function convertToInteractive(key) {\n",
              "          const element = document.querySelector('#df-366814b3-cc6f-4aff-9dbc-19a3b5242b81');\n",
              "          const dataTable =\n",
              "            await google.colab.kernel.invokeFunction('convertToInteractive',\n",
              "                                                     [key], {});\n",
              "          if (!dataTable) return;\n",
              "\n",
              "          const docLinkHtml = 'Like what you see? Visit the ' +\n",
              "            '<a target=\"_blank\" href=https://colab.research.google.com/notebooks/data_table.ipynb>data table notebook</a>'\n",
              "            + ' to learn more about interactive tables.';\n",
              "          element.innerHTML = '';\n",
              "          dataTable['output_type'] = 'display_data';\n",
              "          await google.colab.output.renderOutput(dataTable, element);\n",
              "          const docLink = document.createElement('div');\n",
              "          docLink.innerHTML = docLinkHtml;\n",
              "          element.appendChild(docLink);\n",
              "        }\n",
              "      </script>\n",
              "    </div>\n",
              "  </div>\n",
              "  "
            ]
          },
          "metadata": {},
          "execution_count": 246
        }
      ]
    },
    {
      "cell_type": "code",
      "source": [
        "pipe_knn_test.predict(input)"
      ],
      "metadata": {
        "id": "-GuuU1HvkWPy",
        "colab": {
          "base_uri": "https://localhost:8080/"
        },
        "outputId": "0c726160-2e3a-4789-acb6-2af2130d9820"
      },
      "execution_count": null,
      "outputs": [
        {
          "output_type": "execute_result",
          "data": {
            "text/plain": [
              "array([0])"
            ]
          },
          "metadata": {},
          "execution_count": 231
        }
      ]
    },
    {
      "cell_type": "code",
      "source": [
        "pipe_svm_test.predict(input)"
      ],
      "metadata": {
        "colab": {
          "base_uri": "https://localhost:8080/"
        },
        "id": "uVQc1nmM7Inn",
        "outputId": "cfbfeb98-bcc5-40fe-a203-16cdf65123ac"
      },
      "execution_count": null,
      "outputs": [
        {
          "output_type": "execute_result",
          "data": {
            "text/plain": [
              "array([2.])"
            ]
          },
          "metadata": {},
          "execution_count": 261
        }
      ]
    },
    {
      "cell_type": "code",
      "execution_count": null,
      "metadata": {
        "id": "3Rj7svj0YPtV",
        "colab": {
          "base_uri": "https://localhost:8080/"
        },
        "outputId": "ef169124-4c62-47d2-8678-9e08a191d66a"
      },
      "outputs": [
        {
          "output_type": "execute_result",
          "data": {
            "text/plain": [
              "['knn_si_no.joblib']"
            ]
          },
          "metadata": {},
          "execution_count": 226
        }
      ],
      "source": [
        "# Usamos la lbreria joblib\n",
        "filename = 'knn_si_no.joblib'\n",
        "# Se guarda\n",
        "dump(pipe_knn_test, filename) "
      ]
    },
    {
      "cell_type": "code",
      "execution_count": null,
      "metadata": {
        "colab": {
          "base_uri": "https://localhost:8080/"
        },
        "outputId": "18918fa8-93b5-4308-d86a-5863db7475d9",
        "id": "OZPemskC7CG6"
      },
      "outputs": [
        {
          "output_type": "execute_result",
          "data": {
            "text/plain": [
              "['svm_cirugia.joblib']"
            ]
          },
          "metadata": {},
          "execution_count": 260
        }
      ],
      "source": [
        "# Usamos la lbreria joblib\n",
        "filename = 'svm_cirugia.joblib'\n",
        "# Se guarda\n",
        "dump(pipe_svm_test, filename) "
      ]
    },
    {
      "cell_type": "code",
      "source": [
        "# Usamos la lbreria joblib\n",
        "filename = 'scaler.joblib'\n",
        "# Se guarda\n",
        "dump(scaler, filename) "
      ],
      "metadata": {
        "colab": {
          "base_uri": "https://localhost:8080/"
        },
        "id": "seZVGmgyzyvt",
        "outputId": "285c2660-5ee3-454d-c4e0-f56583241b46"
      },
      "execution_count": null,
      "outputs": [
        {
          "output_type": "execute_result",
          "data": {
            "text/plain": [
              "['scaler.joblib']"
            ]
          },
          "metadata": {},
          "execution_count": 248
        }
      ]
    },
    {
      "cell_type": "code",
      "source": [
        "a=scaler.transform(input[columns])\n",
        "a"
      ],
      "metadata": {
        "colab": {
          "base_uri": "https://localhost:8080/"
        },
        "id": "QnqHms0u0uQx",
        "outputId": "71ad3e02-be68-4eda-f3c5-9ecfdf127cca"
      },
      "execution_count": null,
      "outputs": [
        {
          "output_type": "execute_result",
          "data": {
            "text/plain": [
              "array([[-1.86640073, -1.81160356, -1.22462326, -2.92770769, -1.49346619]])"
            ]
          },
          "metadata": {},
          "execution_count": 247
        }
      ]
    },
    {
      "cell_type": "markdown",
      "source": [
        "# 6.A futuro"
      ],
      "metadata": {
        "id": "Aue1-nSF3uLw"
      }
    },
    {
      "cell_type": "markdown",
      "source": [
        "Light Gradient Boosting Machine\n",
        "Random Forest\n",
        "\n",
        "SMOTE\n",
        "Undersampling\n"
      ],
      "metadata": {
        "id": "W4TAXrYN3xaQ"
      }
    }
  ]
}